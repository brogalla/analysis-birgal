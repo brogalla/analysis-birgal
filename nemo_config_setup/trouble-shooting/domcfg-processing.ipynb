{
 "cells": [
  {
   "cell_type": "markdown",
   "id": "3f324922-85fc-49e2-ade7-5bd8dad5435e",
   "metadata": {},
   "source": [
    "# Edit domain_cfg.nc and mesh_mask.nc to fill lakes and problematic ice shelves"
   ]
  },
  {
   "cell_type": "code",
   "execution_count": 1,
   "id": "ba6fbbb2-5166-4256-805f-57e7a7fc1a98",
   "metadata": {},
   "outputs": [],
   "source": [
    "import xarray as xr\n",
    "import matplotlib.pyplot as plt\n",
    "import numpy as np\n",
    "import cmocean\n",
    "import cartopy.crs as ccrs"
   ]
  },
  {
   "cell_type": "code",
   "execution_count": 2,
   "id": "69318b04-b0f2-4cbb-9023-53c9e5ddb766",
   "metadata": {},
   "outputs": [],
   "source": [
    "home ='/gws/nopw/j04/anthrofail/birgal/NEMO_AIS/bathymetry/'\n",
    "\n",
    "domcfg_orig   = xr.open_dataset(f'{home}domain_cfg-nico-test.nc')\n",
    "meshmask_orig = xr.open_dataset(f'{home}mesh_mask-nico-test.nc')"
   ]
  },
  {
   "cell_type": "code",
   "execution_count": 3,
   "id": "397d635c-344d-4e40-9812-e0d357658659",
   "metadata": {},
   "outputs": [],
   "source": [
    "def fill_lakes(array, dim='2D'):\n",
    "\n",
    "    if dim=='2D':\n",
    "        array[0, 186, slice(128,135)] = 0\n",
    "        array[0, slice(447,453), slice(848,850)] = 0\n",
    "        array[0, slice(441,446), slice(848,853)] = 0\n",
    "        array[0, slice(426,438), slice(856,870)] = 0\n",
    "        array[0, slice(424,431), slice(863,872)] = 0\n",
    "        array[0, 318, slice(1350,1352)] = 0\n",
    "    elif dim=='3D':\n",
    "        array[0, :, 186, slice(128,135)] = 0\n",
    "        array[0, :, slice(447,453), slice(848,850)]   = 0\n",
    "        array[0, :, slice(441,446), slice(848,853)]   = 0\n",
    "        array[0, :, slice(426,438), slice(856,870)]   = 0\n",
    "        array[0, :, slice(424,431), slice(863,872)]   = 0\n",
    "        array[0, :, 318           , slice(1350,1352)] = 0\n",
    "    else:\n",
    "        raise Exception('Only set up for dimension 2D or 3D')\n",
    "\n",
    "    return array"
   ]
  },
  {
   "cell_type": "code",
   "execution_count": 5,
   "id": "51acb134-dd27-45b8-a550-86489b018df2",
   "metadata": {},
   "outputs": [],
   "source": [
    "def fill_problem_iceshelf(array, dim='2D'):\n",
    "    # make problem iceshelf land...\n",
    "    if dim=='2D':\n",
    "        array[0, 309, 1327] = 0\n",
    "        array[0, 219, 706] = 0\n",
    "        array[0, 220, 706] = 0\n",
    "    elif dim=='3D':\n",
    "        array[0, :, 309, 1327] = 0\n",
    "        array[0, :, 219, 706] = 0\n",
    "        array[0, :, 220, 706] = 0\n",
    "    else:\n",
    "        raise Exception('Only set up for dimension 2D or 3D')\n",
    "\n",
    "    return array"
   ]
  },
  {
   "cell_type": "code",
   "execution_count": null,
   "id": "9fcb5b14-4513-48f9-9ab8-959036ced90d",
   "metadata": {},
   "outputs": [],
   "source": [
    "# ---- Domain config file ------------\n",
    "domcfg_new   = domcfg_orig.copy()\n",
    "for var in ['bottom_level', 'bathy_metry', 'isf_draft', 'top_level']:\n",
    "    new_array       = fill_lakes(domcfg_new[var].values, dim='2D')\n",
    "    new_array       = fill_problem_iceshelf(new_array, dim='2D')\n",
    "    domcfg_new[var] = (('time_counter', 'y', 'x'), new_array)\n",
    "\n",
    "domcfg_new.to_netcdf(f'{home}domain_cfg-nico-test-method.nc', unlimited_dims=['time_counter'])\n",
    "\n",
    "# ---- Mesh mask file ------------\n",
    "meshmask_new = meshmask_orig.copy()\n",
    "for var in ['bathy_metry', 'mbathy', 'misf', 'mhw', 'hw', 'tmaskutil', 'umaskutil', 'vmaskutil']:\n",
    "    new_array         = fill_lakes(meshmask_new[var].values, dim='2D')\n",
    "    new_array         = fill_problem_iceshelf(new_array, dim='2D')\n",
    "    meshmask_new[var] = (('time_counter', 'y', 'x'), new_array)\n",
    "\n",
    "for var in ['tmask', 'umask', 'vmask', 'fmask']:\n",
    "    new_array         = fill_lakes(meshmask_new[var].values, dim='3D')\n",
    "    new_array         = fill_problem_iceshelf(new_array, dim='3D')\n",
    "    meshmask_new[var] = (('time_counter', 'nav_lev', 'y', 'x'), new_array)\n",
    "\n",
    "meshmask_new.to_netcdf(f'{home}mesh_mask-nico-test-method.nc', unlimited_dims=['time_counter'])"
   ]
  },
  {
   "cell_type": "code",
   "execution_count": null,
   "id": "74ccb5f0-98c8-4c7d-a7a6-cf39b7da7250",
   "metadata": {},
   "outputs": [],
   "source": []
  }
 ],
 "metadata": {
  "kernelspec": {
   "display_name": "Python 3 + Jaspy",
   "language": "python",
   "name": "jaspy"
  },
  "language_info": {
   "codemirror_mode": {
    "name": "ipython",
    "version": 3
   },
   "file_extension": ".py",
   "mimetype": "text/x-python",
   "name": "python",
   "nbconvert_exporter": "python",
   "pygments_lexer": "ipython3",
   "version": "3.11.9"
  }
 },
 "nbformat": 4,
 "nbformat_minor": 5
}
