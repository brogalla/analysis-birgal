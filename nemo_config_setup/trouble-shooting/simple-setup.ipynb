{
 "cells": [
  {
   "cell_type": "markdown",
   "id": "73815e3e-a9f0-4e18-b5f7-9b6b13ec1129",
   "metadata": {},
   "source": [
    "# Create a model setup with simple ICs and BCs"
   ]
  },
  {
   "cell_type": "code",
   "execution_count": 1,
   "id": "ce02a2b6-dde0-4be3-9c2a-de364c2176fb",
   "metadata": {},
   "outputs": [],
   "source": [
    "import numpy as np\n",
    "import matplotlib.pyplot as plt\n",
    "import xarray as xr"
   ]
  },
  {
   "cell_type": "markdown",
   "id": "39654cf3-276e-4db5-a3d2-7eaf9d1d39b1",
   "metadata": {},
   "source": [
    "ICs: T, S\n",
    "\n",
    "BCs: SSH, U, V (keep same as previous runs), T, S (replace)"
   ]
  },
  {
   "cell_type": "code",
   "execution_count": 26,
   "id": "25b7788f-586d-4d8f-9b77-26f2f39ecd0b",
   "metadata": {},
   "outputs": [],
   "source": [
    "anthro = '/gws/nopw/j04/anthrofail/birgal/NEMO_AIS/'\n",
    "IC_S   = xr.open_dataset(f'{anthro}initial-conditions/SOSE-AbsSal-initial-conditions-20240507.nc')\n",
    "IC_T   = xr.open_dataset(f'{anthro}initial-conditions/SOSE-ConsTemp-initial-conditions-20240507.nc')\n",
    "BC_S   = xr.open_dataset(f'{anthro}boundary-conditions/B-SOSE/SOSE-AbsSal-boundary-conditions-20240507_m01.nc')\n",
    "BC_T   = xr.open_dataset(f'{anthro}boundary-conditions/B-SOSE/SOSE-ConsTemp-boundary-conditions-20240507_m01.nc')"
   ]
  },
  {
   "cell_type": "code",
   "execution_count": 27,
   "id": "6409777a-322d-498a-886a-f3836e15e43e",
   "metadata": {},
   "outputs": [],
   "source": [
    "# create new initial conditions:\n",
    "new_IC_S = IC_S.copy()\n",
    "new_IC_T = IC_T.copy()\n",
    "new_IC_S['AbsSal']   = xr.where(IC_S.AbsSal != 9999, 34.9, 9999)\n",
    "new_IC_T['ConsTemp'] = xr.where(IC_T.ConsTemp != 9999, 1.0, 9999)\n",
    "new_IC_S.to_netcdf(f'{anthro}initial-conditions/initial-conditions-constant-S-349.nc')\n",
    "new_IC_T.to_netcdf(f'{anthro}initial-conditions/initial-conditions-constant-T-1.nc')\n",
    "\n",
    "# create new boundary conditions:\n",
    "new_BC_S = BC_S.copy()\n",
    "new_BC_T = BC_T.copy()\n",
    "new_BC_S['AbsSal']   = xr.where(BC_S.AbsSal != 0, 34.9, 0)\n",
    "new_BC_T['ConsTemp'] = xr.where(BC_T.ConsTemp != 0, 1.0, 0)\n",
    "new_BC_S.to_netcdf(f'{anthro}boundary-conditions/boundary-conditions-constant-S-349.nc')\n",
    "new_BC_T.to_netcdf(f'{anthro}boundary-conditions/boundary-conditions-constant-T-1.nc')"
   ]
  },
  {
   "cell_type": "code",
   "execution_count": null,
   "id": "d28fe37e-d33f-47e7-81b1-c195efe8c8cb",
   "metadata": {},
   "outputs": [],
   "source": []
  }
 ],
 "metadata": {
  "kernelspec": {
   "display_name": "Python 3 + Jaspy",
   "language": "python",
   "name": "jaspy"
  },
  "language_info": {
   "codemirror_mode": {
    "name": "ipython",
    "version": 3
   },
   "file_extension": ".py",
   "mimetype": "text/x-python",
   "name": "python",
   "nbconvert_exporter": "python",
   "pygments_lexer": "ipython3",
   "version": "3.11.9"
  }
 },
 "nbformat": 4,
 "nbformat_minor": 5
}
