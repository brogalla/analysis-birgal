{
 "cells": [
  {
   "cell_type": "markdown",
   "id": "3f324922-85fc-49e2-ade7-5bd8dad5435e",
   "metadata": {},
   "source": [
    "# Check that extend fill into cavities actually worked"
   ]
  },
  {
   "cell_type": "code",
   "execution_count": 27,
   "id": "ba6fbbb2-5166-4256-805f-57e7a7fc1a98",
   "metadata": {},
   "outputs": [],
   "source": [
    "import xarray as xr\n",
    "import matplotlib.pyplot as plt\n",
    "import numpy as np\n",
    "import cmocean\n",
    "import tqdm\n",
    "import cartopy.crs as ccrs\n",
    "import sys\n",
    "import numpy.ma as ma\n",
    "sys.path.append('/home/users/birgal/')\n",
    "# from nemo_python.interpolation import interp_latlon_cf, neighbours, neighbours_z, extend_into_mask"
   ]
  },
  {
   "cell_type": "markdown",
   "id": "16b5692b-6b10-43ae-b324-3c8218f83298",
   "metadata": {},
   "source": [
    "Load files"
   ]
  },
  {
   "cell_type": "code",
   "execution_count": 27,
   "id": "4eb47722-b787-47d0-891a-3d9ab60a1fe8",
   "metadata": {},
   "outputs": [],
   "source": [
    "domcfg_new = xr.open_dataset('/gws/nopw/j04/terrafirma/birgal/NEMO_AIS/bathymetry/domain_cfg-20231025.nc')#.isel(x=slice(350,500), y=slice(120,200))\n",
    "mask_new   = xr.open_dataset('/gws/nopw/j04/terrafirma/birgal/NEMO_AIS/bathymetry/mesh_mask-20231025.nc')#.isel(x=slice(350,500), y=slice(120,200))\n",
    "IC_S       = xr.open_dataset('/gws/nopw/j04/terrafirma/birgal/NEMO_AIS/initial-conditions/SOSE-SALT-initial-conditions.nc') #.isel(x=slice(350,500), y=slice(120,200))\n",
    "IC_start   = xr.open_dataset('/gws/nopw/j04/terrafirma/birgal/NEMO_AIS/initial-conditions/temp/SOSE-SALT-vertical-interp.nc')#.isel(x=slice(350,500), y=slice(120,200))"
   ]
  },
  {
   "cell_type": "code",
   "execution_count": 28,
   "id": "69318b04-b0f2-4cbb-9023-53c9e5ddb766",
   "metadata": {},
   "outputs": [],
   "source": [
    "ds = xr.open_dataset('/gws/nopw/j04/terrafirma/birgal/NEMO_AIS/bathymetry/domcfg_eORCA025_v3.nc')\n",
    "domcfg_old = xr.open_dataset(f'/gws/nopw/j04/terrafirma/birgal/NEMO_AIS/bathymetry/domain_cfg-old.nc').isel(time_counter=0)\n",
    "domcfg_new = xr.open_dataset(f'/gws/nopw/j04/terrafirma/birgal/NEMO_AIS/bathymetry/domain_cfg-20231025.nc').isel(time_counter=0, y=slice(0,439))"
   ]
  },
  {
   "cell_type": "code",
   "execution_count": 3,
   "id": "10f4af16-2d6c-47dd-93ca-ab2591483237",
   "metadata": {},
   "outputs": [],
   "source": [
    "# Finds the value of the given array to the west, east, south, north of every point, as well as which neighbours are non-missing, and how many neighbours are non-missing.\n",
    "def neighbours (data, missing_val=-9999):\n",
    "\n",
    "    # Find the value to the west, east, south, north of every point\n",
    "    # Just copy the boundaries\n",
    "    data_w          = np.empty(data.shape)\n",
    "    data_w[...,1:]  = data[...,:-1]\n",
    "    data_w[...,0]   = data[...,0]\n",
    "    data_e          = np.empty(data.shape)\n",
    "    data_e[...,:-1] = data[...,1:]\n",
    "    data_e[...,-1]  = data[...,-1]\n",
    "    \n",
    "    data_s            = np.empty(data.shape)\n",
    "    data_s[...,1:,:]  = data[...,:-1,:]\n",
    "    data_s[...,0,:]   = data[...,0,:]\n",
    "    data_n            = np.empty(data.shape)\n",
    "    data_n[...,:-1,:] = data[...,1:,:]\n",
    "    data_n[...,-1,:]  = data[...,-1,:]     \n",
    "        \n",
    "    # Arrays of 1s and 0s indicating whether these neighbours are non-missing\n",
    "    valid_w = ((data_w != missing_val)*~np.isnan(data_w)).astype(float)\n",
    "    valid_e = ((data_e != missing_val)*~np.isnan(data_e)).astype(float)\n",
    "    valid_s = ((data_s != missing_val)*~np.isnan(data_s)).astype(float)\n",
    "    valid_n = ((data_n != missing_val)*~np.isnan(data_n)).astype(float)\n",
    "    data_w[np.isnan(data_w)] = 10000 # because 0*NaN = NaN\n",
    "    data_e[np.isnan(data_e)] = 10000\n",
    "    data_s[np.isnan(data_s)] = 10000\n",
    "    data_n[np.isnan(data_n)] = 10000\n",
    "    \n",
    "    num_valid_neighbours = valid_w + valid_e + valid_s + valid_n\n",
    "    \n",
    "    return data_w, data_e, data_s, data_n, valid_w, valid_e, valid_s, valid_n, num_valid_neighbours"
   ]
  },
  {
   "cell_type": "code",
   "execution_count": 4,
   "id": "ef7e733e-9c9d-40b3-8f0d-2f2619364743",
   "metadata": {},
   "outputs": [],
   "source": [
    "# Like the neighbours function, but in the vertical dimension: neighbours above and below\n",
    "def neighbours_z (data, missing_val=-9999):\n",
    "\n",
    "    data_u              = np.empty(data.shape)\n",
    "    data_u[...,1:,:,:]  = data[...,:-1,:,:]\n",
    "    data_u[...,0,:,:]   = data[...,0,:,:]\n",
    "    \n",
    "    data_d              = np.empty(data.shape)\n",
    "    data_d[...,:-1,:,:] = data[...,1:,:,:]\n",
    "    data_d[...,-1,:,:]  = data[...,-1,:,:]\n",
    "    valid_u = ((data_u  != missing_val)*~np.isnan(data_u)).astype(float)\n",
    "    valid_d = ((data_d  != missing_val)*~np.isnan(data_d)).astype(float)\n",
    "    data_d[np.isnan(data_d)] = 10000 # because 0*NaN = NaN\n",
    "    data_u[np.isnan(data_u)] = 10000\n",
    "    \n",
    "    num_valid_neighbours_z = valid_u + valid_d\n",
    "    \n",
    "    return data_u, data_d, valid_u, valid_d, num_valid_neighbours_z"
   ]
  },
  {
   "cell_type": "code",
   "execution_count": 5,
   "id": "5e587c23-f48e-4358-b82f-837ed3db9f67",
   "metadata": {},
   "outputs": [],
   "source": [
    "def extend_into_mask (data, missing_val=-9999, masked=False, use_1d=False, use_2d=False, use_3d=False, preference='horizontal', num_iters=100):\n",
    "\n",
    "    if masked:\n",
    "        # MaskedArrays will mess up the extending\n",
    "        # Unmask the array and fill the mask with missing values\n",
    "        data_unmasked = data.data\n",
    "        data_unmasked[data.mask] = missing_val\n",
    "        data = data_unmasked\n",
    "\n",
    "    for iter in tqdm.tqdm(range(num_iters)):\n",
    "        if np.sum(data==missing_val) == 0: # stop looping if all missing values have been filled\n",
    "            break\n",
    "        else:\n",
    "            # Find the neighbours of each point, whether or not they are missing, and how many non-missing neighbours there are.\n",
    "            # Then choose the points that can be filled.\n",
    "            # Then set them to the average of their non-missing neighbours.\n",
    "            # Consider horizontal neighbours in both directions\n",
    "            data_w, data_e, data_s, data_n, valid_w, valid_e, valid_s, valid_n, num_valid_neighbours = neighbours(data, missing_val=missing_val)\n",
    "            index = (data == missing_val)*(num_valid_neighbours > 0)\n",
    "            data[index] = (data_w[index]*valid_w[index] + data_e[index]*valid_e[index] + data_s[index]*valid_s[index] + data_n[index]*valid_n[index])/num_valid_neighbours[index]\n",
    "    \n",
    "            if use_3d:\n",
    "                # Look for vertical neighbours\n",
    "                data_d, data_u, valid_d, valid_u, num_valid_neighbours_new = neighbours_z(data, missing_val=missing_val)\n",
    "                index = (data == missing_val)*(num_valid_neighbours == 0)*(num_valid_neighbours_new > 0)            \n",
    "                data[index] = (data_u[index]*valid_u[index] + data_d[index]*valid_d[index])/num_valid_neighbours_new[index]\n",
    "            \n",
    "    if masked:\n",
    "        # Remask the MaskedArray\n",
    "        data = ma.masked_where(data==missing_val, data)\n",
    "\n",
    "    return data   "
   ]
  },
  {
   "cell_type": "code",
   "execution_count": 6,
   "id": "3b5e8d3a-9fc7-4b55-b691-7999a25c1252",
   "metadata": {},
   "outputs": [
    {
     "name": "stderr",
     "output_type": "stream",
     "text": [
      " 75%|███████▌  | 75/100 [00:08<00:02,  8.53it/s]\n"
     ]
    }
   ],
   "source": [
    "missing     = xr.where((mask_new.tmask.isel(time_counter=0)==1).values * (np.isnan(IC_start['SALT'].values)), 1, 0)\n",
    "src_to_fill = xr.where(missing==1, -9999, IC_start['SALT'].values) \n",
    "\n",
    "var_filled = extend_into_mask(src_to_fill, use_2d=False, use_3d=True, masked=False, num_iters=100)\n",
    "\n",
    "# remove any points where I give a real value that are actually in the land\n",
    "var_filled_plot = xr.where(mask_new.tmask.isel(time_counter=0, nav_lev=0)==0, np.nan, var_filled[0,:,:])"
   ]
  },
  {
   "cell_type": "code",
   "execution_count": 7,
   "id": "bba36519-42ef-484c-b75a-e74d449c1e42",
   "metadata": {},
   "outputs": [
    {
     "data": {
      "text/plain": [
       "<matplotlib.collections.QuadMesh at 0x7f7e96747ee0>"
      ]
     },
     "execution_count": 7,
     "metadata": {},
     "output_type": "execute_result"
    },
    {
     "data": {
      "image/png": "[encoded data removed]",
      "text/plain": [
       "<Figure size 432x288 with 1 Axes>"
      ]
     },
     "metadata": {
      "needs_background": "light"
     },
     "output_type": "display_data"
    }
   ],
   "source": [
    "plt.pcolormesh(var_filled_plot)"
   ]
  },
  {
   "cell_type": "code",
   "execution_count": 10,
   "id": "735fe25e-a0db-40ac-9854-bc5ab9ef5cbe",
   "metadata": {},
   "outputs": [],
   "source": [
    "not_filled = xr.where((mask_new.tmask.isel(time_counter=0)==1) * (np.isnan(IC_start['SALT'].values)), 1, 0)\n",
    "srctofill  = xr.where(not_filled==1, 1000, IC_start['SALT'].values).isel(x=120)\n",
    "masked_nan = xr.where(np.isnan(srctofill), 10, np.nan)\n",
    "masked_fill = xr.where(np.isnan(var_filled[:,:,120]), 10, np.nan)\n",
    "depth_ind = np.arange(len(srctofill.nav_lev))"
   ]
  },
  {
   "cell_type": "code",
   "execution_count": 12,
   "id": "6ad0d9dc-96a4-4559-84ce-063fcc3d21eb",
   "metadata": {},
   "outputs": [
    {
     "data": {
      "text/plain": [
       "(0.0, 80.0)"
      ]
     },
     "execution_count": 12,
     "metadata": {},
     "output_type": "execute_result"
    },
    {
     "data": {
      "image/png": "[encoded data removed]",
      "text/plain": [
       "<Figure size 1440x360 with 2 Axes>"
      ]
     },
     "metadata": {
      "needs_background": "light"
     },
     "output_type": "display_data"
    }
   ],
   "source": [
    "fig, ax = plt.subplots(1,2, figsize=(20,5))\n",
    "ax[0].pcolormesh(srctofill.y, srctofill.nav_lev, srctofill, cmap=cmocean.cm.dense_r)\n",
    "ax[0].pcolormesh(srctofill.y, srctofill.nav_lev, masked_nan, cmap=cmocean.cm.matter)\n",
    "# ax[0].plot([srctofill.y[41], srctofill.y[41]], [srctofill.nav_lev[0], srctofill.nav_lev[40]], '--r', linewidth=0.8)\n",
    "# ax[0].pcolormesh(data_unmasked[:,:,120])\n",
    "ax[0].set_ylim(800,0); ax[0].set_xlim(0,80)\n",
    "\n",
    "\n",
    "ax[1].pcolormesh(srctofill.y, srctofill.nav_lev, var_filled[:,:,120], vmin=32, vmax=35, cmap=cmocean.cm.dense_r)\n",
    "ax[1].pcolormesh(srctofill.y, srctofill.nav_lev, masked_fill, cmap=cmocean.cm.matter_r)\n",
    "ax[1].pcolormesh(srctofill.y, srctofill.nav_lev, masked_nan, cmap=cmocean.cm.matter)\n",
    "# ax[1].scatter([39, 40, 41, 42, 43], [25,25,25,25,25], c='r')\n",
    "# ax[1].plot([srctofill.y[41], srctofill.y[41]], [depth_ind[28], depth_ind[58]], '--r', linewidth=0.8)\n",
    "ax[1].set_ylim(800,0); ax[1].set_xlim(0,80)"
   ]
  },
  {
   "cell_type": "code",
   "execution_count": null,
   "id": "56613887-40b3-46f3-be60-9de14bde0cf9",
   "metadata": {},
   "outputs": [],
   "source": []
  }
 ],
 "metadata": {
  "kernelspec": {
   "display_name": "jaspy3.10",
   "language": "python",
   "name": "jaspy3.10"
  },
  "language_info": {
   "codemirror_mode": {
    "name": "ipython",
    "version": 3
   },
   "file_extension": ".py",
   "mimetype": "text/x-python",
   "name": "python",
   "nbconvert_exporter": "python",
   "pygments_lexer": "ipython3",
   "version": "3.10.5"
  }
 },
 "nbformat": 4,
 "nbformat_minor": 5
}
