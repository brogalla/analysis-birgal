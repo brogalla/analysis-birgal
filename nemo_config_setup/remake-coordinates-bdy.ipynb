{
 "cells": [
  {
   "cell_type": "markdown",
   "id": "93365387-b36c-4978-8a1c-56de747f21c7",
   "metadata": {},
   "source": [
    "### Remake coordinates_bdy.nc file"
   ]
  },
  {
   "cell_type": "code",
   "execution_count": 1,
   "id": "e9d7af48-7013-426f-a074-be5852aba500",
   "metadata": {},
   "outputs": [],
   "source": [
    "import numpy as np\n",
    "import matplotlib.pyplot as plt\n",
    "import xarray as xr"
   ]
  },
  {
   "cell_type": "markdown",
   "id": "e821f62b-237e-41bd-abaa-e7d32f8c4607",
   "metadata": {},
   "source": [
    "#### Functions"
   ]
  },
  {
   "cell_type": "code",
   "execution_count": null,
   "id": "7ae12901-1dfd-4da8-b4ea-f68d69c42282",
   "metadata": {},
   "outputs": [],
   "source": []
  },
  {
   "cell_type": "code",
   "execution_count": 2,
   "id": "2a09a3f5-d6ee-4fdd-b476-fa5e26e5e27e",
   "metadata": {},
   "outputs": [],
   "source": [
    "def make_bdy_coord(t_coords, u_coords, v_coords, domain_cfg, \n",
    "                   rimwidth=1, filename='/home/users/birgal/data/NEMO/coordinates_bdy_new.nc'):\n",
    "    \"\"\" Function makes a NEMO coordinate_bdy NetCDF file given input coordinates and a domain\n",
    "    Arguments\n",
    "    ----------\n",
    "        t_coords : list\n",
    "            Tuples of i,j coordinates of gridT points in the boundary. Assumes the order goes from the inside of the domain to the outside.\n",
    "        u_coords : list\n",
    "            Same as above but for the grid U points\n",
    "        v_coords : list\n",
    "            Same as above but for the grid V points\n",
    "        domain_cfg : xarray dataset \n",
    "            From the domain_cfg NEMO file\n",
    "\n",
    "    Parameters\n",
    "    ----------\n",
    "        filename : string \n",
    "            Specifies output file location and name\n",
    "        rimwidth : integer \n",
    "            Width of your NEMO boundary (typically between 8-10 gridpoints)\n",
    "            \n",
    "    Returns\n",
    "    ----------\n",
    "        Dataset : xarray dataset\n",
    "    \"\"\"\n",
    "\n",
    "    it_coords, jt_coords = np.array(list(zip(*t_coords))).astype(int)\n",
    "    iu_coords, ju_coords = np.array(list(zip(*u_coords))).astype(int)\n",
    "    iv_coords, jv_coords = np.array(list(zip(*v_coords))).astype(int)\n",
    "\n",
    "    # Take subsets of the domain_cfg dataset based on the coordinates of boundary points\n",
    "    domain_cfg_subset_t = domain_cfg.sel(x=xr.DataArray(it_coords, dims='z'), y=xr.DataArray(jt_coords, dims='z'))\n",
    "    domain_cfg_subset_u = domain_cfg.sel(x=xr.DataArray(iu_coords, dims='z'), y=xr.DataArray(ju_coords, dims='z'))\n",
    "    domain_cfg_subset_v = domain_cfg.sel(x=xr.DataArray(iv_coords, dims='z'), y=xr.DataArray(jv_coords, dims='z'))\n",
    "    \n",
    "    # Dimensions:\n",
    "    bdy_length = int(np.floor(len(t_coords)/rimwidth))\n",
    "    yb_dim     = 1 # always\n",
    "    xbv_dim    = (bdy_length)  *rimwidth\n",
    "    xbu_dim    = (bdy_length-1)*rimwidth\n",
    "    xbt_dim    = (bdy_length)  *rimwidth\n",
    "                       \n",
    "    # Create xarray dataset:\n",
    "    ds = xr.Dataset(\n",
    "        data_vars=dict(\n",
    "                    e1t=([\"yb\", \"xbt\"], domain_cfg_subset_t['e1t'].values.astype(float)),\n",
    "                    e1u=([\"yb\", \"xbu\"], domain_cfg_subset_u['e1u'].values.astype(float)), \n",
    "                    e1v=([\"yb\", \"xbv\"], domain_cfg_subset_v['e1v'].values.astype(float)), \n",
    "                    e2t=([\"yb\", \"xbt\"], domain_cfg_subset_t['e2t'].values.astype(float)),\n",
    "                    e2u=([\"yb\", \"xbu\"], domain_cfg_subset_u['e2u'].values.astype(float)),\n",
    "                    e2v=([\"yb\", \"xbv\"], domain_cfg_subset_v['e2v'].values.astype(float)),\n",
    "                    glamt=([\"yb\", \"xbt\"], domain_cfg_subset_t['glamt'].values.astype(float)),\n",
    "                    glamu=([\"yb\", \"xbu\"], domain_cfg_subset_u['glamu'].values.astype(float)),\n",
    "                    glamv=([\"yb\", \"xbv\"], domain_cfg_subset_v['glamv'].values.astype(float)),\n",
    "                    gphit=([\"yb\", \"xbt\"], domain_cfg_subset_t['gphit'].values.astype(float)),\n",
    "                    gphiu=([\"yb\", \"xbu\"], domain_cfg_subset_u['gphiu'].values.astype(float)),\n",
    "                    gphiv=([\"yb\", \"xbv\"], domain_cfg_subset_v['gphiv'].values.astype(float)),                \n",
    "                    nbit=([\"yb\", \"xbt\"], np.reshape(it_coords+1, (yb_dim, xbt_dim)).astype(int)),\n",
    "                    nbiu=([\"yb\", \"xbu\"], np.reshape(iu_coords+1, (yb_dim, xbu_dim)).astype(int)),\n",
    "                    nbiv=([\"yb\", \"xbv\"], np.reshape(iv_coords+1, (yb_dim, xbv_dim)).astype(int)),\n",
    "                    nbjt=([\"yb\", \"xbt\"], np.reshape(jt_coords+1, (yb_dim, xbt_dim)).astype(int)),\n",
    "                    nbju=([\"yb\", \"xbu\"], np.reshape(ju_coords+1, (yb_dim, xbu_dim)).astype(int)),\n",
    "                    nbjv=([\"yb\", \"xbv\"], np.reshape(jv_coords+1, (yb_dim, xbv_dim)).astype(int)),\n",
    "                    nbrt=([\"yb\", \"xbt\"], np.reshape(np.repeat(np.arange(1,rimwidth+1), bdy_length)  , (yb_dim, xbt_dim)).astype(int)),\n",
    "                    nbru=([\"yb\", \"xbu\"], np.reshape(np.repeat(np.arange(1,rimwidth+1), bdy_length-1), (yb_dim, xbu_dim)).astype(int)),\n",
    "                    nbrv=([\"yb\", \"xbv\"], np.reshape(np.repeat(np.arange(1,rimwidth+1), bdy_length)  , (yb_dim, xbv_dim)).astype(int)),\n",
    "        ),\n",
    "        attrs=dict(description=\"Boundary condition coordinates file\"),\n",
    "    )\n",
    "    \n",
    "    ds.to_netcdf(f'{filename}')\n",
    "\n",
    "\n",
    "    return ds"
   ]
  },
  {
   "cell_type": "markdown",
   "id": "7820e7da-1a1a-4c55-93b3-8f5435bf37e6",
   "metadata": {},
   "source": [
    "### Read files\n",
    "- Use coordinates from the domain_cfg.nc file or from the old boundary file"
   ]
  },
  {
   "cell_type": "code",
   "execution_count": 4,
   "id": "9552fc10-19f9-471c-a66a-ddf4e31e1d6e",
   "metadata": {},
   "outputs": [],
   "source": [
    "coord_bdy_old = xr.open_dataset('/home/users/birgal/data/NEMO/coordinates_bdy.nc')\n",
    "domain_cfg    = xr.open_dataset('/gws/nopw/j04/terrafirma/birgal/NEMO_AIS/bathymetry/domain_cfg-20231025.nc')"
   ]
  },
  {
   "cell_type": "markdown",
   "id": "a3cfe18c-5ac0-42e8-9a04-edfc41c3ba21",
   "metadata": {},
   "source": [
    "### Create coordinates boundary file"
   ]
  },
  {
   "cell_type": "code",
   "execution_count": 8,
   "id": "7985804b-1bc1-4a79-a495-4d400cf36d68",
   "metadata": {},
   "outputs": [],
   "source": [
    "# Python coordinates of the boundary (zero-based). Assumes you go from the inside of the boundary to the outside\n",
    "# T grid boundary coordinates\n",
    "it_coords = (domain_cfg.x.values).astype(int)                            # indices along northern boundary\n",
    "jt_coords = np.tile(domain_cfg.y.values[-1], len(it_coords)).astype(int) # boundary along constant j index at edge of domain\n",
    "# U grid boundary coordinates\n",
    "iu_coords = np.copy(it_coords)[:-1] # one less grid point on the east edge (I think)\n",
    "ju_coords = np.copy(jt_coords)[:-1] # same as \"jt\" except one gridpoint shorter\n",
    "# V grid boundary coordinates\n",
    "iv_coords = np.copy(it_coords)   # same as \"it\"\n",
    "jv_coords = np.copy(jt_coords)-1 # \"jt - 1\" for northern boundary\n",
    "\n",
    "# Create coordinate pairs:\n",
    "T_coords = list(zip(it_coords, jt_coords))\n",
    "U_coords = list(zip(iu_coords, ju_coords))\n",
    "V_coords = list(zip(iv_coords, jv_coords))"
   ]
  },
  {
   "cell_type": "code",
   "execution_count": 9,
   "id": "c32896ad-c2f3-4d73-b96b-bc39b946fdc4",
   "metadata": {},
   "outputs": [],
   "source": [
    "ds_coord = make_bdy_coord(T_coords, U_coords, V_coords, domain_cfg, rimwidth=1, \\\n",
    "                          filename='/gws/nopw/j04/terrafirma/birgal/NEMO_AIS/output/old-forcing/extended/coordinates_bdy-extended.nc')"
   ]
  },
  {
   "cell_type": "markdown",
   "id": "e0c8201d-61d9-4503-9595-b9a3470a1043",
   "metadata": {},
   "source": [
    "# other older stuff:"
   ]
  },
  {
   "cell_type": "code",
   "execution_count": 47,
   "id": "53093b0a-be29-4dda-a024-2137cdf56c50",
   "metadata": {},
   "outputs": [],
   "source": [
    "def make_bdy(coords, grid_bdy, grid_out, domain_cfg, bdy_type='U', time_dim=73, rimwidth=1, \n",
    "             filename='/home/users/birgal/data/boundary_conditions/bdyU_u3d_y1979_test.nc'):\n",
    "    \"\"\" Function makes a NEMO boundary forcing NetCDF file for given input coordinates and saves it\n",
    "    Arguments\n",
    "    ----------\n",
    "        coords : list\n",
    "            Tuples of i,j coordinates of U or V grid points in the boundary. Assumes the order goes from the inside of the domain to the outside.\n",
    "        grid_bdy : xarray dataset \n",
    "            A gridU boundary condition file to use to get the timestamps etc.\n",
    "\n",
    "    Parameters\n",
    "    ----------\n",
    "        filename : string \n",
    "            Specifies output file location and name\n",
    "        rimwidth : integer \n",
    "            Width of your NEMO boundary (typically between 8-10 gridpoints)\n",
    "        bdy_type : string\n",
    "            Specified the grid and file type for the boundary condition. Options: U, V, T, ice\n",
    "            \n",
    "    Returns\n",
    "    ----------\n",
    "        Dataset : xarray dataset\n",
    "    \"\"\"\n",
    "\n",
    "    i_coords, j_coords = np.array(list(zip(*coords))).astype(int)\n",
    "\n",
    "    # Take subsets of the domain_cfg dataset based on the coordinates of boundary points\n",
    "    domain_cfg_subset = domain_cfg.sel(x=xr.DataArray(i_coords, dims='z'), y=xr.DataArray(j_coords, dims='z'))\n",
    "    if bdy_type == 'U' or bdy_type == 'V' or bdy_type =='ice':\n",
    "        grid_slice = grid_out.sel(time_counter=grid_out['time_counter'][0],\n",
    "                                  x=xr.DataArray(i_coords, dims='z'), \n",
    "                                  y=xr.DataArray(j_coords, dims='z'))\n",
    "    elif bdy_type=='T':\n",
    "        grid_slice = grid_out.sel(time_counter=grid_out['time_counter'][0],\n",
    "                                  x_grid_T=xr.DataArray(i_coords, dims='z'), \n",
    "                                  y_grid_T=xr.DataArray(j_coords, dims='z'))\n",
    "    else:\n",
    "        print('bdy_type can only be one of U, V, T, or ice')\n",
    "        return\n",
    "        \n",
    "    # Dimensions:\n",
    "    bdy_length = int(np.floor(len(coords)/rimwidth))\n",
    "    depth_dim  = len(domain_cfg.nav_lev)\n",
    "    yb_dim     = 1  # always\n",
    "    xb_dim     = bdy_length*rimwidth\n",
    "\n",
    "    if bdy_type == 'U':\n",
    "        xbdim = 'xbU'; depthdim = 'depthu'; navlon= 'nav_lon'; navlat= 'nav_lat';\n",
    "    elif bdy_type =='V':\n",
    "        xbdim = 'xbV'; depthdim = 'depthv'; navlon= 'nav_lon'; navlat= 'nav_lat';\n",
    "    elif bdy_type =='T':\n",
    "        xbdim = 'xbT'; depthdim = 'deptht'; navlon= 'nav_lon_grid_T'; navlat= 'nav_lat_grid_T';\n",
    "    elif bdy_type =='ice':\n",
    "        xbdim = 'xbT'; depthdim = 'deptht'; navlon= 'nav_lon'; navlat= 'nav_lat';\n",
    "        \n",
    "    # Create xarray dataset:\n",
    "    ds = xr.Dataset(\n",
    "        data_vars=dict(\n",
    "                    time_counter_bnds = ([\"time_counter\", \"bnds\"], grid_bdy['time_counter_bnds'].values),\n",
    "                    nbidta      = ([\"yb\", f\"{xbdim}\"], np.reshape(i_coords+1, (yb_dim, xb_dim)).astype(int)),\n",
    "                    nbjdta      = ([\"yb\", f\"{xbdim}\"], np.reshape(j_coords+1, (yb_dim, xb_dim)).astype(int)),\n",
    "                    nbrdta      = ([\"yb\", f\"{xbdim}\"], np.reshape(np.repeat(np.arange(1,rimwidth+1), bdy_length), \n",
    "                                                                  (yb_dim, xb_dim)).astype(int)), \n",
    "        ),\n",
    "        coords=dict(\n",
    "                time_counter    = grid_bdy['time_counter'].values,\n",
    "                nav_lon         = ([\"yb\", f\"{xbdim}\"], np.reshape(grid_slice[f'{navlon}'].values, (yb_dim, xb_dim))),\n",
    "                nav_lat         = ([\"yb\", f\"{xbdim}\"], np.reshape(grid_slice[f'{navlat}'].values, (yb_dim, xb_dim))),\n",
    "        ),\n",
    "        attrs=dict(description  = f\"Grid{bdy_type} boundary condition file\"),\n",
    "    )\n",
    "\n",
    "    # Add specific variables:\n",
    "    if bdy_type == 'U':\n",
    "        ds['depthu_bnds'] = ([\"depthu\",\"bnds\"], grid_bdy['depthu_bnds'].values)\n",
    "        vozocrtx_fill     = np.zeros((time_dim, depth_dim, yb_dim, xb_dim));\n",
    "        # vozocrtx_fill[:]  = np.reshape(grid_slice['uo2'].values, (depth_dim, yb_dim, xb_dim))\n",
    "        ds['vozocrtx']    = ([\"time_counter\", f\"{depthdim}\", \"yb\", f\"{xbdim}\"], vozocrtx_fill)\n",
    "        ds = ds.assign_coords({\"depthu\" : grid_bdy['depthu'].values})\n",
    "        \n",
    "    elif bdy_type == 'V':\n",
    "        ds['depthv_bnds'] = ([\"depthv\",\"bnds\"], grid_bdy['depthv_bnds'].values)\n",
    "        vomecrty_fill     = np.zeros((time_dim, depth_dim, yb_dim, xb_dim));\n",
    "        # vomecrty_fill[:]  = np.reshape(grid_slice['vo2'].values, (depth_dim, yb_dim, xb_dim))\n",
    "        ds['vomecrty']    = ([\"time_counter\", f\"{depthdim}\", \"yb\", f\"{xbdim}\"], vomecrty_fill)\n",
    "        ds = ds.assign_coords({\"depthv\" : grid_bdy['depthv'].values})\n",
    "\n",
    "    elif bdy_type == 'T':\n",
    "        ds['deptht_bnds'] = ([\"deptht\",\"bnds\"], grid_bdy['deptht_bnds'].values)    \n",
    "        sossh_fill        = np.empty((time_dim, yb_dim, xb_dim));\n",
    "        vosaline_fill     = np.empty((time_dim, depth_dim, yb_dim, xb_dim));\n",
    "        votemper_fill     = np.empty((time_dim, depth_dim, yb_dim, xb_dim));\n",
    "        sossh_fill[:]     = np.reshape(grid_slice['zos'].values   , (yb_dim, xb_dim))\n",
    "        vosaline_fill[:]  = np.reshape(grid_slice['so'].values    , (depth_dim, yb_dim, xb_dim))\n",
    "        votemper_fill[:]  = np.reshape(grid_slice['thetao'].values, (depth_dim, yb_dim, xb_dim))\n",
    "        vosaline_fill[vosaline_fill < 10] = 10\n",
    "        # sossh_fill        = np.zeros((time_dim, yb_dim, xb_dim));\n",
    "        # vosaline_fill     = np.ones((time_dim, depth_dim, yb_dim, xb_dim))*33;\n",
    "        # votemper_fill     = np.ones((time_dim, depth_dim, yb_dim, xb_dim))*2;\n",
    "        ds['sossh']    = ([\"time_counter\", \"yb\", \"xbT\"]          , sossh_fill)\n",
    "        ds['votemper'] = ([\"time_counter\", \"deptht\", \"yb\", \"xbT\"], votemper_fill)\n",
    "        ds['vosaline'] = ([\"time_counter\", \"deptht\", \"yb\", \"xbT\"], vosaline_fill) \n",
    "        ds = ds.assign_coords({\"deptht\" : grid_bdy['deptht'].values})\n",
    "\n",
    "    elif bdy_type =='ice':\n",
    "        ds['siconc'] = ([\"time_counter\", \"yb\", \"xbT\"], np.zeros((time_dim, yb_dim, xb_dim)))\n",
    "        ds['sithic'] = ([\"time_counter\", \"yb\", \"xbT\"], np.zeros((time_dim, yb_dim, xb_dim)))\n",
    "        ds['sivolu'] = ([\"time_counter\", \"yb\", \"xbT\"], np.zeros((time_dim, yb_dim, xb_dim)))\n",
    "        ds['snthic'] = ([\"time_counter\", \"yb\", \"xbT\"], np.zeros((time_dim, yb_dim, xb_dim)))\n",
    "        ds['snvolu'] = ([\"time_counter\", \"yb\", \"xbT\"], np.zeros((time_dim, yb_dim, xb_dim)))\n",
    "        \n",
    "    ds.to_netcdf(f'{filename}', unlimited_dims='time_counter')\n",
    "\n",
    "    return ds"
   ]
  },
  {
   "cell_type": "code",
   "execution_count": 15,
   "id": "b8f80016-018f-4a3f-b02d-f1d098f40cb1",
   "metadata": {},
   "outputs": [],
   "source": [
    "# Python coordinates of the boundary (zero-based). Assumes you go from the inside of the boundary to the outside\n",
    "# T grid boundary coordinates\n",
    "it_coords = (domain_cfg.x.values[0:1440]).astype(int)                            # indices along northern boundary\n",
    "jt_coords = np.tile(domain_cfg.y.values[-3], len(it_coords)).astype(int) # boundary along constant j index at edge of domain\n",
    "# U grid boundary coordinates\n",
    "iu_coords = np.copy(it_coords)[:-1] # one less grid point on the east edge (I think)\n",
    "ju_coords = np.copy(jt_coords)[:-1] # same as \"jt\" except one gridpoint shorter\n",
    "# V grid boundary coordinates\n",
    "iv_coords = np.copy(it_coords)   # same as \"it\"\n",
    "jv_coords = np.copy(jt_coords)-1 # \"jt - 1\" for northern boundary\n",
    "\n",
    "# Create coordinate pairs:\n",
    "T_coords = list(zip(it_coords, jt_coords))\n",
    "U_coords = list(zip(iu_coords, ju_coords))\n",
    "V_coords = list(zip(iv_coords, jv_coords))"
   ]
  },
  {
   "cell_type": "code",
   "execution_count": 26,
   "id": "093f504e-eaf5-4848-abb5-61623f215150",
   "metadata": {},
   "outputs": [],
   "source": [
    "def coord_multiple_rw(coords_in, rimwidth):\n",
    "    \n",
    "    i_coords, j_coords = np.array(list(zip(*coords_in))).astype(int)\n",
    "\n",
    "    i_tiled = np.tile(i_coords, rimwidth)\n",
    "    j_tiled = np.repeat(np.arange(np.amax(j_coords)-10, np.amax(j_coords)+1), len(i_coords))\n",
    "\n",
    "    coords = list(zip(i_tiled, j_tiled))\n",
    "    \n",
    "    return coords"
   ]
  },
  {
   "cell_type": "code",
   "execution_count": 37,
   "id": "78c16281-c5b6-4e30-a266-8562f12feefe",
   "metadata": {},
   "outputs": [],
   "source": [
    "T_coords_rw10 = coord_multiple_rw(T_coords, 10)\n",
    "U_coords_rw10 = coord_multiple_rw(U_coords, 10)\n",
    "V_coords_rw10 = coord_multiple_rw(V_coords, 10)"
   ]
  },
  {
   "cell_type": "markdown",
   "id": "6e077260-536d-4359-9bb9-d1e95bc38641",
   "metadata": {},
   "source": [
    "### Create ice boundary file"
   ]
  },
  {
   "cell_type": "code",
   "execution_count": 17,
   "id": "62db2b3b-e1e8-4e45-ae03-38f9ff520cee",
   "metadata": {},
   "outputs": [],
   "source": [
    "# Use the same coordinates as above\n",
    "ice_out = xr.open_dataset('/gws/nopw/j04/terrafirma/birgal/NEMO_AIS/output/NEMO-test3-20230914/eANT025.L121_1m_19790101_19791231_icemod.nc')\n",
    "ice_bdy = xr.open_dataset('/home/users/birgal/data/forcing_NEMO/bdyT_ice_y1979.nc')\n",
    "\n",
    "ds_ice  = make_bdy(T_coords, ice_bdy, ice_out, domain_cfg, rimwidth=1, bdy_type='ice', \\\n",
    "                   filename='/home/users/birgal/data/boundary_conditions/bdyT_ice_y1979_N.nc')"
   ]
  },
  {
   "cell_type": "code",
   "execution_count": 50,
   "id": "deb01056-ccb3-4320-b1c0-f607b416f638",
   "metadata": {},
   "outputs": [],
   "source": [
    "ds_ice  = make_bdy(T_coords_rw10, ice_bdy, ice_out, domain_cfg, rimwidth=10, bdy_type='ice', \\\n",
    "                   filename='/home/users/birgal/data/boundary_conditions/bdyT_ice_y1979_N10.nc')"
   ]
  },
  {
   "cell_type": "markdown",
   "id": "6c0bf37e-bdc8-4b6c-96cd-c9b3c7adb750",
   "metadata": {},
   "source": [
    "### Create tracer boundary file"
   ]
  },
  {
   "cell_type": "code",
   "execution_count": 18,
   "id": "b29cfebb-e5c2-4a7d-bc44-cde435d5f181",
   "metadata": {},
   "outputs": [],
   "source": [
    "tra_out   = xr.open_dataset('/gws/nopw/j04/terrafirma/birgal/NEMO_AIS/output/NEMO-test3-20230914/eANT025.L121_1m_19790101_19791231_grid_T.nc')\n",
    "tra_bdy   = xr.open_dataset('/home/users/birgal/data/forcing_NEMO/bdyT_tra_y1979.nc')\n",
    "\n",
    "ds_tra    = make_bdy(T_coords, tra_bdy, tra_out, domain_cfg, rimwidth=1, bdy_type='T',\n",
    "                     filename='/home/users/birgal/data/boundary_conditions/bdyT_tra_y1979_N.nc')"
   ]
  },
  {
   "cell_type": "code",
   "execution_count": 49,
   "id": "be0ef9c8-7d25-4b8e-ad1c-0e947711d311",
   "metadata": {},
   "outputs": [],
   "source": [
    "ds_tra2   = make_bdy(T_coords_rw10, tra_bdy, tra_out, domain_cfg, rimwidth=10, bdy_type='T', \\\n",
    "                    filename='/home/users/birgal/data/boundary_conditions/bdyT_tra_y1979_N10.nc')"
   ]
  },
  {
   "cell_type": "markdown",
   "id": "0aea4e63-d540-4113-bbc2-c345672fd2f1",
   "metadata": {},
   "source": [
    "### Create U, V boundary files"
   ]
  },
  {
   "cell_type": "code",
   "execution_count": 19,
   "id": "3f80b2f6-37e4-4aed-8386-7bff848753d5",
   "metadata": {},
   "outputs": [],
   "source": [
    "gridU_out  = xr.open_dataset('/gws/nopw/j04/terrafirma/birgal/NEMO_AIS/output/NEMO-test3-20230914/eANT025.L121_1m_19790101_19791231_grid_U.nc')\n",
    "gridU_bdy  = xr.open_dataset('/home/users/birgal/data/forcing_NEMO/bdyU_u3d_y1979.nc')\n",
    "\n",
    "ds_gridU   = make_bdy(U_coords, gridU_bdy, gridU_out, domain_cfg, bdy_type='U', rimwidth=1, time_dim=73, \n",
    "                      filename='/home/users/birgal/data/boundary_conditions/bdyU_u3d_y1979_N.nc')"
   ]
  },
  {
   "cell_type": "code",
   "execution_count": 51,
   "id": "e485d969-6a50-4550-9c12-c92f0eebba88",
   "metadata": {},
   "outputs": [],
   "source": [
    "ds_gridU2   = make_bdy(U_coords_rw10, gridU_bdy, gridU_out, domain_cfg, bdy_type='U', rimwidth=10, time_dim=73, \n",
    "                      filename='/home/users/birgal/data/boundary_conditions/bdyU_u3d_y1979_N10.nc')"
   ]
  },
  {
   "cell_type": "code",
   "execution_count": 20,
   "id": "d80ddf09-cdae-4a96-ae51-488829b095e7",
   "metadata": {},
   "outputs": [],
   "source": [
    "gridV_out  = xr.open_dataset('/gws/nopw/j04/terrafirma/birgal/NEMO_AIS/output/NEMO-test3-20230914/eANT025.L121_1m_19790101_19791231_grid_V.nc')\n",
    "gridV_bdy  = xr.open_dataset('/home/users/birgal/data/forcing_NEMO/bdyV_u3d_y1979.nc')\n",
    "\n",
    "ds_gridV   = make_bdy(V_coords, gridV_bdy, gridV_out, domain_cfg, bdy_type='V', rimwidth=1, time_dim=73,\n",
    "                      filename='/home/users/birgal/data/boundary_conditions/bdyV_u3d_y1979_N.nc')"
   ]
  },
  {
   "cell_type": "code",
   "execution_count": 52,
   "id": "23d62505-79da-497d-af12-24dda71d9987",
   "metadata": {},
   "outputs": [],
   "source": [
    "ds_gridV2   = make_bdy(V_coords_rw10, gridV_bdy, gridV_out, domain_cfg, bdy_type='V', rimwidth=10, time_dim=73,\n",
    "                      filename='/home/users/birgal/data/boundary_conditions/bdyV_u3d_y1979_N10.nc')"
   ]
  },
  {
   "cell_type": "code",
   "execution_count": null,
   "id": "f46eef97-690d-4f81-82f0-f742e2033cfd",
   "metadata": {},
   "outputs": [],
   "source": []
  },
  {
   "cell_type": "code",
   "execution_count": null,
   "id": "b6311ad6-3ee1-4428-b1e9-50b95caceef8",
   "metadata": {},
   "outputs": [],
   "source": []
  }
 ],
 "metadata": {
  "kernelspec": {
   "display_name": "Python 3 + Jaspy",
   "language": "python",
   "name": "jaspy"
  },
  "language_info": {
   "codemirror_mode": {
    "name": "ipython",
    "version": 3
   },
   "file_extension": ".py",
   "mimetype": "text/x-python",
   "name": "python",
   "nbconvert_exporter": "python",
   "pygments_lexer": "ipython3",
   "version": "3.10.8"
  }
 },
 "nbformat": 4,
 "nbformat_minor": 5
}
