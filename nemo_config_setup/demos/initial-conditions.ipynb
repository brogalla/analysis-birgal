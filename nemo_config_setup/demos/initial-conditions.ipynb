{
 "cells": [
  {
   "cell_type": "markdown",
   "id": "98513338",
   "metadata": {},
   "source": [
    "# Demo: making initial conditions and visualising them\n",
    "\n",
    "Take a dataset and create initial conditions for your specified grid, filling gaps with connected nearest neighbour (for filling in ice shelf cavities for example). "
   ]
  },
  {
   "cell_type": "code",
   "execution_count": null,
   "id": "7ff134d4-45ee-4361-b961-d722c77f36b7",
   "metadata": {},
   "outputs": [],
   "source": [
    "import numpy as np\n",
    "import xarray as xr\n",
    "import matplotlib.pyplot as plt\n",
    "import cmocean\n",
    "import sys\n",
    "sys.path.append('/home/users/birgal/')\n",
    "from nemo_python.ics_obcs import create_ics"
   ]
  },
  {
   "cell_type": "markdown",
   "id": "841e1280-2c59-4513-80ce-5c7299005d43",
   "metadata": {},
   "source": [
    "#### Load bathymetry files"
   ]
  },
  {
   "cell_type": "code",
   "execution_count": null,
   "id": "a56a2e4a-ac1a-477b-b866-d01b38fd0142",
   "metadata": {},
   "outputs": [],
   "source": [
    "# NEMO mesh mask and domain files\n",
    "bathy_folder = '/gws/nopw/j04/terrafirma/birgal/NEMO_AIS/bathymetry/'\n",
    "nemo_mask    = xr.open_dataset(f'{bathy_folder}mesh_mask-20240201.nc').isel(time_counter=0)"
   ]
  },
  {
   "cell_type": "markdown",
   "id": "bdc543b4-7d6f-4e1d-8581-d9007c835e33",
   "metadata": {},
   "source": [
    "## Create initial conditions\n",
    "Note that this may require more memory than your notebook environment allows, so I normally call the functions in a python script instead."
   ]
  },
  {
   "cell_type": "code",
   "execution_count": null,
   "id": "bbbba513-28ca-4452-9eb9-47066f284978",
   "metadata": {},
   "outputs": [],
   "source": [
    "variable='SALT'\n",
    "\n",
    "source_folder = '/gws/nopw/j04/terrafirma/birgal/NEMO_AIS/B-SOSE/climatology/'\n",
    "IC_folder     = '/gws/nopw/j04/terrafirma/birgal/NEMO_AIS/initial-conditions/'"
   ]
  },
  {
   "cell_type": "code",
   "execution_count": 3,
   "id": "f3d2c5bc-1584-4447-a8ef-25682e0a8ad8",
   "metadata": {},
   "outputs": [],
   "source": [
    "in_file_source = f'{source_folder}{variable}_climatology_m01.nc';\n",
    "output_file    = f'{IC_folder}SOSE-{variable}-initial-conditions-20240202.nc'\n",
    "create_ics(variable, in_file_SOSE, output_file,\n",
    "           source       = 'SOSE',\n",
    "           source_coord = f'{source_folder}{variable}_climatology_m01.nc',\n",
    "           nemo_coord   = f'{bathy_folder}domain_cfg-20240201.nc',\n",
    "           nemo_mask    = f'{bathy_folder}mesh_mask-20240201.nc',\n",
    "           salt_file    = f'{source_folder}SALT_climatology_m01.nc',\n",
    "           num_iter     = 500,\n",
    "           fill_value   = 0)"
   ]
  },
  {
   "cell_type": "markdown",
   "id": "fae7d6c4-9e95-4c9d-9f7f-fd92463a9848",
   "metadata": {},
   "source": [
    "## Visualise initial conditions"
   ]
  },
  {
   "cell_type": "code",
   "execution_count": null,
   "id": "b23fa553-d65d-4ba4-a431-1ad4fed3bd40",
   "metadata": {},
   "outputs": [],
   "source": [
    "# load initial conditions:\n",
    "IC_ds  = xr.open_dataset(f'{IC_folder}SOSE-SALT-initial-conditions-20240202.nc')\n",
    "src_ds = xr.open_dataset(f'{source_folder}SALT_climatology_m01.nc')"
   ]
  },
  {
   "cell_type": "markdown",
   "id": "886849df-1ed6-4a2d-8393-492f2c0eab78",
   "metadata": {},
   "source": [
    "Bird's eye view:"
   ]
  },
  {
   "cell_type": "code",
   "execution_count": null,
   "id": "125f5f26-b769-489b-b746-df9087f9bc7e",
   "metadata": {},
   "outputs": [],
   "source": []
  },
  {
   "cell_type": "markdown",
   "id": "cafd06a4-c7a7-4f27-a862-80c84e746c2c",
   "metadata": {},
   "source": [
    "And, ice shelf cavity transect view (to highlight the cavity fill methods):"
   ]
  },
  {
   "cell_type": "code",
   "execution_count": null,
   "id": "2272993b-bac2-4e85-a47e-5b4edd189ce8",
   "metadata": {},
   "outputs": [],
   "source": []
  }
 ],
 "metadata": {
  "kernelspec": {
   "display_name": "jaspy3.10",
   "language": "python",
   "name": "jaspy3.10"
  },
  "language_info": {
   "codemirror_mode": {
    "name": "ipython",
    "version": 3
   },
   "file_extension": ".py",
   "mimetype": "text/x-python",
   "name": "python",
   "nbconvert_exporter": "python",
   "pygments_lexer": "ipython3",
   "version": "3.10.5"
  }
 },
 "nbformat": 4,
 "nbformat_minor": 5
}
