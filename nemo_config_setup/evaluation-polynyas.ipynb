{
 "cells": [
  {
   "cell_type": "markdown",
   "id": "039858f1-96ca-40a7-a9c8-d62d25eb0071",
   "metadata": {},
   "source": [
    "# Evaluate location and seasonality of formed polynyas / sea ice formation"
   ]
  },
  {
   "cell_type": "code",
   "execution_count": 1,
   "id": "ce3b2877-aeb7-47f2-987f-bbe7d91c1c26",
   "metadata": {},
   "outputs": [],
   "source": [
    "import xarray as xr\n",
    "import numpy as np\n",
    "import matplotlib.pyplot as plt\n",
    "import matplotlib.colors as cl\n",
    "import matplotlib\n",
    "import glob\n",
    "import pandas as pd\n",
    "import cmocean\n",
    "import sys\n",
    "sys.path.append('/home/users/birgal/')\n",
    "from nemo_python_git.plots import circumpolar_plot, finished_plot\n",
    "import cartopy.crs as ccrs\n",
    "import cartopy.feature as cfeature"
   ]
  },
  {
   "cell_type": "code",
   "execution_count": 2,
   "id": "2ecfd70e-13ff-44a8-8c15-7b879eef70df",
   "metadata": {},
   "outputs": [],
   "source": [
    "run_folder  = '/gws/nopw/j04/anthrofail/birgal/NEMO_AIS/output/ERA5_test6_cont/'\n",
    "nemo_mesh   = '/gws/nopw/j04/anthrofail/birgal/NEMO_AIS/bathymetry/mesh_mask-20240305.nc'\n",
    "nemo_domain = '/gws/nopw/j04/anthrofail/birgal/NEMO_AIS/bathymetry/domain_cfg-20240305.nc'"
   ]
  },
  {
   "cell_type": "code",
   "execution_count": 26,
   "id": "4f905ad7-3e6a-42cb-977a-2fe029de66d2",
   "metadata": {},
   "outputs": [],
   "source": [
    "gridT_files = np.sort(glob.glob(f'{run_folder}files1/*grid_T*'))"
   ]
  },
  {
   "cell_type": "code",
   "execution_count": 27,
   "id": "b9914187-35c5-427e-a0db-c6fc8f643613",
   "metadata": {},
   "outputs": [],
   "source": [
    "reanalysis=True\n",
    "if reanalysis:\n",
    "    index_start = [idx for idx, s in enumerate(gridT_files) if '1979' in s][0]\n",
    "    try:        \n",
    "        index_end = [idx for idx, s in enumerate(gridT_files) if '2026' in s][0] + 1\n",
    "    except:\n",
    "        index_end = None\n",
    "    \n",
    "    gridT_files = gridT_files[index_start:index_end]"
   ]
  },
  {
   "cell_type": "code",
   "execution_count": null,
   "id": "b4da560c-034d-4851-94d8-e22518a8cfe8",
   "metadata": {},
   "outputs": [],
   "source": [
    "# load files:\n",
    "nemo_mesh_ds = xr.open_dataset(nemo_mesh)\n",
    "icemod_files = glob.glob(f'{run_folder}files1/*icemod*')\n",
    "nemo_ds      = xr.open_mfdataset(icemod_files) "
   ]
  },
  {
   "cell_type": "code",
   "execution_count": null,
   "id": "feb659e4-1561-4651-8e20-1820e5492ccc",
   "metadata": {},
   "outputs": [],
   "source": [
    "def plot_ocean(nemo_mesh, file_var):   \n",
    "    lon_plot = np.ma.masked_where(nemo_mesh.tmask.isel(nav_lev=0) == 0, nemo_mesh.nav_lon.values)\n",
    "    lat_plot = np.ma.masked_where(nemo_mesh.tmask.isel(nav_lev=0) == 0, nemo_mesh.nav_lat.values)\n",
    "    plot_var = np.ma.masked_where(nemo_mesh.tmask.isel(nav_lev=0) == 0, file_var.values)\n",
    "    return lon_plot, lat_plot, plot_var "
   ]
  },
  {
   "cell_type": "code",
   "execution_count": null,
   "id": "1a0f4aea-abd3-49ed-8800-aef36d9f26f5",
   "metadata": {},
   "outputs": [],
   "source": [
    "def plot_land(nemo_mesh, file_var):\n",
    "    lon_plot = np.ma.masked_where(nemo_mesh.tmask.isel(nav_lev=0) != 0, nemo_mesh.nav_lon.values)\n",
    "    lat_plot = np.ma.masked_where(nemo_mesh.tmask.isel(nav_lev=0) != 0, nemo_mesh.nav_lat.values)\n",
    "    plot_var = np.ma.masked_where(nemo_mesh.tmask.isel(nav_lev=0) != 0, file_var.values)\n",
    "    return lon_plot, lat_plot, plot_var "
   ]
  },
  {
   "cell_type": "markdown",
   "id": "febd7424-a2b7-4abc-bb60-bc9459f48862",
   "metadata": {},
   "source": [
    "### Visualize regions of sea ice production"
   ]
  },
  {
   "cell_type": "code",
   "execution_count": null,
   "id": "2128a8de-72c9-4067-a95d-3003ddc41cbc",
   "metadata": {},
   "outputs": [],
   "source": [
    "# These indices are based on eANT025; eventually should generalize based on lat, lon\n",
    "mesh_sub  = nemo_mesh_ds.isel(x=slice(450, 900), y=slice(130,350), time_counter=0)\n",
    "\n",
    "fig, ax = plt.subplots(1,1, figsize=(12,8), subplot_kw={'projection': ccrs.Mercator(latitude_true_scale=-70)})\n",
    "ax.set_extent([-95, -160, -78, -67], ccrs.PlateCarree())\n",
    "gl = ax.gridlines(draw_labels=True);\n",
    "gl.xlines=None; gl.ylines=None; gl.top_labels=None; gl.right_labels=None;\n",
    "\n",
    "# lon_plt, lat_plt, var_plt = mask_land(mesh_sub, mesh_sub.bathy_metry)\n",
    "img = ax.pcolormesh(mesh_sub.nav_lon, mesh_sub.nav_lat, mesh_sub.bathy_metry, \n",
    "                    transform=ccrs.PlateCarree(), rasterized=True, cmap=cmocean.cm.deep, vmin=0, vmax=1200)\n",
    "cax = fig.add_axes([0.92, 0.25, 0.025, 0.5])    \n",
    "plt.colorbar(img, cax=cax, extend='both', label='Depth (m)')"
   ]
  },
  {
   "cell_type": "code",
   "execution_count": null,
   "id": "37d17297-cc67-4e1a-97af-e918b1d552d0",
   "metadata": {},
   "outputs": [],
   "source": [
    "# calculate annual cumulative sea ice production and compare with: https://agupubs.onlinelibrary.wiley.com/doi/epdf/10.1029/2007GL032903"
   ]
  },
  {
   "cell_type": "code",
   "execution_count": null,
   "id": "3ecff352-d0b1-42de-9e2f-6c42f065c691",
   "metadata": {},
   "outputs": [],
   "source": [
    "# ice_growth = xr.where(nemo_ds.vfxice >= 0, np.nan, (nemo_ds.time_counter.dt.days_in_month*3600*24)*nemo_ds.vfxice*nemo_ds.area)\n",
    "ice_growth = xr.where(nemo_ds.vfxice >= 0, np.nan, (nemo_ds.time_counter.dt.days_in_month*3600*24)*nemo_ds.vfxice)\n",
    "\n",
    "# monthly growth:\n",
    "ice_concentration = nemo_ds.siconc\n",
    "monthly_iceconc   = ice_concentration.groupby('time_counter.month').mean('time_counter')\n",
    "mean_monthly_iceconc = monthly_iceconc.assign_attrs({'long_name':'Monthly ice concentration'})\n",
    "\n",
    "# monthly growth:\n",
    "monthly_icegrowth   = ice_growth.groupby('time_counter.month').mean('time_counter')\n",
    "masked_monthly      = xr.where(monthly_icegrowth>0, np.nan, -1*monthly_icegrowth)\n",
    "mean_monthly_growth = masked_monthly.assign_attrs({'long_name':'Monthly ice growth (m/month)'})\n",
    "\n",
    "# average over full time series:\n",
    "annual_icegrowth   = ice_growth.groupby('time_counter.year').sum('time_counter')\n",
    "annual_maxicevol   = nemo_ds.sivolu.groupby('time_counter.year').max('time_counter')\n",
    "masked_annual      = xr.where(annual_icegrowth==0, np.nan, -1*annual_icegrowth)\n",
    "mean_annual_growth = masked_annual.mean('year').assign_attrs({'long_name':'Annual ice growth (m/year)'})\n",
    "\n",
    "# average 1992-2001 to compare with Tamura et al. (2008):\n",
    "Tamura_icegrowth = ice_growth.sel(time_counter=slice('1992-01-01', '2002-01-01')).groupby('time_counter.year').sum('time_counter')\n",
    "Tamura_ice_growth = xr.where(Tamura_icegrowth>=-4000, np.nan, -1*Tamura_icegrowth).mean('year')\n",
    "# (time_counter, y, x) long_name : ice-ocean mass flux from ice melt/growth (neg = growth)"
   ]
  },
  {
   "cell_type": "code",
   "execution_count": null,
   "id": "905a93b4-cb89-4d66-9170-84fb10ad866c",
   "metadata": {},
   "outputs": [],
   "source": [
    "fig, ax = plt.subplots(1,1, figsize=(6,4), dpi=300)\n",
    "circumpolar_plot(mean_annual_growth*1e-3, nemo_mesh_ds.isel(time_counter=0), ax=ax, make_cbar=True, return_fig=False, \\\n",
    "                 ctype=cmocean.cm.ice_r, lat_max=-52, vmin=0, vmax=8, title='Annual ice growth (m/year), mean full time series')\n",
    "# fig.savefig('/gws/nopw/j04/terrafirma/birgal/NEMO_AIS/figures/annual_ice_growth.jpg')"
   ]
  },
  {
   "cell_type": "code",
   "execution_count": null,
   "id": "30f30268-0475-4a5b-9d7c-55e8e6fb6d55",
   "metadata": {},
   "outputs": [],
   "source": [
    "fig, ax = plt.subplots(1,1, figsize=(13,10))\n",
    "circumpolar_plot(Tamura_ice_growth*1e-3, nemo_mesh_ds.isel(time_counter=0), ax=ax, make_cbar=True, return_fig=False, \\\n",
    "                 ctype='jet', lat_max=-65, vmin=4, vmax=16, title='Annual ice growth (m/year), mean 1992-2001')\n",
    "# kg/m2/year * 1e-3 m3 / kg = m/year"
   ]
  },
  {
   "cell_type": "code",
   "execution_count": null,
   "id": "5b0348fb-5fc9-4be5-979e-8467ca6ec580",
   "metadata": {},
   "outputs": [],
   "source": [
    "fig, ax = plt.subplots(1,1, figsize=(13,10))\n",
    "circumpolar_plot(Tamura_ice_growth*1e-3, nemo_mesh_ds.isel(time_counter=0), ax=ax, make_cbar=True, return_fig=False, \\\n",
    "                 ctype=cmocean.cm.ice_r, lat_max=-65, vmin=4, vmax=16, title='Annual ice growth (m/year), mean 1992-2001')\n",
    "# kg/m2/year * 1e-3 m3 / kg = m/year"
   ]
  },
  {
   "cell_type": "code",
   "execution_count": null,
   "id": "3bca8f2f-8e6b-42f3-ac43-f40a39943981",
   "metadata": {},
   "outputs": [],
   "source": [
    "fig, ax = plt.subplots(1,1, figsize=(20,8))\n",
    "masked_ice_growth.plot(ax=ax, cmap=cmocean.cm.ice_r, vmin=0, vmax=1e12, \\\n",
    "                       cbar_kwargs={'label':'Cumulative annual ice-ocean mass flux; growth (kg)', 'extend':'max'})\n",
    "ax.set_ylim(100,453)"
   ]
  },
  {
   "cell_type": "code",
   "execution_count": null,
   "id": "2ebde35d-4fc6-426c-97ca-1802c97184e0",
   "metadata": {},
   "outputs": [],
   "source": [
    "nemo_sub = nemo_mesh_ds.isel(time_counter=0,x=slice(450,900),y=slice(130,350))\n",
    "ice_sub  = mean_annual_growth.isel(x=slice(450,900),y=slice(130,350))*1e-3\n",
    "\n",
    "fig, ax = plt.subplots(1,1, figsize=(7,7), subplot_kw={'projection':ccrs.Mercator(latitude_true_scale=-70)})\n",
    "\n",
    "ax.set_extent([-100, -130, -75.5, -70], ccrs.PlateCarree())\n",
    "gl = ax.gridlines(draw_labels=True);\n",
    "gl.xlines=None; gl.ylines=None; gl.top_labels=None; gl.right_labels=None;\n",
    "\n",
    "lon_plt, lat_plt, var_plt    = plot_ocean(nemo_sub, ice_sub)\n",
    "lon_land, lat_land, land_plt = plot_land(nemo_sub, annual_icegrowth.isel(year=0, x=slice(450,900),y=slice(130,350)))\n",
    "img = ax.pcolormesh(lon_plt, lat_plt, var_plt, transform=ccrs.PlateCarree(), rasterized=True, cmap=cmocean.cm.ice, vmin=0, vmax=4)\n",
    "ax.pcolormesh(lon_land, lat_land, land_plt, transform=ccrs.PlateCarree(), rasterized=True, cmap=cl.ListedColormap(['DarkGrey']))\n",
    "# ax.set_title(title)\n",
    "        \n",
    "cax = fig.add_axes([0.92, 0.25, 0.025, 0.5])    \n",
    "plt.colorbar(img, cax=cax, extend='max', label='Cumulative annual ice growth (m/year)')"
   ]
  },
  {
   "cell_type": "code",
   "execution_count": null,
   "id": "f61f2f84-eca5-44b5-b1e8-8048bd97090e",
   "metadata": {},
   "outputs": [],
   "source": [
    "fig, ax = plt.subplots(4,3, figsize=(15,15), subplot_kw={'projection':ccrs.Mercator(latitude_true_scale=-70)})\n",
    "\n",
    "nemo_sub = nemo_mesh_ds.isel(time_counter=0,x=slice(450,900),y=slice(130,350))\n",
    "ice_sub  =  mean_monthly_iceconc.isel(x=slice(450,900),y=slice(130,350)) # mean_monthly_growth.isel(x=slice(450,900),y=slice(130,350))*1e-3\n",
    "\n",
    "for axis in ax.ravel():\n",
    "    axis.set_extent([-100, -130, -75.5, -70], ccrs.PlateCarree())\n",
    "    gl = axis.gridlines(draw_labels=True);\n",
    "    gl.xlines=None; gl.ylines=None; gl.top_labels=None; gl.right_labels=None;\n",
    "\n",
    "for n, axis in enumerate(ax.ravel()):l\n",
    "    lon_plt, lat_plt, var_plt    = plot_ocean(nemo_sub, ice_sub.isel(month=n))\n",
    "    lon_land, lat_land, land_plt = plot_land(nemo_sub, ice_sub.isel(month=0))\n",
    "    img = axis.pcolormesh(lon_plt, lat_plt, var_plt, transform=ccrs.PlateCarree(), rasterized=True, cmap=cmocean.cm.ice, vmin=0, vmax=1)\n",
    "    axis.pcolormesh(lon_land, lat_land, land_plt, transform=ccrs.PlateCarree(), rasterized=True, cmap=cl.ListedColormap(['DarkGrey']))\n",
    "    axis.set_title(f'Month: {n+1}')\n",
    "    \n",
    "cax = fig.add_axes([0.92, 0.5, 0.025, 0.4])    \n",
    "plt.colorbar(img, cax=cax, extend='max', label='Monthly ice concentration')"
   ]
  },
  {
   "cell_type": "markdown",
   "id": "348f88f0-e666-4aae-a121-9da183d70054",
   "metadata": {},
   "source": [
    "### Visualize annual sea ice formation cycle and interannual variation"
   ]
  },
  {
   "cell_type": "code",
   "execution_count": null,
   "id": "0be0fc83-dce1-4886-8268-3ff6da6c5aa4",
   "metadata": {},
   "outputs": [],
   "source": []
  },
  {
   "cell_type": "code",
   "execution_count": null,
   "id": "51ff4c31-5059-4c15-abe3-2e2bd1bc635e",
   "metadata": {},
   "outputs": [],
   "source": [
    "annual_maxicevol = nemo_ds.sivolu.groupby('time_counter.year').max('time_counter')"
   ]
  },
  {
   "cell_type": "code",
   "execution_count": null,
   "id": "5f514f89-5ba2-40c1-b339-62fbd528d7cb",
   "metadata": {},
   "outputs": [],
   "source": [
    "annual_maxicevol.isel(year=0).plot(figsize=(20,8), vmax=10)"
   ]
  },
  {
   "cell_type": "markdown",
   "id": "e5ca5d5d-4e22-48d1-aadc-f2a3589dd464",
   "metadata": {},
   "source": [
    "### Compare maximum interannual sea ice extent in the model and based on satellite (do the same for total ice area)\n",
    "\n",
    "1) Make function that identifies the 'continuous' ice edge for any particular month (plot on top of sea ice concencentration animation to check)\n",
    "2) Identify annual maxima in ice extent (based on total ice area?) and plot as outlines of ice edge on one figure\n",
    "3) Load similar information for satellite data"
   ]
  },
  {
   "cell_type": "code",
   "execution_count": null,
   "id": "66002b8e-685f-49cb-b967-68d6a8ebedf0",
   "metadata": {},
   "outputs": [],
   "source": [
    "# sea_ice_volume  = nemo_ds.sivolu * nemo_ds.area # sea-ice volume per area * area (not sure whether I still need to include the siconc fraction)\n",
    "sea_ice_area    = nemo_ds.siconc * nemo_ds.area \n",
    "sea_ice_area_15 = xr.where(nemo_ds.siconc >=0.15, nemo_ds.siconc * nemo_ds.area, 0)"
   ]
  },
  {
   "cell_type": "code",
   "execution_count": null,
   "id": "973c40cf-94c4-4931-ab91-8919b6f5a989",
   "metadata": {},
   "outputs": [],
   "source": [
    "# calculate maximum sea ice area by year\n",
    "# annual_seaice_area  = sea_ice_area.sum(['y','x']).groupby('time_counter.year')\n",
    "# monthly_seaice_area = sea_ice_area.sum(['y','x']).groupby('time_counter.month') \n",
    "\n",
    "annual_seaice_area_15  = sea_ice_area_15.sum(['y','x']).groupby('time_counter.year')\n",
    "# monthly_seaice_area_15 = sea_ice_area_15.sum(['y','x']).groupby('time_counter.month') "
   ]
  },
  {
   "cell_type": "code",
   "execution_count": null,
   "id": "40228836-142b-4607-928e-200e585729e7",
   "metadata": {},
   "outputs": [],
   "source": [
    "# load observations:\n",
    "# NSIDC uses a 15% threshold for area\n",
    "nsidc_files = glob.glob('/gws/nopw/j04/anthrofail/birgal/NEMO_AIS/NSIDC-obs/S_??_extent_v3.0.csv')\n",
    "nsidc_ds    = pd.concat((pd.read_csv(f) for f in nsidc_files), ignore_index=True)\n",
    "nsidc_ds.columns = list(map(str.lstrip, nsidc_ds)) # strip spaces from column names\n",
    "# clean data:\n",
    "nsidc_ds    = nsidc_ds.drop(nsidc_ds[nsidc_ds.year == 1978].index) # drop years with only partial data\n",
    "nsidc_ds    = nsidc_ds.drop(nsidc_ds[nsidc_ds.year == 2024].index)\n",
    "# nsidc_ds    = nsidc_ds.drop(nsidc_ds[nsidc_ds['area'] < 0].index)\n",
    "nsidc_ds.loc[nsidc_ds['area'] < 0, 'area'] = np.nan"
   ]
  },
  {
   "cell_type": "code",
   "execution_count": null,
   "id": "6883e320-b524-4730-9c72-077619e8d0b7",
   "metadata": {},
   "outputs": [],
   "source": [
    "nsidc_annual_max_area = nsidc_ds.groupby('year')['area'].max()\n",
    "nsidc_annual_min_area = nsidc_ds.groupby('year')['area'].min()\n",
    "# nsidc_annual_min_area = nsidc_annual_min_area.drop(nsidc_annual_min_area[nsidc_annual_min_area < 0].index)"
   ]
  },
  {
   "cell_type": "code",
   "execution_count": null,
   "id": "3d2b6fc2-81ab-4791-a8c3-614e75019692",
   "metadata": {},
   "outputs": [],
   "source": [
    "fig, ax = plt.subplots(1,1, figsize=(8, 5), dpi=100) \n",
    "ax.plot(annual_seaice_area_15.max()['year'], annual_seaice_area.max().values*1e-6*1e-6, label='eANT025 simulation')\n",
    "ax.plot(nsidc_annual_max_area, label='NSIDC Goddard and NRTSI-G')\n",
    "ax.set_ylabel('Annual maximum sea ice extent (millions of km2)')#\n",
    "ax.legend()"
   ]
  },
  {
   "cell_type": "code",
   "execution_count": null,
   "id": "9e5ff2bb-fb58-4908-beb1-384497f0d3f7",
   "metadata": {},
   "outputs": [],
   "source": [
    "fig, ax = plt.subplots(1,1, figsize=(8, 5), dpi=100) \n",
    "ax.plot(annual_seaice_area.min()['year'], annual_seaice_area.min().values*1e-6*1e-6, label='eANT025 simulation')\n",
    "ax.plot(nsidc_annual_min_area, label='NSIDC Goddard and NRTSI-G')\n",
    "ax.set_ylabel('Annual minimum sea ice extent (millions of km2)')\n",
    "ax.legend()"
   ]
  },
  {
   "cell_type": "code",
   "execution_count": null,
   "id": "2510e50a-2147-4926-8547-3abc0c0d6989",
   "metadata": {},
   "outputs": [],
   "source": [
    "months = np.arange(1,13,1)\n",
    "\n",
    "# Take colors at regular intervals spanning the colormap.\n",
    "cmap   = cmocean.cm.deep # matplotlib.cm.get_cmap('viridis')\n",
    "colors = cmap(np.linspace(0,1,len(range(1979,2016))))\n",
    "\n",
    "SIarea_years = sea_ice_area_15['time_counter.year']\n",
    "\n",
    "fig, ax = plt.subplots(1,1, figsize=(10, 5))#, dpi=200) \n",
    "ax.set_ylabel('Monthly sea ice area (millions of km2)')\n",
    "for y, year in enumerate(range(1979, 2016)):\n",
    "    SIarea_plot =  sea_ice_area_15.sum(['y','x'])[SIarea_years==year].values * 1e-6 * 1e-6\n",
    "    if y==30:\n",
    "        ax.plot(nsidc_ds[nsidc_ds['year']==year]['mo'], nsidc_ds[nsidc_ds['year']==year]['area'], label='NSIDC', \\\n",
    "                c='lightgray', linewidth=0.7, zorder=1);\n",
    "        ax.plot(months, SIarea_plot, c=colors[y], linewidth=0.7, zorder=2, label='Model simulation'); \n",
    "    else:        \n",
    "        ax.plot(nsidc_ds[nsidc_ds['year']==year]['mo'], nsidc_ds[nsidc_ds['year']==year]['area'], label='_nolegend_', \\\n",
    "                c='lightgray', linewidth=0.7, zorder=1);\n",
    "        ax.plot(months, SIarea_plot, c=colors[y], linewidth=0.7, zorder=2, label='_nolegend_');\n",
    "    \n",
    "ax.set_xticks(months, ['Jan', 'Feb', 'Mar', 'Apr', 'May', 'Jun', 'Jul', 'Aug', 'Sep', 'Oct', 'Nov', 'Dec']);\n",
    "leg = ax.legend()\n",
    "for line in leg.get_lines():\n",
    "    line.set_linewidth(2.0)\n",
    "sm = plt.cm.ScalarMappable(cmap=cmap, norm=plt.Normalize(vmin=1979, vmax=2015))\n",
    "fig.colorbar(sm, ax=ax, shrink=0.8)"
   ]
  },
  {
   "cell_type": "code",
   "execution_count": null,
   "id": "f89b17fb-4e0e-4cee-ab63-186fb53f9190",
   "metadata": {},
   "outputs": [],
   "source": [
    "# Take colors at regular intervals spanning the colormap.\n",
    "cmap   = cmocean.cm.thermal\n",
    "colors = cmap(np.linspace(0,1,len(range(1979,2016))))\n",
    "\n",
    "# plot monthly sea ice volume as circle for each year in the timeseries (color corresponds to year)\n",
    "SIarea = sea_ice_area_15.sum(['y','x'])*1e-6*1e-6\n",
    "SIarea_years = sea_ice_area_15['time_counter.year']\n",
    "theta = np.linspace(0, 2*np.pi, 13)\n",
    "\n",
    "# Take colors at regular intervals spanning the colormap.\n",
    "cmap   = cmocean.cm.thermal\n",
    "colors = cmap(np.linspace(0,1,len(range(1979,2016))))\n",
    "\n",
    "# Polar Plot \n",
    "fig, ax = plt.subplots(1,1, figsize=(8, 8), subplot_kw={'projection': 'polar'}, dpi=200) \n",
    "for y, year in enumerate(range(1979, 2016)):\n",
    "    nsidc_theta = np.append(0, (2*np.pi/12)*nsidc_ds[nsidc_ds['year']==year]['mo'])\n",
    "    if year==2015:\n",
    "        SIarea_plot = SIarea[SIarea_years==year].values\n",
    "        ax.plot(nsidc_theta[0:-1], nsidc_ds[nsidc_ds['year']==year]['area'], label='NSIDC Goddard and NRTSI-G', \\\n",
    "                c='lightgray', linewidth=0.7, zorder=1);\n",
    "        ax.plot(theta[0:-1], SIarea_plot, c=colors[y], linewidth=0.7, zorder=2, label='eANT025 simulation');\n",
    "    else:\n",
    "        SIarea_plot = np.append(SIarea[SIarea_years==year].values, SIarea[SIarea_years==year+1].values[0])\n",
    "        nsidc_plot  = np.append(nsidc_ds[nsidc_ds['year']==year]['area'], \\\n",
    "                                nsidc_ds[(nsidc_ds['year']==year+1)*(nsidc_ds['mo']==1)]['area'])\n",
    "        ax.plot(nsidc_theta, nsidc_plot, c='lightgray', linewidth=0.7, zorder=1, label='_nolegend_');\n",
    "        ax.plot(theta, SIarea_plot, c=colors[y], linewidth=0.7, zorder=2, label='_nolegend_'); \n",
    "    \n",
    "ax.set_xticks(theta, ['Jan', 'Feb', 'Mar', 'Apr', 'May', 'Jun', 'Jul', 'Aug', 'Sep', 'Oct', 'Nov', 'Dec', 'Jan']);\n",
    "\n",
    "sm = plt.cm.ScalarMappable(cmap=cmap, norm=plt.Normalize(vmin=1979, vmax=2015))\n",
    "fig.colorbar(sm, ax=ax, shrink=0.8)\n",
    "leg = ax.legend(loc=(0.7, 1.1), frameon=False)\n",
    "for line in leg.get_lines():\n",
    "    line.set_linewidth(3.0)\n",
    "\n",
    "ax.set_title('Monthly sea-ice area (millions of km2)')"
   ]
  },
  {
   "cell_type": "code",
   "execution_count": null,
   "id": "b7cf5e8c-200b-4277-947a-94a320c61e98",
   "metadata": {},
   "outputs": [],
   "source": [
    "# plot monthly sea ice volume as circle for each year in the timeseries (color corresponds to year)\n",
    "SIvol = sea_ice_volume.sum(['y','x'])\n",
    "SIvol_years = sea_ice_volume['time_counter.year']\n",
    "theta = np.linspace(0, 2*np.pi, 13)\n",
    "\n",
    "# Take colors at regular intervals spanning the colormap.\n",
    "cmap   = cmocean.cm.thermal\n",
    "colors = cmap(np.linspace(0,1,len(range(1979,2016))))\n",
    "\n",
    "# Polar Plot \n",
    "fig, ax = plt.subplots(1,1, figsize=(8, 8), subplot_kw={'projection': 'polar'}, dpi=200) \n",
    "for y, year in enumerate(range(1979, 2016)):\n",
    "    if year==2015:\n",
    "        SIvol_plot = SIvol[SIvol_years==year].values\n",
    "        ax.plot(theta[0:-1], SIvol_plot, c=colors[y], linewidth=0.7);\n",
    "    else:\n",
    "        SIvol_plot =  np.append(SIvol[SIvol_years==year].values, SIvol[SIvol_years==year+1].values[0])\n",
    "        ax.plot(theta, SIvol_plot, c=colors[y], linewidth=0.7); \n",
    "    \n",
    "ax.set_xticks(theta, ['Jan', 'Feb', 'Mar', 'Apr', 'May', 'Jun', 'Jul', 'Aug', 'Sep', 'Oct', 'Nov', 'Dec', 'Jan']);\n",
    "\n",
    "sm = plt.cm.ScalarMappable(cmap=cmap, norm=plt.Normalize(vmin=1979, vmax=2015))\n",
    "fig.colorbar(sm, ax=ax, shrink=0.8)\n",
    "\n",
    "ax.set_title('Monthly sea-ice volume (m3)')\n",
    "# Set y-axis limit to accommodate the data \n",
    "# ax.set_ylim(0, radii.max() + 10) "
   ]
  },
  {
   "cell_type": "markdown",
   "id": "b4f7e1ca-8746-4cc3-a5fd-5dbd7ca3b123",
   "metadata": {},
   "source": [
    "### Visualize sea ice production and concentration for the Amundsen Sea\n",
    "Evaluate seasonality and area with: https://tc.copernicus.org/articles/17/457/2023/tc-17-457-2023.pdf"
   ]
  },
  {
   "cell_type": "code",
   "execution_count": null,
   "id": "5b50482f-7bbf-4618-a05c-1ecb349db6aa",
   "metadata": {},
   "outputs": [],
   "source": [
    "nemo_ds.siconc"
   ]
  },
  {
   "cell_type": "code",
   "execution_count": null,
   "id": "74f960ff-1584-4ae0-aece-d4c6d0c15d7d",
   "metadata": {},
   "outputs": [],
   "source": [
    "# ice_growth = xr.where(nemo_ds.vfxice >= 0, np.nan, (nemo_ds.time_counter.dt.days_in_month*3600*24)*nemo_ds.vfxice*nemo_ds.area)\n",
    "ice_conc = xr.where(nemo_ds.vfxice >= 0, np.nan, (nemo_ds.time_counter.dt.days_in_month*3600*24)*nemo_ds.vfxice)\n",
    "\n",
    "# average over full time series:\n",
    "annual_icegrowth = ice_growth.groupby('time_counter.year').sum('time_counter')\n",
    "annual_maxicevol = nemo_ds.sivolu.groupby('time_counter.year').max('time_counter')\n",
    "masked_ice_growth = xr.where(annual_ice_growth==0, np.nan, -1*annual_ice_growth)"
   ]
  },
  {
   "cell_type": "code",
   "execution_count": null,
   "id": "56646f41-f0f8-4bf7-90c4-35b832f89edf",
   "metadata": {},
   "outputs": [],
   "source": [
    "def plot_amundsen_sea(fig, ax, var, title=None, ctype=cmocean.cm.ice, vlim=(0,1), nemo_mesh=nemo_mesh_ds, labelname=''):\n",
    "    \n",
    "    ax.set_extent([-95, -130, -75.5, -70], ccrs.PlateCarree())\n",
    "    gl = ax.gridlines(draw_labels=True);\n",
    "    gl.xlines=None; gl.ylines=None; gl.top_labels=None; gl.right_labels=None;\n",
    "\n",
    "    lon_plt, lat_plt, var_plt    = plot_ocean(nemo_mesh, var)\n",
    "    lon_land, lat_land, land_plt = plot_land(nemo_mesh, var)\n",
    "    img = ax.pcolormesh(lon_plt, lat_plt, var_plt, transform=ccrs.PlateCarree(), rasterized=True, cmap=ctype, vmin=vlim[0], vmax=vlim[1])\n",
    "    ax.pcolormesh(lon_land, lat_land, land_plt, transform=ccrs.PlateCarree(), rasterized=True, cmap=cl.ListedColormap(['DarkGrey']))\n",
    "    ax.set_title(title)\n",
    "        \n",
    "    cax = fig.add_axes([0.92, 0.72, 0.025, 0.15])    \n",
    "    plt.colorbar(img, cax=cax, extend='both', label=labelname)\n",
    "    \n",
    "    return fig, ax"
   ]
  },
  {
   "cell_type": "code",
   "execution_count": null,
   "id": "59562c5a-7a02-4a18-b561-c05271a19f3c",
   "metadata": {},
   "outputs": [],
   "source": [
    "nemo_sub = nemo_mesh_ds.isel(x=slice(450, 900), y=slice(130,350), time_counter=0)"
   ]
  },
  {
   "cell_type": "code",
   "execution_count": null,
   "id": "66412995-85ba-4609-95d4-b1eac2dd277f",
   "metadata": {},
   "outputs": [],
   "source": [
    "fig, ax = plt.subplots(4,3, figsize=(15,15), subplot_kw={'projection':ccrs.Mercator(latitude_true_scale=-70)})\n",
    "\n",
    "plot_amundsen_sea(fig, ax[0,0], var.isel(time_counter=0, x=slice(450, 900), y=slice(130,350)), title='Month 1', nemo_mesh=nemo_sub)"
   ]
  },
  {
   "cell_type": "code",
   "execution_count": null,
   "id": "7e8352db-9bbb-4d69-b02e-da425076b2b1",
   "metadata": {},
   "outputs": [],
   "source": [
    "fig, ax = plt.subplots(4,3, figsize=(15,15), subplot_kw={'projection':ccrs.Mercator(latitude_true_scale=-70)})\n",
    "\n",
    "for axis in ax.ravel():\n",
    "    axis.set_extent([-95, -130, -75.5, -70], ccrs.PlateCarree())\n",
    "    gl = axis.gridlines(draw_labels=True);\n",
    "    gl.xlines=None; gl.ylines=None; gl.top_labels=None; gl.right_labels=None;\n",
    "\n",
    "for month in range(0,12):\n",
    "    lon_plt, lat_plt, var_plt    = mask_land(mesh_sub, sea_ice_ds.siconc.isel(time_counter=month, x=slice(450, 900), y=slice(130,350)))\n",
    "    lon_land, lat_land, land_plt = plot_land(mesh_sub, sea_ice_ds.siconc.isel(time_counter=month, x=slice(450, 900), y=slice(130,350)))\n",
    "    img = ax.ravel()[month].pcolormesh(lon_plt, lat_plt, var_plt, transform=ccrs.PlateCarree(), rasterized=True, cmap=cmocean.cm.ice, vmin=0, vmax=1)\n",
    "    ax.ravel()[month].pcolormesh(lon_land, lat_land, land_plt, transform=ccrs.PlateCarree(), rasterized=True, cmap=cl.ListedColormap(['DarkGrey']))\n",
    "    ax.ravel()[month].set_title(f'Month: {month+1}')\n",
    "    \n",
    "cax = fig.add_axes([0.92, 0.72, 0.025, 0.15])    \n",
    "plt.colorbar(img, cax=cax, extend='both', label=sea_ice_ds.siconc.long_name)"
   ]
  },
  {
   "cell_type": "code",
   "execution_count": null,
   "id": "c85a3c04-a747-4e23-8a24-2e6f251eb5b4",
   "metadata": {},
   "outputs": [],
   "source": []
  },
  {
   "cell_type": "code",
   "execution_count": null,
   "id": "b38571a8-d14d-4e88-94ce-ef6d45cac253",
   "metadata": {},
   "outputs": [],
   "source": []
  }
 ],
 "metadata": {
  "kernelspec": {
   "display_name": "Python 3 + Jaspy",
   "language": "python",
   "name": "jaspy"
  },
  "language_info": {
   "codemirror_mode": {
    "name": "ipython",
    "version": 3
   },
   "file_extension": ".py",
   "mimetype": "text/x-python",
   "name": "python",
   "nbconvert_exporter": "python",
   "pygments_lexer": "ipython3",
   "version": "3.11.9"
  }
 },
 "nbformat": 4,
 "nbformat_minor": 5
}
