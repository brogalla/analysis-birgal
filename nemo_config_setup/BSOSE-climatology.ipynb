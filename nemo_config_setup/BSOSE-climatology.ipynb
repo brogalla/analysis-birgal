{
 "cells": [
  {
   "cell_type": "markdown",
   "id": "5d7ccfc3",
   "metadata": {},
   "source": [
    "### Make boundary conditions for present day experiment\n",
    "\n",
    "Based on observations from B-SOSE (http://sose.ucsd.edu/)"
   ]
  },
  {
   "cell_type": "code",
   "execution_count": 1,
   "id": "509cf3a0",
   "metadata": {},
   "outputs": [],
   "source": [
    "import numpy as np\n",
    "import xarray as xr"
   ]
  },
  {
   "cell_type": "markdown",
   "id": "e17af149",
   "metadata": {},
   "source": [
    "### Create climatology of variables"
   ]
  },
  {
   "cell_type": "code",
   "execution_count": 7,
   "id": "bed2cd33",
   "metadata": {},
   "outputs": [
    {
     "name": "stdout",
     "output_type": "stream",
     "text": [
      "1\n",
      "2\n",
      "3\n",
      "4\n",
      "5\n",
      "6\n",
      "7\n",
      "8\n",
      "9\n",
      "10\n",
      "11\n",
      "12\n"
     ]
    }
   ],
   "source": [
    "folder_in = '/gws/nopw/j04/terrafirma/birgal/NEMO_AIS/B-SOSE/'\n",
    "SOSE_var = xr.open_dataset(f'{folder_in}SeaIceHeff_bsoseI139_2013to2021_5dy.nc')\n",
    "\n",
    "for month in range(1,13):\n",
    "    print(month)\n",
    "    var_mean = SOSE_var.isel(time=(SOSE_var.time.dt.month == month)).mean(dim='time')\n",
    "    var_mean.to_netcdf(f'{folder_in}/climatology/SeaIceHeff_climatology_m{month:02}.nc')"
   ]
  },
  {
   "cell_type": "code",
   "execution_count": null,
   "id": "2aaa8aed",
   "metadata": {},
   "outputs": [],
   "source": [
    "def create_climatology(in_file, out_file, freq='monthly'):\n",
    "    ds_in  = xr.open_dataset(in_file)\n",
    "    if freq=='monthly':\n",
    "        for month in range(1,13):\n",
    "            var_mean = ds_in.isel(time=(ds_in.time.dt.month == month)).mean(dim='time')\n",
    "            ds_out.to_netcdf(out_file)\n",
    "    return"
   ]
  }
 ],
 "metadata": {
  "kernelspec": {
   "display_name": "jaspy3.10",
   "language": "python",
   "name": "jaspy3.10"
  },
  "language_info": {
   "codemirror_mode": {
    "name": "ipython",
    "version": 3
   },
   "file_extension": ".py",
   "mimetype": "text/x-python",
   "name": "python",
   "nbconvert_exporter": "python",
   "pygments_lexer": "ipython3",
   "version": "3.10.5"
  }
 },
 "nbformat": 4,
 "nbformat_minor": 5
}
