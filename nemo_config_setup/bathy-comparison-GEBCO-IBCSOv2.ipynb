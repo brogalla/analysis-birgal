{
 "cells": [
  {
   "cell_type": "markdown",
   "id": "0e4ee97f-f3a7-4fa7-a8af-f95058c2e67e",
   "metadata": {},
   "source": [
    "# Comparison of BedMachine3 filled with GEBCO vs IBCSOv2"
   ]
  },
  {
   "cell_type": "code",
   "execution_count": 3,
   "id": "4fd169cd-ffcf-496e-a7b7-a11f3ad9527a",
   "metadata": {},
   "outputs": [],
   "source": [
    "import numpy as np\n",
    "import xarray as xr\n",
    "import matplotlib.pyplot as plt\n",
    "import cartopy.crs as ccrs\n",
    "import matplotlib.path as mpath\n",
    "import cmocean\n",
    "import pickle"
   ]
  },
  {
   "cell_type": "markdown",
   "id": "06c57e8f-71dd-4814-8e6a-12bff36c6ebb",
   "metadata": {},
   "source": [
    "### Functions"
   ]
  },
  {
   "cell_type": "code",
   "execution_count": 4,
   "id": "b3f304c9-c548-4933-bcf0-f195112c17db",
   "metadata": {},
   "outputs": [],
   "source": [
    "def prepare_plot(figsize=(15, 15), dpi=300):\n",
    "    \"\"\"This function returns prepared axes for the polar plot.\n",
    "    \n",
    "    Usage:\n",
    "        fig, ax = prepare_plot()\n",
    "    \"\"\"\n",
    "    fig = plt.figure(figsize=figsize)\n",
    "    ax = plt.axes(projection=ccrs.SouthPolarStereo())\n",
    "    ax.set_extent([-180, 180, -90, -50], ccrs.PlateCarree())\n",
    "    ax.set_boundary(map_circle, transform=ax.transAxes)\n",
    "    # ax.coastlines(); \n",
    "    gl = ax.gridlines(draw_labels=True, ylocs=[]);#, color='w', lw=2);\n",
    "    return fig, ax"
   ]
  },
  {
   "cell_type": "markdown",
   "id": "8b0bace8-7c80-4d43-a82b-fc07314920da",
   "metadata": {},
   "source": [
    "### Load files"
   ]
  },
  {
   "cell_type": "code",
   "execution_count": null,
   "id": "501cf7f1-9773-4aec-b97d-0d4f06f04272",
   "metadata": {},
   "outputs": [],
   "source": [
    "coord      = xr.open_dataset('/home/users/birgal/data/bathymetry/coordinates_AIS.nc').squeeze()\n",
    "Bed_IBCSO  = xr.open_dataset('/home/users/birgal/data/bathymetry/eORCA025_BedMachine3_IBCSO_AIS.nc')\n",
    "Bed_GEBCO  = xr.open_dataset('/home/users/birgal/data/bathymetry/eORCA025_BedMachine3_GEBCO_AIS.nc')\n",
    "# bed   = xr.open_dataset('/gws/nopw/j04/terrafirma/kaight/input_data/topo/BedMachineAntarctica-v3.nc')\n",
    "# BedMachine = xr.open_dataset('/home/users/birgal/eORCA025_BedMachine3_AIS.nc')\n",
    "# IBCSO      = xr.open_dataset('/home/users/birgal/data/input_data/topo/IBCSO_v2_bed_WGS84.nc')\n",
    "# Bed_IBCSOt = xr.open_dataset('/home/users/birgal/eORCA025_BedMachine3_IBCSO_AIS_test.nc')"
   ]
  },
  {
   "cell_type": "code",
   "execution_count": null,
   "id": "a75d7922-b63b-48b8-b31f-fae45c22ab0d",
   "metadata": {},
   "outputs": [],
   "source": [
    "# Load polygon from disc\n",
    "with open('/home/users/birgal/data/IBCSO_isobath_1000m_polygon', \"rb\") as poly_file:\n",
    "    isobath_1000m_polygon = pickle.load(poly_file)"
   ]
  },
  {
   "cell_type": "markdown",
   "id": "295af5ca-7fc7-41d5-8a5a-1a3ac1f0109b",
   "metadata": {},
   "source": [
    "### Main"
   ]
  },
  {
   "cell_type": "code",
   "execution_count": 3,
   "id": "3e65ff75-54ab-4561-94f8-3eb8bb5c90c5",
   "metadata": {},
   "outputs": [],
   "source": [
    "# Definitions used for plotting\n",
    "\n",
    "# To make circular maps:\n",
    "theta = np.linspace(0, 2*np.pi, 100)\n",
    "map_circle = mpath.Path(np.vstack([np.sin(theta), np.cos(theta)]).T * 0.5 + [0.5, 0.5])\n",
    "\n",
    "# Isobath 2000 m polygon\n",
    "x_iso, y_iso = isobath_1000m_polygon.exterior.xy\n",
    "x_iso1 = np.ma.masked_where(np.array(x_iso) < 0, np.array(x_iso)) # need to separate longitudes because otherwise matplotlib plotting artifact\n",
    "y_iso1 = np.ma.masked_where(np.array(x_iso) < 0, np.array(y_iso))\n",
    "x_iso2 = np.ma.masked_where(np.array(x_iso) >= 0, np.array(x_iso))\n",
    "y_iso2 = np.ma.masked_where(np.array(x_iso) >= 0, np.array(y_iso))"
   ]
  },
  {
   "cell_type": "markdown",
   "id": "fc690b6a-5a02-449d-9f69-b979760ddafd",
   "metadata": {},
   "source": [
    "#### BedMachinev3 filled with IBCSOv2 versus GEBCO\n",
    "\n",
    "Povl & Emma suggest GEBCO is probably more reliable overall, but BedMachine3 uses IBCSOv1, so it may be more consistent to use IBCSO to fill the gaps from BedMachine3. I plot the difference between the model bathymetries produced with the two different fill datasets below."
   ]
  },
  {
   "cell_type": "code",
   "execution_count": null,
   "id": "5fc15d37-ebe5-4bad-a4c7-99034a7c78ac",
   "metadata": {},
   "outputs": [],
   "source": [
    "fig, ax = plt.subplots(1,3, figsize=(20,15), subplot_kw={'projection': ccrs.SouthPolarStereo()})#, dpi=1000)\n",
    "\n",
    "x, y = np.meshgrid(IBCSO['lon'], IBCSO['lat'])\n",
    "for axis in ax.ravel():\n",
    "    axis.set_extent([-180, 180, -90, -50], ccrs.PlateCarree())\n",
    "    axis.set_boundary(map_circle, transform=axis.transAxes)\n",
    "    gl = axis.gridlines(draw_labels=True, ylocs=[]);\n",
    "    # add 2000 m isobath contour to each of the plots \n",
    "    axis.plot(x_iso1, y_iso1, c='k', zorder=4, linewidth=1.2, transform=ccrs.PlateCarree())\n",
    "    axis.plot(x_iso2, y_iso2, c='k', zorder=4, linewidth=1.2, transform=ccrs.PlateCarree())\n",
    "\n",
    "ax[0].set_title('BedMachine bathy filled with IBCSOv2')\n",
    "ax[1].set_title('BedMachine bathy filled with GEBCO')\n",
    "ax[2].set_title('IBCSOv2 minus GEBCO')\n",
    "\n",
    "# Separated bathymetries:\n",
    "kwags={'transform':ccrs.PlateCarree(), 'vmin':-6000, 'vmax':0, 'cmap':cmocean.cm.deep_r, 'rasterized':True}\n",
    "cm1 = ax[0].pcolormesh(coord['nav_lon'][0:453,:],coord['nav_lat'][0:453,:], Bed_IBCSO['bathy'], **kwags);\n",
    "cm2 = ax[1].pcolormesh(coord['nav_lon'][0:453,:],coord['nav_lat'][0:453,:], Bed_GEBCO['bathy'], **kwags);\n",
    "\n",
    "# Difference between the bathymetries:\n",
    "Bed_IBCSO_plot = xr.where(np.isnan(Bed_IBCSO['bathy']), 0, Bed_IBCSO['bathy'])\n",
    "Bed_GEBCO_plot = xr.where(np.isnan(Bed_GEBCO['bathy']), 0, Bed_GEBCO['bathy'])\n",
    "cm3 = ax[2].pcolormesh(coord['nav_lon'][0:453,:], coord['nav_lat'][0:453,:], Bed_IBCSO_plot - Bed_GEBCO_plot, \n",
    "                       cmap=cmocean.cm.balance, transform=ccrs.PlateCarree(), vmin=-2, vmax=2, rasterized=True);\n",
    "\n",
    "CB = fig.colorbar(cm3, ax=ax[2], fraction=0.04)\n",
    "fig.set_facecolor('white')\n",
    "# fig.savefig('/home/users/birgal/data/input_data/topo/BedMachine_IBCSOv2_combined_NEMO.pdf', format='pdf')"
   ]
  },
  {
   "cell_type": "code",
   "execution_count": null,
   "id": "8d9f270a-b1c0-480a-ba38-18abb47479f4",
   "metadata": {},
   "outputs": [],
   "source": []
  },
  {
   "cell_type": "code",
   "execution_count": null,
   "id": "9e4f748b-631c-405c-8eef-fa0a17a4506b",
   "metadata": {},
   "outputs": [],
   "source": []
  }
 ],
 "metadata": {
  "kernelspec": {
   "display_name": "Python 3 + Jaspy",
   "language": "python",
   "name": "jaspy"
  },
  "language_info": {
   "codemirror_mode": {
    "name": "ipython",
    "version": 3
   },
   "file_extension": ".py",
   "mimetype": "text/x-python",
   "name": "python",
   "nbconvert_exporter": "python",
   "pygments_lexer": "ipython3",
   "version": "3.10.5"
  }
 },
 "nbformat": 4,
 "nbformat_minor": 5
}
