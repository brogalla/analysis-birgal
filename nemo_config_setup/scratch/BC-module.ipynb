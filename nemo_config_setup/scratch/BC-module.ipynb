{
 "cells": [
  {
   "cell_type": "markdown",
   "id": "5d7ccfc3",
   "metadata": {},
   "source": [
    "### Make boundary conditions for present day experiment\n",
    "\n",
    "Based on observations from B-SOSE (http://sose.ucsd.edu/)"
   ]
  },
  {
   "cell_type": "code",
   "execution_count": 1,
   "id": "509cf3a0",
   "metadata": {},
   "outputs": [],
   "source": [
    "import numpy as np\n",
    "import matplotlib.pyplot as plt\n",
    "import xarray as xr\n",
    "import cartopy.crs as ccrs\n",
    "import cmocean\n",
    "import tqdm\n",
    "import gsw\n",
    "import sys\n",
    "sys.path.append('/home/users/birgal/')\n",
    "from nemo_python.ics_obcs import create_bcs"
   ]
  },
  {
   "cell_type": "markdown",
   "id": "cc4e55d6-4acb-4998-bbfd-59eb7e9633a7",
   "metadata": {},
   "source": [
    "## Main"
   ]
  },
  {
   "cell_type": "code",
   "execution_count": 4,
   "id": "570c6897-884e-43b7-a520-16a91acbc07a",
   "metadata": {},
   "outputs": [
    {
     "name": "stdout",
     "output_type": "stream",
     "text": [
      "1\n",
      "---- Creating NEMO boundary conditions for variable THETA from SOSE ----\n",
      "Converting THETA to TEOS10\n",
      "Note: to convert potential temperature to conservative temperature, TEOS10 uses absolute salinity. Make sure a salinity file is specified.\n",
      "Horizontally interpolating variable THETA at each depth level from SOSE to NEMO grid\n"
     ]
    },
    {
     "name": "stderr",
     "output_type": "stream",
     "text": [
      "100%|██████████| 52/52 [00:10<00:00,  5.15it/s]\n"
     ]
    },
    {
     "name": "stdout",
     "output_type": "stream",
     "text": [
      "Vertically interpolating variable THETA\n"
     ]
    },
    {
     "name": "stderr",
     "output_type": "stream",
     "text": [
      "100%|██████████| 121/121 [00:40<00:00,  2.95it/s]\n"
     ]
    },
    {
     "name": "stdout",
     "output_type": "stream",
     "text": [
      "Filling gaps with connected nearest neighbours\n"
     ]
    },
    {
     "name": "stderr",
     "output_type": "stream",
     "text": [
      "  8%|▊         | 8/100 [00:00<00:01, 75.44it/s]"
     ]
    },
    {
     "name": "stdout",
     "output_type": "stream",
     "text": [
      "4583\n",
      "3095\n",
      "2232\n",
      "1618\n",
      "1171\n",
      "861\n",
      "639\n",
      "518\n",
      "415\n",
      "321\n",
      "236\n",
      "162\n",
      "104\n",
      "63\n",
      "37\n",
      "19\n",
      "18\n"
     ]
    },
    {
     "name": "stderr",
     "output_type": "stream",
     "text": [
      " 17%|█▋        | 17/100 [00:00<00:01, 79.85it/s]\n"
     ]
    },
    {
     "name": "stdout",
     "output_type": "stream",
     "text": [
      "Previous loop was unable to fill more missing values, so filled with constant 0\n",
      "0\n",
      "Completed filling missing values\n",
      "2\n",
      "---- Creating NEMO boundary conditions for variable THETA from SOSE ----\n",
      "Converting THETA to TEOS10\n",
      "Note: to convert potential temperature to conservative temperature, TEOS10 uses absolute salinity. Make sure a salinity file is specified.\n",
      "Horizontally interpolating variable THETA at each depth level from SOSE to NEMO grid\n"
     ]
    },
    {
     "name": "stderr",
     "output_type": "stream",
     "text": [
      "100%|██████████| 52/52 [00:09<00:00,  5.42it/s]\n"
     ]
    },
    {
     "name": "stdout",
     "output_type": "stream",
     "text": [
      "Vertically interpolating variable THETA\n"
     ]
    },
    {
     "name": "stderr",
     "output_type": "stream",
     "text": [
      "100%|██████████| 121/121 [00:41<00:00,  2.90it/s]\n"
     ]
    },
    {
     "name": "stdout",
     "output_type": "stream",
     "text": [
      "Filling gaps with connected nearest neighbours\n"
     ]
    },
    {
     "name": "stderr",
     "output_type": "stream",
     "text": [
      "  8%|▊         | 8/100 [00:00<00:01, 75.41it/s]"
     ]
    },
    {
     "name": "stdout",
     "output_type": "stream",
     "text": [
      "4583\n",
      "3095\n",
      "2232\n",
      "1618\n",
      "1171\n",
      "861\n",
      "639\n",
      "518\n",
      "415\n",
      "321\n",
      "236\n",
      "162\n",
      "104\n",
      "63\n",
      "37\n",
      "19\n",
      "18\n"
     ]
    },
    {
     "name": "stderr",
     "output_type": "stream",
     "text": [
      " 17%|█▋        | 17/100 [00:00<00:01, 80.87it/s]\n"
     ]
    },
    {
     "name": "stdout",
     "output_type": "stream",
     "text": [
      "Previous loop was unable to fill more missing values, so filled with constant 0\n",
      "0\n",
      "Completed filling missing values\n",
      "3\n",
      "---- Creating NEMO boundary conditions for variable THETA from SOSE ----\n",
      "Converting THETA to TEOS10\n",
      "Note: to convert potential temperature to conservative temperature, TEOS10 uses absolute salinity. Make sure a salinity file is specified.\n",
      "Horizontally interpolating variable THETA at each depth level from SOSE to NEMO grid\n"
     ]
    },
    {
     "name": "stderr",
     "output_type": "stream",
     "text": [
      "100%|██████████| 52/52 [00:09<00:00,  5.32it/s]\n"
     ]
    },
    {
     "name": "stdout",
     "output_type": "stream",
     "text": [
      "Vertically interpolating variable THETA\n"
     ]
    },
    {
     "name": "stderr",
     "output_type": "stream",
     "text": [
      "100%|██████████| 121/121 [00:42<00:00,  2.86it/s]\n"
     ]
    },
    {
     "name": "stdout",
     "output_type": "stream",
     "text": [
      "Filling gaps with connected nearest neighbours\n"
     ]
    },
    {
     "name": "stderr",
     "output_type": "stream",
     "text": [
      "  8%|▊         | 8/100 [00:00<00:01, 78.02it/s]"
     ]
    },
    {
     "name": "stdout",
     "output_type": "stream",
     "text": [
      "4583\n",
      "3095\n",
      "2232\n",
      "1618\n",
      "1171\n",
      "861\n",
      "639\n",
      "518\n",
      "415\n",
      "321\n",
      "236\n",
      "162\n",
      "104\n",
      "63\n",
      "37\n",
      "19\n",
      "18\n"
     ]
    },
    {
     "name": "stderr",
     "output_type": "stream",
     "text": [
      " 17%|█▋        | 17/100 [00:00<00:01, 82.80it/s]\n"
     ]
    },
    {
     "name": "stdout",
     "output_type": "stream",
     "text": [
      "Previous loop was unable to fill more missing values, so filled with constant 0\n",
      "0\n",
      "Completed filling missing values\n",
      "4\n",
      "---- Creating NEMO boundary conditions for variable THETA from SOSE ----\n",
      "Converting THETA to TEOS10\n",
      "Note: to convert potential temperature to conservative temperature, TEOS10 uses absolute salinity. Make sure a salinity file is specified.\n",
      "Horizontally interpolating variable THETA at each depth level from SOSE to NEMO grid\n"
     ]
    },
    {
     "name": "stderr",
     "output_type": "stream",
     "text": [
      "100%|██████████| 52/52 [00:09<00:00,  5.29it/s]\n"
     ]
    },
    {
     "name": "stdout",
     "output_type": "stream",
     "text": [
      "Vertically interpolating variable THETA\n"
     ]
    },
    {
     "name": "stderr",
     "output_type": "stream",
     "text": [
      "100%|██████████| 121/121 [00:41<00:00,  2.91it/s]\n"
     ]
    },
    {
     "name": "stdout",
     "output_type": "stream",
     "text": [
      "Filling gaps with connected nearest neighbours\n"
     ]
    },
    {
     "name": "stderr",
     "output_type": "stream",
     "text": [
      "  8%|▊         | 8/100 [00:00<00:01, 76.15it/s]"
     ]
    },
    {
     "name": "stdout",
     "output_type": "stream",
     "text": [
      "4583\n",
      "3095\n",
      "2232\n",
      "1618\n",
      "1171\n",
      "861\n",
      "639\n",
      "518\n",
      "415\n",
      "321\n",
      "236\n",
      "162\n",
      "104\n",
      "63\n",
      "37\n",
      "19\n",
      "18\n"
     ]
    },
    {
     "name": "stderr",
     "output_type": "stream",
     "text": [
      " 17%|█▋        | 17/100 [00:00<00:01, 82.74it/s]\n"
     ]
    },
    {
     "name": "stdout",
     "output_type": "stream",
     "text": [
      "Previous loop was unable to fill more missing values, so filled with constant 0\n",
      "0\n",
      "Completed filling missing values\n",
      "5\n",
      "---- Creating NEMO boundary conditions for variable THETA from SOSE ----\n",
      "Converting THETA to TEOS10\n",
      "Note: to convert potential temperature to conservative temperature, TEOS10 uses absolute salinity. Make sure a salinity file is specified.\n",
      "Horizontally interpolating variable THETA at each depth level from SOSE to NEMO grid\n"
     ]
    },
    {
     "name": "stderr",
     "output_type": "stream",
     "text": [
      "100%|██████████| 52/52 [00:09<00:00,  5.30it/s]\n"
     ]
    },
    {
     "name": "stdout",
     "output_type": "stream",
     "text": [
      "Vertically interpolating variable THETA\n"
     ]
    },
    {
     "name": "stderr",
     "output_type": "stream",
     "text": [
      "100%|██████████| 121/121 [00:41<00:00,  2.95it/s]\n"
     ]
    },
    {
     "name": "stdout",
     "output_type": "stream",
     "text": [
      "Filling gaps with connected nearest neighbours\n"
     ]
    },
    {
     "name": "stderr",
     "output_type": "stream",
     "text": [
      "  8%|▊         | 8/100 [00:00<00:01, 76.99it/s]"
     ]
    },
    {
     "name": "stdout",
     "output_type": "stream",
     "text": [
      "4583\n",
      "3095\n",
      "2232\n",
      "1618\n",
      "1171\n",
      "861\n",
      "639\n",
      "518\n",
      "415\n",
      "321\n",
      "236\n",
      "162\n",
      "104\n",
      "63\n",
      "37\n",
      "19\n"
     ]
    },
    {
     "name": "stderr",
     "output_type": "stream",
     "text": [
      " 17%|█▋        | 17/100 [00:00<00:01, 78.35it/s]\n"
     ]
    },
    {
     "name": "stdout",
     "output_type": "stream",
     "text": [
      "18\n",
      "Previous loop was unable to fill more missing values, so filled with constant 0\n",
      "0\n",
      "Completed filling missing values\n",
      "6\n",
      "---- Creating NEMO boundary conditions for variable THETA from SOSE ----\n",
      "Converting THETA to TEOS10\n",
      "Note: to convert potential temperature to conservative temperature, TEOS10 uses absolute salinity. Make sure a salinity file is specified.\n",
      "Horizontally interpolating variable THETA at each depth level from SOSE to NEMO grid\n"
     ]
    },
    {
     "name": "stderr",
     "output_type": "stream",
     "text": [
      "100%|██████████| 52/52 [00:09<00:00,  5.22it/s]\n"
     ]
    },
    {
     "name": "stdout",
     "output_type": "stream",
     "text": [
      "Vertically interpolating variable THETA\n"
     ]
    },
    {
     "name": "stderr",
     "output_type": "stream",
     "text": [
      "100%|██████████| 121/121 [00:40<00:00,  2.95it/s]\n"
     ]
    },
    {
     "name": "stdout",
     "output_type": "stream",
     "text": [
      "Filling gaps with connected nearest neighbours\n"
     ]
    },
    {
     "name": "stderr",
     "output_type": "stream",
     "text": [
      "  8%|▊         | 8/100 [00:00<00:01, 74.42it/s]"
     ]
    },
    {
     "name": "stdout",
     "output_type": "stream",
     "text": [
      "4583\n",
      "3095\n",
      "2232\n",
      "1618\n",
      "1171\n",
      "861\n",
      "639\n",
      "518\n",
      "415\n",
      "321\n",
      "236\n",
      "162\n",
      "104\n",
      "63\n",
      "37\n",
      "19\n",
      "18\n"
     ]
    },
    {
     "name": "stderr",
     "output_type": "stream",
     "text": [
      " 17%|█▋        | 17/100 [00:00<00:01, 81.08it/s]\n"
     ]
    },
    {
     "name": "stdout",
     "output_type": "stream",
     "text": [
      "Previous loop was unable to fill more missing values, so filled with constant 0\n",
      "0\n",
      "Completed filling missing values\n",
      "7\n",
      "---- Creating NEMO boundary conditions for variable THETA from SOSE ----\n",
      "Converting THETA to TEOS10\n",
      "Note: to convert potential temperature to conservative temperature, TEOS10 uses absolute salinity. Make sure a salinity file is specified.\n",
      "Horizontally interpolating variable THETA at each depth level from SOSE to NEMO grid\n"
     ]
    },
    {
     "name": "stderr",
     "output_type": "stream",
     "text": [
      "100%|██████████| 52/52 [00:09<00:00,  5.28it/s]\n"
     ]
    },
    {
     "name": "stdout",
     "output_type": "stream",
     "text": [
      "Vertically interpolating variable THETA\n"
     ]
    },
    {
     "name": "stderr",
     "output_type": "stream",
     "text": [
      "100%|██████████| 121/121 [00:41<00:00,  2.90it/s]\n"
     ]
    },
    {
     "name": "stdout",
     "output_type": "stream",
     "text": [
      "Filling gaps with connected nearest neighbours\n"
     ]
    },
    {
     "name": "stderr",
     "output_type": "stream",
     "text": [
      "  8%|▊         | 8/100 [00:00<00:01, 76.43it/s]"
     ]
    },
    {
     "name": "stdout",
     "output_type": "stream",
     "text": [
      "4583\n",
      "3095\n",
      "2232\n",
      "1618\n",
      "1171\n",
      "861\n",
      "639\n",
      "518\n",
      "415\n",
      "321\n",
      "236\n",
      "162\n",
      "104\n",
      "63\n",
      "37\n",
      "19\n",
      "18\n"
     ]
    },
    {
     "name": "stderr",
     "output_type": "stream",
     "text": [
      " 17%|█▋        | 17/100 [00:00<00:01, 81.62it/s]\n"
     ]
    },
    {
     "name": "stdout",
     "output_type": "stream",
     "text": [
      "Previous loop was unable to fill more missing values, so filled with constant 0\n",
      "0\n",
      "Completed filling missing values\n",
      "8\n",
      "---- Creating NEMO boundary conditions for variable THETA from SOSE ----\n",
      "Converting THETA to TEOS10\n",
      "Note: to convert potential temperature to conservative temperature, TEOS10 uses absolute salinity. Make sure a salinity file is specified.\n",
      "Horizontally interpolating variable THETA at each depth level from SOSE to NEMO grid\n"
     ]
    },
    {
     "name": "stderr",
     "output_type": "stream",
     "text": [
      "100%|██████████| 52/52 [00:09<00:00,  5.23it/s]\n"
     ]
    },
    {
     "name": "stdout",
     "output_type": "stream",
     "text": [
      "Vertically interpolating variable THETA\n"
     ]
    },
    {
     "name": "stderr",
     "output_type": "stream",
     "text": [
      "100%|██████████| 121/121 [00:41<00:00,  2.91it/s]\n"
     ]
    },
    {
     "name": "stdout",
     "output_type": "stream",
     "text": [
      "Filling gaps with connected nearest neighbours\n"
     ]
    },
    {
     "name": "stderr",
     "output_type": "stream",
     "text": [
      "  8%|▊         | 8/100 [00:00<00:01, 76.58it/s]"
     ]
    },
    {
     "name": "stdout",
     "output_type": "stream",
     "text": [
      "4583\n",
      "3095\n",
      "2232\n",
      "1618\n",
      "1171\n",
      "861\n",
      "639\n",
      "518\n",
      "415\n",
      "321\n",
      "236\n",
      "162\n",
      "104\n",
      "63\n",
      "37\n",
      "19\n",
      "18\n"
     ]
    },
    {
     "name": "stderr",
     "output_type": "stream",
     "text": [
      " 17%|█▋        | 17/100 [00:00<00:01, 82.39it/s]\n"
     ]
    },
    {
     "name": "stdout",
     "output_type": "stream",
     "text": [
      "Previous loop was unable to fill more missing values, so filled with constant 0\n",
      "0\n",
      "Completed filling missing values\n",
      "9\n",
      "---- Creating NEMO boundary conditions for variable THETA from SOSE ----\n",
      "Converting THETA to TEOS10\n",
      "Note: to convert potential temperature to conservative temperature, TEOS10 uses absolute salinity. Make sure a salinity file is specified.\n",
      "Horizontally interpolating variable THETA at each depth level from SOSE to NEMO grid\n"
     ]
    },
    {
     "name": "stderr",
     "output_type": "stream",
     "text": [
      "100%|██████████| 52/52 [00:10<00:00,  5.14it/s]\n"
     ]
    },
    {
     "name": "stdout",
     "output_type": "stream",
     "text": [
      "Vertically interpolating variable THETA\n"
     ]
    },
    {
     "name": "stderr",
     "output_type": "stream",
     "text": [
      "100%|██████████| 121/121 [00:40<00:00,  3.00it/s]\n"
     ]
    },
    {
     "name": "stdout",
     "output_type": "stream",
     "text": [
      "Filling gaps with connected nearest neighbours\n"
     ]
    },
    {
     "name": "stderr",
     "output_type": "stream",
     "text": [
      "  8%|▊         | 8/100 [00:00<00:01, 76.78it/s]"
     ]
    },
    {
     "name": "stdout",
     "output_type": "stream",
     "text": [
      "4583\n",
      "3095\n",
      "2232\n",
      "1618\n",
      "1171\n",
      "861\n",
      "639\n",
      "518\n",
      "415\n",
      "321\n",
      "236\n",
      "162\n",
      "104\n",
      "63\n",
      "37\n",
      "19\n",
      "18\n"
     ]
    },
    {
     "name": "stderr",
     "output_type": "stream",
     "text": [
      " 17%|█▋        | 17/100 [00:00<00:01, 80.69it/s]\n"
     ]
    },
    {
     "name": "stdout",
     "output_type": "stream",
     "text": [
      "Previous loop was unable to fill more missing values, so filled with constant 0\n",
      "0\n",
      "Completed filling missing values\n",
      "10\n",
      "---- Creating NEMO boundary conditions for variable THETA from SOSE ----\n",
      "Converting THETA to TEOS10\n",
      "Note: to convert potential temperature to conservative temperature, TEOS10 uses absolute salinity. Make sure a salinity file is specified.\n",
      "Horizontally interpolating variable THETA at each depth level from SOSE to NEMO grid\n"
     ]
    },
    {
     "name": "stderr",
     "output_type": "stream",
     "text": [
      "100%|██████████| 52/52 [00:09<00:00,  5.26it/s]\n"
     ]
    },
    {
     "name": "stdout",
     "output_type": "stream",
     "text": [
      "Vertically interpolating variable THETA\n"
     ]
    },
    {
     "name": "stderr",
     "output_type": "stream",
     "text": [
      "100%|██████████| 121/121 [00:41<00:00,  2.92it/s]\n"
     ]
    },
    {
     "name": "stdout",
     "output_type": "stream",
     "text": [
      "Filling gaps with connected nearest neighbours\n"
     ]
    },
    {
     "name": "stderr",
     "output_type": "stream",
     "text": [
      "  8%|▊         | 8/100 [00:00<00:01, 75.76it/s]"
     ]
    },
    {
     "name": "stdout",
     "output_type": "stream",
     "text": [
      "4583\n",
      "3095\n",
      "2232\n",
      "1618\n",
      "1171\n",
      "861\n",
      "639\n",
      "518\n",
      "415\n",
      "321\n",
      "236\n",
      "162\n",
      "104\n",
      "63\n",
      "37\n",
      "19\n",
      "18\n"
     ]
    },
    {
     "name": "stderr",
     "output_type": "stream",
     "text": [
      " 17%|█▋        | 17/100 [00:00<00:01, 80.18it/s]\n"
     ]
    },
    {
     "name": "stdout",
     "output_type": "stream",
     "text": [
      "Previous loop was unable to fill more missing values, so filled with constant 0\n",
      "0\n",
      "Completed filling missing values\n",
      "11\n",
      "---- Creating NEMO boundary conditions for variable THETA from SOSE ----\n",
      "Converting THETA to TEOS10\n",
      "Note: to convert potential temperature to conservative temperature, TEOS10 uses absolute salinity. Make sure a salinity file is specified.\n",
      "Horizontally interpolating variable THETA at each depth level from SOSE to NEMO grid\n"
     ]
    },
    {
     "name": "stderr",
     "output_type": "stream",
     "text": [
      "100%|██████████| 52/52 [00:09<00:00,  5.28it/s]\n"
     ]
    },
    {
     "name": "stdout",
     "output_type": "stream",
     "text": [
      "Vertically interpolating variable THETA\n"
     ]
    },
    {
     "name": "stderr",
     "output_type": "stream",
     "text": [
      "100%|██████████| 121/121 [00:40<00:00,  2.99it/s]\n"
     ]
    },
    {
     "name": "stdout",
     "output_type": "stream",
     "text": [
      "Filling gaps with connected nearest neighbours\n"
     ]
    },
    {
     "name": "stderr",
     "output_type": "stream",
     "text": [
      "  8%|▊         | 8/100 [00:00<00:01, 77.52it/s]"
     ]
    },
    {
     "name": "stdout",
     "output_type": "stream",
     "text": [
      "4583\n",
      "3095\n",
      "2232\n",
      "1618\n",
      "1171\n",
      "861\n",
      "639\n",
      "518\n",
      "415\n",
      "321\n",
      "236\n",
      "162\n",
      "104\n",
      "63\n",
      "37\n"
     ]
    },
    {
     "name": "stderr",
     "output_type": "stream",
     "text": [
      " 17%|█▋        | 17/100 [00:00<00:01, 73.53it/s]\n"
     ]
    },
    {
     "name": "stdout",
     "output_type": "stream",
     "text": [
      "19\n",
      "18\n",
      "Previous loop was unable to fill more missing values, so filled with constant 0\n",
      "0\n",
      "Completed filling missing values\n",
      "12\n",
      "---- Creating NEMO boundary conditions for variable THETA from SOSE ----\n",
      "Converting THETA to TEOS10\n",
      "Note: to convert potential temperature to conservative temperature, TEOS10 uses absolute salinity. Make sure a salinity file is specified.\n",
      "Horizontally interpolating variable THETA at each depth level from SOSE to NEMO grid\n"
     ]
    },
    {
     "name": "stderr",
     "output_type": "stream",
     "text": [
      "100%|██████████| 52/52 [00:10<00:00,  5.13it/s]\n"
     ]
    },
    {
     "name": "stdout",
     "output_type": "stream",
     "text": [
      "Vertically interpolating variable THETA\n"
     ]
    },
    {
     "name": "stderr",
     "output_type": "stream",
     "text": [
      "100%|██████████| 121/121 [00:41<00:00,  2.92it/s]\n"
     ]
    },
    {
     "name": "stdout",
     "output_type": "stream",
     "text": [
      "Filling gaps with connected nearest neighbours\n"
     ]
    },
    {
     "name": "stderr",
     "output_type": "stream",
     "text": [
      "  8%|▊         | 8/100 [00:00<00:01, 74.67it/s]"
     ]
    },
    {
     "name": "stdout",
     "output_type": "stream",
     "text": [
      "4583\n",
      "3095\n",
      "2232\n",
      "1618\n",
      "1171\n",
      "861\n",
      "639\n",
      "518\n",
      "415\n",
      "321\n",
      "236\n",
      "162\n",
      "104\n",
      "63\n",
      "37\n",
      "19\n",
      "18\n"
     ]
    },
    {
     "name": "stderr",
     "output_type": "stream",
     "text": [
      " 17%|█▋        | 17/100 [00:00<00:01, 79.08it/s]\n"
     ]
    },
    {
     "name": "stdout",
     "output_type": "stream",
     "text": [
      "Previous loop was unable to fill more missing values, so filled with constant 0\n",
      "0\n",
      "Completed filling missing values\n"
     ]
    }
   ],
   "source": [
    "variable='THETA'\n",
    "\n",
    "for month in range(1,13):\n",
    "    print(month)\n",
    "    file_SOSE   = f'/gws/nopw/j04/terrafirma/birgal/NEMO_AIS/B-SOSE/climatology/{variable}_climatology_m{month:02}.nc';\n",
    "    output_file = f'/gws/nopw/j04/terrafirma/birgal/NEMO_AIS/boundary-conditions/{variable}-old-domain-SOSE-bcs_m{month:02}.nc'\n",
    "    \n",
    "    create_bcs('THETA', file_SOSE, output_file, \n",
    "               source       = 'SOSE',\n",
    "               source_coord = f'/gws/nopw/j04/terrafirma/birgal/NEMO_AIS/B-SOSE/climatology/{variable}_climatology_m{month:02}.nc',\n",
    "               nemo_coord   = '/gws/nopw/j04/terrafirma/birgal/NEMO_AIS/bathymetry/domain_cfg-old.nc',\n",
    "               nemo_mask    = '/gws/nopw/j04/terrafirma/birgal/NEMO_AIS/bathymetry/mesh_mask_eANT025.L121.nc',\n",
    "               salt_file    = f'/gws/nopw/j04/terrafirma/birgal/NEMO_AIS/B-SOSE/climatology/SALT_climatology_m{month:02}.nc',\n",
    "               folder       = '/gws/nopw/j04/terrafirma/birgal/NEMO_AIS/boundary-conditions/B-SOSE/', \n",
    "               fill_value   = 0,\n",
    "               bdy_lat      = -50)"
   ]
  },
  {
   "cell_type": "code",
   "execution_count": null,
   "id": "831d0b90-eca4-4ee1-81be-e29faec8e6bf",
   "metadata": {},
   "outputs": [],
   "source": [
    "variable='SALT'\n",
    "\n",
    "for month in range(1,13):\n",
    "    print(month)\n",
    "    file_SOSE   = f'/gws/nopw/j04/terrafirma/birgal/NEMO_AIS/B-SOSE/climatology/{variable}_climatology_m{month:02}.nc';\n",
    "    output_file = f'/gws/nopw/j04/terrafirma/birgal/NEMO_AIS/boundary-conditions/B-SOSE/{variable}-SOSE-bcs_m{month:02}.nc'\n",
    "    \n",
    "    create_bcs('SALT', file_SOSE, output_file, \n",
    "               source       = 'SOSE',\n",
    "               source_coord = f'/gws/nopw/j04/terrafirma/birgal/NEMO_AIS/B-SOSE/climatology/{variable}_climatology_m{month:02}.nc',\n",
    "               nemo_coord   = '/gws/nopw/j04/terrafirma/birgal/NEMO_AIS/bathymetry/coordinates_AIS.nc',\n",
    "               nemo_mask    = '/gws/nopw/j04/terrafirma/birgal/NEMO_AIS/bathymetry/mesh_mask-20231025-filledlakes.nc',\n",
    "               salt_file    = f'/gws/nopw/j04/terrafirma/birgal/NEMO_AIS/B-SOSE/climatology/SALT_climatology_m{month:02}.nc',\n",
    "               folder       = '/gws/nopw/j04/terrafirma/birgal/NEMO_AIS/boundary-conditions/B-SOSE/', \n",
    "               fill_value   = 0,\n",
    "               bdy_lat      = -50) "
   ]
  },
  {
   "cell_type": "code",
   "execution_count": 3,
   "id": "975a4fcc-c5fc-43ae-8653-37a3550410cc",
   "metadata": {},
   "outputs": [],
   "source": [
    "nemo_mask    = xr.open_dataset('/gws/nopw/j04/terrafirma/birgal/NEMO_AIS/bathymetry/mesh_mask-20231025.nc')\n",
    "source_coord = xr.open_dataset('/gws/nopw/j04/terrafirma/birgal/NEMO_AIS/B-SOSE/climatology/Uvel_climatology_m01.nc')\n",
    "# T1 = xr.open_dataset(f'/gws/nopw/j04/terrafirma/birgal/NEMO_AIS/boundary-conditions/B-SOSE/SOSE-THETA-vertical-interp.nc')\n",
    "T1 = xr.open_dataset(f'/gws/nopw/j04/terrafirma/birgal/NEMO_AIS/boundary-conditions/B-SOSE/Uvel-SOSE-bcs-m01.nc')"
   ]
  },
  {
   "cell_type": "code",
   "execution_count": 7,
   "id": "1908bbb8-e01f-425f-aff9-55102e29a927",
   "metadata": {},
   "outputs": [
    {
     "data": {
      "text/plain": [
       "Text(0.5, 0, 'Longitude')"
      ]
     },
     "execution_count": 7,
     "metadata": {},
     "output_type": "execute_result"
    },
    {
     "data": {
      "image/png": "[encoded data removed]",
      "text/plain": [
       "<Figure size 1296x720 with 2 Axes>"
      ]
     },
     "metadata": {
      "needs_background": "light"
     },
     "output_type": "display_data"
    }
   ],
   "source": [
    "fig, ax = plt.subplots(2,1, figsize=(18,10))\n",
    "\n",
    "kwargs1 = {'vmin':-2, 'vmax':6, 'cmap':cmocean.cm.haline, 'rasterized':True}\n",
    "    \n",
    "ax[0].set_title('B-SOSE observations')\n",
    "ax[1].set_title('Model boundary condition')\n",
    "\n",
    "# model_proc2  = model_var2.sortby('x')[list(model_var2.keys())[0]]\n",
    "# model_x, _   = np.meshgrid(model_proc1.x, model_proc1.Z)\n",
    "# model_Z      = mesh.gdept_0.isel(time_counter=0, y=bdy_ind).sortby(model_proc1.x)\n",
    "\n",
    "source_coord1 = source_coord.isel(YC=426)\n",
    "source_coord1['XC'] = xr.where(source_coord1.XC > 180, source_coord1.XC - 360, source_coord1.XC)\n",
    "source_coord1 = source_coord1.sortby('XC')\n",
    "T1_plot       = T1.sortby('x')\n",
    "cm1 = ax[0].pcolormesh(source_coord1.XC, -1*source_coord1.Z, source_coord1.THETA, **kwargs1)\n",
    "cm2 = ax[1].pcolormesh(T1_plot.x, nemo_mask.nav_lev, T1_plot.THETA.isel(y=0).values, **kwargs1)\n",
    "    \n",
    "# CB2 = fig.colorbar(cm2, ax=ax[0:2], fraction=0.03, extend='both', label=list(SOSE_obs[var1].keys())[0])\n",
    "   \n",
    "for axis in ax.ravel():\n",
    "    axis.set_ylabel('Depth (m)')\n",
    "    axis.invert_yaxis()\n",
    "    axis.set_ylim(5000,0)\n",
    "    \n",
    "ax[1].set_xlabel('Longitude')"
   ]
  },
  {
   "cell_type": "code",
   "execution_count": null,
   "id": "723d110a-d1ef-4abf-a6ee-bebe599cd128",
   "metadata": {},
   "outputs": [],
   "source": []
  }
 ],
 "metadata": {
  "kernelspec": {
   "display_name": "jaspy3.10",
   "language": "python",
   "name": "jaspy3.10"
  },
  "language_info": {
   "codemirror_mode": {
    "name": "ipython",
    "version": 3
   },
   "file_extension": ".py",
   "mimetype": "text/x-python",
   "name": "python",
   "nbconvert_exporter": "python",
   "pygments_lexer": "ipython3",
   "version": "3.10.5"
  }
 },
 "nbformat": 4,
 "nbformat_minor": 5
}
