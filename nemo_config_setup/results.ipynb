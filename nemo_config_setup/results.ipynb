{
 "cells": [
  {
   "cell_type": "markdown",
   "id": "fbd64ea8-b784-453e-aff3-e67458379bc4",
   "metadata": {},
   "source": [
    "### Look at first run results"
   ]
  },
  {
   "cell_type": "code",
   "execution_count": 1,
   "id": "89f7859f-14e2-4e2a-b217-0d86e78681b6",
   "metadata": {},
   "outputs": [],
   "source": [
    "import numpy as np\n",
    "import xarray as xr\n",
    "import matplotlib.pyplot as plt\n",
    "import cartopy.crs as ccrs\n",
    "\n",
    "import imageio\n",
    "import glob\n",
    "import matplotlib.path as mpath\n",
    "import cmocean"
   ]
  },
  {
   "cell_type": "code",
   "execution_count": 2,
   "id": "7b40cbed-e186-4194-a059-e6ab63f618c3",
   "metadata": {},
   "outputs": [],
   "source": [
    "# To make circular maps:\n",
    "theta = np.linspace(0, 2*np.pi, 100)\n",
    "map_circle = mpath.Path(np.vstack([np.sin(theta), np.cos(theta)]).T * 0.5 + [0.5, 0.5])"
   ]
  },
  {
   "cell_type": "code",
   "execution_count": 9,
   "id": "cd34dc5a-5d7c-4cd2-a2a3-ef707cb74b81",
   "metadata": {},
   "outputs": [],
   "source": [
    "def prepare_plot(figsize=(15, 8)):\n",
    "    \"\"\"This function returns prepared axes for the polar plot.\n",
    "    \n",
    "    Usage:\n",
    "        fig, ax = prepare_plot()\n",
    "    \"\"\"\n",
    "    fig, ax = plt.subplots(1,2, figsize=figsize, subplot_kw={'projection': ccrs.SouthPolarStereo()})\n",
    "    for axis in ax.ravel():\n",
    "        axis.set_extent([-180, 180, -90, -50], ccrs.PlateCarree())\n",
    "        axis.set_boundary(map_circle, transform=axis.transAxes)\n",
    "        # ax.coastlines(); \n",
    "        gl = axis.gridlines(draw_labels=True, ylocs=[]);#, color='w', lw=2);\n",
    "    return fig, ax"
   ]
  },
  {
   "cell_type": "code",
   "execution_count": 4,
   "id": "2dd8d4d3-1b65-4123-a2d2-2641e063ca85",
   "metadata": {},
   "outputs": [],
   "source": [
    "mesh  = xr.open_dataset('/gws/nopw/j04/terrafirma/birgal/NEMO_AIS/bathymetry/mesh_mask-20231025-filledlakes.nc').isel(time_counter=0)\n",
    "fileT = xr.open_dataset('/gws/nopw/j04/terrafirma/birgal/NEMO_AIS/output/new-setup-testing/run1yr/eANT025.L121_1m_19790101_19791231_grid_T.nc')"
   ]
  },
  {
   "cell_type": "code",
   "execution_count": 5,
   "id": "b7283829-2b61-450f-9337-1f89b8da4e06",
   "metadata": {
    "scrolled": true
   },
   "outputs": [],
   "source": [
    "tmask = np.ma.masked_where(mesh.tmask.values==0, mesh.tmask.values)"
   ]
  },
  {
   "cell_type": "code",
   "execution_count": 10,
   "id": "445b5dab-a985-4c85-95d4-43f4bf5a77b0",
   "metadata": {},
   "outputs": [],
   "source": [
    "def plot_fields(depth):\n",
    "\n",
    "    for month in range(0,12):\n",
    "        kwags1  = {'transform':ccrs.PlateCarree(), 'cmap':cmocean.cm.balance, 'rasterized':True, 'vmin':-4, 'vmax':4}\n",
    "        kwags2  = {'transform':ccrs.PlateCarree(), 'cmap':cmocean.cm.haline, 'rasterized':True, 'vmin':33, 'vmax':35.5}\n",
    "        fig, ax = prepare_plot()\n",
    "        cm1 = ax[0].pcolormesh(fileT.nav_lon_grid_T, fileT.nav_lat_grid_T, fileT.thetao.isel(time_counter=month, deptht=depth), **kwags1)\n",
    "        cm2 = ax[1].pcolormesh(fileT.nav_lon_grid_T, fileT.nav_lat_grid_T, fileT.so.isel(time_counter=month, deptht=depth), **kwags2)\n",
    "        CB1 = fig.colorbar(cm1, ax=ax[0], fraction=0.04)\n",
    "        CB1.set_label(fileT.thetao.long_name)\n",
    "        CB2 = fig.colorbar(cm2, ax=ax[1], fraction=0.04)\n",
    "        CB2.set_label(fileT.so.long_name)\n",
    "        fig.suptitle(f'Month: {month+1}, depth: {mesh.nav_lev.values[depth]:.1f} m');\n",
    "    \n",
    "        fig.savefig(f'/gws/nopw/j04/terrafirma/birgal/NEMO_AIS/output/new-setup-testing/run1yr/m{month+1:02}z{depth:03}.jpg', bbox_inches='tight')\n",
    "\n",
    "    return"
   ]
  },
  {
   "cell_type": "code",
   "execution_count": 11,
   "id": "2b9f0b40-0adf-4398-ac35-2b810fdd6108",
   "metadata": {},
   "outputs": [],
   "source": [
    "def create_animation(depth):\n",
    "    \n",
    "    # filenames is a list of the names/locations of image files to combine into animation (mp4 in this case)\n",
    "    with imageio.get_writer(f'/gws/nopw/j04/terrafirma/birgal/NEMO_AIS/output/new-setup-testing/run1yr/monthly_z{depth:03}.mp4', \n",
    "                            fps=5, mode='I') as writer: \n",
    "        for filename in filenames:  \n",
    "            image = imageio.imread(filename)  \n",
    "            writer.append_data(image)\n",
    "    return"
   ]
  },
  {
   "cell_type": "code",
   "execution_count": null,
   "id": "10cfd79e-fb6c-4177-866d-bf5a19e67c4e",
   "metadata": {},
   "outputs": [],
   "source": [
    "for depth in [0, 20, 50, 80, 100]:\n",
    "    plot_fields(depth)\n",
    "    filenames=glob.glob(f'/gws/nopw/j04/terrafirma/birgal/NEMO_AIS/output/new-setup-testing/run1yr/m??z{depth:03}.jpg')\n",
    "    create_animation(depth)"
   ]
  },
  {
   "cell_type": "code",
   "execution_count": null,
   "id": "803e97f1-5adf-47f6-8001-9532d2b28253",
   "metadata": {},
   "outputs": [],
   "source": []
  }
 ],
 "metadata": {
  "kernelspec": {
   "display_name": "animations",
   "language": "python",
   "name": "animations"
  },
  "language_info": {
   "codemirror_mode": {
    "name": "ipython",
    "version": 3
   },
   "file_extension": ".py",
   "mimetype": "text/x-python",
   "name": "python",
   "nbconvert_exporter": "python",
   "pygments_lexer": "ipython3",
   "version": "3.10.8"
  }
 },
 "nbformat": 4,
 "nbformat_minor": 5
}
