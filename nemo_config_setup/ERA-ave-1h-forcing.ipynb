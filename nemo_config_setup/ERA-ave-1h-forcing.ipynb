{
 "cells": [
  {
   "cell_type": "markdown",
   "id": "9b971eb0-a7c1-47aa-a474-2829b44e27c4",
   "metadata": {},
   "source": [
    "### Ave 1h forcing from ERA to 3h and 1d to compare"
   ]
  },
  {
   "cell_type": "code",
   "execution_count": 3,
   "id": "9329fe42-3a38-4847-8261-b481afce34a3",
   "metadata": {},
   "outputs": [],
   "source": [
    "import numpy as np\n",
    "import xarray as xr\n",
    "import cartopy.crs as ccrs\n",
    "import matplotlib.path as mpath\n",
    "import matplotlib.pyplot as plt\n",
    "import cmocean\n",
    "import glob\n",
    "import tqdm"
   ]
  },
  {
   "cell_type": "markdown",
   "id": "1ef34f7b-065b-410f-ae60-be18f7597c9e",
   "metadata": {},
   "source": [
    "### Main"
   ]
  },
  {
   "cell_type": "code",
   "execution_count": 4,
   "id": "d736c8b7-daab-462e-9e65-9aeccc3f6b10",
   "metadata": {},
   "outputs": [
    {
     "name": "stdout",
     "output_type": "stream",
     "text": [
      "Resampling u10\n"
     ]
    },
    {
     "name": "stderr",
     "output_type": "stream",
     "text": [
      "100%|██████████| 12/12 [16:58<00:00, 84.88s/it]\n"
     ]
    },
    {
     "name": "stdout",
     "output_type": "stream",
     "text": [
      "Resampling v10\n"
     ]
    },
    {
     "name": "stderr",
     "output_type": "stream",
     "text": [
      "100%|██████████| 12/12 [10:51<00:00, 54.31s/it]\n"
     ]
    }
   ],
   "source": [
    "folder_in  = '/gws/nopw/j04/terrafirma/birgal/NEMO_AIS/ERA5-forcing/drowned_1h/'\n",
    "folder_out = '/gws/nopw/j04/terrafirma/birgal/NEMO_AIS/ERA5-forcing/drowned_3h/'\n",
    "\n",
    "resample_atm(folder_in, folder_out, 1979, source='ERA5', freq='3h')"
   ]
  },
  {
   "cell_type": "code",
   "execution_count": 1,
   "id": "4c469742-3887-475e-a06e-e7642caa6266",
   "metadata": {},
   "outputs": [],
   "source": [
    "def resample_atm(folder_in, folder_out, year, source='ERA5', freq='1d'):\n",
    "\n",
    "    if source=='ERA5':\n",
    "        variables =  ['d2m', 'msdwlwrf', 'msdwswrf', 'msl', 'msr', 'mtpr', 't2m', 'u10', 'v10']\n",
    "        for var in variables:\n",
    "            print(f'Resampling {var}')\n",
    "            for month in tqdm.tqdm(range(1,13)):\n",
    "                var_file = xr.open_dataset(f'{folder_in}{var}_y{year}m{month:02}.nc')\n",
    "                var_mean = var_file[var].resample(time=freq).mean()\n",
    "                var_mean.to_netcdf(f'{folder_out}{var}_{freq}_y{year}m{month:02}.nc')\n",
    "    else:\n",
    "        raise Exception('Only set up for ERA5 files currently')\n",
    "\n",
    "    return"
   ]
  },
  {
   "cell_type": "code",
   "execution_count": null,
   "id": "277c7c8f-4c4b-4070-85fd-1bda6ffe297d",
   "metadata": {},
   "outputs": [],
   "source": []
  }
 ],
 "metadata": {
  "kernelspec": {
   "display_name": "Python 3 + Jaspy",
   "language": "python",
   "name": "jaspy"
  },
  "language_info": {
   "codemirror_mode": {
    "name": "ipython",
    "version": 3
   },
   "file_extension": ".py",
   "mimetype": "text/x-python",
   "name": "python",
   "nbconvert_exporter": "python",
   "pygments_lexer": "ipython3",
   "version": "3.10.5"
  }
 },
 "nbformat": 4,
 "nbformat_minor": 5
}
