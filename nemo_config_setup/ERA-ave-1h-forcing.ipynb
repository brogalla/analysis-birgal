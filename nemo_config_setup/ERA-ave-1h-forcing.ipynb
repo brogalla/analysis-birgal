{
 "cells": [
  {
   "cell_type": "markdown",
   "id": "9b971eb0-a7c1-47aa-a474-2829b44e27c4",
   "metadata": {},
   "source": [
    "### Ave 1h forcing from ERA to 3h and 1d to compare"
   ]
  },
  {
   "cell_type": "code",
   "execution_count": 26,
   "id": "9329fe42-3a38-4847-8261-b481afce34a3",
   "metadata": {},
   "outputs": [],
   "source": [
    "import numpy as np\n",
    "import xarray as xr\n",
    "import cartopy.crs as ccrs\n",
    "import matplotlib.path as mpath\n",
    "import matplotlib.pyplot as plt\n",
    "import cmocean\n",
    "import glob"
   ]
  },
  {
   "cell_type": "markdown",
   "id": "1ef34f7b-065b-410f-ae60-be18f7597c9e",
   "metadata": {},
   "source": [
    "### Main"
   ]
  },
  {
   "cell_type": "code",
   "execution_count": 20,
   "id": "be85551a-b484-43af-8199-c074fe335924",
   "metadata": {},
   "outputs": [],
   "source": [
    "folder_ERA  = '/gws/nopw/j04/terrafirma/birgal/NEMO_AIS/ERA5-forcing/'"
   ]
  },
  {
   "cell_type": "code",
   "execution_count": 21,
   "id": "63eeedfe-2f0f-4820-8215-84972177653d",
   "metadata": {},
   "outputs": [],
   "source": [
    "variables = ['d2m', 'msdwlwrf', 'msdwswrf', 'msl', 'msr', 'mtpr', 't2m', 'u10', 'v10']\n",
    "year = 1979"
   ]
  },
  {
   "cell_type": "code",
   "execution_count": null,
   "id": "066d2cd1-4ab2-4411-bcb2-0fa0a92108ef",
   "metadata": {},
   "outputs": [],
   "source": [
    "for var in variables:\n",
    "    for month in range(1,13):\n",
    "        var_file = xr.open_dataset(f'{folder_ERA}{var}_y{year}m{month:02}.nc')\n",
    "        var_mean = var_file[var].resample(time='1D').mean()\n",
    "        var_mean.to_netcdf(f'{folder_ERA}{var}_1d_y{year}m{month:02}.nc')"
   ]
  },
  {
   "cell_type": "code",
   "execution_count": null,
   "id": "4c469742-3887-475e-a06e-e7642caa6266",
   "metadata": {},
   "outputs": [],
   "source": []
  }
 ],
 "metadata": {
  "kernelspec": {
   "display_name": "Python 3 + Jaspy",
   "language": "python",
   "name": "jaspy"
  },
  "language_info": {
   "codemirror_mode": {
    "name": "ipython",
    "version": 3
   },
   "file_extension": ".py",
   "mimetype": "text/x-python",
   "name": "python",
   "nbconvert_exporter": "python",
   "pygments_lexer": "ipython3",
   "version": "3.10.5"
  }
 },
 "nbformat": 4,
 "nbformat_minor": 5
}
