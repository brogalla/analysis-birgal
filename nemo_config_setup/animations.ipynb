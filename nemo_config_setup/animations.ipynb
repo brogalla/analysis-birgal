{
 "cells": [
  {
   "cell_type": "markdown",
   "id": "93365387-b36c-4978-8a1c-56de747f21c7",
   "metadata": {},
   "source": [
    "### Create animations\n",
    "\n",
    "(Need to activate the animations Python environment for the notebook)"
   ]
  },
  {
   "cell_type": "code",
   "execution_count": 1,
   "id": "e9d7af48-7013-426f-a074-be5852aba500",
   "metadata": {},
   "outputs": [],
   "source": [
    "import glob\n",
    "import numpy as np\n",
    "import imageio"
   ]
  },
  {
   "cell_type": "code",
   "execution_count": 2,
   "id": "687bccf8-f45f-4673-9194-b5fb6c9ccd54",
   "metadata": {},
   "outputs": [],
   "source": [
    "# filenames = np.sort(glob.glob(f'/gws/nopw/j04/terrafirma/birgal/NEMO_AIS/WOA18/sal_depth_animation/s_an_dd_*'))\n",
    "filenames = np.sort(glob.glob(f'/gws/nopw/j04/terrafirma/birgal/NEMO_AIS/WOA18/temp_depth_animation/t_an_dd_*'))"
   ]
  },
  {
   "cell_type": "code",
   "execution_count": 3,
   "id": "4a0e6216-0025-48dc-91f0-1d77235c5c7d",
   "metadata": {},
   "outputs": [
    {
     "name": "stderr",
     "output_type": "stream",
     "text": [
      "/tmp/ipykernel_1641/2465506808.py:6: DeprecationWarning: Starting with ImageIO v3 the behavior of this function will switch to that of iio.v3.imread. To keep the current behavior (and make this warning dissapear) use `import imageio.v2 as imageio` or call `imageio.v2.imread` directly.\n",
      "  image = imageio.imread(filename)\n"
     ]
    }
   ],
   "source": [
    "#https://stackoverflow.com/questions/753190/programmatically-generate-video-or-animated-gif-in-python\n",
    "# filenames is a list of the names/locations of image files to combine into animation (mp4 in this case)\n",
    "with imageio.get_writer(f'/gws/nopw/j04/terrafirma/birgal/NEMO_AIS/WOA18/temp_animation_depths.mp4', \n",
    "                        macro_block_size = None, fps=7, mode='I') as writer: \n",
    "    for filename in filenames:  \n",
    "        image = imageio.imread(filename)  \n",
    "        writer.append_data(image)"
   ]
  },
  {
   "cell_type": "code",
   "execution_count": null,
   "id": "3e7ee114-aeaa-4583-8757-93b4d0d39e45",
   "metadata": {},
   "outputs": [],
   "source": []
  }
 ],
 "metadata": {
  "kernelspec": {
   "display_name": "animations",
   "language": "python",
   "name": "animations"
  },
  "language_info": {
   "codemirror_mode": {
    "name": "ipython",
    "version": 3
   },
   "file_extension": ".py",
   "mimetype": "text/x-python",
   "name": "python",
   "nbconvert_exporter": "python",
   "pygments_lexer": "ipython3",
   "version": "3.10.8"
  }
 },
 "nbformat": 4,
 "nbformat_minor": 5
}
