{
 "cells": [
  {
   "cell_type": "markdown",
   "id": "98513338",
   "metadata": {},
   "source": [
    "# Convert ERA5 variable units to the values expected by NEMO\n",
    "\n",
    "Variables read in by NEMO: sn_wndi (uas), sn_wndj (vas), sn_qsr (rsds), sn_qlw (rlds), sn_tair (tas), sn_humi (huss), sn_prec (tprecip), sn_snow (prsn), sn_slp (psl).\n",
    "\n",
    "Variable conversions needed:\n",
    "- U wind ERA5 --> eastward near surface wind (which then is rotated to the NEMO grid U and V online)\n",
    "- V wind ERA5 --> northward near surface wind\n",
    "- Humidity: convert 2 m dewpoint temperature --> near surface specific humidity\n",
    "\n",
    "Unit conversions needed:\n",
    "- snowfall flux: m of water equivalent --> kg /m2 /s\n",
    "- total solid + liquid precip: m --> kg /m2 /s\n",
    "- surface downwelling LW radiation: J/m2 --> W/m2\n",
    "- surface downwelling SW radiation: J/m2 --> W/m2"
   ]
  },
  {
   "cell_type": "code",
   "execution_count": 2,
   "id": "574b1f69",
   "metadata": {},
   "outputs": [],
   "source": [
    "import numpy as np\n",
    "import xarray as xr\n",
    "import glob"
   ]
  },
  {
   "cell_type": "markdown",
   "id": "a2a37355-8053-46e1-9eab-cfbbe8477f00",
   "metadata": {},
   "source": [
    "#### Functions"
   ]
  },
  {
   "cell_type": "code",
   "execution_count": 9,
   "id": "de51b8cb-1287-4612-bfb4-07d7602efc29",
   "metadata": {},
   "outputs": [],
   "source": [
    "def convert_wind(file_U='era5_u10_1979_daily_averages.nc', variableU='u10',\n",
    "                 file_V='era5_v10_1979_daily_averages.nc', variableV='v10',\n",
    "                 dataset='ERA5', folder='/gws/nopw/j04/terrafirma/birgal/NEMO_AIS/ERA5-forcing/'):\n",
    "    # ERA5 gives wind in U and V grid direction instead of eastward and northward\n",
    "    # https://confluence.ecmwf.int/pages/viewpage.action?pageId=133262398\n",
    "    \n",
    "    Uwind = xr.open_dataset(f'{folder}{file_U}')[variableU]\n",
    "    Vwind = xr.open_dataset(f'{folder}{file_V}')[variableV]\n",
    "\n",
    "    speed = np.sqrt(Uwind**2 + Vwind**2)\n",
    "\n",
    "    theta = 90 # eastward or 0 for northerly\n",
    "    u_dir = - speed * np.sin(theta)\n",
    "    v_dir = - speed * np.cos(theta)\n",
    "                     \n",
    "    return u_dir, v_dir\n",
    "\n",
    "def convert_radiation(file_rad='era5_strd_1979_daily_averages.nc', variable='strd', \n",
    "                      dataset='ERA5', folder='/gws/nopw/j04/terrafirma/birgal/NEMO_AIS/ERA5-forcing/'):\n",
    "    if dataset=='ERA5':\n",
    "        # ERA5 is in J m-2, convert to Watt m-2 = J m-2 s-1, so divide by the accumulation period in seconds\n",
    "        # In this case, the files are daily averages of the original hourly files. So, the J/m-2 is actually the accumulation over an hour. \n",
    "        QW = xr.open_dataset(f'{folder}{file_rad}')[variable] # shortwave or longwave radiation\n",
    "        \n",
    "        return QW/3600\n",
    "    else:\n",
    "        raise Exception('Only currently set up to convert ERA5 units to nemo units')\n",
    "\n",
    "def convert_precip(file_precip='era5_tp_1979_daily_averages.nc', variable='tp', \n",
    "                   dataset='ERA5', folder='/gws/nopw/j04/terrafirma/birgal/NEMO_AIS/ERA5-forcing/'):\n",
    "    if dataset=='ERA5':\n",
    "        # ERA5 is in m of water equivalent, convert to kg m-2 s-1, so need to divide by the accumulation period, and convert density\n",
    "        precip = xr.open_dataset(f'{folder}{file_precip}')[variable]\n",
    "        # m --> m/s --> kg/m2/s\n",
    "        rho_water = 1000 # kg/m3\n",
    "        precip = (precip / 3600) * rho_water # total precip is in meters of water equivalent\n",
    "        \n",
    "        return precip\n",
    "        \n",
    "    else:\n",
    "        raise Exception('Only currently set up to convert ERA5 units to nemo units')\n",
    "\n",
    "def convert_humidity(file_dew='era5_d2m_1979_daily_averages.nc', variable_dew='d2m',\n",
    "                     file_slp='era5_msl_1979_daily_averages.nc', variable_slp='msl',\n",
    "                     dataset='ERA5', folder='/gws/nopw/j04/terrafirma/birgal/NEMO_AIS/ERA5-forcing/'):\n",
    "    if dataset=='ERA5':\n",
    "        # ERA5 does not provide specific humidity, but gives the 2 m dewpoint temperature in K\n",
    "        # Conversion assumes temperature is in K and pressure in Pa.\n",
    "        # Based off: https://confluence.ecmwf.int/pages/viewpage.action?pageId=171411214\n",
    "\n",
    "        dewpoint = xr.open_dataset(f'{folder}{file_dew}')[variable_dew]\n",
    "        surface_pressure = xr.open_dataset(f'{folder}{file_slp}')[variable_slp]\n",
    "        \n",
    "        # constants: # note that it could be somewhat different over ice?\n",
    "        a1 = 611.21; a3 = 17.502; a4=32.19; T0=273.16;\n",
    "        Rdry = 287.0597; Rvap=461.5250; \n",
    "        # calculation:\n",
    "        vapor_pressure = a1*np.exp(a3*(dewpoint.values - T0)/(dewpoint.values - a4)) # E saturation water vapour from Teten's formula\n",
    "        spec_humidity  = (Rdry / Rvap) * vapor_pressure / (surface_pressure - ((1-Rdry/Rvap)*vapor_pressure)) # saturation specific humidity\n",
    "        \n",
    "        return spec_humidity\n",
    "    else:\n",
    "        raise Exception('Only currently set up to convert ERA5 units to nemo units')\n",
    "    "
   ]
  },
  {
   "cell_type": "code",
   "execution_count": 10,
   "id": "85130f41-182e-4a35-8c7b-1dd9fe5e6060",
   "metadata": {},
   "outputs": [],
   "source": [
    "QLW = convert_radiation(file_rad='era5_strd_1979_daily_averages.nc', variable='strd', dataset='ERA5')\n",
    "QSW = convert_radiation(file_rad='era5_ssrd_1979_daily_averages.nc', variable='ssrd', dataset='ERA5')\n",
    "humidity = convert_humidity(file_dew='era5_d2m_1979_daily_averages.nc', variable_dew='d2m', \n",
    "                            file_slp='era5_msl_1979_daily_averages.nc', variable_slp='msl', dataset='ERA5')\n",
    "tprecip  = convert_precip(file_precip='era5_tp_1979_daily_averages.nc', variable='tp', dataset='ERA5')\n",
    "snow_flx = convert_precip(file_precip='era5_sf_1979_daily_averages.nc', variable='sf', dataset='ERA5')"
   ]
  },
  {
   "cell_type": "code",
   "execution_count": null,
   "id": "a97c4b6a-e91a-44a5-a1bf-7ad1e871c0a2",
   "metadata": {},
   "outputs": [],
   "source": []
  }
 ],
 "metadata": {
  "kernelspec": {
   "display_name": "jaspy3.10",
   "language": "python",
   "name": "jaspy3.10"
  },
  "language_info": {
   "codemirror_mode": {
    "name": "ipython",
    "version": 3
   },
   "file_extension": ".py",
   "mimetype": "text/x-python",
   "name": "python",
   "nbconvert_exporter": "python",
   "pygments_lexer": "ipython3",
   "version": "3.10.5"
  }
 },
 "nbformat": 4,
 "nbformat_minor": 5
}
