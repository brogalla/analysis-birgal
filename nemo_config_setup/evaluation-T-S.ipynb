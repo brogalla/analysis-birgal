{
 "cells": [
  {
   "cell_type": "markdown",
   "id": "039858f1-96ca-40a7-a9c8-d62d25eb0071",
   "metadata": {},
   "source": [
    "# Evaluate water mass properties based on T-S diagrams overall and regionally"
   ]
  },
  {
   "cell_type": "code",
   "execution_count": 1,
   "id": "ce3b2877-aeb7-47f2-987f-bbe7d91c1c26",
   "metadata": {},
   "outputs": [],
   "source": [
    "import xarray as xr\n",
    "import numpy as np\n",
    "import matplotlib.pyplot as plt\n",
    "import matplotlib.colors as cl\n",
    "import glob\n",
    "import cmocean\n",
    "import sys\n",
    "sys.path.append('/home/users/birgal/')\n",
    "from nemo_python_git.plots import circumpolar_plot, finished_plot\n",
    "import cartopy.crs as ccrs\n",
    "import cartopy.feature as cfeature"
   ]
  },
  {
   "cell_type": "code",
   "execution_count": 2,
   "id": "2ecfd70e-13ff-44a8-8c15-7b879eef70df",
   "metadata": {},
   "outputs": [],
   "source": [
    "run_folder  = '/gws/nopw/j04/terrafirma/birgal/NEMO_AIS/output/ERA5_test4/'\n",
    "nemo_mesh   = '/gws/nopw/j04/terrafirma/birgal/NEMO_AIS/bathymetry/mesh_mask-20240305.nc'\n",
    "nemo_domain = '/gws/nopw/j04/terrafirma/birgal/NEMO_AIS/bathymetry/domain_cfg-20240305.nc'"
   ]
  },
  {
   "cell_type": "code",
   "execution_count": 4,
   "id": "b4da560c-034d-4851-94d8-e22518a8cfe8",
   "metadata": {},
   "outputs": [
    {
     "name": "stderr",
     "output_type": "stream",
     "text": [
      "/home/users/birgal/.conda/envs/jaspy3.10/lib/python3.10/site-packages/dask/array/reductions.py:608: RuntimeWarning: All-NaN slice encountered\n",
      "  return np.nanmax(x_chunk, axis=axis, keepdims=keepdims)\n",
      "/home/users/birgal/.conda/envs/jaspy3.10/lib/python3.10/site-packages/dask/array/reductions.py:608: RuntimeWarning: All-NaN slice encountered\n",
      "  return np.nanmax(x_chunk, axis=axis, keepdims=keepdims)\n",
      "/home/users/birgal/.conda/envs/jaspy3.10/lib/python3.10/site-packages/dask/array/reductions.py:608: RuntimeWarning: All-NaN slice encountered\n",
      "  return np.nanmax(x_chunk, axis=axis, keepdims=keepdims)\n"
     ]
    }
   ],
   "source": [
    "# load files:\n",
    "nemo_mesh_ds = xr.open_dataset(nemo_mesh)\n",
    "icemod_files = glob.glob(f'{run_folder}/*icemod*')\n",
    "nemo_ds      = xr.open_mfdataset(icemod_files) "
   ]
  },
  {
   "cell_type": "code",
   "execution_count": 34,
   "id": "feb659e4-1561-4651-8e20-1820e5492ccc",
   "metadata": {},
   "outputs": [],
   "source": [
    "def plot_ocean(nemo_mesh, file_var):\n",
    "    lon_plot = np.ma.masked_where(mesh_sub.tmask.isel(nav_lev=0) == 0, mesh_sub.nav_lon.values)\n",
    "    lat_plot = np.ma.masked_where(mesh_sub.tmask.isel(nav_lev=0) == 0, mesh_sub.nav_lat.values)\n",
    "    plot_var = np.ma.masked_where(mesh_sub.tmask.isel(nav_lev=0) == 0, file_var.values)\n",
    "    return lon_plot, lat_plot, plot_var "
   ]
  },
  {
   "cell_type": "code",
   "execution_count": 40,
   "id": "1a0f4aea-abd3-49ed-8800-aef36d9f26f5",
   "metadata": {},
   "outputs": [],
   "source": [
    "def plot_land(nemo_mesh, file_var):\n",
    "    lon_plot = np.ma.masked_where(mesh_sub.tmask.isel(nav_lev=0) != 0, mesh_sub.nav_lon.values)\n",
    "    lat_plot = np.ma.masked_where(mesh_sub.tmask.isel(nav_lev=0) != 0, mesh_sub.nav_lat.values)\n",
    "    plot_var = np.ma.masked_where(mesh_sub.tmask.isel(nav_lev=0) != 0, file_var.values)\n",
    "    return lon_plot, lat_plot, plot_var "
   ]
  },
  {
   "cell_type": "markdown",
   "id": "febd7424-a2b7-4abc-bb60-bc9459f48862",
   "metadata": {},
   "source": [
    "### Visualize T-S diagram for full domain for one month \n",
    "Then, figure out how to visualize changes over time"
   ]
  },
  {
   "cell_type": "code",
   "execution_count": null,
   "id": "37d17297-cc67-4e1a-97af-e918b1d552d0",
   "metadata": {},
   "outputs": [],
   "source": [
    "# calculate annual cumulative sea ice production and compare with: https://agupubs.onlinelibrary.wiley.com/doi/epdf/10.1029/2007GL032903"
   ]
  },
  {
   "cell_type": "markdown",
   "id": "348f88f0-e666-4aae-a121-9da183d70054",
   "metadata": {},
   "source": [
    "### Same as above, but subdivide into regions"
   ]
  },
  {
   "cell_type": "code",
   "execution_count": null,
   "id": "0be0fc83-dce1-4886-8268-3ff6da6c5aa4",
   "metadata": {},
   "outputs": [],
   "source": []
  },
  {
   "cell_type": "markdown",
   "id": "66b1a90c-366c-405d-ac0f-30a528dd6252",
   "metadata": {},
   "source": [
    "### Focus on the Amundsen Sea region specifically"
   ]
  },
  {
   "cell_type": "code",
   "execution_count": null,
   "id": "31ab0128-042c-4d09-b438-e535b46b6a58",
   "metadata": {},
   "outputs": [],
   "source": []
  }
 ],
 "metadata": {
  "kernelspec": {
   "display_name": "jaspy3.10",
   "language": "python",
   "name": "jaspy3.10"
  },
  "language_info": {
   "codemirror_mode": {
    "name": "ipython",
    "version": 3
   },
   "file_extension": ".py",
   "mimetype": "text/x-python",
   "name": "python",
   "nbconvert_exporter": "python",
   "pygments_lexer": "ipython3",
   "version": "3.10.5"
  }
 },
 "nbformat": 4,
 "nbformat_minor": 5
}
