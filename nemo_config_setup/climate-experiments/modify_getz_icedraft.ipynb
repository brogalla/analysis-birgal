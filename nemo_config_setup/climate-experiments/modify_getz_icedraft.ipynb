{
 "cells": [
  {
   "cell_type": "markdown",
   "id": "18e63625-8680-41c1-a9ec-b71945320a3d",
   "metadata": {},
   "source": [
    "## Modify icedraft getz shelf (make similar to Grenoble version)"
   ]
  },
  {
   "cell_type": "code",
   "execution_count": 11,
   "id": "8e9cfd66-1516-432d-8ebb-963e2afc4c36",
   "metadata": {},
   "outputs": [],
   "source": [
    "import xarray as xr\n",
    "import numpy as np\n",
    "import matplotlib.pyplot as plt\n",
    "import cmocean"
   ]
  },
  {
   "cell_type": "code",
   "execution_count": 2,
   "id": "564dc157-0110-45b3-b484-0769d0711069",
   "metadata": {},
   "outputs": [],
   "source": [
    "base_dir = '/gws/nopw/j04/anthrofail/birgal/NEMO_AIS/'"
   ]
  },
  {
   "cell_type": "code",
   "execution_count": 59,
   "id": "fddf08b5-5f39-4bdb-b1e4-e42c6ce25460",
   "metadata": {},
   "outputs": [],
   "source": [
    "my_domcfg  = xr.open_dataset(f'{base_dir}bathymetry/domain_cfg-20240305.nc').squeeze()\n",
    "IGE_domcfg = xr.open_dataset(f'{base_dir}eANT025-orig/domain_cfg_eANT025.L121.nc').squeeze() \n",
    "new_domcfg = my_domcfg.copy()"
   ]
  },
  {
   "cell_type": "code",
   "execution_count": 68,
   "id": "6a946eeb-f710-490c-983b-dc024107b5ae",
   "metadata": {},
   "outputs": [],
   "source": [
    "# simple test domain_cfg:\n",
    "getz_region   = np.zeros(my_domcfg.isf_draft.isel(y=slice(0,439)).values.shape)\n",
    "getz_region[200:260,605:689] = 1\n",
    "\n",
    "for var in ['isf_draft', 'top_level']:\n",
    "    new_var = xr.where(getz_region==1, IGE_domcfg[var], my_domcfg[var].isel(y=slice(0,439)))\n",
    "    new_var = xr.concat([new_var, my_domcfg[var].isel(y=slice(439,None))], dim='y')\n",
    "    \n",
    "    new_domcfg[var] = new_var"
   ]
  },
  {
   "cell_type": "code",
   "execution_count": 71,
   "id": "450795c5-640e-472b-8d4f-f85234c6b606",
   "metadata": {},
   "outputs": [],
   "source": [
    "new_domcfg.to_netcdf(f'{base_dir}bathymetry/domain_cfg-20240305-deep-getz.nc')"
   ]
  }
 ],
 "metadata": {
  "kernelspec": {
   "display_name": "jaspy3.10",
   "language": "python",
   "name": "jaspy3.10"
  },
  "language_info": {
   "codemirror_mode": {
    "name": "ipython",
    "version": 3
   },
   "file_extension": ".py",
   "mimetype": "text/x-python",
   "name": "python",
   "nbconvert_exporter": "python",
   "pygments_lexer": "ipython3",
   "version": "3.10.5"
  }
 },
 "nbformat": 4,
 "nbformat_minor": 5
}
