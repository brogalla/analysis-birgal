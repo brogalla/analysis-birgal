{
 "cells": [
  {
   "cell_type": "markdown",
   "id": "18e63625-8680-41c1-a9ec-b71945320a3d",
   "metadata": {},
   "source": [
    "## Modify icedraft getz shelf (make similar to Grenoble version)"
   ]
  },
  {
   "cell_type": "code",
   "execution_count": 11,
   "id": "8e9cfd66-1516-432d-8ebb-963e2afc4c36",
   "metadata": {},
   "outputs": [],
   "source": [
    "import xarray as xr\n",
    "import numpy as np\n",
    "import matplotlib.pyplot as plt\n",
    "import cmocean"
   ]
  },
  {
   "cell_type": "code",
   "execution_count": 2,
   "id": "564dc157-0110-45b3-b484-0769d0711069",
   "metadata": {},
   "outputs": [],
   "source": [
    "base_dir = '/gws/nopw/j04/anthrofail/birgal/NEMO_AIS/'"
   ]
  },
  {
   "cell_type": "code",
   "execution_count": 82,
   "id": "fddf08b5-5f39-4bdb-b1e4-e42c6ce25460",
   "metadata": {},
   "outputs": [],
   "source": [
    "my_domcfg    = xr.open_dataset(f'{base_dir}bathymetry/domain_cfg-20240305.nc')\n",
    "my_meshmask  = xr.open_dataset(f'{base_dir}bathymetry/mesh_mask-20240305.nc')\n",
    "IGE_domcfg   = xr.open_dataset(f'{base_dir}eANT025-orig/domain_cfg_eANT025.L121.nc')\n",
    "IGE_meshmask = xr.open_dataset(f'{base_dir}eANT025-orig/mesh_mask_eANT025.L121.nc')\n",
    "new_domcfg   = my_domcfg.copy()\n",
    "new_meshmask = my_meshmask.copy()"
   ]
  },
  {
   "cell_type": "code",
   "execution_count": 76,
   "id": "6a946eeb-f710-490c-983b-dc024107b5ae",
   "metadata": {},
   "outputs": [],
   "source": [
    "# simple test domain_cfg:\n",
    "getz_region   = np.zeros(my_domcfg.isf_draft.isel(y=slice(0,439)).values.shape)\n",
    "getz_region[200:260,605:689] = 1\n",
    "\n",
    "for var in ['isf_draft', 'top_level']:\n",
    "    new_var = xr.where(getz_region==1, IGE_domcfg[var], my_domcfg[var].isel(y=slice(0,439)))\n",
    "    new_var = xr.concat([new_var, my_domcfg[var].isel(y=slice(439,None))], dim='y')\n",
    "    \n",
    "    new_domcfg[var] = new_var\n",
    "\n",
    "for var in ['tmask','misf','isf_draft','mhw','hw']:\n",
    "    new_var = xr.where(getz_region==1, IGE_meshmask[var], my_meshmask[var].isel(y=slice(0,439)))\n",
    "    new_var = xr.concat([new_var, my_meshmask[var].isel(y=slice(439,None))], dim='y')\n",
    "    \n",
    "    new_meshmask[var] = new_var"
   ]
  },
  {
   "cell_type": "code",
   "execution_count": 77,
   "id": "450795c5-640e-472b-8d4f-f85234c6b606",
   "metadata": {},
   "outputs": [],
   "source": [
    "new_domcfg.to_netcdf(f'{base_dir}bathymetry/domain_cfg-20240305-deep-getz.nc')\n",
    "new_meshmask.to_netcdf(f'{base_dir}bathymetry/mesh_mask-20240305-deep-getz.nc')"
   ]
  },
  {
   "cell_type": "markdown",
   "id": "ba7f43cf-2747-461e-a75c-8e8bc9b99aea",
   "metadata": {},
   "source": [
    "Fill initial conditions:"
   ]
  },
  {
   "cell_type": "code",
   "execution_count": 73,
   "id": "0f2a1145-56d1-4cfd-b7d0-3a1ea401c7ea",
   "metadata": {},
   "outputs": [],
   "source": [
    "my_icsT = xr.open_dataset(f'{base_dir}initial-conditions/SOSE-ConsTemp-initial-conditions-20240507.nc').squeeze()\n",
    "my_icsS = xr.open_dataset(f'{base_dir}initial-conditions/SOSE-AbsSal-initial-conditions-20240507.nc').squeeze()"
   ]
  },
  {
   "cell_type": "code",
   "execution_count": 78,
   "id": "9c613dd7-53df-417f-ab8a-7d55c6c0bad0",
   "metadata": {},
   "outputs": [
    {
     "data": {
      "text/plain": [
       "<matplotlib.collections.QuadMesh at 0x7f885f848820>"
      ]
     },
     "execution_count": 78,
     "metadata": {},
     "output_type": "execute_result"
    },
    {
     "data": {
      "image/png": "[encoded data removed]",
      "text/plain": [
       "<Figure size 432x288 with 2 Axes>"
      ]
     },
     "metadata": {
      "needs_background": "light"
     },
     "output_type": "display_data"
    }
   ],
   "source": [
    "# simplest thing is to just fill everywhere that is ocean in IGE meshmask and everywhere that is ocean in my mask,\n",
    "# rather than messing around with creating a new tmask"
   ]
  },
  {
   "cell_type": "code",
   "execution_count": null,
   "id": "29a6bb66-96e8-4993-a10d-a09d8d01a37b",
   "metadata": {},
   "outputs": [],
   "source": []
  }
 ],
 "metadata": {
  "kernelspec": {
   "display_name": "jaspy3.10",
   "language": "python",
   "name": "jaspy3.10"
  },
  "language_info": {
   "codemirror_mode": {
    "name": "ipython",
    "version": 3
   },
   "file_extension": ".py",
   "mimetype": "text/x-python",
   "name": "python",
   "nbconvert_exporter": "python",
   "pygments_lexer": "ipython3",
   "version": "3.10.5"
  }
 },
 "nbformat": 4,
 "nbformat_minor": 5
}
