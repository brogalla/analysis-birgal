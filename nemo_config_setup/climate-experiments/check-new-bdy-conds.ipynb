{
 "cells": [
  {
   "cell_type": "markdown",
   "id": "63ecb046-2069-4731-912e-2764addcc302",
   "metadata": {},
   "source": [
    "# Check whether new initial and boundary conditions are reasonable"
   ]
  },
  {
   "cell_type": "code",
   "execution_count": 4,
   "id": "67a8a586-bb06-4b50-8024-eeb8d5815aa0",
   "metadata": {},
   "outputs": [],
   "source": [
    "import xarray as xr\n",
    "import numpy as np\n",
    "import cmocean\n",
    "import sys\n",
    "sys.path.append('/home/users/birgal/')\n",
    "import pickle\n",
    "from nemo_python_git.utils import fix_lon_range\n",
    "from nemo_python_git.interpolation import regrid_array_cf, regrid_operator_cf\n",
    "from nemo_python_git.ics_obcs import fill_ocean"
   ]
  },
  {
   "cell_type": "code",
   "execution_count": 5,
   "id": "5c432f9c-2976-4233-8898-96832d5cffa8",
   "metadata": {},
   "outputs": [],
   "source": [
    "base_folder = '/gws/nopw/j04/anthrofail/birgal/NEMO_AIS/'"
   ]
  },
  {
   "cell_type": "code",
   "execution_count": null,
   "id": "b45f4216-2e30-4371-a2c6-432ea77fbb8b",
   "metadata": {},
   "outputs": [],
   "source": [
    "# Settings:\n",
    "base_folder = '/gws/nopw/j04/anthrofail/birgal/NEMO_AIS/'\n",
    "year = 1850\n",
    "variable = 'ConsTemp'\n",
    "cesm2var = 'TEMP'\n",
    "varname  = 'ConsTemp'\n",
    "gtype    = 'T'\n",
    "\n",
    "# load NEMO eANT025 grids\n",
    "domcfg   = xr.open_dataset(f'{base_folder}bathymetry/domain_cfg-20240305.nc')\n",
    "meshmask = xr.open_dataset(f'{base_folder}bathymetry/mesh_mask-20240305.nc')\n",
    "\n",
    "# create xarray dataset of cesm2 forcing\n",
    "climate_forcing = f'{base_folder}climate-forcing/CESM2/LE2/processed/'\n",
    "cesm2_ds        = xr.open_dataset(f'{climate_forcing}CESM2-LE2_ens1011.001_{cesm2var}_y{year}.nc')\n",
    "cesm2_ds['z_t'] = cesm2_ds['z_t']*1e-2\n",
    "cesm2_ds        = cesm2_ds.rename({'TLONG':'lon', 'TLAT':'lat'})\n",
    "cesm2_lon_E     = fix_lon_range(cesm2_ds['lon'])\n",
    "cesm2_ds['lon'] = cesm2_lon_E\n"
   ]
  },
  {
   "cell_type": "code",
   "execution_count": null,
   "id": "8a441fec-0814-4a30-9660-af8a64cd9cfd",
   "metadata": {},
   "outputs": [],
   "source": [
    "# adjust loop depending on the year because the ocean data starts in Feb. 1850\n",
    "if year==1850:\n",
    "    month_range = [2,12]#[2,12]\n",
    "else:\n",
    "    month_range = [1,12]\n",
    "\n",
    "for month in range(month_range[0],month_range[1]+1):\n",
    "    cesm2_source = cesm2_ds.isel(time=(cesm2_ds.time.dt.month==month)).isel(time=0).assign({'depth':cesm2_ds.z_t}).rename({varname:'data', 'nlat':'y', 'nlon':'x', 'z_t':'z'})\n",
    "\n",
    "    # load interpolation pickles\n",
    "    with open(f'{base_folder}cf-regridding/linear-regrid-CESM2-eANT025-z0-z70.pickle','rb') as file:\n",
    "        rgo1 = pickle.load(file)\n",
    "        ds1  = regrid_array_cf(cesm2_source, rgo1, key_3d=True, method='linear', src_cyclic=True, dst_cyclic=True)\n",
    "\n",
    "    with open(f'{base_folder}cf-regridding/linear-regrid-CESM2-eANT025-z70-z121.pickle','rb') as file:\n",
    "        rgo2 = pickle.load(file)\n",
    "        ds2  = regrid_array_cf(cesm2_source, rgo2, key_3d=True, method='linear', src_cyclic=True, dst_cyclic=True)\n",
    "\n",
    "    # combine pickles from both interpolations\n",
    "    ds_array        = np.vstack((ds1.array, ds2.array))\n",
    "    ds_array_masked = xr.where(ds_array==0, np.nan, ds_array)\n",
    "\n",
    "    # extract outer edge for boundary conditions\n",
    "    ds_bdy = ds_array_masked[:,slice(-1,None),:]\n",
    "\n",
    "    # Fill areas that are masked in source dataset but not in NEMO with nearest neighbours:\n",
    "    CESM2_interp   = xr.Dataset({variable:(('z','y','x'), ds_bdy)})\n",
    "    CESM2_extended = fill_ocean(CESM2_interp, variable, meshmask.isel(y=slice(-2,-1)), dim='3D', niter=400, fill_val=np.nan, grid=gtype)\n",
    "    CESM2_extended[variable] = CESM2_extended[variable].roll(x=-1) # because of fortran based indexing\n",
    "\n",
    "    # Fill nan values with an unrealistic constant value and correct shape to match the expected shape\n",
    "    CESM2_extended[variable] = xr.where(np.isnan(CESM2_extended[variable]), 9999, CESM2_extended[variable])\n",
    "    CESM2_extended[variable] = xr.where(CESM2_extended.z == CESM2_extended.z[-1], CESM2_extended[variable].isel(z=-2), CESM2_extended[variable])\n",
    "    CESM2_extended[variable] = ('time_counter','deptht','y','x'), CESM2_extended[variable].values[np.newaxis, ...]\n",
    "\n",
    "    # Write output to file:\n",
    "    CESM2_extended.to_netcdf(f'{base_folder}boundary-conditions/CESM2/LE2/CESM2_boundary_{variable}_y{year}m{month:02}.nc', unlimited_dims='time_counter')"
   ]
  },
  {
   "cell_type": "code",
   "execution_count": null,
   "id": "0e61aec6-55b0-49d1-bee8-8c96ebe36f51",
   "metadata": {},
   "outputs": [],
   "source": [
    "# var='ConsTemp'\n",
    "base_folder = '/gws/nopw/j04/anthrofail/birgal/NEMO_AIS/'\n",
    "# var = 'AbsSal'\n",
    "# old_ics = xr.open_dataset(f'{base_folder}initial-conditions/SOSE-{var}-initial-conditions-20240507.nc').isel(time_counter=0)\n",
    "# new_ics = xr.open_dataset(f'{base_folder}initial-conditions/CESM2_initial_{var}_y1850.nc').isel(time_counter=0)\n",
    "# old_bcs = xr.open_dataset(f'{base_folder}boundary-conditions/B-SOSE/SOSE-{var}-boundary-conditions-20240507_m01.nc')\n",
    "# new_bcs = xr.open_dataset(f'{base_folder}boundary-conditions/CESM2/LE2/CESM2_boundary_{var}_y1850m02.nc').isel(time_counter=0)\n",
    "\n",
    "old_bcs = xr.open_dataset(f'{base_folder}boundary-conditions/B-SOSE/SOSE-SeaIceArea-boundary-conditions-20240507_m09.nc')\n",
    "new_bcs = xr.open_dataset(f'{base_folder}boundary-conditions/CESM2/LE2/CESM2_boundary_aice_y1850m09.nc').isel(time_counter=0)"
   ]
  },
  {
   "cell_type": "code",
   "execution_count": null,
   "id": "de3b93bb-c0f5-446a-8248-01adf8ebc6ed",
   "metadata": {},
   "outputs": [],
   "source": [
    "new_bcs = xr.open_mfdataset(f'{base_folder}boundary-conditions/CESM2/LE2/CESM2_boundary_aice_y1850m*', concat_dim='t', combine='nested')"
   ]
  },
  {
   "cell_type": "code",
   "execution_count": null,
   "id": "5edd8b68-c9db-4557-86d6-e16c1baeed3d",
   "metadata": {},
   "outputs": [],
   "source": [
    "new_bcs.aice.isel(time_counter=0,y=0).max().values"
   ]
  },
  {
   "cell_type": "code",
   "execution_count": null,
   "id": "acc05951-7d53-4245-961f-02623471372b",
   "metadata": {},
   "outputs": [],
   "source": [
    "old_bcs['x'] = new_bcs.x\n",
    "old_bcs.SIarea.plot(figsize=(14,5))"
   ]
  },
  {
   "cell_type": "code",
   "execution_count": null,
   "id": "29548e67-478c-493a-b13e-5761acd7dea3",
   "metadata": {},
   "outputs": [],
   "source": [
    "new_bcs.aice.plot(figsize=(14,5))"
   ]
  },
  {
   "cell_type": "code",
   "execution_count": null,
   "id": "77694e57-e0ef-4fc7-ac6f-3c179cb67967",
   "metadata": {},
   "outputs": [],
   "source": [
    "differences1 = xr.where((old_bcs['VVEL']==9999) * (new_bcs['VVEL']!=9999), 10, 0)\n",
    "differences1['x'] = new_bcs.x\n",
    "differences1.plot(figsize=(18,5))"
   ]
  },
  {
   "cell_type": "code",
   "execution_count": null,
   "id": "52e433b9-ffe0-4ba1-af13-b6b3cd4a0222",
   "metadata": {},
   "outputs": [],
   "source": [
    "differences1 = xr.where((old_ics[var].isel(y=-1)==9999) * (old_bcs[var]!=0), 10, 0)\n",
    "differences1['x'] = new_bcs.x\n",
    "differences1.plot(figsize=(18,5))"
   ]
  },
  {
   "cell_type": "code",
   "execution_count": null,
   "id": "4b785dd3-9794-42db-baf9-cb5cce0a495f",
   "metadata": {},
   "outputs": [],
   "source": [
    "differences2 = xr.where((new_ics[var].isel(y=-1)==9999) * (new_bcs[var]!=9999), 10, 0)\n",
    "differences2.plot(figsize=(18,5), vmin=0, vmax=1)"
   ]
  },
  {
   "cell_type": "code",
   "execution_count": null,
   "id": "64ec2b3a-55be-4649-836a-b25fbd20162b",
   "metadata": {},
   "outputs": [],
   "source": [
    "(differences2-differences1).plot(figsize=(18,5), vmin=-0.1, vmax=0.1, cmap=cmocean.cm.balance)"
   ]
  },
  {
   "cell_type": "code",
   "execution_count": null,
   "id": "e937d95a-46fc-4a8d-8426-b90b7f979b83",
   "metadata": {},
   "outputs": [],
   "source": [
    "(new_ics.AbsSal-old_ics.AbsSal).max()"
   ]
  },
  {
   "cell_type": "code",
   "execution_count": null,
   "id": "39207120-6f03-4fb4-959a-3cb111bf2b91",
   "metadata": {},
   "outputs": [],
   "source": [
    "(new_ics.ConsTemp-old_ics.ConsTemp).max()"
   ]
  },
  {
   "cell_type": "code",
   "execution_count": null,
   "id": "b9813afe-25a1-4e4c-8b8d-7cf6e12c99fb",
   "metadata": {},
   "outputs": [],
   "source": [
    "new_ics.AbsSal.isel(deptht=0).plot(ylim=(440, 454), figsize=(18,4), vmin=32, vmax=35)"
   ]
  },
  {
   "cell_type": "markdown",
   "id": "da66be58-c176-45b9-9370-404bae3bc1f7",
   "metadata": {},
   "source": [
    "## Organize functions for new CESM2 initial conditions creation"
   ]
  },
  {
   "cell_type": "code",
   "execution_count": 6,
   "id": "9bc84519-33d1-4294-aa85-dbc3c16dc923",
   "metadata": {},
   "outputs": [],
   "source": [
    "import xarray as xr\n",
    "import numpy as np\n",
    "import sys\n",
    "sys.path.append('/home/users/birgal/')\n",
    "import pickle\n",
    "from nemo_python_git.utils import fix_lon_range, convert_to_teos10\n",
    "from nemo_python_git.interpolation import regrid_array_cf, regrid_operator_cf\n",
    "from nemo_python_git.ics_obcs import fill_ocean\n",
    "from nemo_python_git.forcing import find_cesm2_file"
   ]
  },
  {
   "cell_type": "code",
   "execution_count": 7,
   "id": "376a9e79-77e0-4156-a5d2-a55337b007e2",
   "metadata": {},
   "outputs": [],
   "source": [
    "# Helper function\n",
    "def fill_and_reshape(ds, variable, land_fill_val=9999, dim='3D'):\n",
    "    # Fill nan values with an unrealistic constant value\n",
    "    ds[variable] = xr.where(np.isnan(ds[variable]), land_fill_val, ds[variable])\n",
    "\n",
    "    # Reshape array\n",
    "    if dim=='3D':\n",
    "        ds[variable] = xr.where(ds.z == ds.z[-1], ds[variable].isel(z=-2), ds[variable]) # fill bottom grid cell with value from above it\n",
    "        ds[variable] = ('time_counter','deptht','y','x'), ds[variable].values[np.newaxis, ...] # add a time axis\n",
    "    elif dim=='2D':\n",
    "        ds[variable] = ('time_counter','y','x'), ds[variable].values[np.newaxis, ...] # add a time axis           \n",
    "    return ds"
   ]
  },
  {
   "cell_type": "code",
   "execution_count": 8,
   "id": "8fb5f581-594b-4595-b626-1572416769cd",
   "metadata": {},
   "outputs": [],
   "source": [
    "def regrid_cesm2_nemo_cf(cesm2_source, variable, dim='3D'):\n",
    "\n",
    "    if dim=='3D':\n",
    "        with open('/gws/nopw/j04/anthrofail/birgal/NEMO_AIS/cf-regridding/linear-regrid-CESM2-eANT025-z0-z70.pickle','rb') as file:\n",
    "            rgo1 = pickle.load(file)\n",
    "            ds1  = regrid_array_cf(cesm2_source, rgo1, key_3d=True, method='linear', src_cyclic=True, dst_cyclic=True)\n",
    "        with open('/gws/nopw/j04/anthrofail/birgal/NEMO_AIS/cf-regridding/linear-regrid-CESM2-eANT025-z70-z121.pickle','rb') as file:\n",
    "            rgo2 = pickle.load(file)\n",
    "            ds2  = regrid_array_cf(cesm2_source, rgo2, key_3d=True, method='linear', src_cyclic=True, dst_cyclic=True)\n",
    "        # combine pickles from both interpolations\n",
    "        ds_array = np.vstack((ds1.array, ds2.array))\n",
    "    elif dim=='2D':\n",
    "        with open('/gws/nopw/j04/anthrofail/birgal/NEMO_AIS/cf-regridding/linear-regrid-CESM2-eANT025-z0.pickle','rb') as file:\n",
    "            rgo1 = pickle.load(file)\n",
    "            ds1  = regrid_array_cf(cesm2_source, rgo1, key_3d=False, method='linear', src_cyclic=True, dst_cyclic=True)\n",
    "            ds_array = ds1.array\n",
    "\n",
    "    # Replace zeros with NaN\n",
    "    ds_array_masked = xr.where(ds_array==0, np.nan, ds_array)\n",
    "    if dim=='3D':\n",
    "        ds = xr.Dataset({variable:(('z','y','x'), ds_array_masked)})\n",
    "    elif dim=='2D':\n",
    "        ds = xr.Dataset({variable:(('y','x'), ds_array_masked)})\n",
    "\n",
    "    return ds"
   ]
  },
  {
   "cell_type": "code",
   "execution_count": 32,
   "id": "28045676-8e70-4b50-bf10-9bc65368f292",
   "metadata": {},
   "outputs": [],
   "source": [
    "def cesm2_bcs(variable, exp='LE2', ens='1011.001', dim='3D', year=1850, land_fill_val=9999, gtype='T',\n",
    "              cesm2_folder='/gws/nopw/j04/anthrofail/birgal/NEMO_AIS/climate-forcing/CESM2/LE2/processed/',\n",
    "              out_folder='/gws/nopw/j04/anthrofail/birgal/NEMO_AIS/boundary-conditions/CESM2/LE2/',\n",
    "              nemo_mask='/gws/nopw/j04/anthrofail/birgal/NEMO_AIS/bathymetry/mesh_mask-20240305.nc'):\n",
    "    if dim=='3D':\n",
    "        name_remapping = {variable:'data', 'TLONG':'lon', 'TLAT':'lat', 'nlat':'y', 'nlon':'x', 'z_t':'z'}\n",
    "    elif dim=='2D':\n",
    "        if variable in ['aice','sisnthick','sithick']:\n",
    "            name_remapping = {variable:'data', 'TLON':'lon', 'TLAT':'lat', 'nj':'y', 'ni':'x'}\n",
    "        else:\n",
    "            name_remapping = {variable:'data', 'TLONG':'lon', 'TLAT':'lat', 'nlat':'y', 'nlon':'x'}\n",
    "\n",
    "    # load NEMO grid:\n",
    "    nemo_mask_ds = xr.open_dataset(nemo_mask)\n",
    "    # load CESM2 file and specified month, rename variables:\n",
    "    cesm2_ds     = xr.open_dataset(f'{cesm2_folder}CESM2-LE2_ens{ens}_{variable}_y{year}.nc')\n",
    "\n",
    "    if year==1850:\n",
    "        month_range = range(2,12+1)\n",
    "    else:\n",
    "        month_range = range(1,12+1)\n",
    "    \n",
    "    for month in month_range:\n",
    "        cesm2_ds_month = cesm2_ds.isel(time=(cesm2_ds.time.dt.month==month)).isel(time=0)\n",
    "        if dim=='3D':\n",
    "            cesm2_ds_month = cesm2_ds_month.assign({'depth':cesm2_ds.z_t})\n",
    "        cesm2_source = cesm2_ds_month.rename(name_remapping)\n",
    "    \n",
    "        # interpolate CESM2 grid to NEMO grid and fill empty values with connected nearest neighbour\n",
    "        cesm2_interp   = regrid_cesm2_nemo_cf(cesm2_source, variable, dim=dim)\n",
    "        # extract the boundary layer:\n",
    "        cesm2_interp   = cesm2_interp.isel(y=slice(-1,None))\n",
    "        cesm2_extended = fill_ocean(cesm2_interp, variable, nemo_mask_ds.isel(y=slice(-2,-1)), dim=dim, niter=400, fill_val=np.nan, grid=gtype)\n",
    "        cesm2_extended[variable] = cesm2_extended[variable].roll(x=-1) # because of Fortran based indexing\n",
    "    \n",
    "        # Fill land values with an unrealistic constant value and add a time dimension to the shape\n",
    "        CESM2_bcs = fill_and_reshape(cesm2_extended, variable, land_fill_val=land_fill_val, dim=dim)\n",
    "    \n",
    "        # Write output to file:\n",
    "        CESM2_bcs.to_netcdf(f'{out_folder}CESM2-{exp}_ens{ens}_BCs_{variable}_y{year}m{month:02}.nc', unlimited_dims='time_counter')\n",
    "\n",
    "    return"
   ]
  },
  {
   "cell_type": "code",
   "execution_count": 33,
   "id": "d8f0afbe-c093-4bb9-9622-a704119715e8",
   "metadata": {},
   "outputs": [
    {
     "name": "stdout",
     "output_type": "stream",
     "text": [
      "Filling gaps with connected nearest neighbours\n"
     ]
    },
    {
     "name": "stderr",
     "output_type": "stream",
     "text": [
      "  4%|▍         | 15/400 [00:00<00:06, 63.27it/s]\n"
     ]
    },
    {
     "name": "stdout",
     "output_type": "stream",
     "text": [
      "Completed filling missing values\n",
      "Filling gaps with connected nearest neighbours\n"
     ]
    },
    {
     "name": "stderr",
     "output_type": "stream",
     "text": [
      "  4%|▍         | 15/400 [00:00<00:04, 77.31it/s]\n"
     ]
    },
    {
     "name": "stdout",
     "output_type": "stream",
     "text": [
      "Completed filling missing values\n",
      "Filling gaps with connected nearest neighbours\n"
     ]
    },
    {
     "name": "stderr",
     "output_type": "stream",
     "text": [
      "  4%|▍         | 15/400 [00:00<00:05, 73.54it/s]\n"
     ]
    },
    {
     "name": "stdout",
     "output_type": "stream",
     "text": [
      "Completed filling missing values\n",
      "Filling gaps with connected nearest neighbours\n"
     ]
    },
    {
     "name": "stderr",
     "output_type": "stream",
     "text": [
      "  4%|▍         | 15/400 [00:00<00:04, 82.12it/s]\n"
     ]
    },
    {
     "name": "stdout",
     "output_type": "stream",
     "text": [
      "Completed filling missing values\n",
      "Filling gaps with connected nearest neighbours\n"
     ]
    },
    {
     "name": "stderr",
     "output_type": "stream",
     "text": [
      "  4%|▍         | 15/400 [00:00<00:04, 81.22it/s]\n"
     ]
    },
    {
     "name": "stdout",
     "output_type": "stream",
     "text": [
      "Completed filling missing values\n",
      "Filling gaps with connected nearest neighbours\n"
     ]
    },
    {
     "name": "stderr",
     "output_type": "stream",
     "text": [
      "  4%|▍         | 15/400 [00:00<00:04, 90.40it/s]\n"
     ]
    },
    {
     "name": "stdout",
     "output_type": "stream",
     "text": [
      "Completed filling missing values\n",
      "Filling gaps with connected nearest neighbours\n"
     ]
    },
    {
     "name": "stderr",
     "output_type": "stream",
     "text": [
      "  4%|▍         | 15/400 [00:00<00:03, 103.09it/s]\n"
     ]
    },
    {
     "name": "stdout",
     "output_type": "stream",
     "text": [
      "Completed filling missing values\n",
      "Filling gaps with connected nearest neighbours\n"
     ]
    },
    {
     "name": "stderr",
     "output_type": "stream",
     "text": [
      "  4%|▍         | 15/400 [00:00<00:05, 74.15it/s]\n"
     ]
    },
    {
     "name": "stdout",
     "output_type": "stream",
     "text": [
      "Completed filling missing values\n",
      "Filling gaps with connected nearest neighbours\n"
     ]
    },
    {
     "name": "stderr",
     "output_type": "stream",
     "text": [
      "  4%|▍         | 15/400 [00:00<00:04, 95.05it/s]\n"
     ]
    },
    {
     "name": "stdout",
     "output_type": "stream",
     "text": [
      "Completed filling missing values\n",
      "Filling gaps with connected nearest neighbours\n"
     ]
    },
    {
     "name": "stderr",
     "output_type": "stream",
     "text": [
      "  4%|▍         | 15/400 [00:00<00:05, 76.46it/s]\n"
     ]
    },
    {
     "name": "stdout",
     "output_type": "stream",
     "text": [
      "Completed filling missing values\n",
      "Filling gaps with connected nearest neighbours\n"
     ]
    },
    {
     "name": "stderr",
     "output_type": "stream",
     "text": [
      "  4%|▍         | 15/400 [00:00<00:04, 78.48it/s]\n"
     ]
    },
    {
     "name": "stdout",
     "output_type": "stream",
     "text": [
      "Completed filling missing values\n",
      "Filling gaps with connected nearest neighbours\n"
     ]
    },
    {
     "name": "stderr",
     "output_type": "stream",
     "text": [
      "  4%|▍         | 15/400 [00:00<00:04, 81.56it/s]\n"
     ]
    },
    {
     "name": "stdout",
     "output_type": "stream",
     "text": [
      "Completed filling missing values\n",
      "Filling gaps with connected nearest neighbours\n"
     ]
    },
    {
     "name": "stderr",
     "output_type": "stream",
     "text": [
      "  4%|▍         | 15/400 [00:00<00:04, 88.38it/s]\n"
     ]
    },
    {
     "name": "stdout",
     "output_type": "stream",
     "text": [
      "Completed filling missing values\n",
      "Filling gaps with connected nearest neighbours\n"
     ]
    },
    {
     "name": "stderr",
     "output_type": "stream",
     "text": [
      "  4%|▍         | 15/400 [00:00<00:04, 79.69it/s]\n"
     ]
    },
    {
     "name": "stdout",
     "output_type": "stream",
     "text": [
      "Completed filling missing values\n",
      "Filling gaps with connected nearest neighbours\n"
     ]
    },
    {
     "name": "stderr",
     "output_type": "stream",
     "text": [
      "  4%|▍         | 15/400 [00:00<00:03, 107.84it/s]\n"
     ]
    },
    {
     "name": "stdout",
     "output_type": "stream",
     "text": [
      "Completed filling missing values\n",
      "Filling gaps with connected nearest neighbours\n"
     ]
    },
    {
     "name": "stderr",
     "output_type": "stream",
     "text": [
      "  4%|▍         | 15/400 [00:00<00:05, 76.24it/s]\n"
     ]
    },
    {
     "name": "stdout",
     "output_type": "stream",
     "text": [
      "Completed filling missing values\n",
      "Filling gaps with connected nearest neighbours\n"
     ]
    },
    {
     "name": "stderr",
     "output_type": "stream",
     "text": [
      "  4%|▍         | 15/400 [00:00<00:04, 86.87it/s]\n"
     ]
    },
    {
     "name": "stdout",
     "output_type": "stream",
     "text": [
      "Completed filling missing values\n",
      "Filling gaps with connected nearest neighbours\n"
     ]
    },
    {
     "name": "stderr",
     "output_type": "stream",
     "text": [
      "  4%|▍         | 15/400 [00:00<00:05, 76.21it/s]\n"
     ]
    },
    {
     "name": "stdout",
     "output_type": "stream",
     "text": [
      "Completed filling missing values\n",
      "Filling gaps with connected nearest neighbours\n"
     ]
    },
    {
     "name": "stderr",
     "output_type": "stream",
     "text": [
      "  4%|▍         | 15/400 [00:00<00:04, 83.58it/s]\n"
     ]
    },
    {
     "name": "stdout",
     "output_type": "stream",
     "text": [
      "Completed filling missing values\n",
      "Filling gaps with connected nearest neighbours\n"
     ]
    },
    {
     "name": "stderr",
     "output_type": "stream",
     "text": [
      "  4%|▍         | 15/400 [00:00<00:04, 81.03it/s]\n"
     ]
    },
    {
     "name": "stdout",
     "output_type": "stream",
     "text": [
      "Completed filling missing values\n",
      "Filling gaps with connected nearest neighbours\n"
     ]
    },
    {
     "name": "stderr",
     "output_type": "stream",
     "text": [
      "  4%|▍         | 15/400 [00:00<00:05, 75.36it/s]\n"
     ]
    },
    {
     "name": "stdout",
     "output_type": "stream",
     "text": [
      "Completed filling missing values\n",
      "Filling gaps with connected nearest neighbours\n"
     ]
    },
    {
     "name": "stderr",
     "output_type": "stream",
     "text": [
      "  4%|▍         | 15/400 [00:00<00:04, 77.73it/s]\n"
     ]
    },
    {
     "name": "stdout",
     "output_type": "stream",
     "text": [
      "Completed filling missing values\n",
      "Filling gaps with connected nearest neighbours\n"
     ]
    },
    {
     "name": "stderr",
     "output_type": "stream",
     "text": [
      "  4%|▍         | 15/400 [00:00<00:05, 74.61it/s]\n"
     ]
    },
    {
     "name": "stdout",
     "output_type": "stream",
     "text": [
      "Completed filling missing values\n",
      "Filling gaps with connected nearest neighbours\n"
     ]
    },
    {
     "name": "stderr",
     "output_type": "stream",
     "text": [
      "  4%|▍         | 15/400 [00:00<00:04, 89.10it/s]"
     ]
    },
    {
     "name": "stdout",
     "output_type": "stream",
     "text": [
      "Completed filling missing values\n"
     ]
    },
    {
     "name": "stderr",
     "output_type": "stream",
     "text": [
      "\n"
     ]
    },
    {
     "name": "stdout",
     "output_type": "stream",
     "text": [
      "Filling gaps with connected nearest neighbours\n"
     ]
    },
    {
     "name": "stderr",
     "output_type": "stream",
     "text": [
      "  4%|▍         | 15/400 [00:00<00:03, 98.22it/s]\n"
     ]
    },
    {
     "name": "stdout",
     "output_type": "stream",
     "text": [
      "Completed filling missing values\n",
      "Filling gaps with connected nearest neighbours\n"
     ]
    },
    {
     "name": "stderr",
     "output_type": "stream",
     "text": [
      "  4%|▍         | 15/400 [00:00<00:04, 80.83it/s]\n"
     ]
    },
    {
     "name": "stdout",
     "output_type": "stream",
     "text": [
      "Completed filling missing values\n",
      "Filling gaps with connected nearest neighbours\n"
     ]
    },
    {
     "name": "stderr",
     "output_type": "stream",
     "text": [
      "  4%|▍         | 15/400 [00:00<00:04, 79.75it/s]\n"
     ]
    },
    {
     "name": "stdout",
     "output_type": "stream",
     "text": [
      "Completed filling missing values\n",
      "Filling gaps with connected nearest neighbours\n"
     ]
    },
    {
     "name": "stderr",
     "output_type": "stream",
     "text": [
      "  4%|▍         | 15/400 [00:00<00:04, 82.62it/s]\n"
     ]
    },
    {
     "name": "stdout",
     "output_type": "stream",
     "text": [
      "Completed filling missing values\n",
      "Filling gaps with connected nearest neighbours\n"
     ]
    },
    {
     "name": "stderr",
     "output_type": "stream",
     "text": [
      "  4%|▍         | 15/400 [00:00<00:04, 85.25it/s]\n"
     ]
    },
    {
     "name": "stdout",
     "output_type": "stream",
     "text": [
      "Completed filling missing values\n",
      "Filling gaps with connected nearest neighbours\n"
     ]
    },
    {
     "name": "stderr",
     "output_type": "stream",
     "text": [
      "  4%|▍         | 15/400 [00:00<00:04, 81.30it/s]\n"
     ]
    },
    {
     "name": "stdout",
     "output_type": "stream",
     "text": [
      "Completed filling missing values\n",
      "Filling gaps with connected nearest neighbours\n"
     ]
    },
    {
     "name": "stderr",
     "output_type": "stream",
     "text": [
      "  4%|▍         | 15/400 [00:00<00:04, 79.16it/s]\n"
     ]
    },
    {
     "name": "stdout",
     "output_type": "stream",
     "text": [
      "Completed filling missing values\n",
      "Filling gaps with connected nearest neighbours\n"
     ]
    },
    {
     "name": "stderr",
     "output_type": "stream",
     "text": [
      "  4%|▍         | 15/400 [00:00<00:05, 76.79it/s]\n"
     ]
    },
    {
     "name": "stdout",
     "output_type": "stream",
     "text": [
      "Completed filling missing values\n",
      "Filling gaps with connected nearest neighbours\n"
     ]
    },
    {
     "name": "stderr",
     "output_type": "stream",
     "text": [
      "  4%|▍         | 15/400 [00:00<00:04, 83.51it/s]\n"
     ]
    },
    {
     "name": "stdout",
     "output_type": "stream",
     "text": [
      "Completed filling missing values\n",
      "Filling gaps with connected nearest neighbours\n"
     ]
    },
    {
     "name": "stderr",
     "output_type": "stream",
     "text": [
      "  4%|▍         | 15/400 [00:00<00:05, 75.58it/s]\n"
     ]
    },
    {
     "name": "stdout",
     "output_type": "stream",
     "text": [
      "Completed filling missing values\n",
      "Filling gaps with connected nearest neighbours\n"
     ]
    },
    {
     "name": "stderr",
     "output_type": "stream",
     "text": [
      "  4%|▍         | 15/400 [00:00<00:04, 80.87it/s]\n"
     ]
    },
    {
     "name": "stdout",
     "output_type": "stream",
     "text": [
      "Completed filling missing values\n",
      "Filling gaps with connected nearest neighbours\n"
     ]
    },
    {
     "name": "stderr",
     "output_type": "stream",
     "text": [
      "  4%|▍         | 15/400 [00:00<00:04, 80.67it/s]\n"
     ]
    },
    {
     "name": "stdout",
     "output_type": "stream",
     "text": [
      "Completed filling missing values\n",
      "Filling gaps with connected nearest neighbours\n"
     ]
    },
    {
     "name": "stderr",
     "output_type": "stream",
     "text": [
      "  4%|▍         | 15/400 [00:00<00:04, 88.90it/s]\n"
     ]
    },
    {
     "name": "stdout",
     "output_type": "stream",
     "text": [
      "Completed filling missing values\n",
      "Filling gaps with connected nearest neighbours\n"
     ]
    },
    {
     "name": "stderr",
     "output_type": "stream",
     "text": [
      "  4%|▍         | 15/400 [00:00<00:04, 78.43it/s]\n"
     ]
    },
    {
     "name": "stdout",
     "output_type": "stream",
     "text": [
      "Completed filling missing values\n",
      "Filling gaps with connected nearest neighbours\n"
     ]
    },
    {
     "name": "stderr",
     "output_type": "stream",
     "text": [
      "  4%|▍         | 15/400 [00:00<00:04, 83.51it/s]\n"
     ]
    },
    {
     "name": "stdout",
     "output_type": "stream",
     "text": [
      "Completed filling missing values\n",
      "Filling gaps with connected nearest neighbours\n"
     ]
    },
    {
     "name": "stderr",
     "output_type": "stream",
     "text": [
      "  4%|▍         | 15/400 [00:00<00:05, 73.11it/s]\n"
     ]
    },
    {
     "name": "stdout",
     "output_type": "stream",
     "text": [
      "Completed filling missing values\n",
      "Filling gaps with connected nearest neighbours\n"
     ]
    },
    {
     "name": "stderr",
     "output_type": "stream",
     "text": [
      "  4%|▍         | 15/400 [00:00<00:05, 73.49it/s]\n"
     ]
    },
    {
     "name": "stdout",
     "output_type": "stream",
     "text": [
      "Completed filling missing values\n",
      "Filling gaps with connected nearest neighbours\n"
     ]
    },
    {
     "name": "stderr",
     "output_type": "stream",
     "text": [
      "  4%|▍         | 15/400 [00:00<00:04, 78.71it/s]\n"
     ]
    },
    {
     "name": "stdout",
     "output_type": "stream",
     "text": [
      "Completed filling missing values\n",
      "Filling gaps with connected nearest neighbours\n"
     ]
    },
    {
     "name": "stderr",
     "output_type": "stream",
     "text": [
      "  4%|▍         | 15/400 [00:00<00:04, 85.77it/s]\n"
     ]
    },
    {
     "name": "stdout",
     "output_type": "stream",
     "text": [
      "Completed filling missing values\n",
      "Filling gaps with connected nearest neighbours\n"
     ]
    },
    {
     "name": "stderr",
     "output_type": "stream",
     "text": [
      "  4%|▍         | 15/400 [00:00<00:04, 83.01it/s]\n"
     ]
    },
    {
     "name": "stdout",
     "output_type": "stream",
     "text": [
      "Completed filling missing values\n",
      "Filling gaps with connected nearest neighbours\n"
     ]
    },
    {
     "name": "stderr",
     "output_type": "stream",
     "text": [
      "  4%|▍         | 15/400 [00:00<00:04, 80.08it/s]\n"
     ]
    },
    {
     "name": "stdout",
     "output_type": "stream",
     "text": [
      "Completed filling missing values\n",
      "Filling gaps with connected nearest neighbours\n"
     ]
    },
    {
     "name": "stderr",
     "output_type": "stream",
     "text": [
      "  4%|▍         | 15/400 [00:00<00:04, 77.33it/s]\n"
     ]
    },
    {
     "name": "stdout",
     "output_type": "stream",
     "text": [
      "Completed filling missing values\n",
      "Filling gaps with connected nearest neighbours\n"
     ]
    },
    {
     "name": "stderr",
     "output_type": "stream",
     "text": [
      "  4%|▍         | 15/400 [00:00<00:04, 94.25it/s] \n"
     ]
    },
    {
     "name": "stdout",
     "output_type": "stream",
     "text": [
      "Completed filling missing values\n",
      "Filling gaps with connected nearest neighbours\n"
     ]
    },
    {
     "name": "stderr",
     "output_type": "stream",
     "text": [
      "  4%|▍         | 15/400 [00:00<00:04, 81.21it/s]\n"
     ]
    },
    {
     "name": "stdout",
     "output_type": "stream",
     "text": [
      "Completed filling missing values\n",
      "Filling gaps with connected nearest neighbours\n"
     ]
    },
    {
     "name": "stderr",
     "output_type": "stream",
     "text": [
      "  4%|▍         | 15/400 [00:00<00:03, 103.57it/s]\n"
     ]
    },
    {
     "name": "stdout",
     "output_type": "stream",
     "text": [
      "Completed filling missing values\n",
      "Filling gaps with connected nearest neighbours\n"
     ]
    },
    {
     "name": "stderr",
     "output_type": "stream",
     "text": [
      "  4%|▍         | 15/400 [00:00<00:05, 76.12it/s]\n"
     ]
    },
    {
     "name": "stdout",
     "output_type": "stream",
     "text": [
      "Completed filling missing values\n",
      "Filling gaps with connected nearest neighbours\n"
     ]
    },
    {
     "name": "stderr",
     "output_type": "stream",
     "text": [
      "  4%|▍         | 15/400 [00:00<00:04, 80.68it/s]\n"
     ]
    },
    {
     "name": "stdout",
     "output_type": "stream",
     "text": [
      "Completed filling missing values\n",
      "Filling gaps with connected nearest neighbours\n"
     ]
    },
    {
     "name": "stderr",
     "output_type": "stream",
     "text": [
      "  4%|▍         | 15/400 [00:00<00:04, 78.54it/s]\n"
     ]
    },
    {
     "name": "stdout",
     "output_type": "stream",
     "text": [
      "Completed filling missing values\n",
      "Filling gaps with connected nearest neighbours\n"
     ]
    },
    {
     "name": "stderr",
     "output_type": "stream",
     "text": [
      "  4%|▍         | 15/400 [00:00<00:04, 90.66it/s]\n"
     ]
    },
    {
     "name": "stdout",
     "output_type": "stream",
     "text": [
      "Completed filling missing values\n",
      "Filling gaps with connected nearest neighbours\n"
     ]
    },
    {
     "name": "stderr",
     "output_type": "stream",
     "text": [
      "  4%|▍         | 15/400 [00:00<00:03, 108.25it/s]\n"
     ]
    },
    {
     "name": "stdout",
     "output_type": "stream",
     "text": [
      "Completed filling missing values\n",
      "Filling gaps with connected nearest neighbours\n"
     ]
    },
    {
     "name": "stderr",
     "output_type": "stream",
     "text": [
      "  4%|▍         | 15/400 [00:00<00:04, 89.43it/s]\n"
     ]
    },
    {
     "name": "stdout",
     "output_type": "stream",
     "text": [
      "Completed filling missing values\n",
      "Filling gaps with connected nearest neighbours\n"
     ]
    },
    {
     "name": "stderr",
     "output_type": "stream",
     "text": [
      "  4%|▍         | 15/400 [00:00<00:04, 80.83it/s]\n"
     ]
    },
    {
     "name": "stdout",
     "output_type": "stream",
     "text": [
      "Completed filling missing values\n",
      "Filling gaps with connected nearest neighbours\n"
     ]
    },
    {
     "name": "stderr",
     "output_type": "stream",
     "text": [
      "  4%|▍         | 15/400 [00:00<00:04, 79.45it/s]\n"
     ]
    },
    {
     "name": "stdout",
     "output_type": "stream",
     "text": [
      "Completed filling missing values\n",
      "Filling gaps with connected nearest neighbours\n"
     ]
    },
    {
     "name": "stderr",
     "output_type": "stream",
     "text": [
      "  4%|▍         | 15/400 [00:00<00:04, 83.59it/s]\n"
     ]
    },
    {
     "name": "stdout",
     "output_type": "stream",
     "text": [
      "Completed filling missing values\n",
      "Filling gaps with connected nearest neighbours\n"
     ]
    },
    {
     "name": "stderr",
     "output_type": "stream",
     "text": [
      "  4%|▍         | 15/400 [00:00<00:04, 84.55it/s]\n"
     ]
    },
    {
     "name": "stdout",
     "output_type": "stream",
     "text": [
      "Completed filling missing values\n",
      "Filling gaps with connected nearest neighbours\n"
     ]
    },
    {
     "name": "stderr",
     "output_type": "stream",
     "text": [
      "  4%|▍         | 15/400 [00:00<00:04, 82.38it/s]"
     ]
    },
    {
     "name": "stdout",
     "output_type": "stream",
     "text": [
      "Completed filling missing values\n"
     ]
    },
    {
     "name": "stderr",
     "output_type": "stream",
     "text": [
      "\n"
     ]
    },
    {
     "name": "stdout",
     "output_type": "stream",
     "text": [
      "Filling gaps with connected nearest neighbours\n"
     ]
    },
    {
     "name": "stderr",
     "output_type": "stream",
     "text": [
      "  4%|▍         | 15/400 [00:00<00:05, 76.38it/s]\n"
     ]
    },
    {
     "name": "stdout",
     "output_type": "stream",
     "text": [
      "Completed filling missing values\n",
      "Filling gaps with connected nearest neighbours\n"
     ]
    },
    {
     "name": "stderr",
     "output_type": "stream",
     "text": [
      "  4%|▍         | 15/400 [00:00<00:04, 79.63it/s]\n"
     ]
    },
    {
     "name": "stdout",
     "output_type": "stream",
     "text": [
      "Completed filling missing values\n",
      "Filling gaps with connected nearest neighbours\n"
     ]
    },
    {
     "name": "stderr",
     "output_type": "stream",
     "text": [
      "  4%|▍         | 15/400 [00:00<00:04, 82.36it/s]\n"
     ]
    },
    {
     "name": "stdout",
     "output_type": "stream",
     "text": [
      "Completed filling missing values\n",
      "Filling gaps with connected nearest neighbours\n"
     ]
    },
    {
     "name": "stderr",
     "output_type": "stream",
     "text": [
      "  4%|▍         | 15/400 [00:00<00:04, 77.87it/s]\n"
     ]
    },
    {
     "name": "stdout",
     "output_type": "stream",
     "text": [
      "Completed filling missing values\n",
      "Filling gaps with connected nearest neighbours\n"
     ]
    },
    {
     "name": "stderr",
     "output_type": "stream",
     "text": [
      "  4%|▍         | 15/400 [00:00<00:04, 81.14it/s]\n"
     ]
    },
    {
     "name": "stdout",
     "output_type": "stream",
     "text": [
      "Completed filling missing values\n",
      "Filling gaps with connected nearest neighbours\n"
     ]
    },
    {
     "name": "stderr",
     "output_type": "stream",
     "text": [
      "  4%|▍         | 15/400 [00:00<00:04, 77.91it/s]\n"
     ]
    },
    {
     "name": "stdout",
     "output_type": "stream",
     "text": [
      "Completed filling missing values\n",
      "Filling gaps with connected nearest neighbours\n"
     ]
    },
    {
     "name": "stderr",
     "output_type": "stream",
     "text": [
      "  4%|▍         | 15/400 [00:00<00:04, 89.44it/s]\n"
     ]
    },
    {
     "name": "stdout",
     "output_type": "stream",
     "text": [
      "Completed filling missing values\n",
      "Filling gaps with connected nearest neighbours\n"
     ]
    },
    {
     "name": "stderr",
     "output_type": "stream",
     "text": [
      "  4%|▍         | 15/400 [00:00<00:04, 81.74it/s]\n"
     ]
    },
    {
     "name": "stdout",
     "output_type": "stream",
     "text": [
      "Completed filling missing values\n",
      "Filling gaps with connected nearest neighbours\n"
     ]
    },
    {
     "name": "stderr",
     "output_type": "stream",
     "text": [
      "  4%|▍         | 15/400 [00:00<00:04, 88.42it/s]\n"
     ]
    },
    {
     "name": "stdout",
     "output_type": "stream",
     "text": [
      "Completed filling missing values\n",
      "Filling gaps with connected nearest neighbours\n"
     ]
    },
    {
     "name": "stderr",
     "output_type": "stream",
     "text": [
      "  4%|▍         | 15/400 [00:00<00:04, 87.68it/s]\n"
     ]
    },
    {
     "name": "stdout",
     "output_type": "stream",
     "text": [
      "Completed filling missing values\n",
      "Filling gaps with connected nearest neighbours\n"
     ]
    },
    {
     "name": "stderr",
     "output_type": "stream",
     "text": [
      "  4%|▍         | 15/400 [00:00<00:03, 96.74it/s]\n"
     ]
    },
    {
     "name": "stdout",
     "output_type": "stream",
     "text": [
      "Completed filling missing values\n",
      "Filling gaps with connected nearest neighbours\n"
     ]
    },
    {
     "name": "stderr",
     "output_type": "stream",
     "text": [
      "  4%|▍         | 15/400 [00:00<00:04, 82.88it/s]\n"
     ]
    },
    {
     "name": "stdout",
     "output_type": "stream",
     "text": [
      "Completed filling missing values\n",
      "Filling gaps with connected nearest neighbours\n"
     ]
    },
    {
     "name": "stderr",
     "output_type": "stream",
     "text": [
      "  4%|▍         | 15/400 [00:00<00:04, 88.29it/s]\n"
     ]
    },
    {
     "name": "stdout",
     "output_type": "stream",
     "text": [
      "Completed filling missing values\n",
      "Filling gaps with connected nearest neighbours\n"
     ]
    },
    {
     "name": "stderr",
     "output_type": "stream",
     "text": [
      "  4%|▍         | 15/400 [00:00<00:04, 84.33it/s]\n"
     ]
    },
    {
     "name": "stdout",
     "output_type": "stream",
     "text": [
      "Completed filling missing values\n",
      "Filling gaps with connected nearest neighbours\n"
     ]
    },
    {
     "name": "stderr",
     "output_type": "stream",
     "text": [
      "  4%|▍         | 15/400 [00:00<00:04, 89.83it/s]\n"
     ]
    },
    {
     "name": "stdout",
     "output_type": "stream",
     "text": [
      "Completed filling missing values\n",
      "Filling gaps with connected nearest neighbours\n"
     ]
    },
    {
     "name": "stderr",
     "output_type": "stream",
     "text": [
      "  4%|▍         | 15/400 [00:00<00:05, 73.88it/s]\n"
     ]
    },
    {
     "name": "stdout",
     "output_type": "stream",
     "text": [
      "Completed filling missing values\n",
      "Filling gaps with connected nearest neighbours\n"
     ]
    },
    {
     "name": "stderr",
     "output_type": "stream",
     "text": [
      "  4%|▍         | 15/400 [00:00<00:04, 80.05it/s]\n"
     ]
    },
    {
     "name": "stdout",
     "output_type": "stream",
     "text": [
      "Completed filling missing values\n",
      "Filling gaps with connected nearest neighbours\n"
     ]
    },
    {
     "name": "stderr",
     "output_type": "stream",
     "text": [
      "  4%|▍         | 15/400 [00:00<00:04, 78.58it/s]\n"
     ]
    },
    {
     "name": "stdout",
     "output_type": "stream",
     "text": [
      "Completed filling missing values\n",
      "Filling gaps with connected nearest neighbours\n"
     ]
    },
    {
     "name": "stderr",
     "output_type": "stream",
     "text": [
      "  4%|▍         | 15/400 [00:00<00:04, 92.51it/s]\n"
     ]
    },
    {
     "name": "stdout",
     "output_type": "stream",
     "text": [
      "Completed filling missing values\n",
      "Filling gaps with connected nearest neighbours\n"
     ]
    },
    {
     "name": "stderr",
     "output_type": "stream",
     "text": [
      "  4%|▍         | 15/400 [00:00<00:04, 85.18it/s]\n"
     ]
    },
    {
     "name": "stdout",
     "output_type": "stream",
     "text": [
      "Completed filling missing values\n",
      "Filling gaps with connected nearest neighbours\n"
     ]
    },
    {
     "name": "stderr",
     "output_type": "stream",
     "text": [
      "  4%|▍         | 15/400 [00:00<00:04, 79.72it/s]\n"
     ]
    },
    {
     "name": "stdout",
     "output_type": "stream",
     "text": [
      "Completed filling missing values\n",
      "Filling gaps with connected nearest neighbours\n"
     ]
    },
    {
     "name": "stderr",
     "output_type": "stream",
     "text": [
      "  4%|▍         | 15/400 [00:00<00:04, 79.20it/s]\n"
     ]
    },
    {
     "name": "stdout",
     "output_type": "stream",
     "text": [
      "Completed filling missing values\n",
      "Filling gaps with connected nearest neighbours\n"
     ]
    },
    {
     "name": "stderr",
     "output_type": "stream",
     "text": [
      "  4%|▍         | 15/400 [00:00<00:04, 86.93it/s]\n"
     ]
    },
    {
     "name": "stdout",
     "output_type": "stream",
     "text": [
      "Completed filling missing values\n",
      "Filling gaps with connected nearest neighbours\n"
     ]
    },
    {
     "name": "stderr",
     "output_type": "stream",
     "text": [
      "  4%|▍         | 15/400 [00:00<00:04, 84.20it/s]\n"
     ]
    },
    {
     "name": "stdout",
     "output_type": "stream",
     "text": [
      "Completed filling missing values\n"
     ]
    },
    {
     "ename": "KeyboardInterrupt",
     "evalue": "",
     "output_type": "error",
     "traceback": [
      "\u001b[0;31m---------------------------------------------------------------------------\u001b[0m",
      "\u001b[0;31mKeyboardInterrupt\u001b[0m                         Traceback (most recent call last)",
      "Cell \u001b[0;32mIn[33], line 2\u001b[0m\n\u001b[1;32m      1\u001b[0m \u001b[38;5;28;01mfor\u001b[39;00m year \u001b[38;5;129;01min\u001b[39;00m \u001b[38;5;28mrange\u001b[39m(\u001b[38;5;241m1850\u001b[39m, \u001b[38;5;241m1860\u001b[39m):\n\u001b[0;32m----> 2\u001b[0m     \u001b[43mcesm2_bcs\u001b[49m\u001b[43m(\u001b[49m\u001b[38;5;124;43m'\u001b[39;49m\u001b[38;5;124;43mAbsSal\u001b[39;49m\u001b[38;5;124;43m'\u001b[39;49m\u001b[43m,\u001b[49m\u001b[43m \u001b[49m\u001b[43myear\u001b[49m\u001b[38;5;241;43m=\u001b[39;49m\u001b[43myear\u001b[49m\u001b[43m,\u001b[49m\u001b[43m \u001b[49m\u001b[43mexp\u001b[49m\u001b[38;5;241;43m=\u001b[39;49m\u001b[38;5;124;43m'\u001b[39;49m\u001b[38;5;124;43mLE2\u001b[39;49m\u001b[38;5;124;43m'\u001b[39;49m\u001b[43m,\u001b[49m\u001b[43m \u001b[49m\u001b[43mens\u001b[49m\u001b[38;5;241;43m=\u001b[39;49m\u001b[38;5;124;43m'\u001b[39;49m\u001b[38;5;124;43m1011.001\u001b[39;49m\u001b[38;5;124;43m'\u001b[39;49m\u001b[43m,\u001b[49m\u001b[43m \u001b[49m\u001b[43mdim\u001b[49m\u001b[38;5;241;43m=\u001b[39;49m\u001b[38;5;124;43m'\u001b[39;49m\u001b[38;5;124;43m3D\u001b[39;49m\u001b[38;5;124;43m'\u001b[39;49m\u001b[43m)\u001b[49m\n",
      "Cell \u001b[0;32mIn[32], line 30\u001b[0m, in \u001b[0;36mcesm2_bcs\u001b[0;34m(variable, exp, ens, dim, year, land_fill_val, gtype, cesm2_folder, out_folder, nemo_mask)\u001b[0m\n\u001b[1;32m     27\u001b[0m cesm2_source \u001b[38;5;241m=\u001b[39m cesm2_ds_month\u001b[38;5;241m.\u001b[39mrename(name_remapping)\n\u001b[1;32m     29\u001b[0m \u001b[38;5;66;03m# interpolate CESM2 grid to NEMO grid and fill empty values with connected nearest neighbour\u001b[39;00m\n\u001b[0;32m---> 30\u001b[0m cesm2_interp   \u001b[38;5;241m=\u001b[39m \u001b[43mregrid_cesm2_nemo_cf\u001b[49m\u001b[43m(\u001b[49m\u001b[43mcesm2_source\u001b[49m\u001b[43m,\u001b[49m\u001b[43m \u001b[49m\u001b[43mvariable\u001b[49m\u001b[43m,\u001b[49m\u001b[43m \u001b[49m\u001b[43mdim\u001b[49m\u001b[38;5;241;43m=\u001b[39;49m\u001b[43mdim\u001b[49m\u001b[43m)\u001b[49m\n\u001b[1;32m     31\u001b[0m \u001b[38;5;66;03m# extract the boundary layer:\u001b[39;00m\n\u001b[1;32m     32\u001b[0m cesm2_interp   \u001b[38;5;241m=\u001b[39m cesm2_interp\u001b[38;5;241m.\u001b[39misel(y\u001b[38;5;241m=\u001b[39m\u001b[38;5;28mslice\u001b[39m(\u001b[38;5;241m-\u001b[39m\u001b[38;5;241m1\u001b[39m,\u001b[38;5;28;01mNone\u001b[39;00m))\n",
      "Cell \u001b[0;32mIn[8], line 6\u001b[0m, in \u001b[0;36mregrid_cesm2_nemo_cf\u001b[0;34m(cesm2_source, variable, dim)\u001b[0m\n\u001b[1;32m      4\u001b[0m \u001b[38;5;28;01mwith\u001b[39;00m \u001b[38;5;28mopen\u001b[39m(\u001b[38;5;124m'\u001b[39m\u001b[38;5;124m/gws/nopw/j04/anthrofail/birgal/NEMO_AIS/cf-regridding/linear-regrid-CESM2-eANT025-z0-z70.pickle\u001b[39m\u001b[38;5;124m'\u001b[39m,\u001b[38;5;124m'\u001b[39m\u001b[38;5;124mrb\u001b[39m\u001b[38;5;124m'\u001b[39m) \u001b[38;5;28;01mas\u001b[39;00m file:\n\u001b[1;32m      5\u001b[0m     rgo1 \u001b[38;5;241m=\u001b[39m pickle\u001b[38;5;241m.\u001b[39mload(file)\n\u001b[0;32m----> 6\u001b[0m     ds1  \u001b[38;5;241m=\u001b[39m \u001b[43mregrid_array_cf\u001b[49m\u001b[43m(\u001b[49m\u001b[43mcesm2_source\u001b[49m\u001b[43m,\u001b[49m\u001b[43m \u001b[49m\u001b[43mrgo1\u001b[49m\u001b[43m,\u001b[49m\u001b[43m \u001b[49m\u001b[43mkey_3d\u001b[49m\u001b[38;5;241;43m=\u001b[39;49m\u001b[38;5;28;43;01mTrue\u001b[39;49;00m\u001b[43m,\u001b[49m\u001b[43m \u001b[49m\u001b[43mmethod\u001b[49m\u001b[38;5;241;43m=\u001b[39;49m\u001b[38;5;124;43m'\u001b[39;49m\u001b[38;5;124;43mlinear\u001b[39;49m\u001b[38;5;124;43m'\u001b[39;49m\u001b[43m,\u001b[49m\u001b[43m \u001b[49m\u001b[43msrc_cyclic\u001b[49m\u001b[38;5;241;43m=\u001b[39;49m\u001b[38;5;28;43;01mTrue\u001b[39;49;00m\u001b[43m,\u001b[49m\u001b[43m \u001b[49m\u001b[43mdst_cyclic\u001b[49m\u001b[38;5;241;43m=\u001b[39;49m\u001b[38;5;28;43;01mTrue\u001b[39;49;00m\u001b[43m)\u001b[49m\n\u001b[1;32m      7\u001b[0m \u001b[38;5;28;01mwith\u001b[39;00m \u001b[38;5;28mopen\u001b[39m(\u001b[38;5;124m'\u001b[39m\u001b[38;5;124m/gws/nopw/j04/anthrofail/birgal/NEMO_AIS/cf-regridding/linear-regrid-CESM2-eANT025-z70-z121.pickle\u001b[39m\u001b[38;5;124m'\u001b[39m,\u001b[38;5;124m'\u001b[39m\u001b[38;5;124mrb\u001b[39m\u001b[38;5;124m'\u001b[39m) \u001b[38;5;28;01mas\u001b[39;00m file:\n\u001b[1;32m      8\u001b[0m     rgo2 \u001b[38;5;241m=\u001b[39m pickle\u001b[38;5;241m.\u001b[39mload(file)\n",
      "File \u001b[0;32m~/nemo_python_git/interpolation.py:346\u001b[0m, in \u001b[0;36mregrid_array_cf\u001b[0;34m(source, regrid_operator, key_3d, method, src_cyclic, dst_cyclic)\u001b[0m\n\u001b[1;32m    343\u001b[0m     src \u001b[38;5;241m=\u001b[39m construct_cf(source[\u001b[38;5;124m'\u001b[39m\u001b[38;5;124mdata\u001b[39m\u001b[38;5;124m'\u001b[39m], source[\u001b[38;5;124m'\u001b[39m\u001b[38;5;124mx\u001b[39m\u001b[38;5;124m'\u001b[39m], source[\u001b[38;5;124m'\u001b[39m\u001b[38;5;124my\u001b[39m\u001b[38;5;124m'\u001b[39m], lon\u001b[38;5;241m=\u001b[39msource[\u001b[38;5;124m'\u001b[39m\u001b[38;5;124mlon\u001b[39m\u001b[38;5;124m'\u001b[39m], lat\u001b[38;5;241m=\u001b[39msource[\u001b[38;5;124m'\u001b[39m\u001b[38;5;124mlat\u001b[39m\u001b[38;5;124m'\u001b[39m])\u001b[38;5;66;03m#, \u001b[39;00m\n\u001b[1;32m    344\u001b[0m                       \u001b[38;5;66;03m# lon_bounds=source['lon_bounds'], lat_bounds=source['lat_bounds'])\u001b[39;00m\n\u001b[0;32m--> 346\u001b[0m regridded_array \u001b[38;5;241m=\u001b[39m \u001b[43msrc\u001b[49m\u001b[38;5;241;43m.\u001b[39;49m\u001b[43mregrids\u001b[49m\u001b[43m(\u001b[49m\u001b[43mregrid_operator\u001b[49m\u001b[43m,\u001b[49m\u001b[43m \u001b[49m\u001b[43mdst_axes\u001b[49m\u001b[38;5;241;43m=\u001b[39;49m\u001b[43m{\u001b[49m\u001b[38;5;124;43m'\u001b[39;49m\u001b[38;5;124;43mX\u001b[39;49m\u001b[38;5;124;43m'\u001b[39;49m\u001b[43m:\u001b[49m\u001b[38;5;124;43m'\u001b[39;49m\u001b[38;5;124;43mX\u001b[39;49m\u001b[38;5;124;43m'\u001b[39;49m\u001b[43m,\u001b[49m\u001b[38;5;124;43m'\u001b[39;49m\u001b[38;5;124;43mY\u001b[39;49m\u001b[38;5;124;43m'\u001b[39;49m\u001b[43m:\u001b[49m\u001b[38;5;124;43m'\u001b[39;49m\u001b[38;5;124;43mY\u001b[39;49m\u001b[38;5;124;43m'\u001b[39;49m\u001b[43m}\u001b[49m\u001b[43m,\u001b[49m\u001b[43m \u001b[49m\u001b[43msrc_axes\u001b[49m\u001b[38;5;241;43m=\u001b[39;49m\u001b[43m{\u001b[49m\u001b[38;5;124;43m'\u001b[39;49m\u001b[38;5;124;43mX\u001b[39;49m\u001b[38;5;124;43m'\u001b[39;49m\u001b[43m:\u001b[49m\u001b[38;5;124;43m'\u001b[39;49m\u001b[38;5;124;43mX\u001b[39;49m\u001b[38;5;124;43m'\u001b[39;49m\u001b[43m,\u001b[49m\u001b[38;5;124;43m'\u001b[39;49m\u001b[38;5;124;43mY\u001b[39;49m\u001b[38;5;124;43m'\u001b[39;49m\u001b[43m:\u001b[49m\u001b[38;5;124;43m'\u001b[39;49m\u001b[38;5;124;43mY\u001b[39;49m\u001b[38;5;124;43m'\u001b[39;49m\u001b[43m}\u001b[49m\u001b[43m,\u001b[49m\u001b[43m \u001b[49m\u001b[43mmethod\u001b[49m\u001b[38;5;241;43m=\u001b[39;49m\u001b[43mmethod\u001b[49m\u001b[43m,\u001b[49m\n\u001b[1;32m    347\u001b[0m \u001b[43m                              \u001b[49m\u001b[43msrc_cyclic\u001b[49m\u001b[38;5;241;43m=\u001b[39;49m\u001b[43msrc_cyclic\u001b[49m\u001b[43m,\u001b[49m\u001b[43m \u001b[49m\u001b[43mdst_cyclic\u001b[49m\u001b[38;5;241;43m=\u001b[39;49m\u001b[43mdst_cyclic\u001b[49m\u001b[43m)\u001b[49m\n\u001b[1;32m    349\u001b[0m \u001b[38;5;28;01mreturn\u001b[39;00m regridded_array\n",
      "File \u001b[0;32m~/.conda/envs/cf-env/lib/python3.12/site-packages/cf/decorators.py:71\u001b[0m, in \u001b[0;36m_deprecated_kwarg_check.<locals>.deprecated_kwarg_check_decorator.<locals>.precede_with_kwarg_deprecation_check\u001b[0;34m(self, *args, **kwargs)\u001b[0m\n\u001b[1;32m     62\u001b[0m         pass_in_kwarg \u001b[38;5;241m=\u001b[39m {depr_kwarg: \u001b[38;5;28;01mTrue\u001b[39;00m}\n\u001b[1;32m     63\u001b[0m         _DEPRECATION_ERROR_KWARGS(\n\u001b[1;32m     64\u001b[0m             \u001b[38;5;28mself\u001b[39m,\n\u001b[1;32m     65\u001b[0m             operation_method\u001b[38;5;241m.\u001b[39m\u001b[38;5;18m__name__\u001b[39m,\n\u001b[0;32m   (...)\u001b[0m\n\u001b[1;32m     68\u001b[0m             removed_at\u001b[38;5;241m=\u001b[39mremoved_at,\n\u001b[1;32m     69\u001b[0m         )  \u001b[38;5;66;03m# pragma: no cover\u001b[39;00m\n\u001b[0;32m---> 71\u001b[0m operation_method_result \u001b[38;5;241m=\u001b[39m \u001b[43moperation_method\u001b[49m\u001b[43m(\u001b[49m\u001b[38;5;28;43mself\u001b[39;49m\u001b[43m,\u001b[49m\u001b[43m \u001b[49m\u001b[38;5;241;43m*\u001b[39;49m\u001b[43margs\u001b[49m\u001b[43m,\u001b[49m\u001b[43m \u001b[49m\u001b[38;5;241;43m*\u001b[39;49m\u001b[38;5;241;43m*\u001b[39;49m\u001b[43mkwargs\u001b[49m\u001b[43m)\u001b[49m\n\u001b[1;32m     73\u001b[0m \u001b[38;5;66;03m# Decorated method has same return signature as if undecorated:\u001b[39;00m\n\u001b[1;32m     74\u001b[0m \u001b[38;5;28;01mreturn\u001b[39;00m operation_method_result\n",
      "File \u001b[0;32m~/.conda/envs/cf-env/lib/python3.12/site-packages/cfdm/decorators.py:44\u001b[0m, in \u001b[0;36m_inplace_enabled.<locals>.decorator.<locals>.inplace_wrapper\u001b[0;34m(self, *args, **kwargs)\u001b[0m\n\u001b[1;32m     41\u001b[0m \u001b[38;5;28;01melse\u001b[39;00m:\n\u001b[1;32m     42\u001b[0m     \u001b[38;5;28mself\u001b[39m\u001b[38;5;241m.\u001b[39mINPLACE_ENABLED_PLACEHOLDER \u001b[38;5;241m=\u001b[39m \u001b[38;5;28mself\u001b[39m\u001b[38;5;241m.\u001b[39mcopy()\n\u001b[0;32m---> 44\u001b[0m processed_copy \u001b[38;5;241m=\u001b[39m \u001b[43moperation_method\u001b[49m\u001b[43m(\u001b[49m\u001b[38;5;28;43mself\u001b[39;49m\u001b[43m,\u001b[49m\u001b[43m \u001b[49m\u001b[38;5;241;43m*\u001b[39;49m\u001b[43margs\u001b[49m\u001b[43m,\u001b[49m\u001b[43m \u001b[49m\u001b[38;5;241;43m*\u001b[39;49m\u001b[38;5;241;43m*\u001b[39;49m\u001b[43mkwargs\u001b[49m\u001b[43m)\u001b[49m\n\u001b[1;32m     46\u001b[0m \u001b[38;5;28;01mif\u001b[39;00m is_inplace:\n\u001b[1;32m     47\u001b[0m     \u001b[38;5;28;01mreturn\u001b[39;00m  \u001b[38;5;66;03m# decorated function returns None in this case\u001b[39;00m\n",
      "File \u001b[0;32m~/.conda/envs/cf-env/lib/python3.12/site-packages/cfdm/decorators.py:171\u001b[0m, in \u001b[0;36m_manage_log_level_via_verbosity.<locals>.verbose_override_wrapper\u001b[0;34m(*args, **kwargs)\u001b[0m\n\u001b[1;32m    168\u001b[0m \u001b[38;5;66;03m# After method completes, re-set any changes to log level or\u001b[39;00m\n\u001b[1;32m    169\u001b[0m \u001b[38;5;66;03m# enabling\u001b[39;00m\n\u001b[1;32m    170\u001b[0m \u001b[38;5;28;01mtry\u001b[39;00m:\n\u001b[0;32m--> 171\u001b[0m     \u001b[38;5;28;01mreturn\u001b[39;00m \u001b[43mmethod_with_verbose_kwarg\u001b[49m\u001b[43m(\u001b[49m\u001b[38;5;241;43m*\u001b[39;49m\u001b[43margs\u001b[49m\u001b[43m,\u001b[49m\u001b[43m \u001b[49m\u001b[38;5;241;43m*\u001b[39;49m\u001b[38;5;241;43m*\u001b[39;49m\u001b[43mkwargs\u001b[49m\u001b[43m)\u001b[49m\n\u001b[1;32m    172\u001b[0m \u001b[38;5;28;01mexcept\u001b[39;00m \u001b[38;5;167;01mException\u001b[39;00m:\n\u001b[1;32m    173\u001b[0m     \u001b[38;5;28;01mraise\u001b[39;00m\n",
      "File \u001b[0;32m~/.conda/envs/cf-env/lib/python3.12/site-packages/cf/field.py:13832\u001b[0m, in \u001b[0;36mField.regrids\u001b[0;34m(self, dst, method, src_cyclic, dst_cyclic, use_src_mask, use_dst_mask, fracfield, src_axes, dst_axes, axis_order, ignore_degenerate, return_operator, check_coordinates, min_weight, weights_file, src_z, dst_z, z, ln_z, verbose, return_esmpy_regrid_operator, inplace, i, _compute_field_mass)\u001b[0m\n\u001b[1;32m  13520\u001b[0m \u001b[38;5;250m\u001b[39m\u001b[38;5;124;03m\"\"\"Regrid the field to a new latitude and longitude grid.\u001b[39;00m\n\u001b[1;32m  13521\u001b[0m \n\u001b[1;32m  13522\u001b[0m \u001b[38;5;124;03m{{regridding overview}}\u001b[39;00m\n\u001b[0;32m   (...)\u001b[0m\n\u001b[1;32m  13828\u001b[0m \n\u001b[1;32m  13829\u001b[0m \u001b[38;5;124;03m\"\"\"\u001b[39;00m\n\u001b[1;32m  13830\u001b[0m \u001b[38;5;28;01mfrom\u001b[39;00m \u001b[38;5;21;01m.\u001b[39;00m\u001b[38;5;21;01mregrid\u001b[39;00m \u001b[38;5;28;01mimport\u001b[39;00m regrid\n\u001b[0;32m> 13832\u001b[0m \u001b[38;5;28;01mreturn\u001b[39;00m \u001b[43mregrid\u001b[49m\u001b[43m(\u001b[49m\n\u001b[1;32m  13833\u001b[0m \u001b[43m    \u001b[49m\u001b[38;5;124;43m\"\u001b[39;49m\u001b[38;5;124;43mspherical\u001b[39;49m\u001b[38;5;124;43m\"\u001b[39;49m\u001b[43m,\u001b[49m\n\u001b[1;32m  13834\u001b[0m \u001b[43m    \u001b[49m\u001b[38;5;28;43mself\u001b[39;49m\u001b[43m,\u001b[49m\n\u001b[1;32m  13835\u001b[0m \u001b[43m    \u001b[49m\u001b[43mdst\u001b[49m\u001b[43m,\u001b[49m\n\u001b[1;32m  13836\u001b[0m \u001b[43m    \u001b[49m\u001b[43mmethod\u001b[49m\u001b[38;5;241;43m=\u001b[39;49m\u001b[43mmethod\u001b[49m\u001b[43m,\u001b[49m\n\u001b[1;32m  13837\u001b[0m \u001b[43m    \u001b[49m\u001b[43msrc_cyclic\u001b[49m\u001b[38;5;241;43m=\u001b[39;49m\u001b[43msrc_cyclic\u001b[49m\u001b[43m,\u001b[49m\n\u001b[1;32m  13838\u001b[0m \u001b[43m    \u001b[49m\u001b[43mdst_cyclic\u001b[49m\u001b[38;5;241;43m=\u001b[39;49m\u001b[43mdst_cyclic\u001b[49m\u001b[43m,\u001b[49m\n\u001b[1;32m  13839\u001b[0m \u001b[43m    \u001b[49m\u001b[43muse_src_mask\u001b[49m\u001b[38;5;241;43m=\u001b[39;49m\u001b[43muse_src_mask\u001b[49m\u001b[43m,\u001b[49m\n\u001b[1;32m  13840\u001b[0m \u001b[43m    \u001b[49m\u001b[43muse_dst_mask\u001b[49m\u001b[38;5;241;43m=\u001b[39;49m\u001b[43muse_dst_mask\u001b[49m\u001b[43m,\u001b[49m\n\u001b[1;32m  13841\u001b[0m \u001b[43m    \u001b[49m\u001b[43msrc_axes\u001b[49m\u001b[38;5;241;43m=\u001b[39;49m\u001b[43msrc_axes\u001b[49m\u001b[43m,\u001b[49m\n\u001b[1;32m  13842\u001b[0m \u001b[43m    \u001b[49m\u001b[43mdst_axes\u001b[49m\u001b[38;5;241;43m=\u001b[39;49m\u001b[43mdst_axes\u001b[49m\u001b[43m,\u001b[49m\n\u001b[1;32m  13843\u001b[0m \u001b[43m    \u001b[49m\u001b[43mignore_degenerate\u001b[49m\u001b[38;5;241;43m=\u001b[39;49m\u001b[43mignore_degenerate\u001b[49m\u001b[43m,\u001b[49m\n\u001b[1;32m  13844\u001b[0m \u001b[43m    \u001b[49m\u001b[43mreturn_operator\u001b[49m\u001b[38;5;241;43m=\u001b[39;49m\u001b[43mreturn_operator\u001b[49m\u001b[43m,\u001b[49m\n\u001b[1;32m  13845\u001b[0m \u001b[43m    \u001b[49m\u001b[43mcheck_coordinates\u001b[49m\u001b[38;5;241;43m=\u001b[39;49m\u001b[43mcheck_coordinates\u001b[49m\u001b[43m,\u001b[49m\n\u001b[1;32m  13846\u001b[0m \u001b[43m    \u001b[49m\u001b[43mmin_weight\u001b[49m\u001b[38;5;241;43m=\u001b[39;49m\u001b[43mmin_weight\u001b[49m\u001b[43m,\u001b[49m\n\u001b[1;32m  13847\u001b[0m \u001b[43m    \u001b[49m\u001b[43mweights_file\u001b[49m\u001b[38;5;241;43m=\u001b[39;49m\u001b[43mweights_file\u001b[49m\u001b[43m,\u001b[49m\n\u001b[1;32m  13848\u001b[0m \u001b[43m    \u001b[49m\u001b[43msrc_z\u001b[49m\u001b[38;5;241;43m=\u001b[39;49m\u001b[43msrc_z\u001b[49m\u001b[43m,\u001b[49m\n\u001b[1;32m  13849\u001b[0m \u001b[43m    \u001b[49m\u001b[43mdst_z\u001b[49m\u001b[38;5;241;43m=\u001b[39;49m\u001b[43mdst_z\u001b[49m\u001b[43m,\u001b[49m\n\u001b[1;32m  13850\u001b[0m \u001b[43m    \u001b[49m\u001b[43mz\u001b[49m\u001b[38;5;241;43m=\u001b[39;49m\u001b[43mz\u001b[49m\u001b[43m,\u001b[49m\n\u001b[1;32m  13851\u001b[0m \u001b[43m    \u001b[49m\u001b[43mln_z\u001b[49m\u001b[38;5;241;43m=\u001b[39;49m\u001b[43mln_z\u001b[49m\u001b[43m,\u001b[49m\n\u001b[1;32m  13852\u001b[0m \u001b[43m    \u001b[49m\u001b[43mreturn_esmpy_regrid_operator\u001b[49m\u001b[38;5;241;43m=\u001b[39;49m\u001b[43mreturn_esmpy_regrid_operator\u001b[49m\u001b[43m,\u001b[49m\n\u001b[1;32m  13853\u001b[0m \u001b[43m    \u001b[49m\u001b[43minplace\u001b[49m\u001b[38;5;241;43m=\u001b[39;49m\u001b[43minplace\u001b[49m\u001b[43m,\u001b[49m\n\u001b[1;32m  13854\u001b[0m \u001b[43m\u001b[49m\u001b[43m)\u001b[49m\n",
      "File \u001b[0;32m~/.conda/envs/cf-env/lib/python3.12/site-packages/cf/regrid/regrid.py:702\u001b[0m, in \u001b[0;36mregrid\u001b[0;34m(coord_sys, src, dst, method, src_cyclic, dst_cyclic, use_src_mask, use_dst_mask, src_axes, dst_axes, axes, src_z, dst_z, z, ln_z, ignore_degenerate, return_operator, check_coordinates, min_weight, weights_file, return_esmpy_regrid_operator, inplace)\u001b[0m\n\u001b[1;32m    699\u001b[0m     \u001b[38;5;28;01mfor\u001b[39;00m src_iaxis \u001b[38;5;129;01min\u001b[39;00m src_axis_indices[\u001b[38;5;241m1\u001b[39m:]:\n\u001b[1;32m    700\u001b[0m         regridded_axis_sizes[src_iaxis] \u001b[38;5;241m=\u001b[39m ()\n\u001b[0;32m--> 702\u001b[0m regridded_data \u001b[38;5;241m=\u001b[39m \u001b[43msrc\u001b[49m\u001b[38;5;241;43m.\u001b[39;49m\u001b[43mdata\u001b[49m\u001b[38;5;241;43m.\u001b[39;49m\u001b[43m_regrid\u001b[49m\u001b[43m(\u001b[49m\n\u001b[1;32m    703\u001b[0m \u001b[43m    \u001b[49m\u001b[43mmethod\u001b[49m\u001b[38;5;241;43m=\u001b[39;49m\u001b[43mmethod\u001b[49m\u001b[43m,\u001b[49m\n\u001b[1;32m    704\u001b[0m \u001b[43m    \u001b[49m\u001b[43moperator\u001b[49m\u001b[38;5;241;43m=\u001b[39;49m\u001b[43mregrid_operator\u001b[49m\u001b[43m,\u001b[49m\n\u001b[1;32m    705\u001b[0m \u001b[43m    \u001b[49m\u001b[43mregrid_axes\u001b[49m\u001b[38;5;241;43m=\u001b[39;49m\u001b[43msrc_grid\u001b[49m\u001b[38;5;241;43m.\u001b[39;49m\u001b[43maxis_indices\u001b[49m\u001b[43m,\u001b[49m\n\u001b[1;32m    706\u001b[0m \u001b[43m    \u001b[49m\u001b[43mregridded_sizes\u001b[49m\u001b[38;5;241;43m=\u001b[39;49m\u001b[43mregridded_axis_sizes\u001b[49m\u001b[43m,\u001b[49m\n\u001b[1;32m    707\u001b[0m \u001b[43m    \u001b[49m\u001b[43mmin_weight\u001b[49m\u001b[38;5;241;43m=\u001b[39;49m\u001b[43mmin_weight\u001b[49m\u001b[43m,\u001b[49m\n\u001b[1;32m    708\u001b[0m \u001b[43m\u001b[49m\u001b[43m)\u001b[49m\n\u001b[1;32m    710\u001b[0m \u001b[38;5;66;03m# ----------------------------------------------------------------\u001b[39;00m\n\u001b[1;32m    711\u001b[0m \u001b[38;5;66;03m# Update the regridded metadata\u001b[39;00m\n\u001b[1;32m    712\u001b[0m \u001b[38;5;66;03m# ----------------------------------------------------------------\u001b[39;00m\n\u001b[1;32m    713\u001b[0m update_non_coordinates(src, dst, src_grid, dst_grid, regrid_operator)\n",
      "File \u001b[0;32m~/.conda/envs/cf-env/lib/python3.12/site-packages/cf/data/data.py:3937\u001b[0m, in \u001b[0;36mData._regrid\u001b[0;34m(self, method, operator, regrid_axes, regridded_sizes, min_weight)\u001b[0m\n\u001b[1;32m   3934\u001b[0m \u001b[38;5;28;01mif\u001b[39;00m src_mask \u001b[38;5;129;01mis\u001b[39;00m \u001b[38;5;129;01mnot\u001b[39;00m \u001b[38;5;28;01mNone\u001b[39;00m:\n\u001b[1;32m   3935\u001b[0m     src_mask \u001b[38;5;241m=\u001b[39m da\u001b[38;5;241m.\u001b[39masanyarray(src_mask)\n\u001b[0;32m-> 3937\u001b[0m weights_dst_mask \u001b[38;5;241m=\u001b[39m \u001b[43mdelayed\u001b[49m\u001b[43m(\u001b[49m\u001b[43mregrid_weights\u001b[49m\u001b[43m,\u001b[49m\u001b[43m \u001b[49m\u001b[43mpure\u001b[49m\u001b[38;5;241;43m=\u001b[39;49m\u001b[38;5;28;43;01mTrue\u001b[39;49;00m\u001b[43m)\u001b[49m\u001b[43m(\u001b[49m\n\u001b[1;32m   3938\u001b[0m \u001b[43m    \u001b[49m\u001b[43moperator\u001b[49m\u001b[38;5;241;43m=\u001b[39;49m\u001b[43moperator\u001b[49m\u001b[43m,\u001b[49m\u001b[43m \u001b[49m\u001b[43mdst_dtype\u001b[49m\u001b[38;5;241;43m=\u001b[39;49m\u001b[43mdst_dtype\u001b[49m\n\u001b[1;32m   3939\u001b[0m \u001b[43m\u001b[49m\u001b[43m)\u001b[49m\n\u001b[1;32m   3941\u001b[0m \u001b[38;5;66;03m# Create a regridding function to apply to each chunk\u001b[39;00m\n\u001b[1;32m   3942\u001b[0m regrid_func \u001b[38;5;241m=\u001b[39m partial(\n\u001b[1;32m   3943\u001b[0m     regrid,\n\u001b[1;32m   3944\u001b[0m     method\u001b[38;5;241m=\u001b[39mmethod,\n\u001b[0;32m   (...)\u001b[0m\n\u001b[1;32m   3948\u001b[0m     min_weight\u001b[38;5;241m=\u001b[39mmin_weight,\n\u001b[1;32m   3949\u001b[0m )\n",
      "File \u001b[0;32m~/.conda/envs/cf-env/lib/python3.12/site-packages/dask/delayed.py:712\u001b[0m, in \u001b[0;36mDelayedLeaf.__call__\u001b[0;34m(self, *args, **kwargs)\u001b[0m\n\u001b[1;32m    711\u001b[0m \u001b[38;5;28;01mdef\u001b[39;00m \u001b[38;5;21m__call__\u001b[39m(\u001b[38;5;28mself\u001b[39m, \u001b[38;5;241m*\u001b[39margs, \u001b[38;5;241m*\u001b[39m\u001b[38;5;241m*\u001b[39mkwargs):\n\u001b[0;32m--> 712\u001b[0m     \u001b[38;5;28;01mreturn\u001b[39;00m \u001b[43mcall_function\u001b[49m\u001b[43m(\u001b[49m\n\u001b[1;32m    713\u001b[0m \u001b[43m        \u001b[49m\u001b[38;5;28;43mself\u001b[39;49m\u001b[38;5;241;43m.\u001b[39;49m\u001b[43m_obj\u001b[49m\u001b[43m,\u001b[49m\u001b[43m \u001b[49m\u001b[38;5;28;43mself\u001b[39;49m\u001b[38;5;241;43m.\u001b[39;49m\u001b[43m_key\u001b[49m\u001b[43m,\u001b[49m\u001b[43m \u001b[49m\u001b[43margs\u001b[49m\u001b[43m,\u001b[49m\u001b[43m \u001b[49m\u001b[43mkwargs\u001b[49m\u001b[43m,\u001b[49m\u001b[43m \u001b[49m\u001b[43mpure\u001b[49m\u001b[38;5;241;43m=\u001b[39;49m\u001b[38;5;28;43mself\u001b[39;49m\u001b[38;5;241;43m.\u001b[39;49m\u001b[43m_pure\u001b[49m\u001b[43m,\u001b[49m\u001b[43m \u001b[49m\u001b[43mnout\u001b[49m\u001b[38;5;241;43m=\u001b[39;49m\u001b[38;5;28;43mself\u001b[39;49m\u001b[38;5;241;43m.\u001b[39;49m\u001b[43m_nout\u001b[49m\n\u001b[1;32m    714\u001b[0m \u001b[43m    \u001b[49m\u001b[43m)\u001b[49m\n",
      "File \u001b[0;32m~/.conda/envs/cf-env/lib/python3.12/site-packages/dask/delayed.py:674\u001b[0m, in \u001b[0;36mcall_function\u001b[0;34m(func, func_token, args, kwargs, pure, nout)\u001b[0m\n\u001b[1;32m    669\u001b[0m pure \u001b[38;5;241m=\u001b[39m kwargs\u001b[38;5;241m.\u001b[39mpop(\u001b[38;5;124m\"\u001b[39m\u001b[38;5;124mpure\u001b[39m\u001b[38;5;124m\"\u001b[39m, pure)\n\u001b[1;32m    671\u001b[0m \u001b[38;5;28;01mif\u001b[39;00m dask_key_name \u001b[38;5;129;01mis\u001b[39;00m \u001b[38;5;28;01mNone\u001b[39;00m:\n\u001b[1;32m    672\u001b[0m     name \u001b[38;5;241m=\u001b[39m \u001b[38;5;124m\"\u001b[39m\u001b[38;5;132;01m{}\u001b[39;00m\u001b[38;5;124m-\u001b[39m\u001b[38;5;132;01m{}\u001b[39;00m\u001b[38;5;124m\"\u001b[39m\u001b[38;5;241m.\u001b[39mformat(\n\u001b[1;32m    673\u001b[0m         funcname(func),\n\u001b[0;32m--> 674\u001b[0m         \u001b[43mtokenize\u001b[49m\u001b[43m(\u001b[49m\u001b[43mfunc_token\u001b[49m\u001b[43m,\u001b[49m\u001b[43m \u001b[49m\u001b[38;5;241;43m*\u001b[39;49m\u001b[43margs\u001b[49m\u001b[43m,\u001b[49m\u001b[43m \u001b[49m\u001b[43mpure\u001b[49m\u001b[38;5;241;43m=\u001b[39;49m\u001b[43mpure\u001b[49m\u001b[43m,\u001b[49m\u001b[43m \u001b[49m\u001b[38;5;241;43m*\u001b[39;49m\u001b[38;5;241;43m*\u001b[39;49m\u001b[43mkwargs\u001b[49m\u001b[43m)\u001b[49m,\n\u001b[1;32m    675\u001b[0m     )\n\u001b[1;32m    676\u001b[0m \u001b[38;5;28;01melse\u001b[39;00m:\n\u001b[1;32m    677\u001b[0m     name \u001b[38;5;241m=\u001b[39m dask_key_name\n",
      "File \u001b[0;32m~/.conda/envs/cf-env/lib/python3.12/site-packages/dask/delayed.py:278\u001b[0m, in \u001b[0;36mtokenize\u001b[0;34m(pure, *args, **kwargs)\u001b[0m\n\u001b[1;32m    275\u001b[0m     pure \u001b[38;5;241m=\u001b[39m config\u001b[38;5;241m.\u001b[39mget(\u001b[38;5;124m\"\u001b[39m\u001b[38;5;124mdelayed_pure\u001b[39m\u001b[38;5;124m\"\u001b[39m, \u001b[38;5;28;01mFalse\u001b[39;00m)\n\u001b[1;32m    277\u001b[0m \u001b[38;5;28;01mif\u001b[39;00m pure:\n\u001b[0;32m--> 278\u001b[0m     \u001b[38;5;28;01mreturn\u001b[39;00m \u001b[43m_tokenize\u001b[49m\u001b[43m(\u001b[49m\u001b[38;5;241;43m*\u001b[39;49m\u001b[43margs\u001b[49m\u001b[43m,\u001b[49m\u001b[43m \u001b[49m\u001b[38;5;241;43m*\u001b[39;49m\u001b[38;5;241;43m*\u001b[39;49m\u001b[43mkwargs\u001b[49m\u001b[43m)\u001b[49m\n\u001b[1;32m    279\u001b[0m \u001b[38;5;28;01melse\u001b[39;00m:\n\u001b[1;32m    280\u001b[0m     \u001b[38;5;28;01mreturn\u001b[39;00m \u001b[38;5;28mstr\u001b[39m(uuid\u001b[38;5;241m.\u001b[39muuid4())\n",
      "File \u001b[0;32m~/.conda/envs/cf-env/lib/python3.12/site-packages/dask/base.py:1036\u001b[0m, in \u001b[0;36mtokenize\u001b[0;34m(ensure_deterministic, *args, **kwargs)\u001b[0m\n\u001b[1;32m   1034\u001b[0m     token: \u001b[38;5;28mobject\u001b[39m \u001b[38;5;241m=\u001b[39m _normalize_seq_func(args)\n\u001b[1;32m   1035\u001b[0m     \u001b[38;5;28;01mif\u001b[39;00m kwargs:\n\u001b[0;32m-> 1036\u001b[0m         token \u001b[38;5;241m=\u001b[39m token, \u001b[43m_normalize_seq_func\u001b[49m\u001b[43m(\u001b[49m\u001b[38;5;28;43msorted\u001b[39;49m\u001b[43m(\u001b[49m\u001b[43mkwargs\u001b[49m\u001b[38;5;241;43m.\u001b[39;49m\u001b[43mitems\u001b[49m\u001b[43m(\u001b[49m\u001b[43m)\u001b[49m\u001b[43m)\u001b[49m\u001b[43m)\u001b[49m\n\u001b[1;32m   1038\u001b[0m \u001b[38;5;66;03m# Pass `usedforsecurity=False` to support FIPS builds of Python\u001b[39;00m\n\u001b[1;32m   1039\u001b[0m \u001b[38;5;28;01mreturn\u001b[39;00m hashlib\u001b[38;5;241m.\u001b[39mmd5(\u001b[38;5;28mstr\u001b[39m(token)\u001b[38;5;241m.\u001b[39mencode(), usedforsecurity\u001b[38;5;241m=\u001b[39m\u001b[38;5;28;01mFalse\u001b[39;00m)\u001b[38;5;241m.\u001b[39mhexdigest()\n",
      "File \u001b[0;32m~/.conda/envs/cf-env/lib/python3.12/site-packages/dask/base.py:1160\u001b[0m, in \u001b[0;36m_normalize_seq_func\u001b[0;34m(seq)\u001b[0m\n\u001b[1;32m   1158\u001b[0m     \u001b[38;5;28;01melse\u001b[39;00m:\n\u001b[1;32m   1159\u001b[0m         seen[\u001b[38;5;28mid\u001b[39m(item)] \u001b[38;5;241m=\u001b[39m \u001b[38;5;28mlen\u001b[39m(seen), item\n\u001b[0;32m-> 1160\u001b[0m         item \u001b[38;5;241m=\u001b[39m \u001b[43mnormalize_token\u001b[49m\u001b[43m(\u001b[49m\u001b[43mitem\u001b[49m\u001b[43m)\u001b[49m\n\u001b[1;32m   1161\u001b[0m     out\u001b[38;5;241m.\u001b[39mappend(item)\n\u001b[1;32m   1162\u001b[0m \u001b[38;5;28;01mreturn\u001b[39;00m out\n",
      "File \u001b[0;32m~/.conda/envs/cf-env/lib/python3.12/site-packages/dask/utils.py:773\u001b[0m, in \u001b[0;36mDispatch.__call__\u001b[0;34m(self, arg, *args, **kwargs)\u001b[0m\n\u001b[1;32m    769\u001b[0m \u001b[38;5;250m\u001b[39m\u001b[38;5;124;03m\"\"\"\u001b[39;00m\n\u001b[1;32m    770\u001b[0m \u001b[38;5;124;03mCall the corresponding method based on type of argument.\u001b[39;00m\n\u001b[1;32m    771\u001b[0m \u001b[38;5;124;03m\"\"\"\u001b[39;00m\n\u001b[1;32m    772\u001b[0m meth \u001b[38;5;241m=\u001b[39m \u001b[38;5;28mself\u001b[39m\u001b[38;5;241m.\u001b[39mdispatch(\u001b[38;5;28mtype\u001b[39m(arg))\n\u001b[0;32m--> 773\u001b[0m \u001b[38;5;28;01mreturn\u001b[39;00m \u001b[43mmeth\u001b[49m\u001b[43m(\u001b[49m\u001b[43marg\u001b[49m\u001b[43m,\u001b[49m\u001b[43m \u001b[49m\u001b[38;5;241;43m*\u001b[39;49m\u001b[43margs\u001b[49m\u001b[43m,\u001b[49m\u001b[43m \u001b[49m\u001b[38;5;241;43m*\u001b[39;49m\u001b[38;5;241;43m*\u001b[39;49m\u001b[43mkwargs\u001b[49m\u001b[43m)\u001b[49m\n",
      "File \u001b[0;32m~/.conda/envs/cf-env/lib/python3.12/site-packages/dask/base.py:1167\u001b[0m, in \u001b[0;36mnormalize_seq\u001b[0;34m(seq)\u001b[0m\n\u001b[1;32m   1165\u001b[0m \u001b[38;5;129m@normalize_token\u001b[39m\u001b[38;5;241m.\u001b[39mregister((\u001b[38;5;28mtuple\u001b[39m, \u001b[38;5;28mlist\u001b[39m))\n\u001b[1;32m   1166\u001b[0m \u001b[38;5;28;01mdef\u001b[39;00m \u001b[38;5;21mnormalize_seq\u001b[39m(seq):\n\u001b[0;32m-> 1167\u001b[0m     \u001b[38;5;28;01mreturn\u001b[39;00m \u001b[38;5;28mtype\u001b[39m(seq)\u001b[38;5;241m.\u001b[39m\u001b[38;5;18m__name__\u001b[39m, \u001b[43m_normalize_seq_func\u001b[49m\u001b[43m(\u001b[49m\u001b[43mseq\u001b[49m\u001b[43m)\u001b[49m\n",
      "File \u001b[0;32m~/.conda/envs/cf-env/lib/python3.12/site-packages/dask/base.py:1160\u001b[0m, in \u001b[0;36m_normalize_seq_func\u001b[0;34m(seq)\u001b[0m\n\u001b[1;32m   1158\u001b[0m     \u001b[38;5;28;01melse\u001b[39;00m:\n\u001b[1;32m   1159\u001b[0m         seen[\u001b[38;5;28mid\u001b[39m(item)] \u001b[38;5;241m=\u001b[39m \u001b[38;5;28mlen\u001b[39m(seen), item\n\u001b[0;32m-> 1160\u001b[0m         item \u001b[38;5;241m=\u001b[39m \u001b[43mnormalize_token\u001b[49m\u001b[43m(\u001b[49m\u001b[43mitem\u001b[49m\u001b[43m)\u001b[49m\n\u001b[1;32m   1161\u001b[0m     out\u001b[38;5;241m.\u001b[39mappend(item)\n\u001b[1;32m   1162\u001b[0m \u001b[38;5;28;01mreturn\u001b[39;00m out\n",
      "File \u001b[0;32m~/.conda/envs/cf-env/lib/python3.12/site-packages/dask/utils.py:773\u001b[0m, in \u001b[0;36mDispatch.__call__\u001b[0;34m(self, arg, *args, **kwargs)\u001b[0m\n\u001b[1;32m    769\u001b[0m \u001b[38;5;250m\u001b[39m\u001b[38;5;124;03m\"\"\"\u001b[39;00m\n\u001b[1;32m    770\u001b[0m \u001b[38;5;124;03mCall the corresponding method based on type of argument.\u001b[39;00m\n\u001b[1;32m    771\u001b[0m \u001b[38;5;124;03m\"\"\"\u001b[39;00m\n\u001b[1;32m    772\u001b[0m meth \u001b[38;5;241m=\u001b[39m \u001b[38;5;28mself\u001b[39m\u001b[38;5;241m.\u001b[39mdispatch(\u001b[38;5;28mtype\u001b[39m(arg))\n\u001b[0;32m--> 773\u001b[0m \u001b[38;5;28;01mreturn\u001b[39;00m \u001b[43mmeth\u001b[49m\u001b[43m(\u001b[49m\u001b[43marg\u001b[49m\u001b[43m,\u001b[49m\u001b[43m \u001b[49m\u001b[38;5;241;43m*\u001b[39;49m\u001b[43margs\u001b[49m\u001b[43m,\u001b[49m\u001b[43m \u001b[49m\u001b[38;5;241;43m*\u001b[39;49m\u001b[38;5;241;43m*\u001b[39;49m\u001b[43mkwargs\u001b[49m\u001b[43m)\u001b[49m\n",
      "File \u001b[0;32m~/.conda/envs/cf-env/lib/python3.12/site-packages/dask/base.py:1213\u001b[0m, in \u001b[0;36mnormalize_object\u001b[0;34m(o)\u001b[0m\n\u001b[1;32m   1210\u001b[0m     \u001b[38;5;28;01mreturn\u001b[39;00m _normalize_dataclass(o)\n\u001b[1;32m   1212\u001b[0m \u001b[38;5;28;01mtry\u001b[39;00m:\n\u001b[0;32m-> 1213\u001b[0m     \u001b[38;5;28;01mreturn\u001b[39;00m \u001b[43m_normalize_pickle\u001b[49m\u001b[43m(\u001b[49m\u001b[43mo\u001b[49m\u001b[43m)\u001b[49m\n\u001b[1;32m   1214\u001b[0m \u001b[38;5;28;01mexcept\u001b[39;00m \u001b[38;5;167;01mException\u001b[39;00m:\n\u001b[1;32m   1215\u001b[0m     _maybe_raise_nondeterministic(\n\u001b[1;32m   1216\u001b[0m         \u001b[38;5;124mf\u001b[39m\u001b[38;5;124m\"\u001b[39m\u001b[38;5;124mObject \u001b[39m\u001b[38;5;132;01m{\u001b[39;00mo\u001b[38;5;132;01m!r}\u001b[39;00m\u001b[38;5;124m cannot be deterministically hashed. See \u001b[39m\u001b[38;5;124m\"\u001b[39m\n\u001b[1;32m   1217\u001b[0m         \u001b[38;5;124m\"\u001b[39m\u001b[38;5;124mhttps://docs.dask.org/en/latest/custom-collections.html#implementing-deterministic-hashing \u001b[39m\u001b[38;5;124m\"\u001b[39m\n\u001b[1;32m   1218\u001b[0m         \u001b[38;5;124m\"\u001b[39m\u001b[38;5;124mfor more information.\u001b[39m\u001b[38;5;124m\"\u001b[39m\n\u001b[1;32m   1219\u001b[0m     )\n",
      "File \u001b[0;32m~/.conda/envs/cf-env/lib/python3.12/site-packages/dask/base.py:1251\u001b[0m, in \u001b[0;36m_normalize_pickle\u001b[0;34m(o)\u001b[0m\n\u001b[1;32m   1248\u001b[0m     buffers\u001b[38;5;241m.\u001b[39mclear()\n\u001b[1;32m   1249\u001b[0m     pik \u001b[38;5;241m=\u001b[39m cloudpickle\u001b[38;5;241m.\u001b[39mdumps(o, protocol\u001b[38;5;241m=\u001b[39m\u001b[38;5;241m5\u001b[39m, buffer_callback\u001b[38;5;241m=\u001b[39mbuffers\u001b[38;5;241m.\u001b[39mappend)\n\u001b[0;32m-> 1251\u001b[0m \u001b[38;5;28;01mreturn\u001b[39;00m hash_buffer_hex(pik), [\u001b[43mhash_buffer_hex\u001b[49m\u001b[43m(\u001b[49m\u001b[43mbuf\u001b[49m\u001b[43m)\u001b[49m \u001b[38;5;28;01mfor\u001b[39;00m buf \u001b[38;5;129;01min\u001b[39;00m buffers]\n",
      "File \u001b[0;32m~/.conda/envs/cf-env/lib/python3.12/site-packages/dask/hashing.py:98\u001b[0m, in \u001b[0;36mhash_buffer_hex\u001b[0;34m(buf, hasher)\u001b[0m\n\u001b[1;32m     94\u001b[0m \u001b[38;5;28;01mdef\u001b[39;00m \u001b[38;5;21mhash_buffer_hex\u001b[39m(buf, hasher\u001b[38;5;241m=\u001b[39m\u001b[38;5;28;01mNone\u001b[39;00m):\n\u001b[1;32m     95\u001b[0m \u001b[38;5;250m    \u001b[39m\u001b[38;5;124;03m\"\"\"\u001b[39;00m\n\u001b[1;32m     96\u001b[0m \u001b[38;5;124;03m    Same as hash_buffer, but returns its result in hex-encoded form.\u001b[39;00m\n\u001b[1;32m     97\u001b[0m \u001b[38;5;124;03m    \"\"\"\u001b[39;00m\n\u001b[0;32m---> 98\u001b[0m     h \u001b[38;5;241m=\u001b[39m \u001b[43mhash_buffer\u001b[49m\u001b[43m(\u001b[49m\u001b[43mbuf\u001b[49m\u001b[43m,\u001b[49m\u001b[43m \u001b[49m\u001b[43mhasher\u001b[49m\u001b[43m)\u001b[49m\n\u001b[1;32m     99\u001b[0m     s \u001b[38;5;241m=\u001b[39m binascii\u001b[38;5;241m.\u001b[39mb2a_hex(h)\n\u001b[1;32m    100\u001b[0m     \u001b[38;5;28;01mreturn\u001b[39;00m s\u001b[38;5;241m.\u001b[39mdecode()\n",
      "File \u001b[0;32m~/.conda/envs/cf-env/lib/python3.12/site-packages/dask/hashing.py:88\u001b[0m, in \u001b[0;36mhash_buffer\u001b[0;34m(buf, hasher)\u001b[0m\n\u001b[1;32m     86\u001b[0m \u001b[38;5;28;01mfor\u001b[39;00m hasher \u001b[38;5;129;01min\u001b[39;00m hashers:\n\u001b[1;32m     87\u001b[0m     \u001b[38;5;28;01mtry\u001b[39;00m:\n\u001b[0;32m---> 88\u001b[0m         \u001b[38;5;28;01mreturn\u001b[39;00m \u001b[43mhasher\u001b[49m\u001b[43m(\u001b[49m\u001b[43mbuf\u001b[49m\u001b[43m)\u001b[49m\n\u001b[1;32m     89\u001b[0m     \u001b[38;5;28;01mexcept\u001b[39;00m (\u001b[38;5;167;01mTypeError\u001b[39;00m, \u001b[38;5;167;01mOverflowError\u001b[39;00m):\n\u001b[1;32m     90\u001b[0m         \u001b[38;5;28;01mpass\u001b[39;00m\n",
      "File \u001b[0;32m~/.conda/envs/cf-env/lib/python3.12/site-packages/dask/hashing.py:67\u001b[0m, in \u001b[0;36m_hash_sha1\u001b[0;34m(buf)\u001b[0m\n\u001b[1;32m     63\u001b[0m \u001b[38;5;28;01mdef\u001b[39;00m \u001b[38;5;21m_hash_sha1\u001b[39m(buf):\n\u001b[1;32m     64\u001b[0m \u001b[38;5;250m    \u001b[39m\u001b[38;5;124;03m\"\"\"\u001b[39;00m\n\u001b[1;32m     65\u001b[0m \u001b[38;5;124;03m    Produce a 20-bytes hash of *buf* using SHA1.\u001b[39;00m\n\u001b[1;32m     66\u001b[0m \u001b[38;5;124;03m    \"\"\"\u001b[39;00m\n\u001b[0;32m---> 67\u001b[0m     \u001b[38;5;28;01mreturn\u001b[39;00m \u001b[43mhashlib\u001b[49m\u001b[38;5;241;43m.\u001b[39;49m\u001b[43msha1\u001b[49m\u001b[43m(\u001b[49m\u001b[43mbuf\u001b[49m\u001b[43m)\u001b[49m\u001b[38;5;241m.\u001b[39mdigest()\n",
      "\u001b[0;31mKeyboardInterrupt\u001b[0m: "
     ]
    }
   ],
   "source": [
    "for year in range(1857, 1860):\n",
    "    print('------ year:', year, '------')\n",
    "    cesm2_bcs('AbsSal', year=year, exp='LE2', ens='1011.001', dim='3D')"
   ]
  },
  {
   "cell_type": "code",
   "execution_count": null,
   "id": "d2387caa-520a-4f40-9f51-8d36e3b0c203",
   "metadata": {},
   "outputs": [],
   "source": []
  }
 ],
 "metadata": {
  "kernelspec": {
   "display_name": "cf-env",
   "language": "python",
   "name": "cf-env"
  },
  "language_info": {
   "codemirror_mode": {
    "name": "ipython",
    "version": 3
   },
   "file_extension": ".py",
   "mimetype": "text/x-python",
   "name": "python",
   "nbconvert_exporter": "python",
   "pygments_lexer": "ipython3",
   "version": "3.12.4"
  }
 },
 "nbformat": 4,
 "nbformat_minor": 5
}
