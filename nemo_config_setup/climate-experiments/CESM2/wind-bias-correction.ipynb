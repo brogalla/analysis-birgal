{
 "cells": [
  {
   "cell_type": "markdown",
   "id": "63ecb046-2069-4731-912e-2764addcc302",
   "metadata": {},
   "source": [
    "# Bias correct CESM2 wind speeds to ERA5 using stress"
   ]
  },
  {
   "cell_type": "code",
   "execution_count": 1,
   "id": "c6ab125c-715f-4f1b-921e-7f7182ffb7fe",
   "metadata": {},
   "outputs": [],
   "source": [
    "import xarray as xr\n",
    "import numpy as np\n",
    "import matplotlib.pyplot as plt\n",
    "import sys\n",
    "import cmocean\n",
    "sys.path.append('/home/users/birgal/')\n",
    "from nemo_python_git.utils import fix_lon_range, rotate_vector\n",
    "from nemo_python_git.interpolation import interp_latlon_cf\n",
    "from nemo_python_git.constants import cesm2_ensemble_members"
   ]
  },
  {
   "cell_type": "code",
   "execution_count": 2,
   "id": "483fe2fd-badf-454e-a60c-0dc17949c8b1",
   "metadata": {},
   "outputs": [],
   "source": [
    "base_dir = '/gws/nopw/j04/anthrofail/birgal/NEMO_AIS/'\n",
    "nemo_mask = xr.open_dataset(f'{base_dir}bathymetry/mesh_mask-20250715.nc').squeeze()\n",
    "domcfg    = xr.open_dataset(f'{base_dir}bathymetry/domain_cfg-20250715.nc')\n",
    "land_mask = nemo_mask.tmask.isel(nav_lev=0)"
   ]
  },
  {
   "cell_type": "code",
   "execution_count": 3,
   "id": "81a166b0-4437-41ab-ac72-7f3fd59bc65e",
   "metadata": {},
   "outputs": [],
   "source": [
    "def regrid_to_NEMO(ds, varname, nemo_coord=f'{base_dir}bathymetry/domain_cfg-20240305.nc'):\n",
    "    \n",
    "    nemo_coord_file = xr.open_dataset(nemo_coord).squeeze()\n",
    "    name_remapping  = {'longitude':'lon', 'latitude':'lat'}\n",
    "\n",
    "    try:\n",
    "        source_var = ds.rename(name_remapping).sortby('lat').sel(lat=slice(-90, -50))\n",
    "    except:\n",
    "        source_var = ds.sortby('lat').sel(lat=slice(-90, -50))\n",
    "        \n",
    "    if source_var.lon.max() > 180: # Convert longitudes from 0-360 to -180 to 180 \n",
    "        source_var['lon'] = fix_lon_range(source_var.lon)\n",
    "    source_var = source_var.sortby('lon')[varname]\n",
    "    source_var = xr.where(source_var==0, np.nan, source_var)\n",
    "\n",
    "    # Now wrap up into a new dataset and interpolate\n",
    "    ds_source = xr.Dataset({'lon':source_var['lon'], 'lat':source_var['lat'], varname:source_var})\n",
    "    print('Interpolating')\n",
    "    interp_src = interp_latlon_cf(ds_source, nemo_coord_file, pster_src=False, periodic_src=True, periodic_nemo=True, method='conservative')\n",
    "    \n",
    "    return interp_src"
   ]
  },
  {
   "cell_type": "code",
   "execution_count": 4,
   "id": "46f3fcfb-de69-405b-a2f4-dbc0fb5c60a1",
   "metadata": {},
   "outputs": [],
   "source": [
    "def process_atm_input(ds, var):\n",
    "\n",
    "    #ds = ds.sortby('lat').sel(lat=slice(-90,-50)).mean(dim='time')\n",
    "\n",
    "    ds_nemo = regrid_to_NEMO(ds, var)\n",
    "    ds_nemo = ds_nemo.where(land_mask!=0)\n",
    "    \n",
    "    return ds_nemo"
   ]
  },
  {
   "cell_type": "code",
   "execution_count": 14,
   "id": "7999d132-5223-4871-a686-6a88511cc66a",
   "metadata": {},
   "outputs": [],
   "source": [
    "def calc_ensemble_mean_wind(start_year=1979, end_year=2023, save=False):\n",
    "\n",
    "    varx = 'U10x'; vary='U10y'\n",
    "    ens_strs = cesm2_ensemble_members\n",
    "    cesm2_dir = f'{base_dir}climate-forcing/CESM2/LE2/processed/'\n",
    "    \n",
    "    # Load all ensemble files for specified dates and ensemble members into xarray datasets\n",
    "    for e, ens in enumerate(ens_strs):\n",
    "        print(ens)\n",
    "        cesm2_u = xr.open_mfdataset([f'{cesm2_dir}CESM2-LE2_ens{ens}_{varx}_y{year}.nc' for year in range(start_year,end_year+1)])\n",
    "        cesm2_v = xr.open_mfdataset([f'{cesm2_dir}CESM2-LE2_ens{ens}_{vary}_y{year}.nc' for year in range(start_year,end_year+1)])\n",
    "    \n",
    "        if e==0:\n",
    "            cesm2_u10 = cesm2_u.copy().expand_dims(dim=\"ens\")\n",
    "            cesm2_v10 = cesm2_v.copy().expand_dims(dim=\"ens\")\n",
    "        else:\n",
    "            cesm2_u10 = xr.concat([cesm2_u10, cesm2_u], dim='ens')\n",
    "            cesm2_v10 = xr.concat([cesm2_v10, cesm2_v], dim='ens')\n",
    "\n",
    "    # cesm2_u10 = cesm2_u10.assign({'ens':ens_strs})\n",
    "    # cesm2_v10 = cesm2_v10.assign({'ens':ens_strs})\n",
    "\n",
    "    cesm2_u10_mean = cesm2_u10.sortby('lat').sel(lat=slice(-90,-50)).mean(dim='ens').groupby(\"time.month\").mean(dim=\"time\")\n",
    "    cesm2_v10_mean = cesm2_v10.sortby('lat').sel(lat=slice(-90,-50)).mean(dim='ens').groupby(\"time.month\").mean(dim=\"time\")\n",
    "    if save: \n",
    "        # cesm2_u10_mean.load().to_netcdf(f'{cesm2_dir}CESM2-LE2_u10_ensemble_mean_monthly.nc')\n",
    "        cesm2_v10_mean.load().to_netcdf(f'{cesm2_dir}CESM2-LE2_v10_ensemble_mean_monthly.nc')\n",
    "    \n",
    "    return cesm2_u10_mean, cesm2_v10_mean "
   ]
  },
  {
   "cell_type": "markdown",
   "id": "369ba549-51c8-4d3d-9fe3-4d3e8cd0c6a9",
   "metadata": {},
   "source": [
    "### Calculate multiplier"
   ]
  },
  {
   "cell_type": "code",
   "execution_count": null,
   "id": "8e00301c-f193-41ad-8f1e-85df2d2090cb",
   "metadata": {},
   "outputs": [
    {
     "name": "stdout",
     "output_type": "stream",
     "text": [
      "1011.001\n",
      "1031.002\n",
      "1051.003\n",
      "1071.004\n",
      "1091.005\n",
      "1111.006\n",
      "1131.007\n",
      "1151.008\n",
      "1171.009\n",
      "1191.010\n",
      "1231.011\n",
      "1231.012\n",
      "1231.013\n",
      "1231.014\n",
      "1251.011\n",
      "1251.012\n",
      "1251.013\n",
      "1251.014\n",
      "1281.011\n",
      "1281.012\n",
      "1281.013\n",
      "1281.014\n",
      "1301.011\n",
      "1301.012\n",
      "1301.013\n",
      "1301.014\n"
     ]
    }
   ],
   "source": [
    "cesm2_u10_mean, cesm2_v10_mean = calc_ensemble_mean_wind(save=True)"
   ]
  },
  {
   "cell_type": "code",
   "execution_count": null,
   "id": "9fa5c79a-f1bf-4035-b5f0-0a4be1c26545",
   "metadata": {},
   "outputs": [],
   "source": [
    "start_year=1979\n",
    "end_year=2023\n",
    "# leave out 1996 because of Amundsen Sea cyclone issue\n",
    "years = list(range(start_year,end_year+1)).remove('1996')"
   ]
  },
  {
   "cell_type": "code",
   "execution_count": null,
   "id": "570fbf34-a3f6-4fa7-a8d5-e5e57b8bfb90",
   "metadata": {},
   "outputs": [],
   "source": [
    "print(years)"
   ]
  },
  {
   "cell_type": "code",
   "execution_count": null,
   "id": "b62ca2f5-1f07-476a-83c5-bf7bfa39c10c",
   "metadata": {},
   "outputs": [],
   "source": [
    "start_year=1979\n",
    "end_year=2023\n",
    "cesm2_dir = f'{base_dir}climate-forcing/CESM2/LE2/processed/'\n",
    "era5_dir  = f'{base_dir}ERA5-forcing/daily/files/processed/'\n",
    "\n",
    "name_remapping = {'longitude':'lon', 'latitude':'lat'}\n",
    "era5_u = xr.open_mfdataset([f'{era5_dir}u10_time_y{year}.nc' for year in years]).rename(name_remapping).sortby('lat').sel(lat=slice(-90,-50))\n",
    "era5_v = xr.open_mfdataset([f'{era5_dir}v10_time_y{year}.nc' for year in years]).rename(name_remapping).sortby('lat').sel(lat=slice(-90,-50))\n",
    "\n",
    "# cesm2_u10_monthly = xr.open_dataset(f'{cesm2_dir}CESM2-LE2_u10_ensemble_mean_monthly.nc')\n",
    "# cesm2_v10_monthly = xr.open_dataset(f'{cesm2_dir}CESM2-LE2_v10_ensemble_mean_monthly.nc')"
   ]
  },
  {
   "cell_type": "code",
   "execution_count": null,
   "id": "e9f2a033-472c-4fb4-87e4-2f9aad3f9d06",
   "metadata": {},
   "outputs": [],
   "source": [
    "era5_u_monthly  = era5_u.u10.groupby(\"time.month\").mean(dim=\"time\")\n",
    "era5_v_monthly  = era5_v.v10.groupby(\"time.month\").mean(dim=\"time\")\n",
    "\n",
    "cesm2_u_monthly = cesm2_u10_mean.U10x\n",
    "cesm2_v_monthly = cesm2_v10_mean.U10y\n",
    "\n",
    "cesm2_speed     = np.sqrt(cesm2_u_monthly**2 + cesm2_v_monthly**2).rename('wind_speed').to_dataset()\n",
    "era5_speed      = np.sqrt(era5_u_monthly**2 + era5_v_monthly**2).rename('wind_speed').to_dataset()"
   ]
  },
  {
   "cell_type": "code",
   "execution_count": 31,
   "id": "0dc80b21-d4f4-40dd-bdbd-b97f602c8680",
   "metadata": {},
   "outputs": [
    {
     "name": "stdout",
     "output_type": "stream",
     "text": [
      "No artists with labels found to put in legend.  Note that artists whose label start with an underscore are ignored when legend() is called with no argument.\n"
     ]
    },
    {
     "data": {
      "text/plain": [
       "Text(0.5, 1.0, '')"
      ]
     },
     "execution_count": 31,
     "metadata": {},
     "output_type": "execute_result"
    },
    {
     "data": {
      "image/png": "[encoded data removed]",
      "text/plain": [
       "<Figure size 900x600 with 1 Axes>"
      ]
     },
     "metadata": {},
     "output_type": "display_data"
    }
   ],
   "source": [
    "fig, ax = plt.subplots(3,4, figsize=(12,16))\n",
    "kwags2={'density':True, 'alpha':0.5, 'bins':2000}\n",
    "for m, axis in enumerate(ax.ravel()):\n",
    "    print(m)\n",
    "    if m==0:\n",
    "        cesm2_speed_nemo = process_atm_input(cesm2_speed.isel(month=m), 'wind_speed')\n",
    "        era5_speed_nemo  = process_atm_input(era5_speed.isel(month=m), 'wind_speed')\n",
    "        \n",
    "        (era5_speed_nemo.wind_speed / cesm2_speed_nemo.wind_speed).plot.hist(ax=axis, **kwags2)\n",
    "        axis.set_title(f'Month: {m+1}, median ratio = {(era5_speed_nemo.wind_speed/cesm2_speed_nemo.wind_speed).median().values:.2f}')\n",
    "\n",
    "# ax.legend(loc=(1.05, 0.6), frameon=False)\n",
    "# ax.set_xlim(0,1.5)\n",
    "# ax.set_xlabel('Wind speed ratio ERA5/CESM2')\n",
    "# ax.set_ylabel('Probability density')\n",
    "# ax.set_title('')"
   ]
  },
  {
   "cell_type": "markdown",
   "id": "66d9dfe0-79ae-4adb-a8d2-430d0586013d",
   "metadata": {},
   "source": [
    "### Also look at whether there's a consistent spatial seasonal bias in wind speeds"
   ]
  },
  {
   "cell_type": "code",
   "execution_count": null,
   "id": "61db6faa-b120-4c94-94aa-497f70cac220",
   "metadata": {},
   "outputs": [],
   "source": [
    "fig, ax = plt.subplots(3,4, figsize=(12,16))\n",
    "for m, axis in enumerate(ax.ravel()):\n",
    "    print(m)\n",
    "    if m==0:\n",
    "        cesm2_speed_nemo = process_atm_input(cesm2_speed.isel(month=m), 'wind_speed')\n",
    "        era5_speed_nemo  = process_atm_input(era5_speed.isel(month=m), 'wind_speed')\n",
    "        \n",
    "        (era5_speed_nemo.wind_speed / cesm2_speed_nemo.wind_speed).plot(ax=axis, vmin=0, vmax=2)\n",
    "        axis.set_title(f'Month: {m+1}')"
   ]
  }
 ],
 "metadata": {
  "kernelspec": {
   "display_name": "Python 3 + Jaspy",
   "language": "python",
   "name": "jaspy"
  },
  "language_info": {
   "codemirror_mode": {
    "name": "ipython",
    "version": 3
   },
   "file_extension": ".py",
   "mimetype": "text/x-python",
   "name": "python",
   "nbconvert_exporter": "python",
   "pygments_lexer": "ipython3",
   "version": "3.11.9"
  }
 },
 "nbformat": 4,
 "nbformat_minor": 5
}
