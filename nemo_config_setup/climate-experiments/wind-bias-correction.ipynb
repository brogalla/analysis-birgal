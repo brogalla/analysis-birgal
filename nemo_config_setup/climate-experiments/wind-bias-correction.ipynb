{
 "cells": [
  {
   "cell_type": "markdown",
   "id": "63ecb046-2069-4731-912e-2764addcc302",
   "metadata": {},
   "source": [
    "# Bias correct CESM2 wind speeds to ERA5 using stress"
   ]
  },
  {
   "cell_type": "code",
   "execution_count": 14,
   "id": "c6ab125c-715f-4f1b-921e-7f7182ffb7fe",
   "metadata": {},
   "outputs": [],
   "source": [
    "import xarray as xr\n",
    "import numpy as np\n",
    "import matplotlib.pyplot as plt\n",
    "import sys\n",
    "import cmocean\n",
    "sys.path.append('/home/users/birgal/')\n",
    "from nemo_python_git.utils import fix_lon_range"
   ]
  },
  {
   "cell_type": "markdown",
   "id": "3729780c-200d-4c4f-bfe1-45d73fb6b70a",
   "metadata": {},
   "source": [
    "Equation: \n",
    "\n",
    "$\\tau = \\rho C_D U_z |U_z| = \\rho C_d U^2 = \\rho C_d (u^2 + v^2)$ OR\n",
    "\n",
    "$ \\tau_x = \\rho \\cdot C_d \\cdot u \\cdot  \\sqrt{u^2 + v^2}$\n",
    "\n",
    "$ \\tau_y = \\rho \\cdot C_d \\cdot v \\cdot \\sqrt{u^2 + v^2}$\n",
    "\n",
    "Write out sea ice ($C_{di}$) and ocean ($C_{do}$) drag coefficients and calculate:\n",
    "\n",
    "$\\tau_{ERA5} = \\tau_{CESM2}$\n",
    "\n",
    "$(C_{di ERA5} + C_{do ERA5}) (u_{ERA5}^2 + v_{ERA5}^2) = (C_{di CESM2} + C_{do CESM2}) (u_{CESM2}^2 + v_{CESM2}^2 + bias)$\n",
    "\n",
    "$\\frac{C_{di ERA5} + C_{do ERA5}}{C_{di CESM2} + C_{do CESM2}} (u_{ERA5}^2 + v_{ERA5}^2) = u_{CESM2}^2 + v_{CESM2}^2 + bias$\n",
    "\n",
    "$bias = \\frac{C_{di ERA5} + C_{do ERA5}}{C_{di CESM2} + C_{do CESM2}} (u_{ERA5}^2 + v_{ERA5}^2) - u_{CESM2}^2 - v_{CESM2}^2$\n",
    "\n",
    "Or alternatively, I could read in wind stress from ERA5 forced experiment and from CESM2 forced experiment: utau_oce, vtau_oce (taum is already written to file)\n",
    "\n",
    "$C_D$ --- bulk transfer coefficient of momentum\n"
   ]
  },
  {
   "cell_type": "markdown",
   "id": "10b6c9ce-3500-4910-93cb-3d5e3678040c",
   "metadata": {},
   "source": [
    "Steps:\n",
    "- Mean surface air density for ERA5 and CESM2 experiments\n",
    "- Mean of ERA5 u10 and v10 over the timeseries\n",
    "- Ensemble mean of CESM2 U and V over the timeseries\n",
    "- Regrid ERA5 and CESM2 velocities onto the NEMO grid\n",
    "- Drag coefficients for an experiment with ERA5 and for an experiment with CESM2\n",
    "\n",
    "OR\n",
    "- Mean of ERA5 experiment taum\n",
    "- Mean of CESM2 experiment taum\n",
    "- Stress bias = difference between these two\n",
    "- Then, $stress bias = \\rho_{air} C_D (u^2 + v^2 + wind bias)$ $\\rightarrow$ $wind bias = \\frac{stress bias}{\\rho_o C_D} - u^2 - v^2$"
   ]
  },
  {
   "cell_type": "code",
   "execution_count": 2,
   "id": "483fe2fd-badf-454e-a60c-0dc17949c8b1",
   "metadata": {},
   "outputs": [],
   "source": [
    "base_dir = '/gws/nopw/j04/anthrofail/birgal/NEMO_AIS/'\n",
    "nemo_mask = xr.open_dataset(f'{base_dir}bathymetry/mesh_mask-20250217.nc').squeeze()\n",
    "land_mask = nemo_mask.tmask.isel(nav_lev=0)"
   ]
  },
  {
   "cell_type": "code",
   "execution_count": 3,
   "id": "419e32e7-d262-4e1e-ad6c-4f138f04a0fb",
   "metadata": {},
   "outputs": [],
   "source": [
    "def compare_variable(ds1, ds2, varname, vmin=None, vmax=None, ylim=(None,None), title1='', title2='', title3='Panel 1 - Panel 2', cmap=cmocean.cm.haline):\n",
    "    kwags = {'vmin':vmin, 'vmax':vmax, 'ylim':ylim, 'cmap':cmap}\n",
    "    \n",
    "    fig, ax = plt.subplots(1,3, figsize=(20,4))\n",
    "    ds1[varname].where(land_mask!=0).plot(ax=ax[0], **kwags)\n",
    "    ds2[varname].where(land_mask!=0).plot(ax=ax[1], **kwags)\n",
    "    (ds1[varname] - ds2[varname]).where(land_mask!=0).plot(ax=ax[2], cmap=cmocean.cm.balance, ylim=(50,None), vmin=-3, vmax=3)\n",
    "    ax[0].set_title(title1); ax[1].set_title(title2); ax[2].set_title(title3);\n",
    "    \n",
    "    return fig, ax "
   ]
  },
  {
   "cell_type": "markdown",
   "id": "92cb0381-1320-4e2e-9b22-d3c6bcf8d109",
   "metadata": {},
   "source": [
    "## Let's instead try just scaling the wind with a scalar magnitude.\n",
    "- air density differences don't change strongly year-to-year (~0.02 on values ranging from 1.25-1.35). Ocean drag changes by ~5e-5 for values between 1.0e-3 to 1.6e-3, so interannual variation is less than the spatial variation within a year. But, could there still be significant drift over time? A bit hard to know what to do about all of that. \n",
    "- "
   ]
  },
  {
   "cell_type": "code",
   "execution_count": null,
   "id": "ec33e7af-cf6c-408f-9086-fa126976f5d0",
   "metadata": {},
   "outputs": [],
   "source": [
    "# instead of looking at the output wind speeds, compare the actual forcing for these analyses (will involve regridding both to the eANT025 grid)"
   ]
  },
  {
   "cell_type": "code",
   "execution_count": null,
   "id": "c492e988-3a3a-48d1-badc-3e1cfa6b1000",
   "metadata": {},
   "outputs": [],
   "source": [
    "fig, ax = compare_variable(cesm2era5, cesm2u10, 'windsp', vmin=2, vmax=12, ylim=(50,None), title1='ERA5', title2='CESM2')"
   ]
  },
  {
   "cell_type": "code",
   "execution_count": null,
   "id": "3d9f83a4-f434-4358-81bc-680aa2f4298a",
   "metadata": {},
   "outputs": [],
   "source": [
    "fig, ax = compare_variable(cesm2era5, cesm2_ds, 'windsp', vmin=2, vmax=12, ylim=(50,None), title1='ERA5', title2='CESM2')"
   ]
  },
  {
   "cell_type": "code",
   "execution_count": null,
   "id": "4d9d6f87-d741-42a8-bce0-2e38036aa5f0",
   "metadata": {},
   "outputs": [],
   "source": [
    "# fraction of wind speeds that are off.\n",
    "fig, ax = compare_variable((cesm2era5 - cesm2u10)*100/cesm2u10, cesm2era5/cesm2u10, 'windsp', vmin=-20, vmax=20, ylim=(50,None), title1='ERA5', title2='CESM2')"
   ]
  },
  {
   "cell_type": "code",
   "execution_count": null,
   "id": "1430f504-4459-4de0-952e-48a2a555d4e2",
   "metadata": {},
   "outputs": [],
   "source": [
    "fig, ax = plt.subplots(1,1, figsize=(8,5))\n",
    "kwags1={'density':True, 'histtype':'step', 'ax':ax, 'lw':1.5}\n",
    "kwags2={'density':True, 'ax':ax, 'alpha':0.5}\n",
    "cesm2era5.windsp.where(land_mask!=0).plot.hist(label='ERA5', **kwags2)\n",
    "cesm2_ds.windsp.where(land_mask!=0).plot.hist(label='CESM2', **kwags1)\n",
    "# (cesm2u10.windsp).where(land_mask!=0).plot.hist(label='CESM2 u10', **kwags1)\n",
    "(cesm2u10.windsp*0.89).where(land_mask!=0).plot.hist(label='CESM2 u10 multiplier', **kwags1)\n",
    "(cesm2u10.windsp - 0.6).where(land_mask!=0).plot.hist(label='CESM2 u10 shifted', **kwags1)\n",
    "ax.legend(loc=(1.05, 0.6), frameon=False)"
   ]
  },
  {
   "cell_type": "code",
   "execution_count": null,
   "id": "debd4f64-5153-449f-b847-884c1bd4d729",
   "metadata": {},
   "outputs": [],
   "source": [
    "cesm2_wind = cesm2_ds.windsp.where(land_mask!=0)\n",
    "cesm2_wind_u10 = cesm2u10.windsp.where(land_mask!=0)\n",
    "era5_wind  = cesm2era5.windsp.where(land_mask!=0)\n",
    "\n",
    "wind_rms_u10 = np.sqrt((era5_wind - cesm2_wind_u10)**2)\n",
    "wind_rms = np.sqrt((era5_wind - cesm2_wind)**2)\n",
    "wind_rms_multiple = np.sqrt((era5_wind - 0.89*cesm2_wind)**2)\n",
    "wind_rms_u10_multiple = np.sqrt((era5_wind - 0.89*cesm2_wind_u10)**2)\n",
    "wind_rms_shifted = np.sqrt((era5_wind - (cesm2_wind - 0.6))**2)\n",
    "wind_rms_u10_shifted = np.sqrt((era5_wind - (cesm2_wind_u10 - 0.6))**2)\n",
    "# wind_rms_spatial  = np.sqrt((era5_wind - spatial_diff*cesm2_wind)**2)"
   ]
  },
  {
   "cell_type": "markdown",
   "id": "998143b1-9ae4-4683-a204-92ec5a0e3563",
   "metadata": {},
   "source": [
    "minimize rms of spacial field --- check whether a constant multiplier would work or a spatially varying one. \n",
    "Plus whether it should be a multiplier versus and offset."
   ]
  },
  {
   "cell_type": "code",
   "execution_count": null,
   "id": "72b7b0bb-4262-400a-9352-75c1c7ba4d5e",
   "metadata": {},
   "outputs": [],
   "source": [
    "fig, ax = plt.subplots(1,1, figsize=(8,5))\n",
    "kwags1={'density':True, 'histtype':'step', 'lw':1.5, 'ax':ax, 'bins':30}\n",
    "wind_rms.plot.hist(bins=30, ax=ax, color='blue', density=True, label='Original UBOT difference')\n",
    "wind_rms_u10.plot.hist(color='magenta', label='Original U10 difference', **kwags1)\n",
    "\n",
    "wind_rms_multiple.plot.hist(label='CESM2 UBOT multiplied by consant', color='orange', **kwags1)\n",
    "wind_rms_u10_multiple.plot.hist(color='purple', label='CESM2 U10 multiplied by constant', **kwags1)\n",
    "\n",
    "wind_rms_shifted.plot.hist(label='CESM2 UBOT constant shift', color='cyan', **kwags1)\n",
    "wind_rms_u10_shifted.plot.hist(label='CESM2 U10 constant shift', color='red', **kwags1)\n",
    "# wind_rms_multiple.plot.hist(label='CESM2 u10 spatially varying multiplier', color='magenta', **kwags1)\n",
    "\n",
    "plt.axvline(wind_rms.mean(), color='blue', linestyle='dashed', linewidth=1)\n",
    "plt.axvline(wind_rms_u10.mean(), color='magenta', linestyle='dashed', linewidth=1)\n",
    "plt.axvline(wind_rms_multiple.mean(), color='orange', linestyle='dashed', linewidth=1)\n",
    "plt.axvline(wind_rms_u10_multiple.mean(), color='purple', linestyle='dashed', linewidth=1)\n",
    "plt.axvline(wind_rms_shifted.mean(), color='cyan', linestyle='dashed', linewidth=1)\n",
    "plt.axvline(wind_rms_u10_shifted.mean(), color='red', linestyle='dashed', linewidth=1)\n",
    "ax.legend(loc=(1.05, 0.6), frameon=False)\n",
    "ax.set_title('')\n",
    "ax.set_xlabel('Wind speed RMSE')"
   ]
  },
  {
   "cell_type": "markdown",
   "id": "b198f21c-8a91-4e6e-8d3d-a1b8795cdfe6",
   "metadata": {},
   "source": [
    "## Repeat analysis but with original input wind fields"
   ]
  },
  {
   "cell_type": "code",
   "execution_count": null,
   "id": "595dccd8-0e1f-4f7d-b166-0c744de0bab4",
   "metadata": {},
   "outputs": [],
   "source": [
    "# year = 1979\n",
    "month= 1\n",
    "# cesm2_u = xr.open_dataset(f'{base_dir}climate-forcing/CESM2/LE2/processed/CESM2-LE2_ens1011.001_UBOT_y{year}.nc').mean(dim='time')\n",
    "# cesm2_v = xr.open_dataset(f'{base_dir}climate-forcing/CESM2/LE2/processed/CESM2-LE2_ens1011.001_VBOT_y{year}.nc').mean(dim='time')\n",
    "# calculate the mean over all januaries\n",
    "\n",
    "end_year=2000\n",
    "cesm2_u10 = xr.open_mfdataset([f'{base_dir}climate-forcing/CESM2/LE2/processed/CESM2-LE2_ens1011.001_U10x_y{year}.nc' for year in range(1979,end_year)])\n",
    "# cesm2_u10 = cesm2_u10.isel(time=cesm2_u10.time.dt.month==month).mean(dim='time')\n",
    "cesm2_u10 = cesm2_u10.mean(dim='time')\n",
    "cesm2_v10 = xr.open_mfdataset([f'{base_dir}climate-forcing/CESM2/LE2/processed/CESM2-LE2_ens1011.001_U10y_y{year}.nc' for year in range(1979,end_year)])\n",
    "# cesm2_v10 = cesm2_v10.isel(time=cesm2_v10.time.dt.month==month).mean(dim='time')\n",
    "cesm2_v10 = cesm2_v10.mean(dim='time')\n",
    "era5_u    = xr.open_mfdataset([f'{base_dir}ERA5-forcing/daily/files/processed/u10_time_y{year}.nc' for year in range(1979,end_year)])\n",
    "# era5_u    = era5_u.isel(time=era5_u.time.dt.month==month).mean(dim='time')\n",
    "era5_u    = era5_u.mean(dim='time')\n",
    "era5_v    = xr.open_mfdataset([f'{base_dir}ERA5-forcing/daily/files/processed/v10_time_y{year}.nc' for year in range(1979,end_year)])\n",
    "# era5_v    = era5_v.isel(time=era5_v.time.dt.month==month).mean(dim='time')\n",
    "era5_v    = era5_v.mean(dim='time')"
   ]
  },
  {
   "cell_type": "code",
   "execution_count": 9,
   "id": "7bdffbf1-a02d-4fd4-b877-479400959f1f",
   "metadata": {},
   "outputs": [],
   "source": [
    "from nemo_python_git.interpolation import interp_latlon_cf"
   ]
  },
  {
   "cell_type": "code",
   "execution_count": 10,
   "id": "81a166b0-4437-41ab-ac72-7f3fd59bc65e",
   "metadata": {},
   "outputs": [],
   "source": [
    "def regrid_to_NEMO(ds, varname, nemo_coord=f'{base_dir}bathymetry/domain_cfg-20240305.nc'):\n",
    "    \n",
    "    nemo_coord_file = xr.open_dataset(nemo_coord).squeeze()\n",
    "    name_remapping  = {'longitude':'lon', 'latitude':'lat'}\n",
    "\n",
    "    try:\n",
    "        source_var = ds.rename(name_remapping).sortby('lat').sel(lat=slice(-90, -50))\n",
    "    except:\n",
    "        source_var = ds.sortby('lat').sel(lat=slice(-90, -50))\n",
    "        \n",
    "    if source_var.lon.max() > 180: # Convert longitudes from 0-360 to -180 to 180 \n",
    "        source_var['lon'] = fix_lon_range(source_var.lon)\n",
    "    source_var = source_var.sortby('lon')[varname]\n",
    "    source_var = xr.where(source_var==0, np.nan, source_var)\n",
    "\n",
    "    # Now wrap up into a new dataset and interpolate\n",
    "    ds_source = xr.Dataset({'lon':source_var['lon'], 'lat':source_var['lat'], varname:source_var})\n",
    "    print('Interpolating')\n",
    "    interp_src = interp_latlon_cf(ds_source, nemo_coord_file, pster_src=False, periodic_src=True, periodic_nemo=True, method='conservative')\n",
    "    \n",
    "    return interp_src"
   ]
  },
  {
   "cell_type": "code",
   "execution_count": null,
   "id": "2d1018b0-d194-4b10-b8de-45416cf66b5b",
   "metadata": {},
   "outputs": [],
   "source": [
    "cesm2_u10_nemo = regrid_to_NEMO(cesm2_u10, 'U10x')\n",
    "cesm2_v10_nemo = regrid_to_NEMO(cesm2_v10, 'U10y')\n",
    "cesm2_u10_nemo = cesm2_u10_nemo.rename({'U10x':'u10'})\n",
    "cesm2_v10_nemo = cesm2_v10_nemo.rename({'U10y':'v10'})\n",
    "era5_u10_nemo = regrid_to_NEMO(era5_u, 'u10')\n",
    "era5_v10_nemo = regrid_to_NEMO(era5_v, 'v10')"
   ]
  },
  {
   "cell_type": "code",
   "execution_count": null,
   "id": "5324222a-9775-46df-8a73-fb794d4cc2bc",
   "metadata": {},
   "outputs": [],
   "source": [
    "domcfg  = xr.open_dataset(f'{base_dir}bathymetry/domain_cfg-20240305.nc').isel(x=slice(0,None,5), y=slice(0,None,5))"
   ]
  },
  {
   "cell_type": "code",
   "execution_count": null,
   "id": "59e074a4-a656-4bce-84c5-8f14a90fc3be",
   "metadata": {},
   "outputs": [],
   "source": [
    "from nemo_python_git.utils import rotate_vector\n",
    "\n",
    "#era5_v10_nemo.v10.where(land_mask!=0).isel(x=slice(0,None,5), y=slice(0,None,5))\n",
    "\n",
    "cesm2_ux, cesm2_uy = rotate_vector(cesm2_u10_nemo.where(land_mask!=0).isel(x=slice(0,None,5), y=slice(0,None,5)).u10,\n",
    "                                   cesm2_v10_nemo.where(land_mask!=0).isel(x=slice(0,None,5), y=slice(0,None,5)).v10, \n",
    "                                   domcfg=domcfg, reverse=True)"
   ]
  },
  {
   "cell_type": "code",
   "execution_count": null,
   "id": "93f857b6-6c2b-44ec-8ec3-221d997d32fc",
   "metadata": {},
   "outputs": [],
   "source": [
    "cesm2_u10_nemo.where(land_mask!=0).isel(x=slice(0,None,5), y=slice(0,None,5)).u10.plot(figsize=(10,4))\n",
    "cesm2_ux.plot(figsize=(10,4))\n",
    "(cesm2_u10_nemo.where(land_mask!=0).isel(x=slice(0,None,5), y=slice(0,None,5)).u10 - cesm2_ux).plot(figsize=(10,4))"
   ]
  },
  {
   "cell_type": "code",
   "execution_count": null,
   "id": "4ab50c69-f987-42dd-b1f0-ed8a62b287f7",
   "metadata": {},
   "outputs": [],
   "source": [
    "cesm2_speed = np.sqrt(cesm2_u10_nemo.u10**2 + cesm2_v10_nemo.v10**2).where(land_mask!=0).rename('wind_speed').to_dataset()\n",
    "era5_speed  = np.sqrt(era5_u10_nemo.u10**2 + era5_v10_nemo.v10**2).where(land_mask!=0).rename('wind_speed').to_dataset()"
   ]
  },
  {
   "cell_type": "code",
   "execution_count": null,
   "id": "d51bbdbb-ca12-48c2-ab9a-05ec199605fa",
   "metadata": {},
   "outputs": [],
   "source": [
    "wind_rms = np.sqrt((era5_speed - cesm2_speed)**2)['wind_speed']\n",
    "wind_rms_multiple = np.sqrt((era5_speed - 0.8*cesm2_speed)**2)['wind_speed']\n",
    "wind_rms_shifted = np.sqrt((era5_speed - (cesm2_speed - 0.6))**2)['wind_speed']\n",
    "# wind_rms_spatial  = np.sqrt((era5_wind - spatial_diff*cesm2_wind)**2)"
   ]
  },
  {
   "cell_type": "code",
   "execution_count": null,
   "id": "25381ca4-2e12-413a-8b77-6e085d152100",
   "metadata": {},
   "outputs": [],
   "source": [
    "fig, ax = plt.subplots(1,1, figsize=(8,5))\n",
    "kwags1={'density':True, 'histtype':'step', 'lw':1.5, 'ax':ax, 'bins':30}\n",
    "wind_rms.plot.hist(bins=30, ax=ax, color='blue', density=True, label='Original difference')\n",
    "wind_rms_multiple.plot.hist(label='CESM2 multiplied by consant', color='orange', **kwags1)\n",
    "wind_rms_shifted.plot.hist(label='CESM2 constant shift', color='cyan', **kwags1)\n",
    "\n",
    "# plt.axvline(wind_rms.mean(), color='blue', linestyle='dashed', linewidth=1)\n",
    "# plt.axvline(wind_rms_multiple.mean(), color='orange', linestyle='dashed', linewidth=1)\n",
    "# plt.axvline(wind_rms_shifted.mean(), color='cyan', linestyle='dashed', linewidth=1)\n",
    "ax.legend(loc=(1.05, 0.6), frameon=False)\n",
    "ax.set_title('')\n",
    "ax.set_xlabel('Wind speed RMSE')"
   ]
  },
  {
   "cell_type": "code",
   "execution_count": null,
   "id": "b2a03f76-0a8e-4ae0-b05a-e43ae688ecf1",
   "metadata": {},
   "outputs": [],
   "source": [
    "#  create figure with wind speed difference in each month:\n",
    "fig, ax = plt.subplots(4,3, figsize=(20,16))\n",
    "\n",
    "varname='wind_speed'\n",
    "for m, axis in enumerate(ax.ravel()):\n",
    "\n",
    "    month=m+1\n",
    "    print('Month', month)\n",
    "    cesm2_u10 = xr.open_mfdataset([f'{base_dir}climate-forcing/CESM2/LE2/processed/CESM2-LE2_ens1011.001_U10x_y{year}.nc' for year in range(1979,2024)])\n",
    "    cesm2_u10 = cesm2_u10.isel(time=cesm2_u10.time.dt.month==month).mean(dim='time')\n",
    "    cesm2_v10 = xr.open_mfdataset([f'{base_dir}climate-forcing/CESM2/LE2/processed/CESM2-LE2_ens1011.001_U10y_y{year}.nc' for year in range(1979,2024)])\n",
    "    cesm2_v10 = cesm2_v10.isel(time=cesm2_v10.time.dt.month==month).mean(dim='time')\n",
    "    era5_u    = xr.open_mfdataset([f'{base_dir}ERA5-forcing/daily/files/processed/u10_time_y{year}.nc' for year in range(1979,2024)])\n",
    "    era5_u    = era5_u.isel(time=era5_u.time.dt.month==month).mean(dim='time')\n",
    "    era5_v    = xr.open_mfdataset([f'{base_dir}ERA5-forcing/daily/files/processed/v10_time_y{year}.nc' for year in range(1979,2024)])\n",
    "    era5_v    = era5_v.isel(time=era5_v.time.dt.month==month).mean(dim='time')\n",
    "\n",
    "    cesm2_u10_nemo = regrid_to_NEMO(cesm2_u10, 'U10x')\n",
    "    cesm2_v10_nemo = regrid_to_NEMO(cesm2_v10, 'U10y')\n",
    "    cesm2_u10_nemo = cesm2_u10_nemo.rename({'U10x':'u10'})\n",
    "    cesm2_v10_nemo = cesm2_v10_nemo.rename({'U10y':'v10'})\n",
    "\n",
    "    era5_u10_nemo = regrid_to_NEMO(era5_u, 'u10')\n",
    "    era5_v10_nemo = regrid_to_NEMO(era5_v, 'v10')\n",
    "    cesm2_speed = np.sqrt(cesm2_u10_nemo.u10**2 + cesm2_v10_nemo.v10**2).where(land_mask!=0).rename('wind_speed').to_dataset()\n",
    "    era5_speed  = np.sqrt(era5_u10_nemo.u10**2 + era5_v10_nemo.v10**2).where(land_mask!=0).rename('wind_speed').to_dataset()\n",
    "    \n",
    "    (era5_speed[varname] - cesm2_speed[varname]).where(land_mask!=0).plot(ax=axis, cmap=cmocean.cm.balance, ylim=(50,None), vmin=-3, vmax=3)\n",
    "    axis.set_title(f'Month: {month}')\n",
    "\n",
    "\n",
    "fig.savefig(f'{base_dir}figures/wind-difference-monthly-climatology_1979-2024.jpg')"
   ]
  },
  {
   "cell_type": "code",
   "execution_count": null,
   "id": "c544fed8-c217-4102-b647-291f4e740ffc",
   "metadata": {},
   "outputs": [],
   "source": [
    "# consider only correcting the higher wind speed north of the peninsula"
   ]
  },
  {
   "cell_type": "code",
   "execution_count": null,
   "id": "522c1461-9c5d-4ca9-a44c-531726bbeaae",
   "metadata": {},
   "outputs": [],
   "source": [
    "fig, ax = compare_variable(era5_u10_nemo, cesm2_u10_nemo, 'u10', vmin=-9, vmax=9, ylim=(50,None), title1='ERA5', title2='CESM2', cmap=cmocean.cm.balance)"
   ]
  },
  {
   "cell_type": "code",
   "execution_count": null,
   "id": "40885124-6ea9-44c5-84ed-df3f7dd88540",
   "metadata": {},
   "outputs": [],
   "source": [
    "fig, ax = compare_variable(era5_v10_nemo, cesm2_v10_nemo, 'v10', vmin=-9, vmax=9, ylim=(50,None), title1='ERA5', title2='CESM2', cmap=cmocean.cm.balance)"
   ]
  },
  {
   "cell_type": "code",
   "execution_count": null,
   "id": "8905fa53-b9bf-4d68-b22d-43a967550859",
   "metadata": {},
   "outputs": [],
   "source": [
    "fig, ax = compare_variable(era5_speed, cesm2_speed, 'wind_speed', vmin=2, vmax=12, ylim=(50,None), title1='ERA5', title2='CESM2')"
   ]
  },
  {
   "cell_type": "code",
   "execution_count": null,
   "id": "3cca1d75-651f-40a2-a94f-6c90d0d9df9c",
   "metadata": {},
   "outputs": [],
   "source": [
    "fig, ax = compare_variable(era5_speed, cesm2_speed*0.8, 'wind_speed', vmin=2, vmax=12, ylim=(50,None), title1='ERA5', title2='CESM2')"
   ]
  },
  {
   "cell_type": "markdown",
   "id": "4df6e196-ee77-49ec-b064-d53f95190435",
   "metadata": {},
   "source": [
    "The wind speeds that the ocean sees based on the SBC output are different from the raw files (less magnitude difference). What causes this difference? Is the output wind speed a combination of wind speed and drag?\n",
    "\n",
    "Is the low value just the sea ice imprint? Try the same but monthly."
   ]
  },
  {
   "cell_type": "code",
   "execution_count": null,
   "id": "8451e926-ce62-40cc-9f5e-a4f4ed9e93ba",
   "metadata": {},
   "outputs": [],
   "source": [
    "era5_uwind = era5_u.u10.sortby('longitude').sortby('latitude').sel(latitude=slice(-90,-50))\n",
    "era5_vwind = era5_v.v10.sortby('longitude').sortby('latitude').sel(latitude=slice(-90,-50))"
   ]
  },
  {
   "cell_type": "code",
   "execution_count": null,
   "id": "3865fd06-e010-4e0a-bc17-a116760e8fcc",
   "metadata": {},
   "outputs": [],
   "source": [
    "(era5_vwind.differentiate('longitude') - era5_uwind.differentiate('latitude')).plot(vmin=-1, vmax=1, cmap=cmocean.cm.balance, figsize=(10,4))"
   ]
  },
  {
   "cell_type": "code",
   "execution_count": null,
   "id": "38f1546f-21de-489d-a8b0-8e62d457075f",
   "metadata": {},
   "outputs": [],
   "source": [
    "fig, ax = plt.subplots(1,3, figsize=(20,4))\n",
    "kwags = {'vmin':-0.8, 'vmax':0.8, 'cmap':cmocean.cm.balance, 'ylim':(30,None)}\n",
    "era5_curl  = era5_v10_nemo.v10.where(land_mask!=0).isel(x=slice(0,None,5), y=slice(0,None,5)).differentiate('x') - \\\n",
    "             era5_u10_nemo.u10.where(land_mask!=0).isel(x=slice(0,None,5), y=slice(0,None,5)).differentiate('y') \n",
    "cesm2_curl = cesm2_v10_nemo.v10.where(land_mask!=0).isel(x=slice(0,None,5), y=slice(0,None,5)).differentiate('x') - \\\n",
    "             cesm2_u10_nemo.u10.where(land_mask!=0).isel(x=slice(0,None,5), y=slice(0,None,5)).differentiate('y')\n",
    "\n",
    "era5_curl.plot(ax=ax[0], **kwags)\n",
    "cesm2_curl.plot(ax=ax[1], **kwags)\n",
    "(era5_curl - cesm2_curl).plot(ax=ax[2], **kwags)\n",
    "ax[0].set_title('Wind curl ERA5'); ax[1].set_title('Wind curl CESM2'); ax[2].set_title('ERA5-CESM2')"
   ]
  },
  {
   "cell_type": "code",
   "execution_count": null,
   "id": "01a18f19-14ef-49ba-ae72-407d1f45303e",
   "metadata": {},
   "outputs": [],
   "source": [
    "fig, ax = plt.subplots(1,3, figsize=(20,4))\n",
    "kwags = {'vmin':-0.8, 'vmax':0.8, 'cmap':cmocean.cm.balance, 'ylim':(30,None)}\n",
    "era5_div  = era5_v10_nemo.v10.where(land_mask!=0).isel(x=slice(0,None,5), y=slice(0,None,5)).differentiate('y') + \\\n",
    "             era5_u10_nemo.u10.where(land_mask!=0).isel(x=slice(0,None,5), y=slice(0,None,5)).differentiate('x') \n",
    "cesm2_div = cesm2_v10_nemo.v10.where(land_mask!=0).isel(x=slice(0,None,5), y=slice(0,None,5)).differentiate('y') + \\\n",
    "             cesm2_u10_nemo.u10.where(land_mask!=0).isel(x=slice(0,None,5), y=slice(0,None,5)).differentiate('x')\n",
    "\n",
    "era5_div.plot(ax=ax[0], **kwags)\n",
    "cesm2_div.plot(ax=ax[1], **kwags)\n",
    "(era5_div - cesm2_div).plot(ax=ax[2], **kwags)\n",
    "ax[0].set_title('Wind divergence ERA5'); ax[1].set_title('Wind divergence CESM2'); ax[2].set_title('ERA5-CESM2')"
   ]
  },
  {
   "cell_type": "code",
   "execution_count": null,
   "id": "44e92e22-c36d-4d67-9c8e-e288fc0efbef",
   "metadata": {},
   "outputs": [],
   "source": [
    "(era5_u10_nemo.u10.where(land_mask!=0).differentiate('x') + \\\n",
    " era5_v10_nemo.v10.where(land_mask!=0).differentiate('y')).plot(vmin=-0.1, vmax=0.1, cmap=cmocean.cm.balance, figsize=(10,4), ylim=(150,None))"
   ]
  },
  {
   "cell_type": "code",
   "execution_count": null,
   "id": "b04e8b2c-e9c3-401c-bd13-1a0cce25d370",
   "metadata": {},
   "outputs": [],
   "source": [
    "(era5_vwind.differentiate('latitude') + era5_uwind.differentiate('longitude')).plot(vmin=-1, vmax=1, cmap=cmocean.cm.balance, figsize=(10,4))"
   ]
  },
  {
   "cell_type": "code",
   "execution_count": null,
   "id": "a2af5a6e-9b7c-4966-9222-d625027b7192",
   "metadata": {},
   "outputs": [],
   "source": [
    "(cesm2_u10_nemo.u10.where(land_mask!=0).differentiate('x') + \\\n",
    " cesm2_v10_nemo.v10.where(land_mask!=0).differentiate('y')).plot(vmin=-0.1, vmax=0.1, cmap=cmocean.cm.balance, figsize=(10,4), ylim=(150,None))"
   ]
  },
  {
   "cell_type": "markdown",
   "id": "369ba549-51c8-4d3d-9fe3-4d3e8cd0c6a9",
   "metadata": {},
   "source": [
    "### Calculate multiplier"
   ]
  },
  {
   "cell_type": "code",
   "execution_count": 4,
   "id": "d2441dae-98e3-4c9c-9a29-6168187e08e9",
   "metadata": {},
   "outputs": [],
   "source": [
    "from nemo_python_git.constants import cesm2_ensemble_members"
   ]
  },
  {
   "cell_type": "code",
   "execution_count": 5,
   "id": "b62ca2f5-1f07-476a-83c5-bf7bfa39c10c",
   "metadata": {},
   "outputs": [],
   "source": [
    "start_year=1979\n",
    "end_year=2023\n",
    "varx = 'U10x'; vary='U10y'\n",
    "ens_strs = cesm2_ensemble_members\n",
    "cesm2_dir = f'{base_dir}climate-forcing/CESM2/LE2/processed/'\n",
    "era5_dir  = f'{base_dir}ERA5-forcing/daily/files/processed/'\n",
    "\n",
    "# # Load all ensemble files for specified dates and ensemble members into xarray datasets\n",
    "# cesm2_ufiles = []; cesm2_vfiles = [];\n",
    "# for e, ens in enumerate(ens_strs):\n",
    "#     print(ens)\n",
    "#     cesm2_u = xr.open_mfdataset([f'{cesm2_dir}CESM2-LE2_ens{ens}_{varx}_y{year}.nc' for year in range(start_year,end_year+1)])\n",
    "#     cesm2_v = xr.open_mfdataset([f'{cesm2_dir}CESM2-LE2_ens{ens}_{vary}_y{year}.nc' for year in range(start_year,end_year+1)])\n",
    "\n",
    "#     if e==0:\n",
    "#         cesm2_u10 = cesm2_u.copy().expand_dims(dim=\"ens\")\n",
    "#         cesm2_v10 = cesm2_v.copy().expand_dims(dim=\"ens\")\n",
    "#     else:\n",
    "#         cesm2_u10 = xr.concat([cesm2_u10, cesm2_u], dim='ens')\n",
    "#         cesm2_v10 = xr.concat([cesm2_v10, cesm2_v], dim='ens')\n",
    "\n",
    "# cesm2_u10 = cesm2_u10.assign({'ens':ens_strs})\n",
    "# cesm2_v10 = cesm2_v10.assign({'ens':ens_strs})\n",
    "name_remapping = {'longitude':'lon', 'latitude':'lat'}\n",
    "era5_u = xr.open_mfdataset([f'{era5_dir}u10_time_y{year}.nc' for year in range(start_year,end_year+1)]).rename(name_remapping)\n",
    "era5_v = xr.open_mfdataset([f'{era5_dir}v10_time_y{year}.nc' for year in range(start_year,end_year+1)]).rename(name_remapping)"
   ]
  },
  {
   "cell_type": "code",
   "execution_count": 9,
   "id": "a56cb0f7-b704-4889-979f-135ba339c6a0",
   "metadata": {},
   "outputs": [],
   "source": [
    "cesm2_u10.sortby('lat').sel(lat=slice(-90,-50)).mean(dim='ens').mean(dim='time').to_netcdf(f'{cesm2_dir}CESM2-LE2_u10_ensemble_mean.nc')"
   ]
  },
  {
   "cell_type": "code",
   "execution_count": 10,
   "id": "d7fe85b2-4ed2-41f5-8cd7-1cfb8a6870a0",
   "metadata": {},
   "outputs": [],
   "source": [
    "cesm2_v10.sortby('lat').sel(lat=slice(-90,-50)).mean(dim='ens').mean(dim='time').to_netcdf(f'{cesm2_dir}CESM2-LE2_v10_ensemble_mean.nc')"
   ]
  },
  {
   "cell_type": "code",
   "execution_count": 6,
   "id": "46f3fcfb-de69-405b-a2f4-dbc0fb5c60a1",
   "metadata": {},
   "outputs": [],
   "source": [
    "def process_atm_input(ds, var):\n",
    "\n",
    "    #ds = ds.sortby('lat').sel(lat=slice(-90,-50)).mean(dim='time')\n",
    "\n",
    "    ds_nemo = regrid_to_NEMO(ds, var)\n",
    "    ds_nemo = ds_nemo.where(land_mask!=0)\n",
    "    \n",
    "    return ds_nemo"
   ]
  },
  {
   "cell_type": "code",
   "execution_count": 7,
   "id": "9d3bf0e0-fb2f-4f25-9935-add3a5b77f74",
   "metadata": {},
   "outputs": [],
   "source": [
    "cesm2_dir = f'{base_dir}climate-forcing/CESM2/LE2/processed/'\n",
    "ds_u10 = xr.open_dataset(f'{cesm2_dir}CESM2-LE2_u10_ensemble_mean.nc')\n",
    "ds_v10 = xr.open_dataset(f'{cesm2_dir}CESM2-LE2_v10_ensemble_mean.nc')"
   ]
  },
  {
   "cell_type": "code",
   "execution_count": 11,
   "id": "30e2c3a5-ffe0-4887-acd5-81e8387e32bd",
   "metadata": {},
   "outputs": [
    {
     "name": "stdout",
     "output_type": "stream",
     "text": [
      "Interpolating\n",
      "Interpolating\n"
     ]
    }
   ],
   "source": [
    "# cesm2_u10_nemo = process_atm_input(cesm2_u10.mean(dim='ens'), 'U10x')\n",
    "# cesm2_v10_nemo = process_atm_input(cesm2_v10.mean(dim='ens'), 'U10y')\n",
    "\n",
    "cesm2_u10_nemo = process_atm_input(ds_u10, 'U10x')\n",
    "cesm2_v10_nemo = process_atm_input(ds_v10, 'U10y')"
   ]
  },
  {
   "cell_type": "code",
   "execution_count": 12,
   "id": "6cfd9e82-1f6e-45be-a195-4d4e1cb66fa9",
   "metadata": {},
   "outputs": [
    {
     "name": "stdout",
     "output_type": "stream",
     "text": [
      "Interpolating\n",
      "Interpolating\n"
     ]
    }
   ],
   "source": [
    "era5_u10_nemo = process_atm_input(era5_u.sortby('lat').sel(lat=slice(-90,-50)).mean(dim='time'), 'u10')\n",
    "era5_v10_nemo = process_atm_input(era5_v.sortby('lat').sel(lat=slice(-90,-50)).mean(dim='time'), 'v10')"
   ]
  },
  {
   "cell_type": "code",
   "execution_count": 15,
   "id": "b2ecaa45-bed2-4c31-89bf-97c7fcfc0f7d",
   "metadata": {},
   "outputs": [],
   "source": [
    "cesm2_speed = np.sqrt(cesm2_u10_nemo.U10x**2 + cesm2_v10_nemo.U10y**2).rename('wind_speed').to_dataset()\n",
    "era5_speed  = np.sqrt(era5_u10_nemo.u10**2 + era5_v10_nemo.v10**2).rename('wind_speed').to_dataset()"
   ]
  },
  {
   "cell_type": "code",
   "execution_count": 18,
   "id": "602d8607-4c03-4ac2-9fa2-3a9a7fc48e2a",
   "metadata": {},
   "outputs": [
    {
     "name": "stdout",
     "output_type": "stream",
     "text": [
      "<xarray.DataArray 'wind_speed' ()> Size: 8B\n",
      "array(0.77138604)\n",
      "Coordinates:\n",
      "    nav_lev       float32 4B 0.4921\n",
      "    time_counter  float32 4B 0.0\n"
     ]
    }
   ],
   "source": [
    "print((era5_speed.wind_speed/cesm2_speed.wind_speed).median())\n",
    "# print((era5_speed.wind_speed/cesm2_speed.wind_speed).mean())"
   ]
  },
  {
   "cell_type": "code",
   "execution_count": 31,
   "id": "0dc80b21-d4f4-40dd-bdbd-b97f602c8680",
   "metadata": {},
   "outputs": [
    {
     "name": "stdout",
     "output_type": "stream",
     "text": [
      "No artists with labels found to put in legend.  Note that artists whose label start with an underscore are ignored when legend() is called with no argument.\n"
     ]
    },
    {
     "data": {
      "text/plain": [
       "Text(0.5, 1.0, '')"
      ]
     },
     "execution_count": 31,
     "metadata": {},
     "output_type": "execute_result"
    },
    {
     "data": {
      "image/png": "[encoded data removed]",
      "text/plain": [
       "<Figure size 900x600 with 1 Axes>"
      ]
     },
     "metadata": {},
     "output_type": "display_data"
    }
   ],
   "source": [
    "fig, ax = plt.subplots(1,1, figsize=(3,2), dpi=300)\n",
    "kwags2={'density':True, 'ax':ax, 'alpha':0.5, 'bins':2000}\n",
    "(era5_speed.wind_speed/cesm2_speed.wind_speed).plot.hist(**kwags2)\n",
    "ax.legend(loc=(1.05, 0.6), frameon=False)\n",
    "ax.set_xlim(0,1.5)\n",
    "ax.set_xlabel('Wind speed ratio ERA5/CESM2')\n",
    "ax.set_ylabel('Probability density')\n",
    "ax.set_title('')"
   ]
  },
  {
   "cell_type": "code",
   "execution_count": 20,
   "id": "f58b5cf1-c75b-4c67-a4fb-034168e009c1",
   "metadata": {},
   "outputs": [
    {
     "data": {
      "text/plain": [
       "Text(0.5, 1.0, '')"
      ]
     },
     "execution_count": 20,
     "metadata": {},
     "output_type": "execute_result"
    },
    {
     "data": {
      "image/png": "[encoded data removed]",
      "text/plain": [
       "<Figure size 800x500 with 1 Axes>"
      ]
     },
     "metadata": {},
     "output_type": "display_data"
    }
   ],
   "source": [
    "fig, ax = plt.subplots(1,1, figsize=(8,5))\n",
    "kwags1={'density':True, 'histtype':'step', 'ax':ax, 'lw':1.5}\n",
    "kwags2={'density':True, 'ax':ax, 'alpha':0.5}\n",
    "era5_speed.wind_speed.plot.hist(label='CESM2', **kwags1)\n",
    "cesm2_speed.wind_speed.plot.hist(label='ERA5', **kwags2)\n",
    "ax.legend(loc=(1.05, 0.6), frameon=False)\n",
    "# ax.set_xlim(0,1.5)\n",
    "ax.set_title('')"
   ]
  },
  {
   "cell_type": "code",
   "execution_count": null,
   "id": "0b13af56-7e52-4f94-b5e3-b883031a5ac8",
   "metadata": {},
   "outputs": [],
   "source": [
    "year=1990\n",
    "cesm2_u = xr.open_dataset(f'{cesm2_dir}CESM2-LE2_ens1011.001_U10x_y{year}.nc')\n",
    "cesm2_v = xr.open_dataset(f'{cesm2_dir}CESM2-LE2_ens1011.001_U10y_y{year}.nc')\n",
    "u_bias_corrected = xr.open_dataset(f'{base_dir}climate-forcing/CESM2/LE2/bias-corrected/CESM2-LE2_ens1011.001_U10x_bias_corr_y{year}.nc')\n",
    "v_bias_corrected = xr.open_dataset(f'{base_dir}climate-forcing/CESM2/LE2/bias-corrected/CESM2-LE2_ens1011.001_U10y_bias_corr_y{year}.nc')"
   ]
  },
  {
   "cell_type": "markdown",
   "id": "f73d596d-276d-4048-9b47-32afd37df99f",
   "metadata": {},
   "source": [
    "```\n",
    "  ===>>> : E R R O R\n",
    "\n",
    "          ===========\n",
    "\n",
    "   stp_ctl: |ssh| > 20 m  or  |U| > 10 m/s  or  S <= 0  or  S >= 100  or  NaN encounter in the tests\n",
    "\n",
    " kt 272829 |ssh| max   20.01     at i j    707 221     MPI rank 160\n",
    " kt 272829 |U|   max   1.118     at i j k  308 451   1 MPI rank 741\n",
    " kt 272829 Sal   min  1.3292E-03 at i j k  707 221   4 MPI rank 160\n",
    " kt 272829 Sal   max   34.93     at i j k  178 452 110 MPI rank 736\n",
    "```"
   ]
  },
  {
   "cell_type": "code",
   "execution_count": null,
   "id": "92d5ea2f-f808-41c8-b5d9-e953f0402f0b",
   "metadata": {},
   "outputs": [],
   "source": [
    "ds_bathy = xr.open_dataset('/gws/nopw/j04/anthrofail/birgal/NEMO_AIS/bathymetry/domain_cfg-20240305.nc')"
   ]
  },
  {
   "cell_type": "code",
   "execution_count": null,
   "id": "ccbbe5b4-40a6-4f6a-8e24-812c5bdc19ca",
   "metadata": {},
   "outputs": [],
   "source": [
    "ds_bathy.isf_draft.plot(xlim=(690, 710), ylim=(200, 250), vmin=0, vmax=1000)"
   ]
  },
  {
   "cell_type": "code",
   "execution_count": null,
   "id": "27e9e09f-bbb9-4012-8b4e-a8051f836414",
   "metadata": {},
   "outputs": [],
   "source": [
    "ds_bathy.imask.plot(xlim=(680, 720), ylim=(200, 280))"
   ]
  },
  {
   "cell_type": "code",
   "execution_count": null,
   "id": "3061eedb-8e4a-45e9-b84f-430ce7f17b8a",
   "metadata": {},
   "outputs": [],
   "source": [
    "dsT = xr.open_dataset(f'{base_dir}output/CESM2_hist9/files0/eANT025.L121_1m_19900101_19901231_grid_T.nc')"
   ]
  },
  {
   "cell_type": "code",
   "execution_count": null,
   "id": "12de71fd-c85b-4843-b65e-5d3a21a36a00",
   "metadata": {},
   "outputs": [],
   "source": [
    "dsT.so.isel(time_counter=0, x_grid_T=706, y_grid_T=slice(200,280)).plot(ylim=(1500, 0), figsize=(10,5))"
   ]
  },
  {
   "cell_type": "code",
   "execution_count": null,
   "id": "3809fd4a-991f-44ac-b596-439e1a2840fe",
   "metadata": {},
   "outputs": [],
   "source": [
    "dsT.so.isel(time_counter=0, y_grid_T=220).plot(ylim=(1500, 0), xlim=(680,730), figsize=(10,5))"
   ]
  },
  {
   "cell_type": "code",
   "execution_count": null,
   "id": "e0e994d7-4f82-4b66-ab04-93efdbbad5b4",
   "metadata": {},
   "outputs": [],
   "source": [
    "dsT.so.isel(time_counter=0, y_grid_T=219).plot(ylim=(1500, 0), xlim=(680,730), figsize=(10,5))"
   ]
  },
  {
   "cell_type": "code",
   "execution_count": null,
   "id": "3fde1492-0665-4efa-b663-0c5ec9a9637b",
   "metadata": {},
   "outputs": [],
   "source": [
    "dsT.so.isel(time_counter=0, deptht=0).plot(figsize=(10,8), xlim=(700, 710), ylim=(210,225), vmin=0, vmax=35)"
   ]
  },
  {
   "cell_type": "code",
   "execution_count": null,
   "id": "46a23966-874a-4e3e-af2c-d3e37e7e97a9",
   "metadata": {},
   "outputs": [],
   "source": [
    "dsT.so.isel(time_counter=0, deptht=0).plot(figsize=(10,8), xlim=(600, 780), ylim=(160,260), vmin=0, vmax=35)"
   ]
  },
  {
   "cell_type": "code",
   "execution_count": null,
   "id": "3ae9aa34-e226-4a19-915d-e15748f6c4ba",
   "metadata": {},
   "outputs": [],
   "source": [
    "dsT.so.isel(time_counter=0, deptht=0).plot(figsize=(6,4), xlim=(690, 720), ylim=(200,240), vmin=0, vmax=35)\n",
    "dsT.so.isel(time_counter=-1, deptht=0).plot(figsize=(6,4), xlim=(690, 720), ylim=(200,240), vmin=0, vmax=35)"
   ]
  },
  {
   "cell_type": "markdown",
   "id": "77ddaebc-49c9-419a-ac70-449dd2d779c2",
   "metadata": {},
   "source": [
    "so somehow this individual cell loses salinity rapidly in that month. Should it even be open? I'm somewhat tempted to close it because it seems weird to have just one \"ice chimney\""
   ]
  },
  {
   "cell_type": "code",
   "execution_count": null,
   "id": "08d5bd9b-4da8-4624-80c8-26aff52bc674",
   "metadata": {},
   "outputs": [],
   "source": [
    "fig, ax = plt.subplots(1,2, figsize=(15,4))\n",
    "cesm2_u.isel(time=slice(0,365)).mean(dim='time').U10x.sortby('lon').plot(ax=ax[0], ylim=(-90,-50), vmin=-10, vmax=10, cmap=cmocean.cm.balance)\n",
    "u_bias_corrected.mean(dim='time').U10x.sortby('lon').plot(ax=ax[1], ylim=(-90,-50), vmin=-10, vmax=10, cmap=cmocean.cm.balance)"
   ]
  },
  {
   "cell_type": "code",
   "execution_count": null,
   "id": "21600c58-c299-4cd7-b572-3185cd91f5b8",
   "metadata": {},
   "outputs": [],
   "source": [
    "fig, ax = plt.subplots(1,2, figsize=(15,4))\n",
    "cesm2_v.isel(time=slice(0,365)).mean(dim='time').U10y.sortby('lon').plot(ax=ax[0], ylim=(-90,-50), vmin=-10, vmax=10, cmap=cmocean.cm.balance)\n",
    "v_bias_corrected.mean(dim='time').U10y.sortby('lon').plot(ax=ax[1], ylim=(-90,-50), vmin=-10, vmax=10, cmap=cmocean.cm.balance)"
   ]
  },
  {
   "cell_type": "code",
   "execution_count": null,
   "id": "6a5ca0b0-7793-4990-ad1a-1759546b83c5",
   "metadata": {},
   "outputs": [],
   "source": [
    "fig, ax = plt.subplots(1,2, figsize=(15,4))\n",
    "cesm2_v.isel(time=slice(0,365)).mean(dim='time').U10y.sortby('lon').plot(ax=ax[0], ylim=(-90,-50), vmin=-10, vmax=10, cmap=cmocean.cm.balance)\n",
    "(cesm2_v.isel(time=slice(0,365)).mean(dim='time').U10y.sortby('lon')*0.8 - v_bias_corrected.mean(dim='time').U10y.sortby('lon')).plot(ax=ax[1], ylim=(-90,-50), vmin=-1, vmax=1, cmap=cmocean.cm.balance)"
   ]
  },
  {
   "cell_type": "code",
   "execution_count": null,
   "id": "57367f3e-68ba-4f6a-80d5-133a502b9577",
   "metadata": {},
   "outputs": [],
   "source": []
  }
 ],
 "metadata": {
  "kernelspec": {
   "display_name": "Python 3 + Jaspy",
   "language": "python",
   "name": "jaspy"
  },
  "language_info": {
   "codemirror_mode": {
    "name": "ipython",
    "version": 3
   },
   "file_extension": ".py",
   "mimetype": "text/x-python",
   "name": "python",
   "nbconvert_exporter": "python",
   "pygments_lexer": "ipython3",
   "version": "3.11.9"
  }
 },
 "nbformat": 4,
 "nbformat_minor": 5
}
