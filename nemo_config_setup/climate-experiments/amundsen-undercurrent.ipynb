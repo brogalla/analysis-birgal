{
 "cells": [
  {
   "cell_type": "markdown",
   "id": "dbca5081-3af8-4ef9-861f-88b08d75c208",
   "metadata": {},
   "source": [
    "# Calculate Amundsen Undercurrent strength"
   ]
  },
  {
   "cell_type": "code",
   "execution_count": 131,
   "id": "fa3d9fc8-53e2-4b7f-ad3a-2cc311184a54",
   "metadata": {},
   "outputs": [],
   "source": [
    "import xarray as xr\n",
    "import numpy as np\n",
    "import gsw\n",
    "import glob\n",
    "import cmocean\n",
    "import matplotlib.pyplot as plt\n",
    "import pandas as pd\n",
    "import sys\n",
    "sys.path.append('/home/users/birgal/')\n",
    "from nemo_python_git.utils import closest_point, distance_btw_points"
   ]
  },
  {
   "cell_type": "markdown",
   "id": "154ec358-db52-4245-88c9-d0d350e53b8d",
   "metadata": {},
   "source": [
    "### Amundsen undercurrent strength\n",
    "\n",
    "Quantify as in Haigh et al. 2024\n",
    "```\n",
    "The eastward undercurrent is defined using an approach similar to Silvano et al. (2022). We start by locating the 1,000 m isobath at the shelf break between 125° and 108°W, the undercurrent longitudes of interest. For each longitude along the isobath, the along-slope flow beneath the 1,028 kg m−3 isopycnal and above 800 m depth is averaged over a meridional range of three grid points either side of the isobath. The undercurrent speed is then defined as the maximum of these meridionally averaged values at any depth, which typically occurs near 500 m depth. All quantities are then averaged along the undercurrent pathway, with the Dotson-Getz and Pine Island-Thwaites West troughs excluded from the computations. Using alternate undercurrent definitions does not affect our conclusions.\n",
    "```\n",
    "Steps\n",
    "- identify 1000 m isobath between 125-108 W\n",
    "- at each longitude, average the along-slope flow beneath 1028 kg/m3 isopycnal and above 800 m depth\n",
    "- undercurrent speed = max of these average values\n",
    "- undercurrent speed is average along the undercurrent path, excluding the Dotson-Getz, PI-Thwaites troughs"
   ]
  },
  {
   "cell_type": "code",
   "execution_count": 4,
   "id": "084009ed-44a5-4aa0-b6d2-6a5e51dfe35d",
   "metadata": {},
   "outputs": [],
   "source": [
    "def get_slope_contour(bathy, X, Y, pathno, level=1000):\n",
    "    # From Michael Haigh\n",
    "\n",
    "        cs = plt.contour(X, Y, bathy, levels=[level])\n",
    "        x = cs.collections[0].get_paths()[pathno].vertices[:,0][::-1]\n",
    "        y = cs.collections[0].get_paths()[pathno].vertices[:,1][::-1]\n",
    "        plt.clf()\n",
    "\n",
    "        return x, y\n",
    "\n",
    "def get_bearing_(lat1, lon1, lat2, lon2, deg2rad=np.pi/180.):\n",
    "    # From Michael Haigh\n",
    "\n",
    "        lat1 = deg2rad * np.copy(lat1)\n",
    "        lat2 = deg2rad * np.copy(lat2)\n",
    "        lon1 = deg2rad * np.copy(lon1)\n",
    "        lon2 = deg2rad * np.copy(lon2)\n",
    "\n",
    "        dLon = (lon2 - lon1)\n",
    "\n",
    "        y = np.sin(dLon) * np.cos(lat2)\n",
    "        x = np.cos(lat1) * np.sin(lat2) - np.sin(lat1) * np.cos(lat2) * np.cos(dLon)\n",
    "\n",
    "        brng = np.arctan2(y, x)\n",
    "        brng = np.rad2deg(brng)\n",
    "\n",
    "        return brng\n",
    "\n",
    "\n",
    "def get_bearing(slope_x, slope_y):\n",
    "    # From Michael Haigh\n",
    "\n",
    "        bearing = np.zeros(len(slope_x))\n",
    "        bearing[0] = get_bearing_(slope_y[0], slope_x[0], slope_y[1], slope_x[1])\n",
    "        bearing[-1] = get_bearing_(slope_y[-2], slope_x[-2], slope_y[-1], slope_x[-1])\n",
    "        bearing[1:-1] = get_bearing_(slope_y[:-2], slope_x[:-2], slope_y[2:], slope_x[2:])\n",
    "\n",
    "        return bearing"
   ]
  },
  {
   "cell_type": "code",
   "execution_count": 13,
   "id": "46b0fb26-fc04-4b3e-9b06-144584563dc5",
   "metadata": {},
   "outputs": [],
   "source": [
    "base_dir = '/gws/nopw/j04/anthrofail/birgal/NEMO_AIS/'\n",
    "run_dir  = f'{base_dir}output/ERA5_test6/' "
   ]
  },
  {
   "cell_type": "code",
   "execution_count": 90,
   "id": "af00e72b-88c7-41d8-b620-1bdd7e7ac2bf",
   "metadata": {},
   "outputs": [],
   "source": [
    "fU = xr.open_mfdataset(f'{run_dir}files/eANT025.L121_1m_*grid_U.nc').isel(time_counter=slice(0,2), x=slice(600,800), y=slice(200,350))\n",
    "fV = xr.open_mfdataset(f'{run_dir}files/eANT025.L121_1m_*grid_V.nc').isel(time_counter=slice(0,2), x=slice(600,800), y=slice(200,350))\n",
    "fT = xr.open_mfdataset(f'{run_dir}files/eANT025.L121_1m_*grid_T.nc').isel(time_counter=slice(0,2), x_grid_T=slice(600,800), y_grid_T=slice(200,350))\n",
    "\n",
    "nemo_domcfg = xr.open_dataset(f'{base_dir}bathymetry/domain_cfg-20240305.nc').squeeze().isel(x=slice(600,800), y=slice(200,350))"
   ]
  },
  {
   "cell_type": "code",
   "execution_count": 141,
   "id": "73deb2e0-1ed1-4b43-a048-8b15ad3f435c",
   "metadata": {},
   "outputs": [
    {
     "data": {
      "text/plain": [
       "<Figure size 432x288 with 0 Axes>"
      ]
     },
     "metadata": {},
     "output_type": "display_data"
    }
   ],
   "source": [
    "# Get latitude, longitude and bearing of the shelfbreak slope\n",
    "slope_lon, slope_lat = get_slope_contour(nemo_domcfg.bathy_metry, nemo_domcfg.nav_lon, nemo_domcfg.nav_lat, 0)\n",
    "bearing = get_bearing(slope_lon, slope_lat)\n",
    "\n",
    "shelfbreak = xr.Dataset().assign_coords({'index':np.arange(0,slope_lon.size).astype('int')})\n",
    "shelfbreak = shelfbreak.assign({'slope_lon':(('index'), slope_lon), 'slope_lat':(('index'), slope_lat), \n",
    "                                'slope_bearing':(('index'), bearing)})"
   ]
  },
  {
   "cell_type": "code",
   "execution_count": null,
   "id": "fc045c77-e606-4496-8955-756936e7d40f",
   "metadata": {},
   "outputs": [],
   "source": [
    "# x_coords = xr.DataArray([1.2, 3.6, 4.9])\n",
    "# y_coords = xr.DataArray([2.2, 0.7, 4.3])\n",
    "\n",
    "# da.sel(x=x_coords, y=y_coords, method='nearest')"
   ]
  },
  {
   "cell_type": "code",
   "execution_count": 142,
   "id": "3da2656c-c8ef-4bc8-83ab-2459a5818829",
   "metadata": {},
   "outputs": [],
   "source": [
    "# for each x grid point, find the coordinates associated with the point nearest the slope\n",
    "slope_x_nX = np.zeros(nemo_domcfg.x.size);            slope_y_nX = np.zeros(nemo_domcfg.x.size)\n",
    "slope_xi   = np.zeros(nemo_domcfg.x.size, dtype=int); slope_yi   = np.zeros(nemo_domcfg.x.size, dtype=int)\n",
    "bearing_nX = np.zeros(nemo_domcfg.x.size)\n",
    "for xi in nemo_domcfg.x:\n",
    "    slope_xi[xi]   = int(np.argmin(np.abs(slope_x-nemo_domcfg.nav_lon.isel(y=0,x=xi).values)))  \n",
    "    slope_x_nX[xi] = slope_x[slope_xi[xi]] \n",
    "    slope_y_nX[xi] = slope_y[slope_xi[xi]] \n",
    "    bearing_nX[xi] = bearing[slope_xi[xi]] # slope bearing at nearest x grid point\n",
    "    slope_yi[xi]   = int(np.argmin(np.abs(slope_y_nX[xi]-nemo_domcfg.nav_lat.isel(x=xi).values))) # gives the y index closest to the slope"
   ]
  },
  {
   "cell_type": "code",
   "execution_count": 150,
   "id": "b6d451a9-6f0a-4257-849b-74c0bb000e63",
   "metadata": {},
   "outputs": [],
   "source": [
    "buffer = 3\n",
    "x_indices   = np.repeat(range(nemo_sub.x.size), buffer*2 + 1) # for each x index, search for 3 y indices on either side of slope\n",
    "y_indices   = np.repeat(slope_yi, buffer*2 + 1) + np.tile(np.arange(-buffer, buffer+1), len(slope_yi)) \n",
    "all_bearing = np.repeat(bearing_nX, buffer*2 + 1)\n",
    "\n",
    "# x_dr = xr.DataArray(x_indices, dims='x')\n",
    "# y_dr = xr.DataArray(y_indices, dims='y')"
   ]
  },
  {
   "cell_type": "code",
   "execution_count": 151,
   "id": "2322bde2-e49e-414e-b78f-d733b2d1c7ef",
   "metadata": {},
   "outputs": [],
   "source": [
    "shelfbreak = shelfbreak.assign_coords({'index_full':range(0,x_indices.size)})\n",
    "shelfbreak = shelfbreak.assign({'x':(('index_full'), x_indices), 'y':(('index_full'), y_indices)})"
   ]
  },
  {
   "cell_type": "code",
   "execution_count": 162,
   "id": "38f1ef32-d8f4-4347-ae44-8229e6e2068c",
   "metadata": {},
   "outputs": [],
   "source": [
    "us = np.zeros((fU.time_counter.size, fU.depthu.size, shelfbreak.index_full.size))\n",
    "for ind in shelfbreak.index_full:\n",
    "    us[:,:,ind] = fU.uo.isel(x=shelfbreak.x.isel(index_full=ind), y=shelfbreak.y.isel(index_full=ind))"
   ]
  },
  {
   "cell_type": "code",
   "execution_count": null,
   "id": "9403be04-cde7-4985-9d01-c674aa22a8e4",
   "metadata": {},
   "outputs": [],
   "source": [
    "slope_uv_out = np.zeros((1, fU.depthu.size, y_dr.size, nemo_sub.x.size))\n",
    "\n",
    "# Load velocities\n",
    "u        = fU.uo.isel(x=x_dr, y=y_dr).rename({'depthu':'deptht'})\n",
    "v        = fV.vo.isel(x=x_dr, y=y_dr).rename({'depthv':'deptht'})\n",
    "# u        = fU.uo.isel(x=slice(0,nemo_sub.x.size), y=slice(slope_yi[xi]-buffer, slope_yi[xi]+buffer+1)).rename({'depthu':'deptht'})\n",
    "# v        = fV.vo.isel(x=slice(0,nemo_sub.x.size), y=slice(slope_yi[xi]-buffer, slope_yi[xi]+buffer+1)).rename({'depthv':'deptht'})\n",
    "# Get along-slope surface and undercurrent flow speeds.\n",
    "for xi in range(0,x_dr.size):\n",
    "    slope_u  = u.isel(x=xi) * np.sin(xr.DataArray(bearing_nX, dims='x')*np.pi/180.)\n",
    "    slope_v  = v.isel(x=xi) * np.cos(xr.DataArray(bearing_nX, dims='x')*np.pi/180.)\n",
    "    slope_uv = slope_u + slope_v\n",
    "\n",
    "# u = fU.uo.isel(x=xi, y=xr.DataArray(slope_yi[xi]+np.arange(-buffer,buffer+1), dims='y'), time_counter=0).rename({'depthu':'deptht'})\n",
    "# v = fV.vo.isel(x=xi, y=xr.DataArray(slope_yi[xi]+np.arange(-buffer,buffer+1), dims='y'), time_counter=0).rename({'depthv':'deptht'})"
   ]
  },
  {
   "cell_type": "code",
   "execution_count": 35,
   "id": "7d057b41-7e37-45c3-9fbb-de40cbf2afba",
   "metadata": {},
   "outputs": [
    {
     "data": {
      "text/plain": [
       "<matplotlib.collections.QuadMesh at 0x7f7995285e70>"
      ]
     },
     "execution_count": 35,
     "metadata": {},
     "output_type": "execute_result"
    },
    {
     "data": {
      "image/png": "[encoded data removed]",
      "text/plain": [
       "<Figure size 1080x360 with 2 Axes>"
      ]
     },
     "metadata": {
      "needs_background": "light"
     },
     "output_type": "display_data"
    }
   ],
   "source": [
    "slope_uv.isel(time_counter=0, y=6).plot(ylim=(5000,0), figsize=(15,5), vmin=-0.05, vmax=0.05, cmap=cmocean.cm.balance)"
   ]
  },
  {
   "cell_type": "code",
   "execution_count": 119,
   "id": "bd3026e2-1573-42d7-9502-04fb8823a5db",
   "metadata": {},
   "outputs": [],
   "source": [
    "zs = [0, 1000]\n",
    "zz = [np.argmin(np.abs(nemo_sub.nav_lev.values - z)) for z in zs]\n",
    "nZ = zz[1] - zz[0]\n",
    "\n",
    "# How many grid points either side of slope do we search for max in along-slope velocity?\n",
    "yslim = 3; ynlim = 1\n",
    "yslim = 50; ynlim = 50\n",
    "nY = yslim + ynlim\n",
    "\n",
    "slope_uv_out = np.zeros((nT, nZ, nY, nX))\n",
    "for ti in range(0, 2): # loop over time\n",
    "    for xi in range(nX): # loop over the x indices\n",
    "        ys = yshift+slope_yi[xi]-yslim ### what is y_shift\n",
    "        yn = yshift+slope_yi[xi]+ynlim\n",
    "        yy = [ys, yn]\n",
    "\n",
    "        # Load velocities\n",
    "        u = readVariable(ufile, NCDIR, file_format='nc', meta=False, tt=ti, xx=xi+xshift, yy=yy, zz=zz)\n",
    "        u = ptt.maskBathyYZ(u, grid, xi=xi+xshift, subregion=True, lats=yy, depths=zz, sameIasNC=True)\n",
    "        v = readVariable(vfile, NCDIR, file_format='nc', meta=False, tt=ti, xx=xi+xshift, yy=yy, zz=zz)\n",
    "        v = ptt.maskBathyYZ(v, grid, xi=xi+xshift, subregion=True, lats=yy, depths=zz, sameIasNC=True)\n",
    "        \n",
    "        # Get along-slope surface and undercurrent flow speeds. \n",
    "        slope_uv = u * np.sin(bearing_nX[xi]*np.pi/180.) + v * np.cos(bearing_nX[xi]*np.pi/180.)\n",
    "        slope_uv_out[ti, :, :, xi] = slope_uv"
   ]
  },
  {
   "cell_type": "markdown",
   "id": "acaa882a-7b52-42b7-9746-45e4f47495c8",
   "metadata": {},
   "source": [
    "Michael's functions:\n",
    "```python\n",
    "slope_x, slope_y = PAS_tools.getSlopeContour(bathy, X, Y, pathno)\n",
    "\n",
    "bathy = ptt.maskBathyXY(bathy, grid, zi=0, subregion=True, lats=latsi, lons=lonsi)\n",
    "\n",
    "bearing = PAS_tools.getBearing(slope_x, slope_y)\n",
    "\n",
    "slope_x_nX = np.zeros(nX); slope_y_nX = np.zeros(nX)\n",
    "slope_xi = np.zeros(nX, dtype=int); slope_yi = np.zeros(nX, dtype=int)\n",
    "bearing_nX = np.zeros(nX)\n",
    "\n",
    "# For each X grid point, get the lat and lon of slope contour's nearest point.\n",
    "for xi in range(nX):\n",
    "    slope_xi[xi] = int(np.argmin(np.abs(slope_x-X[0,xi])))\n",
    "    slope_x_nX[xi] = slope_x[slope_xi[xi]]\n",
    "    slope_y_nX[xi] = slope_y[slope_xi[xi]]\n",
    "    bearing_nX[xi] = bearing[slope_xi[xi]]\n",
    "    slope_yi[xi] = int(np.argmin(np.abs(slope_y_nX[xi]-Y[:,xi])))\n",
    "\n",
    "zs = [0, -1000]\n",
    "zz = grid.getIndexFromDepth(zs)\n",
    "nZ = zz[1] - zz[0]\n",
    "ufile = 'UVEL'; vfile = 'VVEL'\n",
    "\n",
    "# How many grid points either side of slope do we search for max in along-slope velocity?\n",
    "yslim = 3; ynlim = 1\n",
    "yslim = 50; ynlim = 50\n",
    "nY = yslim + ynlim\n",
    "\n",
    "slope_uv_out = np.zeros((nT, nZ, nY, nX))\n",
    "for ti in range(t_start, t_end):\n",
    "    for xi in range(nX):\n",
    "        ys = yshift+slope_yi[xi]-yslim\n",
    "        yn = yshift+slope_yi[xi]+ynlim\n",
    "        yy = [ys, yn]\n",
    "\n",
    "        # Load velocities\n",
    "        u = readVariable(ufile, NCDIR, file_format='nc', meta=False, tt=ti, xx=xi+xshift, yy=yy, zz=zz)\n",
    "        u = ptt.maskBathyYZ(u, grid, xi=xi+xshift, subregion=True, lats=yy, depths=zz, sameIasNC=True)\n",
    "        v = readVariable(vfile, NCDIR, file_format='nc', meta=False, tt=ti, xx=xi+xshift, yy=yy, zz=zz)\n",
    "        v = ptt.maskBathyYZ(v, grid, xi=xi+xshift, subregion=True, lats=yy, depths=zz, sameIasNC=True)\n",
    "        # Get along-slope surface and undercurrent flow speeds. \n",
    "        slope_uv = u * np.sin(bearing_nX[xi]*np.pi/180.) + v * np.cos(bearing_nX[xi]*np.pi/180.)\n",
    "        slope_uv_out[ti, :, :, xi] = slope_uv\n",
    "\n",
    "```"
   ]
  },
  {
   "cell_type": "markdown",
   "id": "d59b4a1a-92a1-4108-9dad-a0ee04c6c25e",
   "metadata": {},
   "source": [
    "get the direction of the current from the angle between the U and V vectors (first will need to convert to meridional and latitudinal velocities instead of along the grid directions):\n",
    "\n",
    "$ U^2 = u^2 + v^2$\n",
    "\n",
    "$\\theta = \\tan^{-1}(\\frac{v}{u})$\n",
    "\n",
    "I mainly want the direction of u, but also somewhat of v"
   ]
  },
  {
   "cell_type": "code",
   "execution_count": 14,
   "id": "d0a75964-d00e-4bf1-b02a-710798f64bf2",
   "metadata": {},
   "outputs": [],
   "source": [
    "theta = np.arctan2(fV.vo.isel(time_counter=0, x=slice(645,716),\n",
    "                              y=slice(200,300)).rename({'depthv':'depthu'}),fU.uo.isel(time_counter=0, x=slice(645,716),y=slice(200,300)))"
   ]
  },
  {
   "cell_type": "code",
   "execution_count": null,
   "id": "92a994bf-9110-4fb4-8cd7-be26f720cbaf",
   "metadata": {},
   "outputs": [],
   "source": [
    "# calculate density:\n",
    "density = gsw.density.sigma0(fT.so, fT.thetao)\n",
    "fU = fU.assign({'density':density.rename({'deptht':'depthu', 'y_grid_T':'y', 'x_grid_T':'x'})})"
   ]
  },
  {
   "cell_type": "code",
   "execution_count": 9,
   "id": "545b3f1e-db21-4933-9a74-7a56e3d4f5ac",
   "metadata": {},
   "outputs": [],
   "source": [
    "from nemo_python_git.constants import deg2rad\n",
    "\n",
    "def amundsen_undercurrent(results_folder, \n",
    "                          nemo_domain='/gws/nopw/j04/anthrofail/birgal/NEMO_AIS/bathymetry/domain_cfg-20240305.nc'):\n",
    "    import gsw\n",
    "\n",
    "    # masking does not speed up the process, so ideally subset rather than mask\n",
    "    \n",
    "    # load files\n",
    "    nemo_domcfg = xr.open_dataset(nemo_domain).squeeze()\n",
    "    fU = xr.open_mfdataset(f'{results_folder}eANT025.L121_1m_*grid_U.nc').isel(time_counter=slice(0,2))\n",
    "    fT = xr.open_mfdataset(f'{results_folder}eANT025.L121_1m_*grid_T.nc').isel(time_counter=slice(0,2))\n",
    "    fV = xr.open_mfdataset(f'{results_folder}eANT025.L121_1m_*grid_V.nc').isel(time_counter=slice(0,2))\n",
    "    \n",
    "    def mask_outside_region(ds, var):\n",
    "        var_sub = xr.where((ds.nav_lon > -125)*(ds.nav_lon < -108)*(ds.nav_lat > -73.2)*(ds.nav_lat < -71), ds[var], np.nan)\n",
    "        return var_sub\n",
    "        \n",
    "    def mask_depths_density(ds, var, density):\n",
    "        mask_vel = xr.where((ds[var] > 800), np.nan, ds)\n",
    "        mask_vel = xr.where((density < 27.7), np.nan, ds)\n",
    "        return mask_vel\n",
    "\n",
    "    # mask areas outside of the region of interest\n",
    "    U_vel = mask_outside_region(fU, 'uo')\n",
    "    V_vel = mask_outside_region(fV, 'vo')\n",
    "\n",
    "    # regrid U- and V- grids to T-grid for the uniformity of the calculations\n",
    "    \n",
    "    # calculate density from absolute salinity and conservative temperature, and then subset values getween the density and depth range\n",
    "    density = gsw.density.sigma0(fT.so, fT.thetao)\n",
    "    mask_U = mask_depths_density(fU_vel, 'depthu', density.rename({'deptht':'depthu','y_grid_T':'y', 'x_grid_T':'x'}))\n",
    "    mask_V = mask_depths_density(fV_vel, 'depthv', density.rename({'deptht':'depthv','y_grid_T':'y', 'x_grid_T':'x'}))\n",
    "\n",
    "    # calculate the along-slope undercurrent flow speeds\n",
    "    slope_x, slope_y = get_slope_contour(nemo_domcfg.bathy_metry, nemo_domcfg.nav_lon, nemo_domcfg.nav_lat, 0)\n",
    "    bearing  = get_bearing(slope_x, slope_y)\n",
    "    # mask all cells except those within a buffer range of the slope\n",
    "    # \n",
    "\n",
    "    \n",
    "    # mask the bearings?\n",
    "    slope_uv = mask_U * np.sin(bearing_nX[xi]*deg2rad) + mask_V * np.cos(bearing_nX[xi]*deg2rad)\n",
    "    \n",
    "    # average over the rimwidth grid cells and then find the maximum:\n",
    "    slope_uv_mean = slope_uv.mean(dim='y').max(dim='depth')\n",
    "    undercurrent_speed = slope_uv_mean.mean(dim='x') # calculate the mean undercurrent speed in the region\n",
    "    \n",
    "    return undercurrent_speed"
   ]
  },
  {
   "cell_type": "code",
   "execution_count": 100,
   "id": "ee503f07-6c59-484d-b7d9-d0efa2414418",
   "metadata": {},
   "outputs": [
    {
     "data": {
      "text/plain": [
       "<matplotlib.collections.QuadMesh at 0x7f0ffd6ef100>"
      ]
     },
     "execution_count": 100,
     "metadata": {},
     "output_type": "execute_result"
    },
    {
     "data": {
      "image/png": "[encoded data removed]",
      "text/plain": [
       "<Figure size 1008x360 with 2 Axes>"
      ]
     },
     "metadata": {
      "needs_background": "light"
     },
     "output_type": "display_data"
    },
    {
     "data": {
      "image/png": "[encoded data removed]",
      "text/plain": [
       "<Figure size 1008x360 with 2 Axes>"
      ]
     },
     "metadata": {
      "needs_background": "light"
     },
     "output_type": "display_data"
    }
   ],
   "source": [
    "nemo_domcfg.bathy_metry.plot(figsize=(14,5), ylim=(200,300), xlim=(645,716), vmin=0, vmax=1500)\n",
    "fU_vel.mean(dim='depthu').plot(figsize=(14,5), xlim=(645, 716), ylim=(200, 300), vmin=-0.01, vmax=0.01)"
   ]
  },
  {
   "cell_type": "code",
   "execution_count": 9,
   "id": "9b24032d-3a84-48bb-99f8-985f9950aaa4",
   "metadata": {},
   "outputs": [],
   "source": [
    "# Step 2 and 3\n",
    "fU_vel = xr.where((fU_vel.depthu < 800), fU_vel, np.nan)\n",
    "fU_vel = xr.where((fU.density > 27.8), fU_vel, np.nan)\n",
    "Uvel = fU_vel.mean(dim='y').max(dim='depthu')\n",
    "undercurrent_speed = Uvel.mean(dim='x')"
   ]
  },
  {
   "cell_type": "code",
   "execution_count": null,
   "id": "e3485047-4aef-43f4-a9e1-4aeb762980c4",
   "metadata": {},
   "outputs": [],
   "source": [
    "fig, ax = plt.subplots(1,1, figsize=(14,5))\n",
    "ax.set_ylabel('Undercurrent speed (m/s)')"
   ]
  },
  {
   "cell_type": "code",
   "execution_count": 55,
   "id": "ed689096-b560-45ea-afd9-b7315f24198e",
   "metadata": {},
   "outputs": [
    {
     "data": {
      "text/plain": [
       "<matplotlib.collections.QuadMesh at 0x7f52aee94550>"
      ]
     },
     "execution_count": 55,
     "metadata": {},
     "output_type": "execute_result"
    },
    {
     "data": {
      "image/png": "[encoded data removed]",
      "text/plain": [
       "<Figure size 1008x432 with 2 Axes>"
      ]
     },
     "metadata": {
      "needs_background": "light"
     },
     "output_type": "display_data"
    }
   ],
   "source": [
    "fU.density.isel(time_counter=4, x=670, y=slice(240,300)).plot(figsize=(14,6), ylim=(1000, 0), vmin=27.4, vmax=27.9)"
   ]
  },
  {
   "cell_type": "code",
   "execution_count": 51,
   "id": "62be370d-5a63-4889-b350-fd5e5b24b5ef",
   "metadata": {},
   "outputs": [
    {
     "data": {
      "text/plain": [
       "<matplotlib.collections.QuadMesh at 0x7f52acbac220>"
      ]
     },
     "execution_count": 51,
     "metadata": {},
     "output_type": "execute_result"
    },
    {
     "data": {
      "image/png": "[encoded data removed]",
      "text/plain": [
       "<Figure size 1008x432 with 2 Axes>"
      ]
     },
     "metadata": {
      "needs_background": "light"
     },
     "output_type": "display_data"
    }
   ],
   "source": [
    "fU.uo.isel(time_counter=4, x=670, y=slice(240,300)).plot(figsize=(14,6), ylim=(1000, 0))"
   ]
  },
  {
   "cell_type": "code",
   "execution_count": 138,
   "id": "13743fe5-c39b-4b47-a1dd-91dbdfe8c6d9",
   "metadata": {},
   "outputs": [
    {
     "data": {
      "text/html": [
       "<div><svg style=\"position: absolute; width: 0; height: 0; overflow: hidden\">\n",
       "<defs>\n",
       "<symbol id=\"icon-database\" viewBox=\"0 0 32 32\">\n",
       "<path d=\"M16 0c-8.837 0-16 2.239-16 5v4c0 2.761 7.163 5 16 5s16-2.239 16-5v-4c0-2.761-7.163-5-16-5z\"></path>\n",
       "<path d=\"M16 17c-8.837 0-16-2.239-16-5v6c0 2.761 7.163 5 16 5s16-2.239 16-5v-6c0 2.761-7.163 5-16 5z\"></path>\n",
       "<path d=\"M16 26c-8.837 0-16-2.239-16-5v6c0 2.761 7.163 5 16 5s16-2.239 16-5v-6c0 2.761-7.163 5-16 5z\"></path>\n",
       "</symbol>\n",
       "<symbol id=\"icon-file-text2\" viewBox=\"0 0 32 32\">\n",
       "<path d=\"M28.681 7.159c-0.694-0.947-1.662-2.053-2.724-3.116s-2.169-2.030-3.116-2.724c-1.612-1.182-2.393-1.319-2.841-1.319h-15.5c-1.378 0-2.5 1.121-2.5 2.5v27c0 1.378 1.122 2.5 2.5 2.5h23c1.378 0 2.5-1.122 2.5-2.5v-19.5c0-0.448-0.137-1.23-1.319-2.841zM24.543 5.457c0.959 0.959 1.712 1.825 2.268 2.543h-4.811v-4.811c0.718 0.556 1.584 1.309 2.543 2.268zM28 29.5c0 0.271-0.229 0.5-0.5 0.5h-23c-0.271 0-0.5-0.229-0.5-0.5v-27c0-0.271 0.229-0.5 0.5-0.5 0 0 15.499-0 15.5 0v7c0 0.552 0.448 1 1 1h7v19.5z\"></path>\n",
       "<path d=\"M23 26h-14c-0.552 0-1-0.448-1-1s0.448-1 1-1h14c0.552 0 1 0.448 1 1s-0.448 1-1 1z\"></path>\n",
       "<path d=\"M23 22h-14c-0.552 0-1-0.448-1-1s0.448-1 1-1h14c0.552 0 1 0.448 1 1s-0.448 1-1 1z\"></path>\n",
       "<path d=\"M23 18h-14c-0.552 0-1-0.448-1-1s0.448-1 1-1h14c0.552 0 1 0.448 1 1s-0.448 1-1 1z\"></path>\n",
       "</symbol>\n",
       "</defs>\n",
       "</svg>\n",
       "<style>/* CSS stylesheet for displaying xarray objects in jupyterlab.\n",
       " *\n",
       " */\n",
       "\n",
       ":root {\n",
       "  --xr-font-color0: var(--jp-content-font-color0, rgba(0, 0, 0, 1));\n",
       "  --xr-font-color2: var(--jp-content-font-color2, rgba(0, 0, 0, 0.54));\n",
       "  --xr-font-color3: var(--jp-content-font-color3, rgba(0, 0, 0, 0.38));\n",
       "  --xr-border-color: var(--jp-border-color2, #e0e0e0);\n",
       "  --xr-disabled-color: var(--jp-layout-color3, #bdbdbd);\n",
       "  --xr-background-color: var(--jp-layout-color0, white);\n",
       "  --xr-background-color-row-even: var(--jp-layout-color1, white);\n",
       "  --xr-background-color-row-odd: var(--jp-layout-color2, #eeeeee);\n",
       "}\n",
       "\n",
       "html[theme=dark],\n",
       "body.vscode-dark {\n",
       "  --xr-font-color0: rgba(255, 255, 255, 1);\n",
       "  --xr-font-color2: rgba(255, 255, 255, 0.54);\n",
       "  --xr-font-color3: rgba(255, 255, 255, 0.38);\n",
       "  --xr-border-color: #1F1F1F;\n",
       "  --xr-disabled-color: #515151;\n",
       "  --xr-background-color: #111111;\n",
       "  --xr-background-color-row-even: #111111;\n",
       "  --xr-background-color-row-odd: #313131;\n",
       "}\n",
       "\n",
       ".xr-wrap {\n",
       "  display: block !important;\n",
       "  min-width: 300px;\n",
       "  max-width: 700px;\n",
       "}\n",
       "\n",
       ".xr-text-repr-fallback {\n",
       "  /* fallback to plain text repr when CSS is not injected (untrusted notebook) */\n",
       "  display: none;\n",
       "}\n",
       "\n",
       ".xr-header {\n",
       "  padding-top: 6px;\n",
       "  padding-bottom: 6px;\n",
       "  margin-bottom: 4px;\n",
       "  border-bottom: solid 1px var(--xr-border-color);\n",
       "}\n",
       "\n",
       ".xr-header > div,\n",
       ".xr-header > ul {\n",
       "  display: inline;\n",
       "  margin-top: 0;\n",
       "  margin-bottom: 0;\n",
       "}\n",
       "\n",
       ".xr-obj-type,\n",
       ".xr-array-name {\n",
       "  margin-left: 2px;\n",
       "  margin-right: 10px;\n",
       "}\n",
       "\n",
       ".xr-obj-type {\n",
       "  color: var(--xr-font-color2);\n",
       "}\n",
       "\n",
       ".xr-sections {\n",
       "  padding-left: 0 !important;\n",
       "  display: grid;\n",
       "  grid-template-columns: 150px auto auto 1fr 20px 20px;\n",
       "}\n",
       "\n",
       ".xr-section-item {\n",
       "  display: contents;\n",
       "}\n",
       "\n",
       ".xr-section-item input {\n",
       "  display: none;\n",
       "}\n",
       "\n",
       ".xr-section-item input + label {\n",
       "  color: var(--xr-disabled-color);\n",
       "}\n",
       "\n",
       ".xr-section-item input:enabled + label {\n",
       "  cursor: pointer;\n",
       "  color: var(--xr-font-color2);\n",
       "}\n",
       "\n",
       ".xr-section-item input:enabled + label:hover {\n",
       "  color: var(--xr-font-color0);\n",
       "}\n",
       "\n",
       ".xr-section-summary {\n",
       "  grid-column: 1;\n",
       "  color: var(--xr-font-color2);\n",
       "  font-weight: 500;\n",
       "}\n",
       "\n",
       ".xr-section-summary > span {\n",
       "  display: inline-block;\n",
       "  padding-left: 0.5em;\n",
       "}\n",
       "\n",
       ".xr-section-summary-in:disabled + label {\n",
       "  color: var(--xr-font-color2);\n",
       "}\n",
       "\n",
       ".xr-section-summary-in + label:before {\n",
       "  display: inline-block;\n",
       "  content: '►';\n",
       "  font-size: 11px;\n",
       "  width: 15px;\n",
       "  text-align: center;\n",
       "}\n",
       "\n",
       ".xr-section-summary-in:disabled + label:before {\n",
       "  color: var(--xr-disabled-color);\n",
       "}\n",
       "\n",
       ".xr-section-summary-in:checked + label:before {\n",
       "  content: '▼';\n",
       "}\n",
       "\n",
       ".xr-section-summary-in:checked + label > span {\n",
       "  display: none;\n",
       "}\n",
       "\n",
       ".xr-section-summary,\n",
       ".xr-section-inline-details {\n",
       "  padding-top: 4px;\n",
       "  padding-bottom: 4px;\n",
       "}\n",
       "\n",
       ".xr-section-inline-details {\n",
       "  grid-column: 2 / -1;\n",
       "}\n",
       "\n",
       ".xr-section-details {\n",
       "  display: none;\n",
       "  grid-column: 1 / -1;\n",
       "  margin-bottom: 5px;\n",
       "}\n",
       "\n",
       ".xr-section-summary-in:checked ~ .xr-section-details {\n",
       "  display: contents;\n",
       "}\n",
       "\n",
       ".xr-array-wrap {\n",
       "  grid-column: 1 / -1;\n",
       "  display: grid;\n",
       "  grid-template-columns: 20px auto;\n",
       "}\n",
       "\n",
       ".xr-array-wrap > label {\n",
       "  grid-column: 1;\n",
       "  vertical-align: top;\n",
       "}\n",
       "\n",
       ".xr-preview {\n",
       "  color: var(--xr-font-color3);\n",
       "}\n",
       "\n",
       ".xr-array-preview,\n",
       ".xr-array-data {\n",
       "  padding: 0 5px !important;\n",
       "  grid-column: 2;\n",
       "}\n",
       "\n",
       ".xr-array-data,\n",
       ".xr-array-in:checked ~ .xr-array-preview {\n",
       "  display: none;\n",
       "}\n",
       "\n",
       ".xr-array-in:checked ~ .xr-array-data,\n",
       ".xr-array-preview {\n",
       "  display: inline-block;\n",
       "}\n",
       "\n",
       ".xr-dim-list {\n",
       "  display: inline-block !important;\n",
       "  list-style: none;\n",
       "  padding: 0 !important;\n",
       "  margin: 0;\n",
       "}\n",
       "\n",
       ".xr-dim-list li {\n",
       "  display: inline-block;\n",
       "  padding: 0;\n",
       "  margin: 0;\n",
       "}\n",
       "\n",
       ".xr-dim-list:before {\n",
       "  content: '(';\n",
       "}\n",
       "\n",
       ".xr-dim-list:after {\n",
       "  content: ')';\n",
       "}\n",
       "\n",
       ".xr-dim-list li:not(:last-child):after {\n",
       "  content: ',';\n",
       "  padding-right: 5px;\n",
       "}\n",
       "\n",
       ".xr-has-index {\n",
       "  font-weight: bold;\n",
       "}\n",
       "\n",
       ".xr-var-list,\n",
       ".xr-var-item {\n",
       "  display: contents;\n",
       "}\n",
       "\n",
       ".xr-var-item > div,\n",
       ".xr-var-item label,\n",
       ".xr-var-item > .xr-var-name span {\n",
       "  background-color: var(--xr-background-color-row-even);\n",
       "  margin-bottom: 0;\n",
       "}\n",
       "\n",
       ".xr-var-item > .xr-var-name:hover span {\n",
       "  padding-right: 5px;\n",
       "}\n",
       "\n",
       ".xr-var-list > li:nth-child(odd) > div,\n",
       ".xr-var-list > li:nth-child(odd) > label,\n",
       ".xr-var-list > li:nth-child(odd) > .xr-var-name span {\n",
       "  background-color: var(--xr-background-color-row-odd);\n",
       "}\n",
       "\n",
       ".xr-var-name {\n",
       "  grid-column: 1;\n",
       "}\n",
       "\n",
       ".xr-var-dims {\n",
       "  grid-column: 2;\n",
       "}\n",
       "\n",
       ".xr-var-dtype {\n",
       "  grid-column: 3;\n",
       "  text-align: right;\n",
       "  color: var(--xr-font-color2);\n",
       "}\n",
       "\n",
       ".xr-var-preview {\n",
       "  grid-column: 4;\n",
       "}\n",
       "\n",
       ".xr-var-name,\n",
       ".xr-var-dims,\n",
       ".xr-var-dtype,\n",
       ".xr-preview,\n",
       ".xr-attrs dt {\n",
       "  white-space: nowrap;\n",
       "  overflow: hidden;\n",
       "  text-overflow: ellipsis;\n",
       "  padding-right: 10px;\n",
       "}\n",
       "\n",
       ".xr-var-name:hover,\n",
       ".xr-var-dims:hover,\n",
       ".xr-var-dtype:hover,\n",
       ".xr-attrs dt:hover {\n",
       "  overflow: visible;\n",
       "  width: auto;\n",
       "  z-index: 1;\n",
       "}\n",
       "\n",
       ".xr-var-attrs,\n",
       ".xr-var-data {\n",
       "  display: none;\n",
       "  background-color: var(--xr-background-color) !important;\n",
       "  padding-bottom: 5px !important;\n",
       "}\n",
       "\n",
       ".xr-var-attrs-in:checked ~ .xr-var-attrs,\n",
       ".xr-var-data-in:checked ~ .xr-var-data {\n",
       "  display: block;\n",
       "}\n",
       "\n",
       ".xr-var-data > table {\n",
       "  float: right;\n",
       "}\n",
       "\n",
       ".xr-var-name span,\n",
       ".xr-var-data,\n",
       ".xr-attrs {\n",
       "  padding-left: 25px !important;\n",
       "}\n",
       "\n",
       ".xr-attrs,\n",
       ".xr-var-attrs,\n",
       ".xr-var-data {\n",
       "  grid-column: 1 / -1;\n",
       "}\n",
       "\n",
       "dl.xr-attrs {\n",
       "  padding: 0;\n",
       "  margin: 0;\n",
       "  display: grid;\n",
       "  grid-template-columns: 125px auto;\n",
       "}\n",
       "\n",
       ".xr-attrs dt,\n",
       ".xr-attrs dd {\n",
       "  padding: 0;\n",
       "  margin: 0;\n",
       "  float: left;\n",
       "  padding-right: 10px;\n",
       "  width: auto;\n",
       "}\n",
       "\n",
       ".xr-attrs dt {\n",
       "  font-weight: normal;\n",
       "  grid-column: 1;\n",
       "}\n",
       "\n",
       ".xr-attrs dt:hover span {\n",
       "  display: inline-block;\n",
       "  background: var(--xr-background-color);\n",
       "  padding-right: 10px;\n",
       "}\n",
       "\n",
       ".xr-attrs dd {\n",
       "  grid-column: 2;\n",
       "  white-space: pre-wrap;\n",
       "  word-break: break-all;\n",
       "}\n",
       "\n",
       ".xr-icon-database,\n",
       ".xr-icon-file-text2 {\n",
       "  display: inline-block;\n",
       "  vertical-align: middle;\n",
       "  width: 1em;\n",
       "  height: 1.5em !important;\n",
       "  stroke-width: 0;\n",
       "  stroke: currentColor;\n",
       "  fill: currentColor;\n",
       "}\n",
       "</style><pre class='xr-text-repr-fallback'>&lt;xarray.DataArray &#x27;density&#x27; ()&gt;\n",
       "array(28.13194019)\n",
       "Coordinates:\n",
       "    time_centered  datetime64[ns] 1850-01-16T12:00:00\n",
       "    time_counter   datetime64[ns] 1850-01-16T12:00:00</pre><div class='xr-wrap' style='display:none'><div class='xr-header'><div class='xr-obj-type'>xarray.DataArray</div><div class='xr-array-name'>'density'</div></div><ul class='xr-sections'><li class='xr-section-item'><div class='xr-array-wrap'><input id='section-4ef0c468-5ba3-409f-b177-8443e904de10' class='xr-array-in' type='checkbox' checked><label for='section-4ef0c468-5ba3-409f-b177-8443e904de10' title='Show/hide data repr'><svg class='icon xr-icon-database'><use xlink:href='#icon-database'></use></svg></label><div class='xr-array-preview xr-preview'><span>28.13</span></div><div class='xr-array-data'><pre>array(28.13194019)</pre></div></div></li><li class='xr-section-item'><input id='section-248fdf34-1e48-4899-b5da-d71ccc0d0739' class='xr-section-summary-in' type='checkbox'  checked><label for='section-248fdf34-1e48-4899-b5da-d71ccc0d0739' class='xr-section-summary' >Coordinates: <span>(2)</span></label><div class='xr-section-inline-details'></div><div class='xr-section-details'><ul class='xr-var-list'><li class='xr-var-item'><div class='xr-var-name'><span>time_centered</span></div><div class='xr-var-dims'>()</div><div class='xr-var-dtype'>datetime64[ns]</div><div class='xr-var-preview xr-preview'>1850-01-16T12:00:00</div><input id='attrs-616f3c85-7da7-491a-b8d1-336ea82dd73b' class='xr-var-attrs-in' type='checkbox' ><label for='attrs-616f3c85-7da7-491a-b8d1-336ea82dd73b' title='Show/Hide attributes'><svg class='icon xr-icon-file-text2'><use xlink:href='#icon-file-text2'></use></svg></label><input id='data-05e734d0-bcb5-4f91-8f48-c6f01dd692a3' class='xr-var-data-in' type='checkbox'><label for='data-05e734d0-bcb5-4f91-8f48-c6f01dd692a3' title='Show/Hide data repr'><svg class='icon xr-icon-database'><use xlink:href='#icon-database'></use></svg></label><div class='xr-var-attrs'><dl class='xr-attrs'><dt><span>standard_name :</span></dt><dd>time</dd><dt><span>long_name :</span></dt><dd>Time axis</dd><dt><span>time_origin :</span></dt><dd>1800-01-01 00:00:00</dd><dt><span>bounds :</span></dt><dd>time_centered_bounds</dd></dl></div><div class='xr-var-data'><pre>array(&#x27;1850-01-16T12:00:00.000000000&#x27;, dtype=&#x27;datetime64[ns]&#x27;)</pre></div></li><li class='xr-var-item'><div class='xr-var-name'><span>time_counter</span></div><div class='xr-var-dims'>()</div><div class='xr-var-dtype'>datetime64[ns]</div><div class='xr-var-preview xr-preview'>1850-01-16T12:00:00</div><input id='attrs-e06e1cea-b120-47d0-ada8-f7bae481ed5f' class='xr-var-attrs-in' type='checkbox' ><label for='attrs-e06e1cea-b120-47d0-ada8-f7bae481ed5f' title='Show/Hide attributes'><svg class='icon xr-icon-file-text2'><use xlink:href='#icon-file-text2'></use></svg></label><input id='data-ce02d583-0b35-4f83-8207-07f494339ab7' class='xr-var-data-in' type='checkbox'><label for='data-ce02d583-0b35-4f83-8207-07f494339ab7' title='Show/Hide data repr'><svg class='icon xr-icon-database'><use xlink:href='#icon-database'></use></svg></label><div class='xr-var-attrs'><dl class='xr-attrs'><dt><span>axis :</span></dt><dd>T</dd><dt><span>standard_name :</span></dt><dd>time</dd><dt><span>long_name :</span></dt><dd>Time axis</dd><dt><span>time_origin :</span></dt><dd>1800-01-01 00:00:00</dd><dt><span>bounds :</span></dt><dd>time_counter_bounds</dd></dl></div><div class='xr-var-data'><pre>array(&#x27;1850-01-16T12:00:00.000000000&#x27;, dtype=&#x27;datetime64[ns]&#x27;)</pre></div></li></ul></div></li><li class='xr-section-item'><input id='section-2905f909-11b5-47f5-b1b4-03e64ed9fce1' class='xr-section-summary-in' type='checkbox' disabled ><label for='section-2905f909-11b5-47f5-b1b4-03e64ed9fce1' class='xr-section-summary'  title='Expand/collapse section'>Attributes: <span>(0)</span></label><div class='xr-section-inline-details'></div><div class='xr-section-details'><dl class='xr-attrs'></dl></div></li></ul></div></div>"
      ],
      "text/plain": [
       "<xarray.DataArray 'density' ()>\n",
       "array(28.13194019)\n",
       "Coordinates:\n",
       "    time_centered  datetime64[ns] 1850-01-16T12:00:00\n",
       "    time_counter   datetime64[ns] 1850-01-16T12:00:00"
      ]
     },
     "execution_count": 138,
     "metadata": {},
     "output_type": "execute_result"
    }
   ],
   "source": [
    "fU.density.max()"
   ]
  },
  {
   "cell_type": "code",
   "execution_count": null,
   "id": "64ad4421-4735-45d4-b0d2-f30db24cc6df",
   "metadata": {},
   "outputs": [],
   "source": []
  }
 ],
 "metadata": {
  "kernelspec": {
   "display_name": "jaspy3.10",
   "language": "python",
   "name": "jaspy3.10"
  },
  "language_info": {
   "codemirror_mode": {
    "name": "ipython",
    "version": 3
   },
   "file_extension": ".py",
   "mimetype": "text/x-python",
   "name": "python",
   "nbconvert_exporter": "python",
   "pygments_lexer": "ipython3",
   "version": "3.10.5"
  }
 },
 "nbformat": 4,
 "nbformat_minor": 5
}
