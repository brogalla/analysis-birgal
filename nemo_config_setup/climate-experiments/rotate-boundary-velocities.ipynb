{
 "cells": [
  {
   "cell_type": "markdown",
   "id": "63ecb046-2069-4731-912e-2764addcc302",
   "metadata": {},
   "source": [
    "# Rotate boundary u and v velocities"
   ]
  },
  {
   "cell_type": "code",
   "execution_count": 2,
   "id": "9bc84519-33d1-4294-aa85-dbc3c16dc923",
   "metadata": {},
   "outputs": [],
   "source": [
    "import xarray as xr\n",
    "import numpy as np\n",
    "import matplotlib.pyplot as plt\n",
    "import cmocean\n",
    "import sys\n",
    "sys.path.append('/home/users/birgal/')\n",
    "import pickle\n",
    "from nemo_python_git.utils import fix_lon_range, convert_to_teos10\n",
    "from nemo_python_git.interpolation import regrid_array_cf, regrid_operator_cf\n",
    "from nemo_python_git.ics_obcs import fill_ocean\n",
    "from nemo_python_git.forcing import find_cesm2_file"
   ]
  },
  {
   "cell_type": "code",
   "execution_count": 6,
   "id": "5c432f9c-2976-4233-8898-96832d5cffa8",
   "metadata": {},
   "outputs": [],
   "source": [
    "base_folder = '/gws/nopw/j04/anthrofail/birgal/NEMO_AIS/'"
   ]
  },
  {
   "cell_type": "markdown",
   "id": "3452b5b8-1939-4302-984b-53d4ba9e9cb8",
   "metadata": {},
   "source": [
    "### Calculate the rotated boundary conditions"
   ]
  },
  {
   "cell_type": "code",
   "execution_count": 9,
   "id": "5d7e4725-6f39-4d92-baf8-37d325917a07",
   "metadata": {},
   "outputs": [],
   "source": [
    "dsT_orig = xr.open_dataset(f'{base_folder}B-SOSE/climatology/SALT_climatology_202405_m01.nc')\n",
    "dsU_orig = xr.open_dataset(f'{base_folder}B-SOSE/climatology/Uvel_climatology_202405_m01.nc')\n",
    "dsV_orig = xr.open_dataset(f'{base_folder}B-SOSE/climatology/Vvel_climatology_202405_m01.nc')\n",
    "\n",
    "dsT_regrid = xr.open_dataset(f'{base_folder}boundary-conditions/B-SOSE/SOSE-AbsSal-boundary-conditions-20240507_m01.nc').isel(time_counter=0,y=0)\n",
    "dsU_regrid = xr.open_dataset(f'{base_folder}boundary-conditions/B-SOSE/SOSE-Uvel-boundary-conditions-20240125_m01.nc').isel(time_counter=0,y=0)\n",
    "dsV_regrid = xr.open_dataset(f'{base_folder}boundary-conditions/B-SOSE/SOSE-Vvel-boundary-conditions-20240125_m01.nc').isel(time_counter=0,y=0)"
   ]
  },
  {
   "cell_type": "code",
   "execution_count": 16,
   "id": "0abaddd1-799b-42a1-9097-ee65ae3043b5",
   "metadata": {},
   "outputs": [],
   "source": [
    "mesh_mask = xr.open_dataset(f'{base_folder}bathymetry/mesh_mask-20240305.nc')"
   ]
  },
  {
   "cell_type": "code",
   "execution_count": null,
   "id": "934bffa2-553d-4512-81f8-65bd3b1ed172",
   "metadata": {},
   "outputs": [],
   "source": [
    "# Rotate a vector from geographic space (true zonal and meridional components) to local x-y space\n",
    "def rotate_vector_inv(u, v, domcfg, gtype='T', periodic=True, halo=False, return_angles=False):\n",
    "\n",
    "    deg2rad = np.pi/180.\n",
    "\n",
    "    \n",
    "    \n",
    "    \n",
    "    return"
   ]
  },
  {
   "cell_type": "code",
   "execution_count": 98,
   "id": "896d4705-669d-459e-84a5-01a8267bd8fc",
   "metadata": {},
   "outputs": [
    {
     "name": "stdout",
     "output_type": "stream",
     "text": [
      "AbsSal\n",
      "ConsTemp\n",
      "UVEL\n",
      "VVEL\n",
      "SSH\n",
      "aice\n",
      "sithick\n",
      "sisnthick\n"
     ]
    }
   ],
   "source": [
    "# Inputs:\n",
    "# u, v: xarray DataArrays containing the u and v components of the vector in local x-y space (eg velocities from NEMO output).\n",
    "# domcfg: either the path to the domain_cfg file, or an xarray Dataset containing glamt, gphit, glamu, etc.\n",
    "# gtype: grid type: 'T', 'U', 'V', or 'F'. In practice you will interpolate both velocities to the T-grid and then call this with gtype='T' (default).\n",
    "# periodic: whether the grid is periodic\n",
    "# halo: whether the halo is included in the arrays (generally true for NEMO3.6, false for NEMO4.2). Only matters if periodic=True.\n",
    "# return_angles: whether to return cos_grid and sin_grid\n",
    "# Outputs:\n",
    "# ug, vg: xarray DataArrays containing the zonal and meridional components of the vector in geographic space\n",
    "# cos_grid, sin_grid (only if return_angles=True): cos and sin of the angle between the grid and east\n",
    "def rotate_vector (u, v, domcfg, gtype='T', periodic=True, halo=True, return_angles=False):\n",
    "\n",
    "    if isinstance(domcfg, str):\n",
    "        domcfg = xr.open_dataset(domcfg)\n",
    "    if domcfg.sizes['y'] != u.sizes['y']:\n",
    "        # The TerraFIRMA overshoot output was trimmed to only cover the Southern Ocean when I pulled it from MASS, while domain_cfg remains global. Assume this is the reason for the mismatch but print a warning.\n",
    "        print('Warning (rotate_vector): trimming domain_cfg to select only the southernmost part, to align with input vectors - is this what you want?')\n",
    "        domcfg = domcfg.isel(y=slice(0, u.sizes['y']))\n",
    "    domcfg = domcfg.squeeze()\n",
    "\n",
    "    if u.dims != v.dims:\n",
    "        # Dimensions don't match. Usually this is because 3D velocities have retained 'depthu' and 'depthv' dimensions even though they've been interpolated to the T-grid.\n",
    "        if gtype in ['T', 't'] and 'depthu' in u.dims and 'depthv' in v.dims:\n",
    "            u = u.rename({'depthu':'deptht'})\n",
    "            v = v.rename({'depthv':'deptht'})\n",
    "        # Check again\n",
    "        if u.dims != v.dims:\n",
    "            raise Exception('Mismatch in dimensions')\n",
    "\n",
    "    # Get lon and lat on this grid\n",
    "    lon = domcfg['glam'+gtype.lower()]\n",
    "    lat = domcfg['gphi'+gtype.lower()]\n",
    "\n",
    "    # Calculate, at each point, the x and y components and the squared-norm of the vector between the point and the North Pole\n",
    "    vec_NP_x = -2*np.cos(lon*deg2rad)*np.tan(np.pi/4 - lat*deg2rad/2)\n",
    "    vec_NP_y = -2*np.sin(lon*deg2rad)*np.tan(np.pi/4 - lat*deg2rad/2)\n",
    "    vec_NP_norm2 = vec_NP_x**2 + vec_NP_y**2\n",
    "\n",
    "    # Inner function to get adjacent points on an alternate grid.\n",
    "    def grid_edges (var_name, shift):\n",
    "        edge1 = domcfg[var_name]\n",
    "        if shift == 'j-1':\n",
    "            edge2 = edge1.shift(y=1)\n",
    "            # Extrapolate southern boundary\n",
    "            edge2.isel(y=0).data = 2*edge1.isel(y=1).data - edge1.isel(y=0).data\n",
    "        elif shift == 'j+1':\n",
    "            edge2 = edge1.shift(y=-1)\n",
    "            # Extrapolate northern boundary\n",
    "            edge2.isel(y=-1).data = 2*edge1.isel(y=-2).data - edge1.isel(y=-1).data\n",
    "        elif shift == 'i-1':\n",
    "            edge2 = edge1.shift(x=1)\n",
    "            if periodic:\n",
    "                # Western boundary already exists on the other side\n",
    "                if halo:\n",
    "                    edge2.isel(x=0).data = edge1.isel(x=-3).data\n",
    "                else:\n",
    "                    edge2.isel(x=0).data = edge1.isel(x=-1).data\n",
    "            else:\n",
    "                # Extrapolate western boundary\n",
    "                edge2.isel(x=0).data = 2*edge1.isel(x=1).data - edge1.isel(x=0).data        \n",
    "        return edge1, edge2\n",
    "    # Call this function for both lon and lat on the given grid.\n",
    "    def lonlat_edges (gtype2, shift):\n",
    "        lon_edge1, lon_edge2 = grid_edges('glam'+gtype2.lower(), shift)\n",
    "        lat_edge1, lat_edge2 = grid_edges('gphi'+gtype2.lower(), shift)\n",
    "        return lon_edge1, lat_edge1, lon_edge2, lat_edge2            \n",
    "\n",
    "    # Calculate, at each point, the x and y components and the norm of the vector between adjacent points on an alternate grid.\n",
    "    if gtype in ['T', 't']:\n",
    "        # v-points above and below the given t-point\n",
    "        lon_edge1, lat_edge1, lon_edge2, lat_edge2 = lonlat_edges('v', 'j-1')\n",
    "    elif gtype in ['U', 'u']:\n",
    "        # f-points above and below the given u-point\n",
    "        lon_edge1, lat_edge1, lon_edge2, lat_edge2 = lonlat_edges('f', 'j-1')\n",
    "    elif gtype in ['V', 'v']:\n",
    "        # f-points left and right of the given v-point\n",
    "        lon_edge1, lat_edge1, lon_edge2, lat_edge2 = lonlat_edges('f', 'i-1')\n",
    "    elif gtype in ['F', 'f']:\n",
    "        # u-points above and below the given f-point\n",
    "        # Note reversed order of how we save the outputs\n",
    "        lon_edge2, lat_edge2, lon_edge1, lat_edge1 = lonlat_edges('u', 'j+1')\n",
    "    vec_pts_x = 2*np.cos(lon_edge1*deg2rad)*np.tan(np.pi/4 - lat_edge1*deg2rad/2) - 2*np.cos(lon_edge2*deg2rad)*np.tan(np.pi/4 - lat_edge2*deg2rad/2)\n",
    "    vec_pts_y = 2*np.sin(lon_edge1*deg2rad)*np.tan(np.pi/4 - lat_edge1*deg2rad/2) - 2*np.sin(lon_edge2*deg2rad)*np.tan(np.pi/4 - lat_edge2*deg2rad/2)\n",
    "    vec_pts_norm = np.maximum(np.sqrt(vec_NP_norm2*(vec_pts_x**2 + vec_pts_y**2)), 1e-14)\n",
    "\n",
    "    # Now get sin and cos of the angles of the given grid\n",
    "    if gtype in ['V', 'v']:\n",
    "        sin_grid = (vec_NP_x*vec_pts_x + vec_NP_y*vec_pts_y)/vec_pts_norm\n",
    "        cos_grid = -(vec_NP_x*vec_pts_y - vec_NP_y*vec_pts_x)/vec_pts_norm\n",
    "    else:\n",
    "        sin_grid = (vec_NP_x*vec_pts_y - vec_NP_y*vec_pts_x)/vec_pts_norm\n",
    "        cos_grid = (vec_NP_x*vec_pts_x + vec_NP_y*vec_pts_y)/vec_pts_norm\n",
    "\n",
    "    # Identify places where the adjacent grid cells are essentially equal (can happen with weird patched-together grids etc filling parts of Antarctic land mask with constant values) - no rotation needed here\n",
    "    eps = 1e-8\n",
    "    if gtype in ['T', 't']:\n",
    "        lon_edge1, lon_edge2 = grid_edges('glamv', 'j-1')        \n",
    "    elif gtype in ['U', 'u']:\n",
    "        lon_edge1, lon_edge2 = grid_edges('glamf', 'j-1')\n",
    "    elif gtype in ['V', 'v']:\n",
    "        lat_edge1, lat_edge2 = grid_edges('gphif', 'i-1')\n",
    "    elif gtype in ['F', 'f']:\n",
    "        lon_edge1, lon_edge2 = grid_edges('glamu', 'j+1')\n",
    "    if gtype in ['V', 'v']:\n",
    "        index = np.abs(lat_edge1-lat_edge2) < eps\n",
    "    else:\n",
    "        index = np.abs(np.mod(lon_edge1-lon_edge2, 360)) < eps\n",
    "    sin_grid = xr.where(index, 0, sin_grid)\n",
    "    cos_grid = xr.where(index, 1, cos_grid)\n",
    "\n",
    "    # Finally, rotate!\n",
    "    ug = u*cos_grid - v*sin_grid\n",
    "    vg = v*cos_grid + u*sin_grid\n",
    "\n",
    "    if return_angles:\n",
    "        return ug, vg, cos_grid, sin_grid\n",
    "    else:\n",
    "        return ug, vg"
   ]
  }
 ],
 "metadata": {
  "kernelspec": {
   "display_name": "cf-env",
   "language": "python",
   "name": "cf-env"
  },
  "language_info": {
   "codemirror_mode": {
    "name": "ipython",
    "version": 3
   },
   "file_extension": ".py",
   "mimetype": "text/x-python",
   "name": "python",
   "nbconvert_exporter": "python",
   "pygments_lexer": "ipython3",
   "version": "3.12.4"
  }
 },
 "nbformat": 4,
 "nbformat_minor": 5
}
