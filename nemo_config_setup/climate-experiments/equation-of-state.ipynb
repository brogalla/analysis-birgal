{
 "cells": [
  {
   "cell_type": "markdown",
   "id": "dbca5081-3af8-4ef9-861f-88b08d75c208",
   "metadata": {},
   "source": [
    "# Influence of the representation by the equation of state on convection"
   ]
  },
  {
   "cell_type": "code",
   "execution_count": 2,
   "id": "fa3d9fc8-53e2-4b7f-ad3a-2cc311184a54",
   "metadata": {},
   "outputs": [],
   "source": [
    "import xarray as xr\n",
    "import numpy as np\n",
    "import gsw\n",
    "import glob\n",
    "import cmocean\n",
    "import matplotlib.pyplot as plt\n",
    "import sys\n",
    "sys.path.append('/home/users/birgal/')\n",
    "from nemo_python_git.constants import weddell_convect, ross_convect"
   ]
  },
  {
   "cell_type": "markdown",
   "id": "42bee59a-5957-4cd0-92a7-fcf4c5cc5be9",
   "metadata": {},
   "source": [
    "#### Runs to analyze\n",
    "\n",
    "1) Simplified equation of state with default parameter values\n",
    "2) Simplified equation of state without thermobaricity\n",
    "3) Simplified equation of state without cabbelling (crashed fairly soon)\n",
    "4) Linear equation of state\n",
    "5) TEOS-10 with same settings as the above\n",
    "\n",
    "Also look at: difvho in gridW file"
   ]
  },
  {
   "cell_type": "code",
   "execution_count": null,
   "id": "46b0fb26-fc04-4b3e-9b06-144584563dc5",
   "metadata": {},
   "outputs": [],
   "source": [
    "base_dir = '/gws/nopw/j04/anthrofail/birgal/NEMO_AIS/'\n",
    "t1_dir   = f'{base_dir}output/EOS_test1/' \n",
    "t2_dir   = f'{base_dir}output/EOS_test2/'\n",
    "t3_dir   = f'{base_dir}output/EOS_test3/'\n",
    "t4_dir   = f'{base_dir}output/EOS_test4/'\n",
    "t5_dir   = f'{base_dir}output/EOS_test5/' "
   ]
  },
  {
   "cell_type": "markdown",
   "id": "238695f4-7ab4-4df4-abed-500f7ced2a83",
   "metadata": {},
   "source": [
    "#### Identify differences"
   ]
  },
  {
   "cell_type": "code",
   "execution_count": 10,
   "id": "56044184-8113-4a8a-ac97-eb67f1624725",
   "metadata": {
    "scrolled": true
   },
   "outputs": [],
   "source": [
    "t1 = xr.open_dataset(f'{t1_dir}files/')\n",
    "t2 = xr.open_dataset(f'{t2_dir}files/')\n",
    "t4 = xr.open_dataset(f'{t4_dir}files/')\n",
    "t5 = xr.open_dataset(f'{t5_dir}files/')"
   ]
  },
  {
   "cell_type": "markdown",
   "id": "b94b03e3-1491-439a-a70a-ab4e824cdb9e",
   "metadata": {},
   "source": [
    "Things to look at:\n",
    "- sea surface temperature and salinity drift in the weddell sea region\n",
    "- "
   ]
  },
  {
   "cell_type": "code",
   "execution_count": null,
   "id": "4330a104-5554-44dc-b575-fa3f473eaabd",
   "metadata": {},
   "outputs": [],
   "source": []
  },
  {
   "cell_type": "markdown",
   "id": "a5e254d5-8efe-4f8b-b8ba-21d5df010f79",
   "metadata": {},
   "source": [
    "Look at T-S diagrams as well?"
   ]
  },
  {
   "cell_type": "code",
   "execution_count": null,
   "id": "00fb324c-0521-41ac-b556-53487f61434a",
   "metadata": {},
   "outputs": [],
   "source": []
  },
  {
   "cell_type": "markdown",
   "id": "f449f3e5-c2a1-4287-9815-447e67aef395",
   "metadata": {},
   "source": [
    "Could it be effectively the influence of cabbeling (that it is underrepresented because of low resolution not resolving eddies)? What would the impact of increasing horizontal diffusivity be?"
   ]
  },
  {
   "cell_type": "markdown",
   "id": "afd0cefe-38c2-4f74-b775-ad919e0657ef",
   "metadata": {},
   "source": [
    "Thinking more about the issue:\n",
    "- the issue is partially an erosion of the temperature and salinity inversion between the surface and the CDW layer\n",
    "- a decrease in the delta T would mean higher probability of density thresholds being exceeded and cabbeling is less able to help stabilize the water column\n",
    "- what causes the erosion of the properties of this layer? check what the properties of CDW are in the ACC (i.e. is it a result of the water advected into the region or actual regional loss)"
   ]
  },
  {
   "cell_type": "code",
   "execution_count": null,
   "id": "63cf3962-7b60-47bc-a672-65c5305b9b38",
   "metadata": {},
   "outputs": [],
   "source": []
  }
 ],
 "metadata": {
  "kernelspec": {
   "display_name": "jaspy3.10",
   "language": "python",
   "name": "jaspy3.10"
  },
  "language_info": {
   "codemirror_mode": {
    "name": "ipython",
    "version": 3
   },
   "file_extension": ".py",
   "mimetype": "text/x-python",
   "name": "python",
   "nbconvert_exporter": "python",
   "pygments_lexer": "ipython3",
   "version": "3.10.5"
  }
 },
 "nbformat": 4,
 "nbformat_minor": 5
}
