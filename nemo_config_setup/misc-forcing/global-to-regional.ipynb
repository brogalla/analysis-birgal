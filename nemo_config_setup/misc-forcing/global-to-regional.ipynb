{
 "cells": [
  {
   "cell_type": "markdown",
   "id": "98513338",
   "metadata": {},
   "source": [
    "# Move global forcing files to regional domain with new bathymetry"
   ]
  },
  {
   "cell_type": "code",
   "execution_count": 127,
   "id": "574b1f69",
   "metadata": {},
   "outputs": [],
   "source": [
    "import numpy as np\n",
    "import xarray as xr\n",
    "import glob\n",
    "import matplotlib.pyplot as plt\n",
    "import sys\n",
    "sys.path.append('/home/users/birgal/')\n",
    "from nemo_python.ics_obcs import fill_ocean"
   ]
  },
  {
   "cell_type": "markdown",
   "id": "a2a37355-8053-46e1-9eab-cfbbe8477f00",
   "metadata": {},
   "source": [
    "#### Functions"
   ]
  },
  {
   "cell_type": "code",
   "execution_count": 125,
   "id": "fc5e42b3-e71c-49c6-97c0-da4a90fadc9f",
   "metadata": {},
   "outputs": [],
   "source": [
    "def subset_global(file_path, nemo_mask, fill_ocn=False):\n",
    "\n",
    "    ds = xr.open_dataset(f'{file_path}').isel(y=slice(0,453))\n",
    "\n",
    "    if fill_ocn:\n",
    "        for var in list(ds.keys()):\n",
    "            # Check for values that are NaN and in the ocean\n",
    "            # cond      = (mesh_new.tmask.isel(time_counter=0, nav_lev=0) == 1)*np.isnan(ds[var]) \n",
    "            ds_filled = fill_ocean(ds.isel(time_counter=0), var, nemo_mask)\n",
    "    \n",
    "    new_file_path = file_path.replace(file_path.split('/')[-1], f\"AntArc_{file_path.split('/')[-1]}\") \n",
    "    ds.to_netcdf(f\"{new_file_path}\")\n",
    "    \n",
    "    return "
   ]
  },
  {
   "cell_type": "code",
   "execution_count": null,
   "id": "545050a8-550b-4146-8f80-5a59d8139e93",
   "metadata": {},
   "outputs": [],
   "source": [
    "sum(sum(np.isnan(iwm_ds.isel(y=slice(0,453), time_counter=0).values)))"
   ]
  },
  {
   "cell_type": "code",
   "execution_count": null,
   "id": "f2c0782c-e8a1-4978-a10d-66601b09d0da",
   "metadata": {},
   "outputs": [],
   "source": [
    "iwm_powerbot_filled = fill_ocean(iwm_ds.isel(y=slice(0,453), time_counter=0), 'power_bot', mesh_new)"
   ]
  },
  {
   "cell_type": "markdown",
   "id": "841e1280-2c59-4513-80ce-5c7299005d43",
   "metadata": {},
   "source": [
    "### Main"
   ]
  },
  {
   "cell_type": "code",
   "execution_count": 102,
   "id": "a56a2e4a-ac1a-477b-b866-d01b38fd0142",
   "metadata": {},
   "outputs": [],
   "source": [
    "domain_old   = xr.open_dataset(f'/gws/nopw/j04/terrafirma/birgal/NEMO_AIS/bathymetry/domain_cfg-old.nc')\n",
    "domain_new   = xr.open_dataset(f'/gws/nopw/j04/terrafirma/birgal/NEMO_AIS/bathymetry/domain_cfg-20231025.nc')\n",
    "mesh_new     = xr.open_dataset(f'/gws/nopw/j04/terrafirma/birgal/NEMO_AIS/bathymetry/mesh_mask-20231025.nc')"
   ]
  },
  {
   "cell_type": "code",
   "execution_count": 80,
   "id": "e94ac75b-dbe9-4e08-bc74-f3487d6e09e3",
   "metadata": {},
   "outputs": [
    {
     "data": {
      "text/plain": [
       "<matplotlib.collections.QuadMesh at 0x7fcf65d55030>"
      ]
     },
     "execution_count": 80,
     "metadata": {},
     "output_type": "execute_result"
    },
    {
     "data": {
      "image/png": "[encoded data removed]",
      "text/plain": [
       "<Figure size 1008x720 with 2 Axes>"
      ]
     },
     "metadata": {
      "needs_background": "light"
     },
     "output_type": "display_data"
    }
   ],
   "source": [
    "(domain_new.gphit.isel(time_counter=0)-(iwm_ds.gphit.isel(y=slice(0,453)))).plot(figsize=(14,10))"
   ]
  },
  {
   "cell_type": "code",
   "execution_count": null,
   "id": "64ec5fa6-585b-4c53-93a7-ff8155199de6",
   "metadata": {},
   "outputs": [],
   "source": [
    "# Load global files\n",
    "folder      = '/gws/nopw/j04/terrafirma/birgal/NEMO_AIS/misc-forcing/'\n",
    "files_coast = ['eORCA025_calving_b0.2_v2.3_nohls.nc', 'eORCA025_distcoast_b0.2_v0.0_nohls.nc', \n",
    "               'eORCA025_runoff_b0.2_v0.0_nohls.nc']\n",
    "# mv_ocn   = ~fill_ocn # move values from land to the nearest ocean point\n",
    "# mv_to_coast = fill_ocn # move non-zero values to the new land-edge\n",
    "\n",
    "# subset files:\n",
    "# - internal wave field --- fill with connected nearest neighbour\n",
    "subset_global(f'{folder}eORCA025_iwm_b0.2_v1.0_nohls.nc', fill_ocn=True)\n",
    "# - bottom friction  / turbulence --- leave as zeros\n",
    "subset_global(f'{folder}eORCA025_shlat2d_v0.2_nohls.nc' , fill_ocn=False)\n",
    "subset_global(f'{folder}eORCA025_bfr2d_v0.2_nohls.nc'   , fill_ocn=False)\n",
    "# - distance to the coast --- recalculate for new bathymetry\n",
    "# - runoff --- use list of first point in the ocean to move runoff to this cell \n",
    "#             (don't need to do in this case because I'm not running with runoff)\n",
    "# - calving --- check that these are close enough to the iceshelf edge to be fine:\n",
    "#               check distcoast to first point on land at each point where calving happens\n",
    "#               if distcoast=0 (on land) where calving is nonzero, move the calving to the nearest point where distcoast!=0 and check that imask nearby\n",
    "#               if calving is nonzero and distcoast > 10 km (or some other value), move the calving closer to the coastline"
   ]
  },
  {
   "cell_type": "code",
   "execution_count": null,
   "id": "128c5a04-58ab-48dd-97dc-e7b383db4ddc",
   "metadata": {},
   "outputs": [],
   "source": [
    "# Function that finds a list of the coordinates of the coastline points (first point on land and first point in the ocean)\n",
    "# then, calculate the distance for each ocean point to each coastline point and keep the closest coastline point distance\n",
    "\n",
    "# Helper function to calculate the Euclidean distance between two longitude and latitude points\n",
    "def calc_distance():\n",
    "\n",
    "\n",
    "    return"
   ]
  },
  {
   "cell_type": "code",
   "execution_count": null,
   "id": "98b7635c-132f-47bc-95d1-74d5c399e9ea",
   "metadata": {},
   "outputs": [],
   "source": []
  }
 ],
 "metadata": {
  "kernelspec": {
   "display_name": "jaspy3.10",
   "language": "python",
   "name": "jaspy3.10"
  },
  "language_info": {
   "codemirror_mode": {
    "name": "ipython",
    "version": 3
   },
   "file_extension": ".py",
   "mimetype": "text/x-python",
   "name": "python",
   "nbconvert_exporter": "python",
   "pygments_lexer": "ipython3",
   "version": "3.10.5"
  }
 },
 "nbformat": 4,
 "nbformat_minor": 5
}
