{
 "cells": [
  {
   "cell_type": "markdown",
   "id": "039858f1-96ca-40a7-a9c8-d62d25eb0071",
   "metadata": {},
   "source": [
    "# Evaluate water mass properties on the shelves using Shenjie's climatology"
   ]
  },
  {
   "cell_type": "code",
   "execution_count": 2,
   "id": "ce3b2877-aeb7-47f2-987f-bbe7d91c1c26",
   "metadata": {},
   "outputs": [],
   "source": [
    "import xarray as xr\n",
    "import numpy as np\n",
    "import matplotlib.pyplot as plt\n",
    "import matplotlib.colors as cl\n",
    "import cmocean\n",
    "import cartopy.crs as ccrs\n",
    "import cartopy.feature as cfeature\n",
    "import glob\n",
    "import sys\n",
    "sys.path.append('/home/users/birgal/')\n",
    "\n",
    "from nemo_python_git.file_io import read_dutrieux, read_zhou\n",
    "from nemo_python_git.utils import convert_to_teos10, distance_btw_points, closest_point\n",
    "from nemo_python_git.interpolation import interp_latlon_cf\n",
    "from nemo_python_git.plots import circumpolar_plot, finished_plot"
   ]
  },
  {
   "cell_type": "code",
   "execution_count": 3,
   "id": "2ecfd70e-13ff-44a8-8c15-7b879eef70df",
   "metadata": {},
   "outputs": [],
   "source": [
    "base_dir = '/gws/nopw/j04/anthrofail/birgal/NEMO_AIS/'\n",
    "run_folder    = f'{base_dir}output/ERA5_test4_cont/'\n",
    "nemo_mesh     = f'{base_dir}bathymetry/mesh_mask-20240305.nc'\n",
    "nemo_domain   = f'{base_dir}bathymetry/domain_cfg-20240305.nc'"
   ]
  },
  {
   "cell_type": "markdown",
   "id": "98bc6dd2-3663-41ec-b7c0-c12470015219",
   "metadata": {},
   "source": [
    "## Look at Shenjie Zhou's observational dataset"
   ]
  },
  {
   "cell_type": "code",
   "execution_count": 4,
   "id": "9901f738-9434-40f0-b9cb-167258fd9244",
   "metadata": {},
   "outputs": [],
   "source": [
    "obs = read_zhou()"
   ]
  },
  {
   "cell_type": "code",
   "execution_count": 5,
   "id": "912e2cc2-72e1-49ca-893f-d548e5c541d3",
   "metadata": {},
   "outputs": [],
   "source": [
    "# extract the bottom temperatures and salinities \n",
    "depth_bottom_obs = xr.where(obs['ConsTemp'].notnull(),obs['depth'],np.nan).max(dim='z')\n",
    "depth_bottom_obs = xr.where(depth_bottom_obs < 200, np.nan, depth_bottom_obs) # mask areas shallower than 200 m\n",
    "bottom_Tobs      = obs['ConsTemp'].where(~np.isnan(depth_bottom_obs)).mean(dim='z')\n",
    "bottom_Sobs      = obs['AbsSal'].where(~np.isnan(depth_bottom_obs)).mean(dim='z')\n",
    "\n",
    "obs_bottom = xr.Dataset({'temp':bottom_Tobs, 'salt':bottom_Sobs, 'depth':depth_bottom_obs})"
   ]
  },
  {
   "cell_type": "code",
   "execution_count": 6,
   "id": "c6f221a0-84df-4563-a82a-5e45a934d93a",
   "metadata": {},
   "outputs": [],
   "source": [
    "# load nemo grid for interpolation\n",
    "nemo_ds_ref  = xr.open_dataset(f'{run_folder}eANT025.L121_1m_19790101_19791231_grid_T.nc') # load all the gridT files in the run folder\n",
    "nemo_ds_ref  = nemo_ds_ref.rename({'e3t':'thkcello', 'x_grid_T':'x', 'y_grid_T':'y', 'area_grid_T':'area', 'e3t':'thkcello',\n",
    "                          'nav_lon_grid_T':'nav_lon', 'nav_lat_grid_T':'nav_lat', \n",
    "                          'bounds_nav_lon_grid_T':'bounds_lon', 'bounds_nav_lat_grid_T':'bounds_lat',\n",
    "                          'nvertex_grid_T':'nvertex'})"
   ]
  },
  {
   "cell_type": "code",
   "execution_count": null,
   "id": "8bc4881c-0e23-437e-a92b-99a39020b374",
   "metadata": {},
   "outputs": [],
   "source": [
    "obs_interp = interp_latlon_cf(obs_bottom, nemo_ds_ref.isel(x=slice(450, 900), y=slice(130,350)), method='bilinear')"
   ]
  },
  {
   "cell_type": "code",
   "execution_count": null,
   "id": "9b3d77c3-bf53-43d0-a8bd-32e7e7ce450b",
   "metadata": {},
   "outputs": [],
   "source": []
  },
  {
   "cell_type": "markdown",
   "id": "84f43128-5b93-4c55-9297-39faa2c58bd7",
   "metadata": {},
   "source": [
    "## Also look at moorings:"
   ]
  },
  {
   "cell_type": "code",
   "execution_count": 5,
   "id": "96d80eda-2f91-442d-9f71-b40facce51c5",
   "metadata": {},
   "outputs": [],
   "source": [
    "files = glob.glob('/gws/nopw/j04/anthrofail/birgal/NEMO_AIS/observations/shenjie-zhou/mooring/*.nc')"
   ]
  },
  {
   "cell_type": "code",
   "execution_count": 30,
   "id": "216c84f4-6afa-44b9-ac4b-dc30697032d8",
   "metadata": {},
   "outputs": [],
   "source": [
    "mooring1  = xr.open_dataset(files[0], decode_times=False).squeeze()\n",
    "mooring2  = xr.open_dataset(files[1], decode_times=False).squeeze()\n",
    "mooring10 = xr.open_dataset(files[10], decode_times=False).squeeze()"
   ]
  },
  {
   "cell_type": "code",
   "execution_count": 31,
   "id": "00c0b021-55cc-48ac-85c9-18ed5ae1595e",
   "metadata": {},
   "outputs": [
    {
     "data": {
      "text/plain": [
       "['lat',\n",
       " 'lon',\n",
       " 'bottom_depth',\n",
       " 'doi',\n",
       " 'Instrument_01_date',\n",
       " 'Instrument_01_depth',\n",
       " 'Instrument_01_press',\n",
       " 'Instrument_01_temp',\n",
       " 'Instrument_01_u',\n",
       " 'Instrument_01_v',\n",
       " 'Instrument_02_date',\n",
       " 'Instrument_02_depth',\n",
       " 'Instrument_02_press',\n",
       " 'Instrument_02_temp',\n",
       " 'Instrument_02_u',\n",
       " 'Instrument_02_v']"
      ]
     },
     "execution_count": 31,
     "metadata": {},
     "output_type": "execute_result"
    }
   ],
   "source": [
    "list(mooring10.keys())"
   ]
  },
  {
   "cell_type": "code",
   "execution_count": 34,
   "id": "973d19ab-6bff-48f1-955b-c4045972c551",
   "metadata": {},
   "outputs": [
    {
     "data": {
      "text/plain": [
       "[<matplotlib.lines.Line2D at 0x7f0975973b20>]"
      ]
     },
     "execution_count": 34,
     "metadata": {},
     "output_type": "execute_result"
    },
    {
     "data": {
      "image/png": "[encoded data removed]",
      "text/plain": [
       "<Figure size 432x288 with 1 Axes>"
      ]
     },
     "metadata": {
      "needs_background": "light"
     },
     "output_type": "display_data"
    }
   ],
   "source": [
    "plt.plot(mooring10.Instrument_01_temp.values)"
   ]
  },
  {
   "cell_type": "code",
   "execution_count": 15,
   "id": "9de696f9-77b6-47f0-8166-5355414fb596",
   "metadata": {},
   "outputs": [],
   "source": [
    "a = xr.open_dataset('/gws/nopw/j04/anthrofail/birgal/NEMO_AIS/observations/pierre-dutrieux/110036.nc').squeeze()"
   ]
  },
  {
   "cell_type": "code",
   "execution_count": null,
   "id": "00ebab13-8a77-44b2-9562-22046e13cd3a",
   "metadata": {},
   "outputs": [],
   "source": []
  }
 ],
 "metadata": {
  "kernelspec": {
   "display_name": "jaspy3.10",
   "language": "python",
   "name": "jaspy3.10"
  },
  "language_info": {
   "codemirror_mode": {
    "name": "ipython",
    "version": 3
   },
   "file_extension": ".py",
   "mimetype": "text/x-python",
   "name": "python",
   "nbconvert_exporter": "python",
   "pygments_lexer": "ipython3",
   "version": "3.10.5"
  }
 },
 "nbformat": 4,
 "nbformat_minor": 5
}
