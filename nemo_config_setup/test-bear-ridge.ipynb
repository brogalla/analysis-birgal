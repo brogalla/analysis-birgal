{
 "cells": [
  {
   "cell_type": "markdown",
   "metadata": {},
   "source": [
    "# Look at bathymetry made using nemo_python\n",
    "\n",
    "Github: https://github.com/knaughten/nemo_python/"
   ]
  },
  {
   "cell_type": "code",
   "execution_count": 2,
   "metadata": {},
   "outputs": [],
   "source": [
    "import xarray as xr\n",
    "import numpy as np\n",
    "import matplotlib.pyplot as plt\n",
    "import datetime\n",
    "import cmocean\n",
    "import cartopy.crs as ccrs\n",
    "\n",
    "import sys\n",
    "sys.path.append('/users/birgal/nemo_python/')\n",
    "from constants import region_bounds, region_bathy_bounds"
   ]
  },
  {
   "cell_type": "markdown",
   "metadata": {},
   "source": [
    "#### Functions"
   ]
  },
  {
   "cell_type": "code",
   "execution_count": 3,
   "metadata": {},
   "outputs": [],
   "source": [
    "def plot_bathy_diff(bathy_new):\n",
    "    \n",
    "    fig, ax = plt.subplots(1,3, figsize=(20,8), subplot_kw={'projection': ccrs.Mercator(latitude_true_scale=-70)})\n",
    "\n",
    "    vmin=0\n",
    "    vmax=1000\n",
    "\n",
    "    for axis in ax.ravel():\n",
    "        axis.set_extent([-100, -120, -75.5, -71], ccrs.PlateCarree())\n",
    "        gl = axis.gridlines(draw_labels=True);\n",
    "        gl.xlines=None; gl.ylines=None; gl.top_labels=None; gl.right_labels=None;\n",
    "\n",
    "    kwags1={'cmap':cmocean.cm.deep, 'vmin':vmin, 'vmax':vmax, 'transform':ccrs.PlateCarree()}\n",
    "    kwags2={'cmap':cmocean.cm.balance, 'vmin':-100, 'vmax':100, 'transform':ccrs.PlateCarree()}\n",
    "\n",
    "    ax[0].set_title('Old bathymetry', fontsize=12)\n",
    "    cm1 = ax[0].pcolormesh(nemo.nav_lon, nemo.nav_lat, topo['Bathymetry'], **kwags1)\n",
    "    CB1 = fig.colorbar(cm1, ax=ax[0], fraction=0.03, label='Depth (m)')\n",
    "\n",
    "    ax[1].set_title('New bathymetry', fontsize=12)\n",
    "    cm2 = ax[1].pcolormesh(nemo.nav_lon, nemo.nav_lat, bathy_new, **kwags1)\n",
    "    CB2 = fig.colorbar(cm2, ax=ax[1], fraction=0.03, label='Depth (m)')\n",
    "\n",
    "    ax[2].set_title('New minus old bathymetry', fontsize=12)\n",
    "    cm3 = ax[2].pcolormesh(nemo.nav_lon, nemo.nav_lat, bathy_new - topo['Bathymetry'], **kwags2)\n",
    "    CB3 = fig.colorbar(cm3, ax=ax[2], fraction=0.03, label='Depth (m)')"
   ]
  },
  {
   "cell_type": "markdown",
   "metadata": {},
   "source": [
    "#### Code"
   ]
  },
  {
   "cell_type": "code",
   "execution_count": 4,
   "metadata": {},
   "outputs": [],
   "source": [
    "folder = '/data/oceans_output/shelf/birgal/bathymetry/'\n",
    "coordinates_file = f'{folder}coordinates_AIS.nc'\n",
    "in_file          = f'{folder}eORCA025_BedMachine3_IBCSO_AIS.nc'"
   ]
  },
  {
   "cell_type": "code",
   "execution_count": 5,
   "metadata": {},
   "outputs": [],
   "source": [
    "### process_topo function\n",
    "\n",
    "topo = xr.open_dataset(in_file)\n",
    "if np.count_nonzero(topo['bathy'].isnull()):\n",
    "    # There are missing points\n",
    "    if will_splice:\n",
    "        print('Warning: there are missing points. Hopefully this will be dealt with by your splicing later - check to make sure.')\n",
    "    else:\n",
    "        raise Exception('Missing points')\n",
    "nemo = xr.open_dataset(coordinates_file).squeeze()\n",
    "\n",
    "# Set masks where they fall between 0 and 1\n",
    "topo['omask'] = np.round(topo['omask'])\n",
    "topo['imask'] = np.round(topo['imask'])\n",
    "    \n",
    "# Make bathymetry and ice draft positive\n",
    "# Don't need to mask grounded ice with zeros as NEMO will do that for us (and if coupled ice sheet is active need to know bathymetry of grounded ice)\n",
    "topo['bathy'] = -topo['bathy']\n",
    "topo['draft'] = xr.where(topo['imask']==1, -topo['draft'], 0)\n",
    "# Turn negative values (above sea level) to 0 - they'll never be ocean cells\n",
    "topo['bathy'] = xr.where(topo['bathy']>0, topo['bathy'], 0)\n",
    "topo['draft'] = xr.where(topo['draft']>0, topo['draft'], 0)\n",
    "# Now get bathymetry outside of cavities, masked with zeros where there's grounded or floating ice\n",
    "topo['Bathymetry'] = xr.where(topo['imask']==0, topo['bathy'], 0)"
   ]
  },
  {
   "cell_type": "code",
   "execution_count": 6,
   "metadata": {},
   "outputs": [],
   "source": [
    "lon = nemo['nav_lon']\n",
    "lat = nemo['nav_lat']\n",
    "bathy = topo['bathy']\n",
    "omask = topo['omask']\n",
    "\n",
    "# Southern part: north-south wall\n",
    "[x_wall, x_wall, ymin, ymax] = region_bounds['bear_ridge_S']\n",
    "# Find longitude indices closest to the target\n",
    "i_wall   = abs(lon-x_wall).argmin(axis=1)\n",
    "wall_pts1 = (lat >= ymin)*(lat <= ymax)*(lon == lon[:,i_wall])\n",
    "bathy1 = xr.where(wall_pts1, 0, bathy)\n",
    "omask1 = xr.where(wall_pts1, 0, omask)\n",
    "\n",
    "# Northern part: select easternmost point shallower than 300m at each latitude\n",
    "[xmin, xmax, ymin, ymax] = region_bounds['bear_ridge_N']\n",
    "z_deep = region_bathy_bounds['bear_ridge_N'][0]\n",
    "z_deep=350;\n",
    "# Find area of Bear Ridge\n",
    "wall_pts2 = (lat <= ymax)*(lat >= ymin)*(lon >= xmin)*(lon <= xmax)*(bathy < z_deep)\n",
    "# Identify maximum longitude grid point for each of these points:\n",
    "bathy2 = xr.where((lon == lon.where(wall_pts2).max(axis=1)), 0, bathy1)\n",
    "omask2 = xr.where((lon == lon.where(wall_pts2).max(axis=1)), 0, omask1)"
   ]
  },
  {
   "cell_type": "code",
   "execution_count": 10,
   "metadata": {},
   "outputs": [],
   "source": [
    "bathy2_new = xr.where(topo['imask']==0, bathy2, 0)"
   ]
  },
  {
   "cell_type": "code",
   "execution_count": null,
   "metadata": {},
   "outputs": [],
   "source": [
    "plot_bathy_diff(bathy2_new)"
   ]
  },
  {
   "cell_type": "code",
   "execution_count": null,
   "metadata": {},
   "outputs": [],
   "source": []
  }
 ],
 "metadata": {
  "kernelspec": {
   "display_name": "jaspy3.10-m3-4.9.2-r20220721",
   "language": "python",
   "name": "jaspy3.10-m3-4.9.2-r20220721"
  },
  "language_info": {
   "codemirror_mode": {
    "name": "ipython",
    "version": 3
   },
   "file_extension": ".py",
   "mimetype": "text/x-python",
   "name": "python",
   "nbconvert_exporter": "python",
   "pygments_lexer": "ipython3",
   "version": "3.10.5"
  }
 },
 "nbformat": 4,
 "nbformat_minor": 5
}
