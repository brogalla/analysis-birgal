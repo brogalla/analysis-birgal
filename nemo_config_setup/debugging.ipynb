{
 "cells": [
  {
   "cell_type": "markdown",
   "id": "48af752c-65ca-42c9-ae7c-0f4022b1fdd0",
   "metadata": {},
   "source": [
    "# Debugging instability new configuration"
   ]
  },
  {
   "cell_type": "code",
   "execution_count": 2,
   "id": "cd103b5c-3d55-4ec9-a76b-ec296adce33a",
   "metadata": {},
   "outputs": [],
   "source": [
    "import numpy as np\n",
    "import matplotlib.pyplot as plt\n",
    "import xarray as xr\n",
    "from xgcm import Grid\n",
    "import glob\n",
    "import netCDF4 as nc\n",
    "import sys\n",
    "import tqdm\n",
    "sys.path.append('/home/users/birgal/')\n",
    "from nemo_python.ics_obcs import vertical_edges"
   ]
  },
  {
   "cell_type": "code",
   "execution_count": 3,
   "id": "b7e8f52b-96fd-4e6b-95d0-773a2ccb20c5",
   "metadata": {},
   "outputs": [
    {
     "data": {
      "text/plain": [
       "'y2015m05d10'"
      ]
     },
     "execution_count": 3,
     "metadata": {},
     "output_type": "execute_result"
    }
   ],
   "source": [
    "file = 'ANHA12-EXH006_y2015m05d10_icemod.nc'\n",
    "file.split('ANHA12-EXH006_')[1].split('_')[0]"
   ]
  },
  {
   "cell_type": "markdown",
   "id": "1f9ddc09-e377-4815-b0dd-b4b0b9d64c28",
   "metadata": {},
   "source": [
    "### Vertical interpolation of initial conditions debugging and fixing"
   ]
  },
  {
   "cell_type": "code",
   "execution_count": 82,
   "id": "cd918abf-ec0c-4f6c-94ce-e4d7484eb989",
   "metadata": {},
   "outputs": [],
   "source": [
    "def interp_depth(source, source_edges, nemo_edges, n):\n",
    "    # For a particular input nemo depth level, interpolate from source grid to nemo grid (conservatively nearest-neighbour)\n",
    "    \n",
    "    NEMO_top_edge = nemo_edges[0][n,:,:]; NEMO_bot_edge = nemo_edges[2][n,:,:];\n",
    "\n",
    "    dataset = xr.Dataset({}) #.assign_coords(x=source.x, y=source.y)\n",
    "\n",
    "    for var in source: # loop over the variables in the source dataset\n",
    "        # find the source edges that fall within the depth ranges of the NEMO grid cells:\n",
    "        # the weighting doesn't quite work right yet to make it conservative\n",
    "        Var_total = np.zeros(NEMO_top_edge.shape); \n",
    "        for zs in range(0,source.z.size):\n",
    "            src_top_edge = source_edges[0][zs,:,:]; src_bot_edge = source_edges[2][zs,:,:];\n",
    "\n",
    "            # NEMO cells that fall fully within the SOSE cell:\n",
    "            Var = xr.where((NEMO_top_edge >= src_top_edge)*(NEMO_bot_edge <= src_bot_edge), \\\n",
    "                           source.isel(z=zs)*(NEMO_bot_edge - NEMO_top_edge), 0)\n",
    "        \n",
    "            # NEMO cells that have an overlap at the bottom: \n",
    "            Var = xr.where((NEMO_top_edge <= src_bot_edge)*(NEMO_bot_edge >= src_bot_edge)*(NEMO_top_edge >= src_top_edge), \\\n",
    "                           source.isel(z=zs)*(src_bot_edge - NEMO_top_edge), Var)\n",
    "        \n",
    "            # NEMO cells that have an overlap at the top:\n",
    "            Var = xr.where((NEMO_top_edge < src_top_edge)*(NEMO_bot_edge >= src_top_edge)*(NEMO_bot_edge < src_bot_edge), \\\n",
    "                           source.isel(z=zs)*(NEMO_bot_edge - src_top_edge), Var)\n",
    "\n",
    "            # SOSE cell smaller than NEMO cell and fully encapsulated:\n",
    "            Var = xr.where((NEMO_top_edge <= src_bot_edge)*(NEMO_bot_edge >= src_bot_edge)*(NEMO_top_edge < src_top_edge)*(NEMO_bot_edge <= np.max(source_edges[2])), \\\n",
    "                           Var + source.isel(z=zs)*(src_bot_edge - src_top_edge), Var)\n",
    "\n",
    "            # NEMO cells that have an overlap at the top and then nothing below that (bottom):\n",
    "            # Var = xr.where((NEMO_top_edge <= src_bot_edge)*(NEMO_bot_edge >= src_bot_edge)*(NEMO_top_edge >= src_top_edge)*(NEMO_bot_edge > np.max(source_edges[2])), \\\n",
    "            #                source.isel(z=zs)*(NEMO_bot_edge - NEMO_top_edge), Var)\n",
    "            \n",
    "            # Cell at the bottom of each column:\n",
    "            # Var = xr.where((NEMO_top_edge < src_top_edge)*(NEMO_bot_edge >= src_bot_edge)*(NEMO_bot_edge > np.max(source_edges[2])),\\\n",
    "            #                Var + source.isel(z=zs)*(NEMO_bot_edge - src_bot_edge), Var)\n",
    "\n",
    "            Var_total += Var\n",
    "\n",
    "        Var_total = xr.where((NEMO_bot_edge > np.max(source_edges[2][~np.isnan(source[var])], axis=0)), \\\n",
    "                              np.nan, Var_total) \n",
    "        \n",
    "        Var_total = Var_total/(NEMO_bot_edge - NEMO_top_edge)\n",
    "        \n",
    "        dataset[var] = (('y', 'x'), Var_total[var].values)\n",
    "\n",
    "    return dataset"
   ]
  },
  {
   "cell_type": "code",
   "execution_count": 2,
   "id": "835d755e-ba7d-4670-b043-ce8579b9b507",
   "metadata": {},
   "outputs": [],
   "source": [
    "mesh = xr.open_dataset('/gws/nopw/j04/terrafirma/birgal/NEMO_AIS/bathymetry/mesh_mask-20231025-filledlakes.nc')"
   ]
  },
  {
   "cell_type": "code",
   "execution_count": 3,
   "id": "cc06e48c-0312-461b-8221-bc8bf3b76fb0",
   "metadata": {},
   "outputs": [],
   "source": [
    "hinterp_var = xr.open_dataset('/gws/nopw/j04/terrafirma/birgal/NEMO_AIS/initial-conditions/temp/SOSE-SALT-horizontal-interp.nc')"
   ]
  },
  {
   "cell_type": "code",
   "execution_count": 83,
   "id": "bd188d02-4333-41bb-85e1-71639adf6662",
   "metadata": {},
   "outputs": [
    {
     "name": "stderr",
     "output_type": "stream",
     "text": [
      "100%|██████████| 121/121 [06:24<00:00,  3.18s/it]\n"
     ]
    }
   ],
   "source": [
    "# source_coord = hinterp_var.assign(drF=(['z'], SOSE_coord.drF.values))\n",
    "# source_edges = vertical_edges(source_coord.isel(y=slice(300,440), x=slice(1000,1200)), mtype='SOSE')\n",
    "# nemo_edges   = vertical_edges(mesh.isel(y=slice(300,440), x=slice(1000,1200)), mtype='nemo')\n",
    "\n",
    "# model_ICs = []\n",
    "# for n in tqdm.tqdm(range(len(mesh.nav_lev.values))):\n",
    "#     data_interp = interp_depth(hinterp_var.isel(y=slice(300,440), x=slice(1000,1200)), source_edges, nemo_edges, n)        \n",
    "#     model_ICs.append(data_interp) # Add interpolated layers to dataset\n",
    "    \n",
    "# source_interp = xr.concat(model_ICs, dim='z') \n",
    "\n",
    "source_coord = hinterp_var.assign(drF=(['z'], SOSE_coord.drF.values))\n",
    "source_edges = vertical_edges(source_coord, mtype='SOSE')\n",
    "nemo_edges   = vertical_edges(mesh, mtype='nemo')\n",
    "\n",
    "model_ICs = []\n",
    "for n in tqdm.tqdm(range(len(mesh.nav_lev.values))):\n",
    "    data_interp = interp_depth(hinterp_var, source_edges, nemo_edges, n)        \n",
    "    model_ICs.append(data_interp) # Add interpolated layers to dataset\n",
    "    \n",
    "source_interp = xr.concat(model_ICs, dim='z') "
   ]
  },
  {
   "cell_type": "code",
   "execution_count": 73,
   "id": "9d025888-db74-41c1-8034-2bfa753f3477",
   "metadata": {},
   "outputs": [
    {
     "name": "stdout",
     "output_type": "stream",
     "text": [
      "<xarray.DataArray 'SALT' (z: 121)>\n",
      "array([33.06767194, 33.06767194, 33.06767194, 33.06858987, 33.07197466,\n",
      "       33.07197466, 33.07197466, 33.13876821, 33.14631419, 33.16406858,\n",
      "       33.36049098, 33.36049098, 33.6027692 , 33.72084527, 33.85694526,\n",
      "       34.03838852, 34.13610932, 34.24558511, 34.34640686, 34.40563475,\n",
      "       34.4692048 , 34.53439908, 34.5934818 , 34.64421567, 34.6893772 ,\n",
      "       34.7276658 , 34.75473484, 34.77629152, 34.79203111, 34.80298211,\n",
      "       34.81340547, 34.82390036, 34.83080079, 34.8374923 , 34.84504738,\n",
      "       34.85061897, 34.85477301, 34.85850699, 34.86188427, 34.86524653,\n",
      "       34.86577617, 34.86922225, 34.86923707, 34.87118096, 34.87220958,\n",
      "       34.87220958, 34.87438348, 34.87461434, 34.87461434, 34.8761725 ,\n",
      "       34.87640505, 34.87640505, 34.87735518, 34.87751728, 34.87751728,\n",
      "       34.87784799, 34.87800553, 34.87800553, 34.87800553, 34.87796363,\n",
      "       34.87790193, 34.87790193, 34.87790193, 34.87790193, 34.87790193,\n",
      "       34.87749534, 34.87723688, 34.87723688, 34.87723688, 34.87723688,\n",
      "       34.87708025, 34.87607097, 34.87607097, 34.87607097, 34.87607097,\n",
      "       34.87573687, 34.87449299, 34.87449299, 34.87449299, 34.87443119,\n",
      "       34.87254059, 34.87254059, 34.87254059, 34.87110457, 34.87026161,\n",
      "       34.87026161, 34.87026161, 34.86852059, 34.86773172, 34.86773172,\n",
      "       34.86773172, 34.86547353, 34.86511251, 34.86511251, 34.86261646,\n",
      "       34.86258246, 34.86096849, 34.86020138, 34.85895691, 34.85784679,\n",
      "       34.85780831, 34.85535799, 34.85535799, 34.8546054 , 34.85270297,\n",
      "       34.85270297, 34.85091642, 34.85023639, 34.84943918, 34.84809659,\n",
      "       34.84783172, 34.84638885, 34.84635481, 34.84528029, 34.84528029,\n",
      "       34.84439525, 34.84436985, 34.84365208, 34.84362167,         nan,\n",
      "               nan])\n",
      "Dimensions without coordinates: z\n",
      "<xarray.DataArray 'SALT' (z: 52)>\n",
      "array([nan, nan, nan, nan, nan, nan, nan, nan, nan, nan, nan, nan, nan, nan,\n",
      "       nan, nan, nan, nan, nan, nan, nan, nan, nan, nan, nan, nan, nan, nan,\n",
      "       nan, nan, nan, nan, nan, nan, nan, nan, nan, nan, nan, nan, nan, nan,\n",
      "       nan, nan, nan, nan, nan, nan, nan, nan, nan, nan])\n",
      "Coordinates:\n",
      "  * z        (z) float32 2.1 6.7 12.15 18.55 ... 4.6e+03 5e+03 5.4e+03 5.8e+03\n"
     ]
    }
   ],
   "source": [
    "# print(source_interp.SALT.sel(x=1050, y=382))\n",
    "# print(hinterp_var.SALT.sel(x=1050, y=382))\n",
    "print(source_interp.SALT.sel(x=50, y=82))\n",
    "print(hinterp_var.SALT.sel(x=50, y=82))\n",
    "# ---> the exception in this case occurs because the cell is only partially deeper than the deepest SOSE cell.\n",
    "# so, in that case, it should multiply by (NEMO_bot - NEMO_top) instead of the diff between SOSE and NEMO"
   ]
  },
  {
   "cell_type": "code",
   "execution_count": 78,
   "id": "d44942a6-5970-452b-9d91-68c717991c49",
   "metadata": {},
   "outputs": [
    {
     "data": {
      "text/plain": [
       "<matplotlib.legend.Legend at 0x7efcc7feb130>"
      ]
     },
     "execution_count": 78,
     "metadata": {},
     "output_type": "execute_result"
    },
    {
     "data": {
      "image/png": "[encoded data removed]",
      "text/plain": [
       "<Figure size 648x432 with 3 Axes>"
      ]
     },
     "metadata": {
      "needs_background": "light"
     },
     "output_type": "display_data"
    }
   ],
   "source": [
    "fig, ax = plt.subplots(1,3, figsize=(9,6))\n",
    "for axis in ax.ravel():\n",
    "    axis.invert_yaxis()\n",
    "    axis.plot(hinterp_var.SALT.sel(x=1050, y=383)  , SOSE_cent, label='original')\n",
    "    axis.plot(source_interp.SALT.sel(x=1050, y=383), NEMO_cent, label='interpolated')\n",
    "\n",
    "ax[1].set_ylim(50,0)\n",
    "ax[2].set_xlim(34.8,34.85)\n",
    "ax[2].set_ylim(5800,5200)\n",
    "\n",
    "ax[2].legend(fontsize=15, frameon=False, loc=(1.05, 0.5))\n",
    "## temperature looks normal"
   ]
  },
  {
   "cell_type": "code",
   "execution_count": 79,
   "id": "f17783d4-cbdb-4ff0-afa9-6de565fb3010",
   "metadata": {},
   "outputs": [
    {
     "data": {
      "text/plain": [
       "(5800.0, 5200.0)"
      ]
     },
     "execution_count": 79,
     "metadata": {},
     "output_type": "execute_result"
    },
    {
     "data": {
      "image/png": "[encoded data removed]",
      "text/plain": [
       "<Figure size 648x432 with 3 Axes>"
      ]
     },
     "metadata": {
      "needs_background": "light"
     },
     "output_type": "display_data"
    }
   ],
   "source": [
    "fig, ax = plt.subplots(1,3, figsize=(9,6))\n",
    "for axis in ax.ravel():\n",
    "    axis.invert_yaxis()\n",
    "    y_coord = np.arange(360,400)\n",
    "    for yc in y_coord:\n",
    "        axis.plot(hinterp_var.SALT.sel(x=1050, y=yc)  , SOSE_cent) # original\n",
    "\n",
    "ax[1].set_ylim(50,0)\n",
    "ax[2].set_xlim(34.8,34.85)\n",
    "ax[2].set_ylim(5800,5200)\n",
    "\n",
    "# ax[2].legend(fontsize=15, frameon=False, loc=(1.05, 0.5))\n",
    "## temperature looks normal"
   ]
  },
  {
   "cell_type": "code",
   "execution_count": 85,
   "id": "86f51410-9026-496a-b561-014edd2e89f6",
   "metadata": {},
   "outputs": [
    {
     "data": {
      "text/plain": [
       "(5800.0, 5200.0)"
      ]
     },
     "execution_count": 85,
     "metadata": {},
     "output_type": "execute_result"
    },
    {
     "data": {
      "image/png": "[encoded data removed]",
      "text/plain": [
       "<Figure size 648x432 with 3 Axes>"
      ]
     },
     "metadata": {
      "needs_background": "light"
     },
     "output_type": "display_data"
    }
   ],
   "source": [
    "fig, ax = plt.subplots(1,3, figsize=(9,6))\n",
    "for axis in ax.ravel():\n",
    "    axis.invert_yaxis()\n",
    "    # for yc in np.arange(382, 383):\n",
    "    for yc in np.arange(320, 430):\n",
    "        axis.plot(source_interp.SALT.sel(x=1050, y=yc)  , NEMO_cent) # interpolated\n",
    "    # axis.plot(source_interp.SALT.sel(x=1050, y=382)  , NEMO_cent) # interpolated\n",
    "\n",
    "ax[1].set_ylim(50,0)\n",
    "ax[2].set_xlim(34.8,34.85)\n",
    "ax[2].set_ylim(5800,5200)\n",
    "\n",
    "# ax[2].legend(fontsize=15, frameon=False, loc=(1.05, 0.5))\n",
    "## temperature looks normal"
   ]
  },
  {
   "cell_type": "code",
   "execution_count": 81,
   "id": "a2ab5fef-e379-4de2-9d21-345e3c472980",
   "metadata": {},
   "outputs": [],
   "source": [
    "# Find vertical cell edges\n",
    "SOSE_coord      = xr.open_dataset('/gws/nopw/j04/terrafirma/birgal/NEMO_AIS/B-SOSE/climatology/SALT_climatology_m01.nc')\n",
    "SOSE_coord['Z'] = abs(SOSE_coord['Z'])\n",
    "SOSE_coord      = SOSE_coord.rename({'Z':'z'})\n",
    "(z_top_edge, z_centres, z_bot_edge)          = vertical_edges(SOSE_coord, mtype='SOSE')\n",
    "(nemo_top_edge, nemo_centres, nemo_bot_edge) = vertical_edges(mesh, mtype='nemo')"
   ]
  },
  {
   "cell_type": "markdown",
   "id": "99683337-6f6d-4b79-9aa5-afe448453afd",
   "metadata": {},
   "source": [
    "Let's focus the debugging/testing on cell x=1050, y=383:"
   ]
  },
  {
   "cell_type": "code",
   "execution_count": 8,
   "id": "d3eda966-3aee-4a8c-a02f-4cd7a0488b2b",
   "metadata": {},
   "outputs": [],
   "source": [
    "SOSE_top = z_top_edge[:,0,0]        ; SOSE_bot = z_bot_edge[:,0,0]; SOSE_cent = z_centres[:,0,0];\n",
    "NEMO_top = nemo_top_edge[:,382,1050]; NEMO_bot = nemo_bot_edge[:,411,1050]; NEMO_cent = nemo_centres[:,411,1050]"
   ]
  },
  {
   "cell_type": "code",
   "execution_count": 7,
   "id": "e1f756a3-2c69-4927-852f-eae1533cc8fb",
   "metadata": {},
   "outputs": [],
   "source": [
    "def plot_cond(ax, ind):\n",
    "    ax[0]. plot([0.5], SOSE_cent[ind], '.m', markersize=20)\n",
    "    \n",
    "    NEMO_plot1 = np.ma.masked_where(~((NEMO_top >= SOSE_top[ind])*(NEMO_bot <= SOSE_bot[ind])), NEMO_cent)\n",
    "    NEMO_plot2 = np.ma.masked_where(~((NEMO_top <= SOSE_bot[ind])*(NEMO_bot >= SOSE_bot[ind])), NEMO_cent)\n",
    "    NEMO_plot3 = np.ma.masked_where(~((NEMO_top < SOSE_top[ind])*(NEMO_bot >= SOSE_top[ind])*(NEMO_bot < SOSE_bot[ind])), NEMO_cent)\n",
    "    NEMO_plot4 = np.ma.masked_where(~((NEMO_top < SOSE_top[ind]) *(NEMO_top <= SOSE_bot[ind])*(NEMO_bot >= SOSE_bot[ind])), NEMO_cent)\n",
    "    ax[1].plot(0.5*np.ones(NEMO_cent.shape), NEMO_plot1, '.r', markersize=25);\n",
    "    ax[1].plot(0.5*np.ones(NEMO_cent.shape), NEMO_plot2, '.c', markersize=20);\n",
    "    ax[1].plot(0.5*np.ones(NEMO_cent.shape), NEMO_plot3, '.b', markersize=10);\n",
    "    ax[1].plot(0.5*np.ones(NEMO_cent.shape), NEMO_plot4, '.m', markersize=5);\n",
    "\n",
    "\n",
    "    return"
   ]
  },
  {
   "cell_type": "code",
   "execution_count": 487,
   "id": "bd244173-f287-41f8-b076-7ed6a6a67c4f",
   "metadata": {},
   "outputs": [],
   "source": [
    "# Mask depth levels that are deeper than the ocean depth in this location\n",
    "z_bot_edge[z_bot_edge > SOSE_coord.Depth.values] = np.nan\n",
    "# But, this won't quite work because I have the ocean depth levels from SOSE on tNEMO_cond6 = (NEMO_top > np.max(SOSE_bot[~np.isnan(hinterp_var.isel(x=1050, y=383).SALT)]))he SOSE grid, not on the horizontal NEMO grid\n",
    "# Instead should I just assume the whole cell was filled? Not quite conservative then..."
   ]
  },
  {
   "cell_type": "code",
   "execution_count": 39,
   "id": "a910a960-ce49-4dfb-ac45-e6d8c287e67d",
   "metadata": {},
   "outputs": [
    {
     "data": {
      "text/plain": [
       "Text(0.5, 1.0, 'NEMO')"
      ]
     },
     "execution_count": 39,
     "metadata": {},
     "output_type": "execute_result"
    },
    {
     "data": {
      "image/png": "[encoded data removed]",
      "text/plain": [
       "<Figure size 720x576 with 2 Axes>"
      ]
     },
     "metadata": {
      "needs_background": "light"
     },
     "output_type": "display_data"
    }
   ],
   "source": [
    "fig, ax = plt.subplots(1, 2, figsize=(10,8))\n",
    "for axis in ax.ravel():\n",
    "    axis.invert_yaxis()\n",
    "    axis.set_xlim(0, 1)\n",
    "    axis.set_ylim(6500, 5000)\n",
    "    \n",
    "# SOSE:\n",
    "[ax[0].plot([0, 1], [layer, layer], '--k', linewidth=0.4) for layer in SOSE_top]\n",
    "ax[0].plot([0, 1], [SOSE_bot[-1], SOSE_bot[-1]], '--k', linewidth=0.4)\n",
    "ax[0]. plot(0.5*np.ones(SOSE_cent.shape), SOSE_cent, '.k', markersize=10)\n",
    "ax[0].set_title('SOSE')\n",
    "ax[0].set_ylabel('Depth')\n",
    "\n",
    "# NEMO:\n",
    "[ax[1].plot([0, 1], [layer, layer], '--k', linewidth=0.4) for layer in NEMO_top]\n",
    "ax[1]. plot(0.5*np.ones(NEMO_cent.shape), NEMO_cent, '.k', markersize=10)\n",
    "ax[1].plot([0, 1], [NEMO_bot[-1], NEMO_bot[-1]], '--k', linewidth=0.4)\n",
    "\n",
    "ax[1].plot([-0.5],[-0.5], '.r', markersize=25, label='Full overlap');\n",
    "ax[1].plot([-0.5],[-0.5], '.c', markersize=20, label='Partial overlap at bottom with next SOSE grid cell');\n",
    "ax[1].plot([-0.5],[-0.5], '.b', markersize=10, label='Partial overlap with previous SOSE grid cell');\n",
    "\n",
    "for ind, cent in enumerate(SOSE_cent):\n",
    "    plot_cond(ax, ind)\n",
    "\n",
    "    NEMO_plot4 = np.ma.masked_where(~((SOSE_bot[ind] > np.max(NEMO_bot))*(SOSE_bot[ind] > NEMO_bot)*(SOSE_top[ind] < NEMO_top)), NEMO_cent)\n",
    "    ax[1].plot(0.5*np.ones(NEMO_cent.shape), NEMO_plot4, '.k', markersize=10);\n",
    "\n",
    "plot_cond(ax, 0)\n",
    "# plot_cond(ax, 1)\n",
    "ax[0].plot([0.75], [NEMO_cent[24]], '.k', markersize=20)\n",
    "\n",
    "ax[1].legend(loc=(1.05, 0.5), frameon=False, fontsize=15)\n",
    "ax[1].set_title('NEMO')"
   ]
  },
  {
   "cell_type": "code",
   "execution_count": 52,
   "id": "c7e74d1e-3087-4ea8-9a31-b647c0c80653",
   "metadata": {},
   "outputs": [
    {
     "name": "stdout",
     "output_type": "stream",
     "text": [
      "(5600.0, 6000.0)\n",
      "[34.84336293]\n",
      "[15.71815912         nan]\n",
      "(5595.5532510978765, 6003.539351044795) (6003.539351044795, 6411.525450991713)\n"
     ]
    }
   ],
   "source": [
    "print(*zip(SOSE_top[51:52], SOSE_bot[51:52]))\n",
    "print(hinterp_var.isel(z=slice(51,52), x=1050, y=382).SALT.values)\n",
    "print((Var_total/(NEMO_bot - NEMO_top))[-2:])\n",
    "print(*zip(NEMO_top[-2:], NEMO_bot[-2:]))"
   ]
  },
  {
   "cell_type": "code",
   "execution_count": 9,
   "id": "b1411380-b3f8-4c97-9228-78f76c1a2548",
   "metadata": {},
   "outputs": [
    {
     "name": "stdout",
     "output_type": "stream",
     "text": [
      "[33.21674541 33.21674541 33.21674541 33.21727983 33.21925043 33.21925043\n",
      " 33.21925043 33.22718741 33.22808409 33.23009594 33.25235368 33.25235368\n",
      " 33.32296126 33.35737238 33.4473403  33.56728206 33.67113092 33.78747194\n",
      " 33.92854679 34.01820034 34.1209398  34.22837884 34.32343816 34.40435146\n",
      " 34.47860953 34.54636579 34.59844348 34.64235103 34.67639215 34.70072428\n",
      " 34.72381682 34.7456195  34.75928586 34.77220374 34.78642069 34.79701274\n",
      " 34.8050807  34.81250887 34.81945195 34.82733463 34.82857635 34.83800271\n",
      " 34.83804325 34.84387084 34.84695455 34.84695455 34.85386606 34.85460003\n",
      " 34.85460003 34.85980709 34.86058423 34.86058423 34.86428708 34.86491885\n",
      " 34.86491885 34.86723025 34.86833139 34.86833139 34.86833139 34.8694341\n",
      " 34.87105805 34.87105805 34.87105805 34.87105805 34.87105805 34.87198921\n",
      " 34.87258113 34.87258113 34.87258113 34.87258113 34.87260781 34.87277973\n",
      " 34.87277973 34.87277973 34.87277973 34.87264778 34.87215655 34.87215655\n",
      " 34.87215655 34.87212139 34.87104583 34.87104583 34.87104583 34.87003778\n",
      " 34.86944605 34.86944605 34.86944605 34.86788102 34.86717188 34.86717188\n",
      " 34.86717188 34.86489191 34.86452741 34.86452741 34.86197768 34.86194294\n",
      " 34.86027916 34.85948838 34.85816616 34.85698667 34.8569444  34.85425248\n",
      " 34.85425248 34.85349963 34.85159654 34.85159654 34.85010777 34.84954109\n",
      " 34.84897843 34.84803086 34.84782214 34.84668517 34.84664103 34.84524781\n",
      " 34.84524781 34.84382493 34.84378409 34.84286025 34.84282111 34.84226554\n",
      "         nan]\n"
     ]
    }
   ],
   "source": [
    "Var_total = np.zeros(NEMO_top.shape)\n",
    "\n",
    "for ind in range(0,52):\n",
    "    SOSE_salt = hinterp_var.isel(z=ind, x=1050, y=411).SALT.values\n",
    "    \n",
    "    NEMO_cond1 = (NEMO_top >= SOSE_top[ind])*(NEMO_bot <= SOSE_bot[ind])\n",
    "    NEMO_cond2 = (NEMO_top <= SOSE_bot[ind])*(NEMO_bot >= SOSE_bot[ind])*(NEMO_top >= SOSE_top[ind])\n",
    "    NEMO_cond3 = (NEMO_top < SOSE_top[ind]) *(NEMO_bot >= SOSE_top[ind])*(NEMO_bot < SOSE_bot[ind]) \n",
    "    NEMO_cond4 = (NEMO_top < SOSE_top[ind]) *(NEMO_top <= SOSE_bot[ind])*(NEMO_bot >= SOSE_bot[ind])   \n",
    "    NEMO_cond5 = (NEMO_top < SOSE_top[ind]) *(NEMO_top <= SOSE_bot[ind])*(NEMO_bot >= SOSE_bot[ind])*(NEMO_bot > np.max(SOSE_bot)) # has overlap with bottom grid cell   \n",
    "    # NEMO_cond5 = (SOSE_bot[ind] > np.max(NEMO_bot, axis=0))*(SOSE_bot[ind] > NEMO_bot)*(SOSE_top[ind] < NEMO_top)\n",
    "    # if there is a nemo grid cell that is deeper than any SOSE grid cell, fill with NaN to be filled later by fill_ocean:\n",
    "    NEMO_cond6 = (NEMO_top > np.max(SOSE_bot[~np.isnan(hinterp_var.isel(x=1050, y=411).SALT)]))\n",
    "    \n",
    "    Var = xr.where(NEMO_cond1, SOSE_salt*(NEMO_bot - NEMO_top)     , 0)\n",
    "    Var = xr.where(NEMO_cond2, SOSE_salt*(SOSE_bot[ind] - NEMO_top), Var)\n",
    "    Var = xr.where(NEMO_cond3, SOSE_salt*(NEMO_bot - SOSE_top[ind]), Var) \n",
    "    Var = xr.where(NEMO_cond4, Var + SOSE_salt*(SOSE_bot[ind] - SOSE_top[ind]), Var) # full SOSE cell fits in NEMO cell that is bigger \n",
    "    Var = xr.where(NEMO_cond5, Var + SOSE_salt*(NEMO_bot - SOSE_bot[ind]), Var)\n",
    "    Var = xr.where(NEMO_cond6, np.nan, Var)\n",
    "    \n",
    "    Var_total += Var\n",
    "    \n",
    "print(Var_total/(NEMO_bot - NEMO_top))"
   ]
  },
  {
   "cell_type": "code",
   "execution_count": 59,
   "id": "85e47252-910b-4308-b539-f3f44b6495ec",
   "metadata": {},
   "outputs": [
    {
     "data": {
      "text/plain": [
       "[<matplotlib.lines.Line2D at 0x7f390d6eb070>]"
      ]
     },
     "execution_count": 59,
     "metadata": {},
     "output_type": "execute_result"
    },
    {
     "data": {
      "image/png": "[encoded data removed]",
      "text/plain": [
       "<Figure size 432x288 with 1 Axes>"
      ]
     },
     "metadata": {
      "needs_background": "light"
     },
     "output_type": "display_data"
    }
   ],
   "source": [
    "plt.plot(Var_total/(NEMO_bot - NEMO_top))"
   ]
  },
  {
   "cell_type": "code",
   "execution_count": null,
   "id": "41be621e-a140-4b72-9c0d-5a4b5b6d1839",
   "metadata": {},
   "outputs": [],
   "source": [
    "34.84379278"
   ]
  },
  {
   "cell_type": "code",
   "execution_count": 61,
   "id": "5132bd2e-9391-40e3-aa01-8e8f6df11725",
   "metadata": {},
   "outputs": [
    {
     "name": "stdout",
     "output_type": "stream",
     "text": [
      "Interpolated total 209184.53511951235\n",
      "Original total 209045.49686850328\n"
     ]
    }
   ],
   "source": [
    "print('Interpolated total', np.nansum((Var_total*mesh.e3t_0.isel(x=1050, y=382).values/(NEMO_bot - NEMO_top))))\n",
    "print('Original total', np.nansum(hinterp_var.SALT.isel(x=1050,y=382)*SOSE_coord.drF))\n",
    "# check if the difference is just because of my calculated edge locations"
   ]
  },
  {
   "cell_type": "code",
   "execution_count": 379,
   "id": "c5910f9d-9c42-4b25-b06d-5b959a6f8fe4",
   "metadata": {},
   "outputs": [
    {
     "name": "stdout",
     "output_type": "stream",
     "text": [
      "[548950.1277136]\n",
      "4374.368751608471 [125.49242162]\n"
     ]
    }
   ],
   "source": [
    "print((Var_total*mesh.e3t_0.isel(x=1050, y=383)).isel(nav_lev=100).values)\n",
    "print(Var_total[100], mesh.e3t_0.isel(x=1050, y=383).isel(nav_lev=100).values)"
   ]
  },
  {
   "cell_type": "code",
   "execution_count": 368,
   "id": "e6d236f8-f394-4a86-93b5-1cb716385a3f",
   "metadata": {},
   "outputs": [
    {
     "name": "stdout",
     "output_type": "stream",
     "text": [
      "5965.406081575895\n",
      "6000.0\n"
     ]
    }
   ],
   "source": [
    "print(np.nansum(mesh.e3t_0.isel(x=1050, y=383)))\n",
    "print(np.nansum(SOSE_coord.drF))"
   ]
  },
  {
   "cell_type": "code",
   "execution_count": null,
   "id": "b88b1bf1-5a8c-4af9-9127-9d7c91011179",
   "metadata": {},
   "outputs": [],
   "source": [
    "# Loop over source cells:\n",
    "for zs in range(0,source.z.size):\n",
    "    src_top_edge = source_edges[0][zs,:,:]; src_bot_edge = source_edges[2][zs,:,:];\n",
    "\n",
    "    # NEMO cells that fall fully within the SOSE cell:\n",
    "    Var = xr.where((NEMO_top_edge >= src_top_edge)*(NEMO_bot_edge <= src_bot_edge), \\\n",
    "                   Var + source.isel(z=zs)*(NEMO_bot_edge - NEMO_top_edge), Var)\n",
    "\n",
    "    # NEMO cells that have an overlap at the bottom:\n",
    "    Var = xr.where((NEMO_top_edge <= src_bot_edge)*(NEMO_bot_edge >= src_bot_edge), \\\n",
    "                   Var + source.isel(z=zs)*(src_bot_edge - NEMO_top_edge), Var)\n",
    "\n",
    "    # NEMO cells that have an overlap at the top:\n",
    "    Var = xr.where((NEMO_top_edge <= src_top_edge)*(NEMO_bot_edge >= src_top_edge)*(NEMO_bot_edge < src_bot_edge), \\\n",
    "                   Var + source.isel(z=zs)*(NEMO_bot_edge - src_top_edge), Var)\n",
    "\n",
    "    # Cell at the very bottom:\n",
    "    if (zs==(source.z.size-1)):\n",
    "        if src_bot_edge > np.max(NEMO_bot_edge): # source depth goes deeper than NEMO, so transfer variable to the above NEMO cell\n",
    "            Var = xr.where((src_bot_edge > NEMO_bot_edge)*(src_top_edge < NEMO_top_edge),  Var + source.isel(z=zs)*(src_bot_edge - NEMO_bot_edge), Var)\n",
    "\n",
    "    # find a test cell where this is the case:\n",
    "    # elif src_bot_edge < np.max(NEMO_bot_edge): # source depth is shallower than NEMO, so transfer variable to the below NEMO cell\n",
    "        #     Var = xr.where(,  Var + source.isel(z=zs)*(src_bot_edge - NEMO_bot_edge), Var)\n",
    "    # --> then, add the left over bit to the bottom nemo grid ceel"
   ]
  },
  {
   "cell_type": "markdown",
   "id": "0d7c289c-4ff2-48f9-b219-af5be0273e73",
   "metadata": {},
   "source": [
    "XC: 2015, YC: 323\n",
    "\n",
    "The original SOSE data at these profiles looks fine, so it is an issue with my vertical interpolation. I think that is because of the fill_bottom. Potentially I need to do fill bottom before the vertical interpolation instead of after"
   ]
  },
  {
   "cell_type": "code",
   "execution_count": 47,
   "id": "38cfabb1-9904-45ac-9a6b-e7ee6380e061",
   "metadata": {},
   "outputs": [
    {
     "name": "stdout",
     "output_type": "stream",
     "text": [
      "-24.5\n",
      "-59.896774\n",
      "---\n",
      "-24.25\n",
      "-59.896774\n"
     ]
    }
   ],
   "source": [
    "print(mesh.nav_lon.isel(x=1050,y=383).values)\n",
    "print(mesh.nav_lat.isel(x=1050,y=383).values)\n",
    "print('---')\n",
    "print(mesh.nav_lon.isel(x=1051,y=383).values)\n",
    "print(mesh.nav_lat.isel(x=1051,y=383).values)"
   ]
  },
  {
   "cell_type": "code",
   "execution_count": 29,
   "id": "0ea494d9-04da-4075-9c31-83e574190100",
   "metadata": {},
   "outputs": [
    {
     "data": {
      "text/plain": [
       "(5800.0, 5200.0)"
      ]
     },
     "execution_count": 29,
     "metadata": {},
     "output_type": "execute_result"
    },
    {
     "data": {
      "image/png": "[encoded data removed]",
      "text/plain": [
       "<Figure size 648x432 with 3 Axes>"
      ]
     },
     "metadata": {
      "needs_background": "light"
     },
     "output_type": "display_data"
    }
   ],
   "source": [
    "fig, ax = plt.subplots(1,3, figsize=(9,6))\n",
    "for axis in ax.ravel():\n",
    "    axis.invert_yaxis()\n",
    "    axis.plot(dss.SALT.sel(x=1050, y=383), mesh.nav_lev)\n",
    "    axis.plot(dss.SALT.sel(x=1051, y=383), mesh.nav_lev)\n",
    "\n",
    "ax[1].set_ylim(50,0)\n",
    "ax[2].set_xlim(34.8,34.85)\n",
    "ax[2].set_ylim(5800,5200)\n",
    "## temperature looks normal"
   ]
  },
  {
   "cell_type": "code",
   "execution_count": 34,
   "id": "c1fcd736-de4e-4dfb-8270-363df5819dec",
   "metadata": {},
   "outputs": [
    {
     "data": {
      "text/plain": [
       "(5800.0, 5200.0)"
      ]
     },
     "execution_count": 34,
     "metadata": {},
     "output_type": "execute_result"
    },
    {
     "data": {
      "image/png": "[encoded data removed]",
      "text/plain": [
       "<Figure size 648x432 with 3 Axes>"
      ]
     },
     "metadata": {
      "needs_background": "light"
     },
     "output_type": "display_data"
    }
   ],
   "source": [
    "fig, ax = plt.subplots(1,3, figsize=(9,6))\n",
    "for axis in ax.ravel():\n",
    "    axis.invert_yaxis()\n",
    "    axis.plot(dss.SALT.sel(x=1050, y=411), mesh.nav_lev)\n",
    "    axis.plot(dss.SALT.sel(x=1051, y=408), mesh.nav_lev)\n",
    "\n",
    "ax[1].set_ylim(50,0)\n",
    "ax[2].set_xlim(34.8,34.85)\n",
    "ax[2].set_ylim(5800,5200)\n",
    "## temperature looks normal"
   ]
  },
  {
   "cell_type": "markdown",
   "id": "c13e95ee-7aa1-4c2f-8801-b9ad9fd71b16",
   "metadata": {},
   "source": [
    "salinity = 34.541 at depth level > 110 (fresher water underneath saltier is causing the instability), initial condition profiles also look sort of steppy which doesn't quite seem right, probably because of my vertical interpolation method. Reconsider?\n",
    "--> consider using https://xgcm.readthedocs.io/en/latest/transform.html instead for vertical interpolation\n",
    "or especially for boundary conditions, could consider interpolating with cf along slices of x, z "
   ]
  },
  {
   "cell_type": "markdown",
   "id": "b26d86cb-3b9b-4800-bac4-c18abded58a1",
   "metadata": {},
   "source": [
    "First, test issue with initial conditions at the bottom and figure out whether it is because of:\n",
    "- copying the bottom grid cell over in step just after vertical interpolation\n",
    "- ocean_fill\n",
    "- or the last step where I fill any remaining empty cells (the cells that are filled are 318, 1350; 318, 1351)\n",
    "  \n",
    "by looking at the vertical-interp output netcdf and viewing the profiles at the problem grid location\n",
    "\n",
    "Then, fix the vertical interpolation method to be properly conservative."
   ]
  },
  {
   "cell_type": "code",
   "execution_count": 3,
   "id": "83ab36e5-640c-41dd-bdd8-147081048930",
   "metadata": {},
   "outputs": [],
   "source": [
    "def plot_bottom(dss, depths, title=''):\n",
    "\n",
    "    fig, ax = plt.subplots(1,2, figsize=(6,6))\n",
    "    for axis in ax.ravel():\n",
    "        axis.invert_yaxis()\n",
    "        axis.plot(dss.SALT.sel(x=1050, y=383), depths)\n",
    "        axis.plot(dss.SALT.sel(x=1051, y=383), depths)\n",
    "    \n",
    "    ax[1].set_xlim(34.5,35.2)\n",
    "    ax[1].set_ylim(5800,5200)\n",
    "    fig.suptitle(f'{title}')\n",
    "\n",
    "    return fig, ax"
   ]
  },
  {
   "cell_type": "code",
   "execution_count": 4,
   "id": "2b04a81b-6d14-40ef-b6cb-a46625ab28e8",
   "metadata": {},
   "outputs": [],
   "source": [
    "mesh = xr.open_dataset('/gws/nopw/j04/terrafirma/birgal/NEMO_AIS/bathymetry/domain_cfg-20231025-filledlakes.nc')"
   ]
  },
  {
   "cell_type": "code",
   "execution_count": 6,
   "id": "f04a99ea-c118-47c6-8eb5-c4f857ac3afe",
   "metadata": {},
   "outputs": [],
   "source": [
    "# no ocean fill, no copying over of grid cell:\n",
    "ds1 = xr.open_dataset('/gws/nopw/j04/terrafirma/birgal/NEMO_AIS/initial-conditions/temp/SOSE-SALT-test-vertical-interp.nc')\n",
    "# with ocean fill, no copying over of grid cell:\n",
    "ds2 = xr.open_dataset('/gws/nopw/j04/terrafirma/birgal/NEMO_AIS/initial-conditions/SOSE-SALT-test2-initial-conditions.nc')\n",
    "# with ocean fill, fill_val=34.85, no copying over of grid cell:\n",
    "# ds3 = xr.open_dataset('/gws/nopw/j04/terrafirma/birgal/NEMO_AIS/initial-conditions/SOSE-SALT-test3-initial-conditions.nc')\n",
    "# with ocean fill and copying over of grid cell:\n",
    "ds4 = xr.open_dataset('/gws/nopw/j04/terrafirma/birgal/NEMO_AIS/initial-conditions/SOSE-SALT-test4-initial-conditions.nc')"
   ]
  },
  {
   "cell_type": "code",
   "execution_count": null,
   "id": "aa46d39d-686f-4be9-bee4-666ede4ad635",
   "metadata": {},
   "outputs": [],
   "source": [
    "fig, ax = plot_bottom(ds1, mesh.nav_lev, title='No ocean fill, no bottom copy')"
   ]
  },
  {
   "cell_type": "code",
   "execution_count": null,
   "id": "a25fff2b-60c2-41de-bdce-4f2cf3b551dc",
   "metadata": {},
   "outputs": [],
   "source": [
    "fig, ax = plot_bottom(ds2, mesh.nav_lev, title='With ocean fill, no bottom copy, fill value is mean')"
   ]
  },
  {
   "cell_type": "code",
   "execution_count": null,
   "id": "b60ff6ff-e5da-45a8-9f59-153b03ea09fb",
   "metadata": {},
   "outputs": [],
   "source": [
    "fig, ax = plot_bottom(ds3, mesh.nav_lev, title='With ocean fill, no bottom copy, fill value is 34.85')\n",
    "ax[1].set_xlim(34.5,34.65)"
   ]
  },
  {
   "cell_type": "code",
   "execution_count": 8,
   "id": "549324ad-b63d-4616-9d3c-1364ce9a41ba",
   "metadata": {},
   "outputs": [
    {
     "data": {
      "text/plain": [
       "(<Figure size 432x432 with 2 Axes>,\n",
       " array([<AxesSubplot:>, <AxesSubplot:>], dtype=object))"
      ]
     },
     "execution_count": 8,
     "metadata": {},
     "output_type": "execute_result"
    },
    {
     "data": {
      "image/png": "[encoded data removed]",
      "text/plain": [
       "<Figure size 432x432 with 2 Axes>"
      ]
     },
     "metadata": {
      "needs_background": "light"
     },
     "output_type": "display_data"
    }
   ],
   "source": [
    "plot_bottom(ds4, mesh.nav_lev, title='With ocean fill, with bottom copy')"
   ]
  },
  {
   "cell_type": "markdown",
   "id": "5a8b42f1-37f6-44d7-8f13-2718df439a52",
   "metadata": {},
   "source": [
    "Next, improve the vertical interpolation"
   ]
  },
  {
   "cell_type": "code",
   "execution_count": 57,
   "id": "4afae431-b4b9-495a-88fe-23348b8742a7",
   "metadata": {},
   "outputs": [
    {
     "name": "stderr",
     "output_type": "stream",
     "text": [
      "/home/users/birgal/.conda/envs/jaspy3.10/lib/python3.10/site-packages/xgcm/grid.py:987: FutureWarning: From version 0.8.0 the Axis computation methods will be removed, in favour of using the Grid computation methods instead. i.e. use `Grid.transform` instead of `Axis.transform`\n",
      "  warnings.warn(\n",
      "/home/users/birgal/.conda/envs/jaspy3.10/lib/python3.10/site-packages/xgcm/transform.py:247: FutureWarning: ``output_sizes`` should be given in the ``dask_gufunc_kwargs`` parameter. It will be removed as direct parameter in a future version.\n",
      "  out = xr.apply_ufunc(\n"
     ]
    }
   ],
   "source": [
    "# Try vertical interpolation with xgcm: https://xgcm.readthedocs.io/en/latest/transform.html#Conservative-transformation\n",
    "\n",
    "# Find vertical cell edges\n",
    "SOSE_coord      = xr.open_dataset('/gws/nopw/j04/terrafirma/birgal/NEMO_AIS/B-SOSE/climatology/SALT_climatology_m01.nc')\n",
    "SOSE_coord['Z'] = abs(SOSE_coord['Z'])\n",
    "SOSE_coord      = SOSE_coord.rename({'Z':'z'})\n",
    "(z_top_edge, z_centres, z_bot_edge) = vertical_edges(SOSE_coord, mtype='SOSE')\n",
    "\n",
    "# step (1) --- make variable into an extensive (volume-weighted) property:\n",
    "dst = xr.open_dataset('/gws/nopw/j04/terrafirma/birgal/NEMO_AIS/initial-conditions/temp/SOSE-SALT-olddomain-horizontal-interp.nc')\n",
    "T2d = dst.copy()\n",
    "T2d['SALT'] = dst.SALT*SOSE_coord.drF\n",
    "T2d = T2d.assign_coords({'zc': np.insert(z_bot_edge[:,0,0], 0, 0., axis=0)})\n",
    "\n",
    "# step (2) --- recreate the grid object with a stagg~ered `center`/`outer` coordinate layout\n",
    "grid = Grid(T2d, coords={'Z':{'center':'z', 'outer':'zc'}}, periodic=False)\n",
    "# # grid_top_edge\n",
    "\n",
    "# step(3) --- interpolate salt to outer coordinate of grid object\n",
    "T2d['salt_outer'] = grid.interp(T2d.SALT, 'Z', boundary='fill')\n",
    "\n",
    "# step (4) --- transform the data using the conservative method.\n",
    "nemo_depths_target = mesh.nav_lev.values\n",
    "\n",
    "# and transform\n",
    "transformed_cons = grid.transform(T2d.SALT, 'Z', nemo_depths_target, method='conservative')#, target_data=T2d.salt_outer)"
   ]
  },
  {
   "cell_type": "code",
   "execution_count": 5,
   "id": "70a368c2-d47f-4b10-905c-fabfeb9e8f2f",
   "metadata": {},
   "outputs": [],
   "source": [
    "# new_ds = (transformed_cons).to_dataset()\n",
    "new_ds = (transformed_cons/ np.diff(nemo_depths_target)).to_dataset()"
   ]
  },
  {
   "cell_type": "code",
   "execution_count": 6,
   "id": "d2edd157-349c-4f34-9d3e-e00d6298dd15",
   "metadata": {},
   "outputs": [
    {
     "name": "stdout",
     "output_type": "stream",
     "text": [
      "191418.39623310522\n",
      "195111.56460502028\n"
     ]
    }
   ],
   "source": [
    "print(np.nansum(transformed_cons.sel(x=1050, y=383)))\n",
    "print(np.nansum(T2d['SALT'].sel(x=1050, y=383)))"
   ]
  },
  {
   "cell_type": "code",
   "execution_count": 57,
   "id": "12b9d767-4f44-406d-974e-5c4a5fb7398a",
   "metadata": {},
   "outputs": [
    {
     "data": {
      "text/plain": [
       "(200.0, 0.0)"
      ]
     },
     "execution_count": 57,
     "metadata": {},
     "output_type": "execute_result"
    },
    {
     "data": {
      "image/png": "[encoded data removed]",
      "text/plain": [
       "<Figure size 432x432 with 2 Axes>"
      ]
     },
     "metadata": {
      "needs_background": "light"
     },
     "output_type": "display_data"
    }
   ],
   "source": [
    "fig, ax = plot_bottom(dst, z_centres[:,0,0], title='Original SOSE salt profile')\n",
    "ax[0].set_ylim(200,0)"
   ]
  },
  {
   "cell_type": "code",
   "execution_count": 56,
   "id": "59d5cf69-473d-4a40-806d-dec604e2059f",
   "metadata": {},
   "outputs": [
    {
     "data": {
      "text/plain": [
       "(200.0, 0.0)"
      ]
     },
     "execution_count": 56,
     "metadata": {},
     "output_type": "execute_result"
    },
    {
     "data": {
      "image/png": "[encoded data removed]",
      "text/plain": [
       "<Figure size 432x432 with 2 Axes>"
      ]
     },
     "metadata": {
      "needs_background": "light"
     },
     "output_type": "display_data"
    }
   ],
   "source": [
    "fig, ax = plot_bottom(new_ds, nemo_depths_target[:-1], title='New interpolation SOSE salt profile')\n",
    "ax[0].set_ylim(200,0)"
   ]
  },
  {
   "cell_type": "markdown",
   "id": "8a21fb6a-ce1f-4540-a15b-103ce348c099",
   "metadata": {},
   "source": [
    "Try a simple scipy vertical 1d interpolation instead:"
   ]
  },
  {
   "cell_type": "code",
   "execution_count": 7,
   "id": "f3f5635b-ccbc-4e60-b7af-d02bb447b2ef",
   "metadata": {},
   "outputs": [],
   "source": [
    "from scipy.interpolate import interp1d"
   ]
  },
  {
   "cell_type": "code",
   "execution_count": 8,
   "id": "1deaabf3-6e57-40c6-9efd-64a8d21ee046",
   "metadata": {},
   "outputs": [],
   "source": [
    "f = interp1d(SOSE_coord.z, dst.SALT.values, axis=0, fill_value='extrapolate')\n",
    "ynew = f(mesh.nav_lev.values)  \n",
    "# plt.plot(x, y, 'o', xnew, ynew, '-')\n",
    "# plt.show()"
   ]
  },
  {
   "cell_type": "code",
   "execution_count": 14,
   "id": "66dbcfb5-ca19-4b48-9df3-3ed55a606d88",
   "metadata": {},
   "outputs": [
    {
     "name": "stdout",
     "output_type": "stream",
     "text": [
      "187908.55550413116\n",
      "195111.56460502028\n"
     ]
    }
   ],
   "source": [
    "print(np.nansum(ynew[:,383,1050]*mesh.e3t_0.isel(time_counter=0, y=383, x=1050).values))\n",
    "print(np.nansum(T2d['SALT'].sel(x=1050, y=383)))"
   ]
  },
  {
   "cell_type": "code",
   "execution_count": 16,
   "id": "e0437007-af6d-474a-a4ab-45260700ca1a",
   "metadata": {},
   "outputs": [
    {
     "data": {
      "text/plain": [
       "(5800.0, 5200.0)"
      ]
     },
     "execution_count": 16,
     "metadata": {},
     "output_type": "execute_result"
    },
    {
     "data": {
      "image/png": "[encoded data removed]",
      "text/plain": [
       "<Figure size 432x432 with 2 Axes>"
      ]
     },
     "metadata": {
      "needs_background": "light"
     },
     "output_type": "display_data"
    }
   ],
   "source": [
    "fig, ax = plt.subplots(1,2, figsize=(6,6))\n",
    "for axis in ax.ravel():\n",
    "    axis.invert_yaxis()\n",
    "    axis.plot(ynew[:,383,1050], mesh.nav_lev.values)\n",
    "    axis.plot(ynew[:,383,1051], mesh.nav_lev.values)\n",
    "        \n",
    "ax[1].set_xlim(34.5,35.2)\n",
    "ax[1].set_ylim(5800,5200)"
   ]
  },
  {
   "cell_type": "markdown",
   "id": "0e40b955-9c9d-427d-82fd-c267332a466d",
   "metadata": {},
   "source": [
    "### New domain 1ts based debugging\n",
    "\n",
    "Time step size: 100 s\n",
    "\n",
    "Error region:\n",
    "```\n",
    "   stp_ctl: |ssh| > 20 m  or  |U| > 10 m/s  or  S <= 0  or  S >= 100  or  NaN encounter in the tests\n",
    "\n",
    " kt 60 |ssh| max   4.662     at i j    340 395     MPI rank 568\n",
    " kt 60 |U|   max   10.06     at i j k 1050 383 120 MPI rank 596\n",
    " kt 60 Sal   min   25.86     at i j k 1052 406 120 MPI rank 655\n",
    " kt 60 Sal   max   35.36     at i j k  362 220  33 MPI rank 146\n",
    "```"
   ]
  },
  {
   "cell_type": "code",
   "execution_count": null,
   "id": "77dc9377-02f7-4b94-8966-c73c0b447404",
   "metadata": {},
   "outputs": [],
   "source": [
    "folder_1ts = '/gws/nopw/j04/terrafirma/birgal/NEMO_AIS/output/instability-1ts/'"
   ]
  },
  {
   "cell_type": "code",
   "execution_count": 4,
   "id": "2acdec88-8587-4091-ad03-10b3c580a352",
   "metadata": {},
   "outputs": [],
   "source": [
    "folder_1ts = '/gws/nopw/j04/terrafirma/birgal/NEMO_AIS/output/instability-1ts/'\n",
    "dfT = xr.open_dataset(f'{folder_1ts}eANT025.L121_1ts_19790101_19790128_grid_T_19790101010640-19790101013959.nc')\n",
    "# dfU = xr.open_dataset(f'{folder_1ts}eANT025.L121_1ts_19790101_19790128_grid_U_19790101010640-19790101013959.nc')\n",
    "# dfV = xr.open_dataset(f'{folder_1ts}eANT025.L121_1ts_19790101_19790128_grid_V_19790101010640-19790101013959.nc')\n",
    "# dfW = xr.open_dataset(f'{folder_1ts}eANT025.L121_1ts_19790101_19790128_grid_W_19790101010640-19790101013959.nc')"
   ]
  },
  {
   "cell_type": "markdown",
   "id": "d4a826b2-e03a-468d-ab72-69966aaa15bf",
   "metadata": {},
   "source": [
    "### New domain:"
   ]
  },
  {
   "cell_type": "code",
   "execution_count": 29,
   "id": "8a42be23-d654-4475-b879-77e0dd66dee7",
   "metadata": {},
   "outputs": [],
   "source": [
    "# fill NaN and small values in new initial conditions with zeros or 10\n",
    "IC_folder = '/gws/nopw/j04/terrafirma/birgal/NEMO_AIS/initial-conditions/'\n",
    "st        = xr.open_dataset(f'{IC_folder}SOSE-THETA-initial-conditions-20240123.nc')\n",
    "ss        = xr.open_dataset(f'{IC_folder}SOSE-SALT-initial-conditions-20240123.nc')\n",
    "st_new    = st.THETA.values[np.newaxis, ...]\n",
    "ss_new    = ss.SALT.values[np.newaxis, ...]\n",
    "# st_new[np.isnan(st_new)] =  0 #9999\n",
    "# ss_new[np.isnan(ss_new)] =  10 #9999\n",
    "# ss_new[ss_new==0]        =  10 #9999\n",
    "# ss_new[0,-1,:,:]         =  ss_new[0,-2,:,:]\n",
    "st_new[np.isnan(st_new)] =  9999\n",
    "ss_new[np.isnan(ss_new)] =  9999\n",
    "ss_new[ss_new==0]        =  9999\n",
    "st_new[(nemo_mask_ds.tmask.values == 0)] = 0\n",
    "ss_new[(nemo_mask_ds.tmask.values == 0)] = 0\n",
    "\n",
    "stn             = st.drop_vars(['THETA'])\n",
    "stn['votemper'] = ('time_counter','deptht','y','x'), st_new\n",
    "stn['vosaline'] = ('time_counter','deptht','y','x'), ss_new\n",
    "stn             = stn.assign_coords({'time_counter':xr.open_dataset(f'{IC_folder}istate_TS.nc').time_counter})\n",
    "# stn.to_netcdf(f'{IC_folder}SOSE_istate_TS_20240123.nc', unlimited_dims='time_counter')"
   ]
  },
  {
   "cell_type": "code",
   "execution_count": 9,
   "id": "8afc55ce-cba6-477f-add0-97404e26d6c6",
   "metadata": {},
   "outputs": [],
   "source": [
    "SOSE_interp   = xr.open_dataset(f'/gws/nopw/j04/terrafirma/birgal/NEMO_AIS/initial-conditions/temp/SOSE-SALT-test6-vertical-interp.nc')\n",
    "nemo_mask_ds  = xr.open_dataset(f'/gws/nopw/j04/terrafirma/birgal/NEMO_AIS/bathymetry/mesh_mask-20240123-filledlakes.nc')\n",
    "\n",
    "# SOSE_extended = fill_ocean(SOSE_interp, variable, nemo_mask_ds, dim=dimension, niter=num_iter, fill_val=fill_value)\n",
    "# def fill_ocean(input_dataset, variable, nemo_mask, missing_val=-9999, fill_val=np.nan, niter=100, dim='3D'):\n",
    "\n",
    "nemo_ocn = (nemo_mask_ds.tmask.isel(time_counter=0).values == 1)\n",
    "# Fill gaps in source dataset with nearest neighbour\n",
    "src_to_fill = xr.where(np.isnan(SOSE_interp.SALT.values)*nemo_ocn, -9999, SOSE_interp.SALT.values)\n",
    "\n",
    "# var_filled  = extend_into_mask(src_to_fill, missing_val=missing_val, fill_val=fill_val, use_2d=use_2d, use_3d=use_3d, num_iters=niter) \n",
    "\n",
    "# Remove any points with values that are actually in the land\n",
    "#     var_filled = xr.where(~nemo_ocn, np.nan, var_filled)\n",
    "    \n",
    "#     if dim=='3D':   input_dataset[variable] = (('z','y','x'), var_filled)"
   ]
  },
  {
   "cell_type": "code",
   "execution_count": 36,
   "id": "3962961f-8355-4433-99b5-50256a84c746",
   "metadata": {},
   "outputs": [
    {
     "data": {
      "text/html": [
       "<div><svg style=\"position: absolute; width: 0; height: 0; overflow: hidden\">\n",
       "<defs>\n",
       "<symbol id=\"icon-database\" viewBox=\"0 0 32 32\">\n",
       "<path d=\"M16 0c-8.837 0-16 2.239-16 5v4c0 2.761 7.163 5 16 5s16-2.239 16-5v-4c0-2.761-7.163-5-16-5z\"></path>\n",
       "<path d=\"M16 17c-8.837 0-16-2.239-16-5v6c0 2.761 7.163 5 16 5s16-2.239 16-5v-6c0 2.761-7.163 5-16 5z\"></path>\n",
       "<path d=\"M16 26c-8.837 0-16-2.239-16-5v6c0 2.761 7.163 5 16 5s16-2.239 16-5v-6c0 2.761-7.163 5-16 5z\"></path>\n",
       "</symbol>\n",
       "<symbol id=\"icon-file-text2\" viewBox=\"0 0 32 32\">\n",
       "<path d=\"M28.681 7.159c-0.694-0.947-1.662-2.053-2.724-3.116s-2.169-2.030-3.116-2.724c-1.612-1.182-2.393-1.319-2.841-1.319h-15.5c-1.378 0-2.5 1.121-2.5 2.5v27c0 1.378 1.122 2.5 2.5 2.5h23c1.378 0 2.5-1.122 2.5-2.5v-19.5c0-0.448-0.137-1.23-1.319-2.841zM24.543 5.457c0.959 0.959 1.712 1.825 2.268 2.543h-4.811v-4.811c0.718 0.556 1.584 1.309 2.543 2.268zM28 29.5c0 0.271-0.229 0.5-0.5 0.5h-23c-0.271 0-0.5-0.229-0.5-0.5v-27c0-0.271 0.229-0.5 0.5-0.5 0 0 15.499-0 15.5 0v7c0 0.552 0.448 1 1 1h7v19.5z\"></path>\n",
       "<path d=\"M23 26h-14c-0.552 0-1-0.448-1-1s0.448-1 1-1h14c0.552 0 1 0.448 1 1s-0.448 1-1 1z\"></path>\n",
       "<path d=\"M23 22h-14c-0.552 0-1-0.448-1-1s0.448-1 1-1h14c0.552 0 1 0.448 1 1s-0.448 1-1 1z\"></path>\n",
       "<path d=\"M23 18h-14c-0.552 0-1-0.448-1-1s0.448-1 1-1h14c0.552 0 1 0.448 1 1s-0.448 1-1 1z\"></path>\n",
       "</symbol>\n",
       "</defs>\n",
       "</svg>\n",
       "<style>/* CSS stylesheet for displaying xarray objects in jupyterlab.\n",
       " *\n",
       " */\n",
       "\n",
       ":root {\n",
       "  --xr-font-color0: var(--jp-content-font-color0, rgba(0, 0, 0, 1));\n",
       "  --xr-font-color2: var(--jp-content-font-color2, rgba(0, 0, 0, 0.54));\n",
       "  --xr-font-color3: var(--jp-content-font-color3, rgba(0, 0, 0, 0.38));\n",
       "  --xr-border-color: var(--jp-border-color2, #e0e0e0);\n",
       "  --xr-disabled-color: var(--jp-layout-color3, #bdbdbd);\n",
       "  --xr-background-color: var(--jp-layout-color0, white);\n",
       "  --xr-background-color-row-even: var(--jp-layout-color1, white);\n",
       "  --xr-background-color-row-odd: var(--jp-layout-color2, #eeeeee);\n",
       "}\n",
       "\n",
       "html[theme=dark],\n",
       "body.vscode-dark {\n",
       "  --xr-font-color0: rgba(255, 255, 255, 1);\n",
       "  --xr-font-color2: rgba(255, 255, 255, 0.54);\n",
       "  --xr-font-color3: rgba(255, 255, 255, 0.38);\n",
       "  --xr-border-color: #1F1F1F;\n",
       "  --xr-disabled-color: #515151;\n",
       "  --xr-background-color: #111111;\n",
       "  --xr-background-color-row-even: #111111;\n",
       "  --xr-background-color-row-odd: #313131;\n",
       "}\n",
       "\n",
       ".xr-wrap {\n",
       "  display: block !important;\n",
       "  min-width: 300px;\n",
       "  max-width: 700px;\n",
       "}\n",
       "\n",
       ".xr-text-repr-fallback {\n",
       "  /* fallback to plain text repr when CSS is not injected (untrusted notebook) */\n",
       "  display: none;\n",
       "}\n",
       "\n",
       ".xr-header {\n",
       "  padding-top: 6px;\n",
       "  padding-bottom: 6px;\n",
       "  margin-bottom: 4px;\n",
       "  border-bottom: solid 1px var(--xr-border-color);\n",
       "}\n",
       "\n",
       ".xr-header > div,\n",
       ".xr-header > ul {\n",
       "  display: inline;\n",
       "  margin-top: 0;\n",
       "  margin-bottom: 0;\n",
       "}\n",
       "\n",
       ".xr-obj-type,\n",
       ".xr-array-name {\n",
       "  margin-left: 2px;\n",
       "  margin-right: 10px;\n",
       "}\n",
       "\n",
       ".xr-obj-type {\n",
       "  color: var(--xr-font-color2);\n",
       "}\n",
       "\n",
       ".xr-sections {\n",
       "  padding-left: 0 !important;\n",
       "  display: grid;\n",
       "  grid-template-columns: 150px auto auto 1fr 20px 20px;\n",
       "}\n",
       "\n",
       ".xr-section-item {\n",
       "  display: contents;\n",
       "}\n",
       "\n",
       ".xr-section-item input {\n",
       "  display: none;\n",
       "}\n",
       "\n",
       ".xr-section-item input + label {\n",
       "  color: var(--xr-disabled-color);\n",
       "}\n",
       "\n",
       ".xr-section-item input:enabled + label {\n",
       "  cursor: pointer;\n",
       "  color: var(--xr-font-color2);\n",
       "}\n",
       "\n",
       ".xr-section-item input:enabled + label:hover {\n",
       "  color: var(--xr-font-color0);\n",
       "}\n",
       "\n",
       ".xr-section-summary {\n",
       "  grid-column: 1;\n",
       "  color: var(--xr-font-color2);\n",
       "  font-weight: 500;\n",
       "}\n",
       "\n",
       ".xr-section-summary > span {\n",
       "  display: inline-block;\n",
       "  padding-left: 0.5em;\n",
       "}\n",
       "\n",
       ".xr-section-summary-in:disabled + label {\n",
       "  color: var(--xr-font-color2);\n",
       "}\n",
       "\n",
       ".xr-section-summary-in + label:before {\n",
       "  display: inline-block;\n",
       "  content: '►';\n",
       "  font-size: 11px;\n",
       "  width: 15px;\n",
       "  text-align: center;\n",
       "}\n",
       "\n",
       ".xr-section-summary-in:disabled + label:before {\n",
       "  color: var(--xr-disabled-color);\n",
       "}\n",
       "\n",
       ".xr-section-summary-in:checked + label:before {\n",
       "  content: '▼';\n",
       "}\n",
       "\n",
       ".xr-section-summary-in:checked + label > span {\n",
       "  display: none;\n",
       "}\n",
       "\n",
       ".xr-section-summary,\n",
       ".xr-section-inline-details {\n",
       "  padding-top: 4px;\n",
       "  padding-bottom: 4px;\n",
       "}\n",
       "\n",
       ".xr-section-inline-details {\n",
       "  grid-column: 2 / -1;\n",
       "}\n",
       "\n",
       ".xr-section-details {\n",
       "  display: none;\n",
       "  grid-column: 1 / -1;\n",
       "  margin-bottom: 5px;\n",
       "}\n",
       "\n",
       ".xr-section-summary-in:checked ~ .xr-section-details {\n",
       "  display: contents;\n",
       "}\n",
       "\n",
       ".xr-array-wrap {\n",
       "  grid-column: 1 / -1;\n",
       "  display: grid;\n",
       "  grid-template-columns: 20px auto;\n",
       "}\n",
       "\n",
       ".xr-array-wrap > label {\n",
       "  grid-column: 1;\n",
       "  vertical-align: top;\n",
       "}\n",
       "\n",
       ".xr-preview {\n",
       "  color: var(--xr-font-color3);\n",
       "}\n",
       "\n",
       ".xr-array-preview,\n",
       ".xr-array-data {\n",
       "  padding: 0 5px !important;\n",
       "  grid-column: 2;\n",
       "}\n",
       "\n",
       ".xr-array-data,\n",
       ".xr-array-in:checked ~ .xr-array-preview {\n",
       "  display: none;\n",
       "}\n",
       "\n",
       ".xr-array-in:checked ~ .xr-array-data,\n",
       ".xr-array-preview {\n",
       "  display: inline-block;\n",
       "}\n",
       "\n",
       ".xr-dim-list {\n",
       "  display: inline-block !important;\n",
       "  list-style: none;\n",
       "  padding: 0 !important;\n",
       "  margin: 0;\n",
       "}\n",
       "\n",
       ".xr-dim-list li {\n",
       "  display: inline-block;\n",
       "  padding: 0;\n",
       "  margin: 0;\n",
       "}\n",
       "\n",
       ".xr-dim-list:before {\n",
       "  content: '(';\n",
       "}\n",
       "\n",
       ".xr-dim-list:after {\n",
       "  content: ')';\n",
       "}\n",
       "\n",
       ".xr-dim-list li:not(:last-child):after {\n",
       "  content: ',';\n",
       "  padding-right: 5px;\n",
       "}\n",
       "\n",
       ".xr-has-index {\n",
       "  font-weight: bold;\n",
       "}\n",
       "\n",
       ".xr-var-list,\n",
       ".xr-var-item {\n",
       "  display: contents;\n",
       "}\n",
       "\n",
       ".xr-var-item > div,\n",
       ".xr-var-item label,\n",
       ".xr-var-item > .xr-var-name span {\n",
       "  background-color: var(--xr-background-color-row-even);\n",
       "  margin-bottom: 0;\n",
       "}\n",
       "\n",
       ".xr-var-item > .xr-var-name:hover span {\n",
       "  padding-right: 5px;\n",
       "}\n",
       "\n",
       ".xr-var-list > li:nth-child(odd) > div,\n",
       ".xr-var-list > li:nth-child(odd) > label,\n",
       ".xr-var-list > li:nth-child(odd) > .xr-var-name span {\n",
       "  background-color: var(--xr-background-color-row-odd);\n",
       "}\n",
       "\n",
       ".xr-var-name {\n",
       "  grid-column: 1;\n",
       "}\n",
       "\n",
       ".xr-var-dims {\n",
       "  grid-column: 2;\n",
       "}\n",
       "\n",
       ".xr-var-dtype {\n",
       "  grid-column: 3;\n",
       "  text-align: right;\n",
       "  color: var(--xr-font-color2);\n",
       "}\n",
       "\n",
       ".xr-var-preview {\n",
       "  grid-column: 4;\n",
       "}\n",
       "\n",
       ".xr-var-name,\n",
       ".xr-var-dims,\n",
       ".xr-var-dtype,\n",
       ".xr-preview,\n",
       ".xr-attrs dt {\n",
       "  white-space: nowrap;\n",
       "  overflow: hidden;\n",
       "  text-overflow: ellipsis;\n",
       "  padding-right: 10px;\n",
       "}\n",
       "\n",
       ".xr-var-name:hover,\n",
       ".xr-var-dims:hover,\n",
       ".xr-var-dtype:hover,\n",
       ".xr-attrs dt:hover {\n",
       "  overflow: visible;\n",
       "  width: auto;\n",
       "  z-index: 1;\n",
       "}\n",
       "\n",
       ".xr-var-attrs,\n",
       ".xr-var-data {\n",
       "  display: none;\n",
       "  background-color: var(--xr-background-color) !important;\n",
       "  padding-bottom: 5px !important;\n",
       "}\n",
       "\n",
       ".xr-var-attrs-in:checked ~ .xr-var-attrs,\n",
       ".xr-var-data-in:checked ~ .xr-var-data {\n",
       "  display: block;\n",
       "}\n",
       "\n",
       ".xr-var-data > table {\n",
       "  float: right;\n",
       "}\n",
       "\n",
       ".xr-var-name span,\n",
       ".xr-var-data,\n",
       ".xr-attrs {\n",
       "  padding-left: 25px !important;\n",
       "}\n",
       "\n",
       ".xr-attrs,\n",
       ".xr-var-attrs,\n",
       ".xr-var-data {\n",
       "  grid-column: 1 / -1;\n",
       "}\n",
       "\n",
       "dl.xr-attrs {\n",
       "  padding: 0;\n",
       "  margin: 0;\n",
       "  display: grid;\n",
       "  grid-template-columns: 125px auto;\n",
       "}\n",
       "\n",
       ".xr-attrs dt,\n",
       ".xr-attrs dd {\n",
       "  padding: 0;\n",
       "  margin: 0;\n",
       "  float: left;\n",
       "  padding-right: 10px;\n",
       "  width: auto;\n",
       "}\n",
       "\n",
       ".xr-attrs dt {\n",
       "  font-weight: normal;\n",
       "  grid-column: 1;\n",
       "}\n",
       "\n",
       ".xr-attrs dt:hover span {\n",
       "  display: inline-block;\n",
       "  background: var(--xr-background-color);\n",
       "  padding-right: 10px;\n",
       "}\n",
       "\n",
       ".xr-attrs dd {\n",
       "  grid-column: 2;\n",
       "  white-space: pre-wrap;\n",
       "  word-break: break-all;\n",
       "}\n",
       "\n",
       ".xr-icon-database,\n",
       ".xr-icon-file-text2 {\n",
       "  display: inline-block;\n",
       "  vertical-align: middle;\n",
       "  width: 1em;\n",
       "  height: 1.5em !important;\n",
       "  stroke-width: 0;\n",
       "  stroke: currentColor;\n",
       "  fill: currentColor;\n",
       "}\n",
       "</style><pre class='xr-text-repr-fallback'>&lt;xarray.DataArray &#x27;tmask&#x27; (y: 453, x: 1440)&gt;\n",
       "[652320 values with dtype=int8]\n",
       "Coordinates:\n",
       "    nav_lev       float32 5.902e+03\n",
       "    time_counter  float32 0.0\n",
       "Dimensions without coordinates: y, x</pre><div class='xr-wrap' style='display:none'><div class='xr-header'><div class='xr-obj-type'>xarray.DataArray</div><div class='xr-array-name'>'tmask'</div><ul class='xr-dim-list'><li><span>y</span>: 453</li><li><span>x</span>: 1440</li></ul></div><ul class='xr-sections'><li class='xr-section-item'><div class='xr-array-wrap'><input id='section-7ff2e2af-5796-447b-8809-62b94783dc9c' class='xr-array-in' type='checkbox' checked><label for='section-7ff2e2af-5796-447b-8809-62b94783dc9c' title='Show/hide data repr'><svg class='icon xr-icon-database'><use xlink:href='#icon-database'></use></svg></label><div class='xr-array-preview xr-preview'><span>...</span></div><div class='xr-array-data'><pre>[652320 values with dtype=int8]</pre></div></div></li><li class='xr-section-item'><input id='section-e5a8a19d-2597-4b70-8bdb-6a54ed2bf8f8' class='xr-section-summary-in' type='checkbox'  checked><label for='section-e5a8a19d-2597-4b70-8bdb-6a54ed2bf8f8' class='xr-section-summary' >Coordinates: <span>(2)</span></label><div class='xr-section-inline-details'></div><div class='xr-section-details'><ul class='xr-var-list'><li class='xr-var-item'><div class='xr-var-name'><span>nav_lev</span></div><div class='xr-var-dims'>()</div><div class='xr-var-dtype'>float32</div><div class='xr-var-preview xr-preview'>5.902e+03</div><input id='attrs-dc5e1b53-db13-4f52-bab1-69cdd8b6c95c' class='xr-var-attrs-in' type='checkbox' disabled><label for='attrs-dc5e1b53-db13-4f52-bab1-69cdd8b6c95c' title='Show/Hide attributes'><svg class='icon xr-icon-file-text2'><use xlink:href='#icon-file-text2'></use></svg></label><input id='data-db18dcc1-740a-4b32-a9e3-5bf337db7d7e' class='xr-var-data-in' type='checkbox'><label for='data-db18dcc1-740a-4b32-a9e3-5bf337db7d7e' title='Show/Hide data repr'><svg class='icon xr-icon-database'><use xlink:href='#icon-database'></use></svg></label><div class='xr-var-attrs'><dl class='xr-attrs'></dl></div><div class='xr-var-data'><pre>array(5902.4194, dtype=float32)</pre></div></li><li class='xr-var-item'><div class='xr-var-name'><span>time_counter</span></div><div class='xr-var-dims'>()</div><div class='xr-var-dtype'>float32</div><div class='xr-var-preview xr-preview'>0.0</div><input id='attrs-62247fab-8c67-4b30-bb71-e71ed74a5b5e' class='xr-var-attrs-in' type='checkbox' disabled><label for='attrs-62247fab-8c67-4b30-bb71-e71ed74a5b5e' title='Show/Hide attributes'><svg class='icon xr-icon-file-text2'><use xlink:href='#icon-file-text2'></use></svg></label><input id='data-bc95d512-e492-46b2-a3bd-762d3639510a' class='xr-var-data-in' type='checkbox'><label for='data-bc95d512-e492-46b2-a3bd-762d3639510a' title='Show/Hide data repr'><svg class='icon xr-icon-database'><use xlink:href='#icon-database'></use></svg></label><div class='xr-var-attrs'><dl class='xr-attrs'></dl></div><div class='xr-var-data'><pre>array(0., dtype=float32)</pre></div></li></ul></div></li><li class='xr-section-item'><input id='section-0227249b-e1f7-4e08-b541-105e4d569e15' class='xr-section-summary-in' type='checkbox' disabled ><label for='section-0227249b-e1f7-4e08-b541-105e4d569e15' class='xr-section-summary'  title='Expand/collapse section'>Attributes: <span>(0)</span></label><div class='xr-section-inline-details'></div><div class='xr-section-details'><dl class='xr-attrs'></dl></div></li></ul></div></div>"
      ],
      "text/plain": [
       "<xarray.DataArray 'tmask' (y: 453, x: 1440)>\n",
       "[652320 values with dtype=int8]\n",
       "Coordinates:\n",
       "    nav_lev       float32 5.902e+03\n",
       "    time_counter  float32 0.0\n",
       "Dimensions without coordinates: y, x"
      ]
     },
     "execution_count": 36,
     "metadata": {},
     "output_type": "execute_result"
    }
   ],
   "source": [
    "nemo_mask_ds.tmask.isel(time_counter=0, nav_lev=120)"
   ]
  },
  {
   "cell_type": "code",
   "execution_count": 41,
   "id": "6b16fb3c-2c73-4f1f-8f6b-5fe7c3c48b6e",
   "metadata": {},
   "outputs": [
    {
     "data": {
      "text/html": [
       "<div><svg style=\"position: absolute; width: 0; height: 0; overflow: hidden\">\n",
       "<defs>\n",
       "<symbol id=\"icon-database\" viewBox=\"0 0 32 32\">\n",
       "<path d=\"M16 0c-8.837 0-16 2.239-16 5v4c0 2.761 7.163 5 16 5s16-2.239 16-5v-4c0-2.761-7.163-5-16-5z\"></path>\n",
       "<path d=\"M16 17c-8.837 0-16-2.239-16-5v6c0 2.761 7.163 5 16 5s16-2.239 16-5v-6c0 2.761-7.163 5-16 5z\"></path>\n",
       "<path d=\"M16 26c-8.837 0-16-2.239-16-5v6c0 2.761 7.163 5 16 5s16-2.239 16-5v-6c0 2.761-7.163 5-16 5z\"></path>\n",
       "</symbol>\n",
       "<symbol id=\"icon-file-text2\" viewBox=\"0 0 32 32\">\n",
       "<path d=\"M28.681 7.159c-0.694-0.947-1.662-2.053-2.724-3.116s-2.169-2.030-3.116-2.724c-1.612-1.182-2.393-1.319-2.841-1.319h-15.5c-1.378 0-2.5 1.121-2.5 2.5v27c0 1.378 1.122 2.5 2.5 2.5h23c1.378 0 2.5-1.122 2.5-2.5v-19.5c0-0.448-0.137-1.23-1.319-2.841zM24.543 5.457c0.959 0.959 1.712 1.825 2.268 2.543h-4.811v-4.811c0.718 0.556 1.584 1.309 2.543 2.268zM28 29.5c0 0.271-0.229 0.5-0.5 0.5h-23c-0.271 0-0.5-0.229-0.5-0.5v-27c0-0.271 0.229-0.5 0.5-0.5 0 0 15.499-0 15.5 0v7c0 0.552 0.448 1 1 1h7v19.5z\"></path>\n",
       "<path d=\"M23 26h-14c-0.552 0-1-0.448-1-1s0.448-1 1-1h14c0.552 0 1 0.448 1 1s-0.448 1-1 1z\"></path>\n",
       "<path d=\"M23 22h-14c-0.552 0-1-0.448-1-1s0.448-1 1-1h14c0.552 0 1 0.448 1 1s-0.448 1-1 1z\"></path>\n",
       "<path d=\"M23 18h-14c-0.552 0-1-0.448-1-1s0.448-1 1-1h14c0.552 0 1 0.448 1 1s-0.448 1-1 1z\"></path>\n",
       "</symbol>\n",
       "</defs>\n",
       "</svg>\n",
       "<style>/* CSS stylesheet for displaying xarray objects in jupyterlab.\n",
       " *\n",
       " */\n",
       "\n",
       ":root {\n",
       "  --xr-font-color0: var(--jp-content-font-color0, rgba(0, 0, 0, 1));\n",
       "  --xr-font-color2: var(--jp-content-font-color2, rgba(0, 0, 0, 0.54));\n",
       "  --xr-font-color3: var(--jp-content-font-color3, rgba(0, 0, 0, 0.38));\n",
       "  --xr-border-color: var(--jp-border-color2, #e0e0e0);\n",
       "  --xr-disabled-color: var(--jp-layout-color3, #bdbdbd);\n",
       "  --xr-background-color: var(--jp-layout-color0, white);\n",
       "  --xr-background-color-row-even: var(--jp-layout-color1, white);\n",
       "  --xr-background-color-row-odd: var(--jp-layout-color2, #eeeeee);\n",
       "}\n",
       "\n",
       "html[theme=dark],\n",
       "body.vscode-dark {\n",
       "  --xr-font-color0: rgba(255, 255, 255, 1);\n",
       "  --xr-font-color2: rgba(255, 255, 255, 0.54);\n",
       "  --xr-font-color3: rgba(255, 255, 255, 0.38);\n",
       "  --xr-border-color: #1F1F1F;\n",
       "  --xr-disabled-color: #515151;\n",
       "  --xr-background-color: #111111;\n",
       "  --xr-background-color-row-even: #111111;\n",
       "  --xr-background-color-row-odd: #313131;\n",
       "}\n",
       "\n",
       ".xr-wrap {\n",
       "  display: block !important;\n",
       "  min-width: 300px;\n",
       "  max-width: 700px;\n",
       "}\n",
       "\n",
       ".xr-text-repr-fallback {\n",
       "  /* fallback to plain text repr when CSS is not injected (untrusted notebook) */\n",
       "  display: none;\n",
       "}\n",
       "\n",
       ".xr-header {\n",
       "  padding-top: 6px;\n",
       "  padding-bottom: 6px;\n",
       "  margin-bottom: 4px;\n",
       "  border-bottom: solid 1px var(--xr-border-color);\n",
       "}\n",
       "\n",
       ".xr-header > div,\n",
       ".xr-header > ul {\n",
       "  display: inline;\n",
       "  margin-top: 0;\n",
       "  margin-bottom: 0;\n",
       "}\n",
       "\n",
       ".xr-obj-type,\n",
       ".xr-array-name {\n",
       "  margin-left: 2px;\n",
       "  margin-right: 10px;\n",
       "}\n",
       "\n",
       ".xr-obj-type {\n",
       "  color: var(--xr-font-color2);\n",
       "}\n",
       "\n",
       ".xr-sections {\n",
       "  padding-left: 0 !important;\n",
       "  display: grid;\n",
       "  grid-template-columns: 150px auto auto 1fr 20px 20px;\n",
       "}\n",
       "\n",
       ".xr-section-item {\n",
       "  display: contents;\n",
       "}\n",
       "\n",
       ".xr-section-item input {\n",
       "  display: none;\n",
       "}\n",
       "\n",
       ".xr-section-item input + label {\n",
       "  color: var(--xr-disabled-color);\n",
       "}\n",
       "\n",
       ".xr-section-item input:enabled + label {\n",
       "  cursor: pointer;\n",
       "  color: var(--xr-font-color2);\n",
       "}\n",
       "\n",
       ".xr-section-item input:enabled + label:hover {\n",
       "  color: var(--xr-font-color0);\n",
       "}\n",
       "\n",
       ".xr-section-summary {\n",
       "  grid-column: 1;\n",
       "  color: var(--xr-font-color2);\n",
       "  font-weight: 500;\n",
       "}\n",
       "\n",
       ".xr-section-summary > span {\n",
       "  display: inline-block;\n",
       "  padding-left: 0.5em;\n",
       "}\n",
       "\n",
       ".xr-section-summary-in:disabled + label {\n",
       "  color: var(--xr-font-color2);\n",
       "}\n",
       "\n",
       ".xr-section-summary-in + label:before {\n",
       "  display: inline-block;\n",
       "  content: '►';\n",
       "  font-size: 11px;\n",
       "  width: 15px;\n",
       "  text-align: center;\n",
       "}\n",
       "\n",
       ".xr-section-summary-in:disabled + label:before {\n",
       "  color: var(--xr-disabled-color);\n",
       "}\n",
       "\n",
       ".xr-section-summary-in:checked + label:before {\n",
       "  content: '▼';\n",
       "}\n",
       "\n",
       ".xr-section-summary-in:checked + label > span {\n",
       "  display: none;\n",
       "}\n",
       "\n",
       ".xr-section-summary,\n",
       ".xr-section-inline-details {\n",
       "  padding-top: 4px;\n",
       "  padding-bottom: 4px;\n",
       "}\n",
       "\n",
       ".xr-section-inline-details {\n",
       "  grid-column: 2 / -1;\n",
       "}\n",
       "\n",
       ".xr-section-details {\n",
       "  display: none;\n",
       "  grid-column: 1 / -1;\n",
       "  margin-bottom: 5px;\n",
       "}\n",
       "\n",
       ".xr-section-summary-in:checked ~ .xr-section-details {\n",
       "  display: contents;\n",
       "}\n",
       "\n",
       ".xr-array-wrap {\n",
       "  grid-column: 1 / -1;\n",
       "  display: grid;\n",
       "  grid-template-columns: 20px auto;\n",
       "}\n",
       "\n",
       ".xr-array-wrap > label {\n",
       "  grid-column: 1;\n",
       "  vertical-align: top;\n",
       "}\n",
       "\n",
       ".xr-preview {\n",
       "  color: var(--xr-font-color3);\n",
       "}\n",
       "\n",
       ".xr-array-preview,\n",
       ".xr-array-data {\n",
       "  padding: 0 5px !important;\n",
       "  grid-column: 2;\n",
       "}\n",
       "\n",
       ".xr-array-data,\n",
       ".xr-array-in:checked ~ .xr-array-preview {\n",
       "  display: none;\n",
       "}\n",
       "\n",
       ".xr-array-in:checked ~ .xr-array-data,\n",
       ".xr-array-preview {\n",
       "  display: inline-block;\n",
       "}\n",
       "\n",
       ".xr-dim-list {\n",
       "  display: inline-block !important;\n",
       "  list-style: none;\n",
       "  padding: 0 !important;\n",
       "  margin: 0;\n",
       "}\n",
       "\n",
       ".xr-dim-list li {\n",
       "  display: inline-block;\n",
       "  padding: 0;\n",
       "  margin: 0;\n",
       "}\n",
       "\n",
       ".xr-dim-list:before {\n",
       "  content: '(';\n",
       "}\n",
       "\n",
       ".xr-dim-list:after {\n",
       "  content: ')';\n",
       "}\n",
       "\n",
       ".xr-dim-list li:not(:last-child):after {\n",
       "  content: ',';\n",
       "  padding-right: 5px;\n",
       "}\n",
       "\n",
       ".xr-has-index {\n",
       "  font-weight: bold;\n",
       "}\n",
       "\n",
       ".xr-var-list,\n",
       ".xr-var-item {\n",
       "  display: contents;\n",
       "}\n",
       "\n",
       ".xr-var-item > div,\n",
       ".xr-var-item label,\n",
       ".xr-var-item > .xr-var-name span {\n",
       "  background-color: var(--xr-background-color-row-even);\n",
       "  margin-bottom: 0;\n",
       "}\n",
       "\n",
       ".xr-var-item > .xr-var-name:hover span {\n",
       "  padding-right: 5px;\n",
       "}\n",
       "\n",
       ".xr-var-list > li:nth-child(odd) > div,\n",
       ".xr-var-list > li:nth-child(odd) > label,\n",
       ".xr-var-list > li:nth-child(odd) > .xr-var-name span {\n",
       "  background-color: var(--xr-background-color-row-odd);\n",
       "}\n",
       "\n",
       ".xr-var-name {\n",
       "  grid-column: 1;\n",
       "}\n",
       "\n",
       ".xr-var-dims {\n",
       "  grid-column: 2;\n",
       "}\n",
       "\n",
       ".xr-var-dtype {\n",
       "  grid-column: 3;\n",
       "  text-align: right;\n",
       "  color: var(--xr-font-color2);\n",
       "}\n",
       "\n",
       ".xr-var-preview {\n",
       "  grid-column: 4;\n",
       "}\n",
       "\n",
       ".xr-var-name,\n",
       ".xr-var-dims,\n",
       ".xr-var-dtype,\n",
       ".xr-preview,\n",
       ".xr-attrs dt {\n",
       "  white-space: nowrap;\n",
       "  overflow: hidden;\n",
       "  text-overflow: ellipsis;\n",
       "  padding-right: 10px;\n",
       "}\n",
       "\n",
       ".xr-var-name:hover,\n",
       ".xr-var-dims:hover,\n",
       ".xr-var-dtype:hover,\n",
       ".xr-attrs dt:hover {\n",
       "  overflow: visible;\n",
       "  width: auto;\n",
       "  z-index: 1;\n",
       "}\n",
       "\n",
       ".xr-var-attrs,\n",
       ".xr-var-data {\n",
       "  display: none;\n",
       "  background-color: var(--xr-background-color) !important;\n",
       "  padding-bottom: 5px !important;\n",
       "}\n",
       "\n",
       ".xr-var-attrs-in:checked ~ .xr-var-attrs,\n",
       ".xr-var-data-in:checked ~ .xr-var-data {\n",
       "  display: block;\n",
       "}\n",
       "\n",
       ".xr-var-data > table {\n",
       "  float: right;\n",
       "}\n",
       "\n",
       ".xr-var-name span,\n",
       ".xr-var-data,\n",
       ".xr-attrs {\n",
       "  padding-left: 25px !important;\n",
       "}\n",
       "\n",
       ".xr-attrs,\n",
       ".xr-var-attrs,\n",
       ".xr-var-data {\n",
       "  grid-column: 1 / -1;\n",
       "}\n",
       "\n",
       "dl.xr-attrs {\n",
       "  padding: 0;\n",
       "  margin: 0;\n",
       "  display: grid;\n",
       "  grid-template-columns: 125px auto;\n",
       "}\n",
       "\n",
       ".xr-attrs dt,\n",
       ".xr-attrs dd {\n",
       "  padding: 0;\n",
       "  margin: 0;\n",
       "  float: left;\n",
       "  padding-right: 10px;\n",
       "  width: auto;\n",
       "}\n",
       "\n",
       ".xr-attrs dt {\n",
       "  font-weight: normal;\n",
       "  grid-column: 1;\n",
       "}\n",
       "\n",
       ".xr-attrs dt:hover span {\n",
       "  display: inline-block;\n",
       "  background: var(--xr-background-color);\n",
       "  padding-right: 10px;\n",
       "}\n",
       "\n",
       ".xr-attrs dd {\n",
       "  grid-column: 2;\n",
       "  white-space: pre-wrap;\n",
       "  word-break: break-all;\n",
       "}\n",
       "\n",
       ".xr-icon-database,\n",
       ".xr-icon-file-text2 {\n",
       "  display: inline-block;\n",
       "  vertical-align: middle;\n",
       "  width: 1em;\n",
       "  height: 1.5em !important;\n",
       "  stroke-width: 0;\n",
       "  stroke: currentColor;\n",
       "  fill: currentColor;\n",
       "}\n",
       "</style><pre class='xr-text-repr-fallback'>&lt;xarray.DataArray &#x27;nav_lev&#x27; ()&gt;\n",
       "array(5902.4194, dtype=float32)\n",
       "Coordinates:\n",
       "    nav_lev  float32 5.902e+03</pre><div class='xr-wrap' style='display:none'><div class='xr-header'><div class='xr-obj-type'>xarray.DataArray</div><div class='xr-array-name'>'nav_lev'</div></div><ul class='xr-sections'><li class='xr-section-item'><div class='xr-array-wrap'><input id='section-70a34152-229b-4c4e-b1e2-0ca4517ad023' class='xr-array-in' type='checkbox' checked><label for='section-70a34152-229b-4c4e-b1e2-0ca4517ad023' title='Show/hide data repr'><svg class='icon xr-icon-database'><use xlink:href='#icon-database'></use></svg></label><div class='xr-array-preview xr-preview'><span>5.902e+03</span></div><div class='xr-array-data'><pre>array(5902.4194, dtype=float32)</pre></div></div></li><li class='xr-section-item'><input id='section-eafb194b-b9df-46e5-b0ba-b414da22a34b' class='xr-section-summary-in' type='checkbox'  checked><label for='section-eafb194b-b9df-46e5-b0ba-b414da22a34b' class='xr-section-summary' >Coordinates: <span>(1)</span></label><div class='xr-section-inline-details'></div><div class='xr-section-details'><ul class='xr-var-list'><li class='xr-var-item'><div class='xr-var-name'><span>nav_lev</span></div><div class='xr-var-dims'>()</div><div class='xr-var-dtype'>float32</div><div class='xr-var-preview xr-preview'>5.902e+03</div><input id='attrs-00a67797-6fad-49c9-8fc9-b1a18c34c083' class='xr-var-attrs-in' type='checkbox' disabled><label for='attrs-00a67797-6fad-49c9-8fc9-b1a18c34c083' title='Show/Hide attributes'><svg class='icon xr-icon-file-text2'><use xlink:href='#icon-file-text2'></use></svg></label><input id='data-63304c6b-95c1-4cb0-bf89-bd1e7f3f7a0b' class='xr-var-data-in' type='checkbox'><label for='data-63304c6b-95c1-4cb0-bf89-bd1e7f3f7a0b' title='Show/Hide data repr'><svg class='icon xr-icon-database'><use xlink:href='#icon-database'></use></svg></label><div class='xr-var-attrs'><dl class='xr-attrs'></dl></div><div class='xr-var-data'><pre>array(5902.4194, dtype=float32)</pre></div></li></ul></div></li><li class='xr-section-item'><input id='section-383c4d03-b257-4b65-a1a5-167d293767f6' class='xr-section-summary-in' type='checkbox' disabled ><label for='section-383c4d03-b257-4b65-a1a5-167d293767f6' class='xr-section-summary'  title='Expand/collapse section'>Attributes: <span>(0)</span></label><div class='xr-section-inline-details'></div><div class='xr-section-details'><dl class='xr-attrs'></dl></div></li></ul></div></div>"
      ],
      "text/plain": [
       "<xarray.DataArray 'nav_lev' ()>\n",
       "array(5902.4194, dtype=float32)\n",
       "Coordinates:\n",
       "    nav_lev  float32 5.902e+03"
      ]
     },
     "execution_count": 41,
     "metadata": {},
     "output_type": "execute_result"
    }
   ],
   "source": [
    "nemo_mask_ds.nav_lev[-1]"
   ]
  },
  {
   "cell_type": "code",
   "execution_count": 39,
   "id": "0da994a6-f2bb-4f12-b0be-10a1ccd8ba12",
   "metadata": {},
   "outputs": [
    {
     "data": {
      "text/plain": [
       "array([ True,  True,  True,  True,  True,  True,  True,  True,  True,\n",
       "        True,  True,  True,  True,  True,  True,  True,  True,  True,\n",
       "        True,  True,  True,  True,  True,  True,  True,  True,  True,\n",
       "        True,  True,  True,  True,  True,  True,  True,  True,  True,\n",
       "        True,  True,  True,  True,  True,  True,  True,  True,  True,\n",
       "        True,  True,  True,  True,  True,  True,  True,  True,  True,\n",
       "        True,  True,  True,  True,  True,  True,  True,  True,  True,\n",
       "        True,  True,  True,  True,  True,  True,  True,  True,  True,\n",
       "        True,  True,  True,  True,  True,  True,  True,  True,  True,\n",
       "        True,  True,  True,  True,  True,  True,  True,  True,  True,\n",
       "        True,  True,  True,  True,  True,  True,  True,  True,  True,\n",
       "        True,  True,  True,  True,  True,  True,  True,  True,  True,\n",
       "        True,  True,  True,  True,  True,  True,  True,  True,  True,\n",
       "        True,  True,  True, False])"
      ]
     },
     "execution_count": 39,
     "metadata": {},
     "output_type": "execute_result"
    }
   ],
   "source": [
    "nemo_ocn[:,394,1054]"
   ]
  },
  {
   "cell_type": "code",
   "execution_count": 52,
   "id": "6eccdc92-e25e-4c71-ac36-a3e5c430dc1f",
   "metadata": {},
   "outputs": [
    {
     "data": {
      "text/plain": [
       "array([   33.11330993,    33.11330993,    33.11330993,    33.11383772,\n",
       "          33.1157839 ,    33.1157839 ,    33.1157839 ,    33.13089279,\n",
       "          33.13259971,    33.13967549,    33.21795705,    33.21795705,\n",
       "          33.3880647 ,    33.47096791,    33.60348268,    33.78014625,\n",
       "          33.89310268,    34.01964682,    34.14945957,    34.22781579,\n",
       "          34.31382237,    34.40169424,    34.48066055,    34.54961714,\n",
       "          34.61373072,    34.67160223,    34.71423993,    34.7473828 ,\n",
       "          34.77022786,    34.78538994,    34.79923614,    34.81210976,\n",
       "          34.82015449,    34.82774049,    34.83604306,    34.8422323 ,\n",
       "          34.84695489,    34.85129208,    34.85531625,    34.85954711,\n",
       "          34.86021357,    34.86472962,    34.86474904,    34.86731967,\n",
       "          34.86867993,    34.86867993,    34.87147427,    34.87177101,\n",
       "          34.87177101,    34.8736936 ,    34.87398054,    34.87398054,\n",
       "          34.87513786,    34.87533532,    34.87533532,    34.87579261,\n",
       "          34.87601047,    34.87601047,    34.87601047,    34.87603607,\n",
       "          34.87607376,    34.87607376,    34.87607376,    34.87607376,\n",
       "          34.87607376,    34.87570975,    34.87547835,    34.87547835,\n",
       "          34.87547835,    34.87547835,    34.8753228 ,    34.87432051,\n",
       "          34.87432051,    34.87432051,    34.87432051,    34.87399036,\n",
       "          34.8727612 ,    34.8727612 ,    34.8727612 ,    34.87270121,\n",
       "          34.87086603,    34.87086603,    34.87086603,    34.86947999,\n",
       "          34.86866637,    34.86866637,    34.86866637,    34.86696355,\n",
       "          34.86619198,    34.86619198,    34.86619198,    34.86392661,\n",
       "          34.86356444,    34.86356444,    34.86105845,    34.86102432,\n",
       "          34.85942213,    34.85866062,    34.85748515,    34.85643658,\n",
       "          34.85640464,    34.85437045,    34.85437045,    34.85381136,\n",
       "          34.85239806,    34.85239806,    34.85102592,    34.85050363,\n",
       "          34.84980426,    34.84862647,    34.84836447,    34.84693721,\n",
       "          34.84689106,    34.84543417,    34.84543417,    34.84424361,\n",
       "          34.84420945,    34.84343197,    34.84339904, -9999.        ,\n",
       "                  nan])"
      ]
     },
     "execution_count": 52,
     "metadata": {},
     "output_type": "execute_result"
    }
   ],
   "source": [
    "src_to_fill[:,394,1054]"
   ]
  },
  {
   "cell_type": "code",
   "execution_count": 21,
   "id": "042a74bc-9550-480e-9cfe-5780d490bfa0",
   "metadata": {},
   "outputs": [
    {
     "data": {
      "text/plain": [
       "array([33.11330993, 33.11330993, 33.11330993, 33.11383772, 33.1157839 ,\n",
       "       33.1157839 , 33.1157839 , 33.13089279, 33.13259971, 33.13967549,\n",
       "       33.21795705, 33.21795705, 33.3880647 , 33.47096791, 33.60348268,\n",
       "       33.78014625, 33.89310268, 34.01964682, 34.14945957, 34.22781579,\n",
       "       34.31382237, 34.40169424, 34.48066055, 34.54961714, 34.61373072,\n",
       "       34.67160223, 34.71423993, 34.7473828 , 34.77022786, 34.78538994,\n",
       "       34.79923614, 34.81210976, 34.82015449, 34.82774049, 34.83604306,\n",
       "       34.8422323 , 34.84695489, 34.85129208, 34.85531625, 34.85954711,\n",
       "       34.86021357, 34.86472962, 34.86474904, 34.86731967, 34.86867993,\n",
       "       34.86867993, 34.87147427, 34.87177101, 34.87177101, 34.8736936 ,\n",
       "       34.87398054, 34.87398054, 34.87513786, 34.87533532, 34.87533532,\n",
       "       34.87579261, 34.87601047, 34.87601047, 34.87601047, 34.87603607,\n",
       "       34.87607376, 34.87607376, 34.87607376, 34.87607376, 34.87607376,\n",
       "       34.87570975, 34.87547835, 34.87547835, 34.87547835, 34.87547835,\n",
       "       34.8753228 , 34.87432051, 34.87432051, 34.87432051, 34.87432051,\n",
       "       34.87399036, 34.8727612 , 34.8727612 , 34.8727612 , 34.87270121,\n",
       "       34.87086603, 34.87086603, 34.87086603, 34.86947999, 34.86866637,\n",
       "       34.86866637, 34.86866637, 34.86696355, 34.86619198, 34.86619198,\n",
       "       34.86619198, 34.86392661, 34.86356444, 34.86356444, 34.86105845,\n",
       "       34.86102432, 34.85942213, 34.85866062, 34.85748515, 34.85643658,\n",
       "       34.85640464, 34.85437045, 34.85437045, 34.85381136, 34.85239806,\n",
       "       34.85239806, 34.85102592, 34.85050363, 34.84980426, 34.84862647,\n",
       "       34.84836447, 34.84693721, 34.84689106, 34.84543417, 34.84543417,\n",
       "       34.84424361, 34.84420945, 34.84343197, 34.84339904,         nan,\n",
       "               nan])"
      ]
     },
     "execution_count": 21,
     "metadata": {},
     "output_type": "execute_result"
    }
   ],
   "source": [
    "SOSE_interp.SALT.values[:,394,1054]"
   ]
  },
  {
   "cell_type": "code",
   "execution_count": 20,
   "id": "effd6611-d052-45be-bd5c-53b7b771d8d8",
   "metadata": {},
   "outputs": [
    {
     "data": {
      "text/plain": [
       "[<matplotlib.lines.Line2D at 0x7f8234b68d60>]"
      ]
     },
     "execution_count": 20,
     "metadata": {},
     "output_type": "execute_result"
    },
    {
     "data": {
      "image/png": "[encoded data removed]",
      "text/plain": [
       "<Figure size 432x288 with 1 Axes>"
      ]
     },
     "metadata": {
      "needs_background": "light"
     },
     "output_type": "display_data"
    }
   ],
   "source": [
    "plt.plot(SOSE_interp.SALT.values[:,394,1054])"
   ]
  },
  {
   "cell_type": "code",
   "execution_count": 53,
   "id": "db246ecd-7dec-4fd3-8846-0ba883f72c1c",
   "metadata": {},
   "outputs": [
    {
     "data": {
      "text/plain": [
       "[<matplotlib.lines.Line2D at 0x7f822b655630>]"
      ]
     },
     "execution_count": 53,
     "metadata": {},
     "output_type": "execute_result"
    },
    {
     "data": {
      "image/png": "[encoded data removed]",
      "text/plain": [
       "<Figure size 432x288 with 1 Axes>"
      ]
     },
     "metadata": {
      "needs_background": "light"
     },
     "output_type": "display_data"
    }
   ],
   "source": [
    "plt.plot(ss_new[0,:,394,1054])"
   ]
  },
  {
   "cell_type": "code",
   "execution_count": 89,
   "id": "61b98dfa-a2fe-43cc-bc6b-5d030bf0985a",
   "metadata": {},
   "outputs": [],
   "source": [
    "# fill NaN and small values in new initial conditions with zeros\n",
    "sic     = xr.open_dataset(f'{IC_folder}SOSE-SeaIceArea-initial-conditions-20240123.nc')\n",
    "sit     = xr.open_dataset(f'{IC_folder}SOSE-SeaIceHeff-initial-conditions-20240123.nc')\n",
    "snt     = xr.open_dataset(f'{IC_folder}SOSE-SeaIceHsnow-initial-conditions-20240123.nc')\n",
    "sic_new = sic.SIarea.values[np.newaxis, ...]\n",
    "sit_new = sit.SIheff.values[np.newaxis, ...]\n",
    "snt_new = snt.SIhsnow.values[np.newaxis, ...]\n",
    "sic_new[np.isnan(sic_new)] = 0\n",
    "sit_new[np.isnan(sit_new)] = 0\n",
    "snt_new[np.isnan(snt_new)] = 0\n",
    "sic_new[sic_new < 0.001]   = 0\n",
    "sit_new[sit_new < 0.001]   = 0\n",
    "snt_new[snt_new < 0.001]   = 0\n",
    "\n",
    "sin           = st.drop_vars(['THETA'])\n",
    "sin['siconc'] = ('time_counter','y','x'), sic_new\n",
    "sin['sithic'] = ('time_counter','y','x'), sit_new\n",
    "sin['snthic'] = ('time_counter','y','x'), snt_new\n",
    "sin           = sin.assign_coords({'time_counter':xr.open_dataset(f'{IC_folder}istate_sea_ice.nc').time_counter})\n",
    "sin.to_netcdf(f'{IC_folder}SOSE_istate_sea_ice_20240123.nc', unlimited_dims='time_counter')"
   ]
  },
  {
   "cell_type": "code",
   "execution_count": null,
   "id": "8e70e104-09b3-4fa4-a86e-1d1f000ffeb9",
   "metadata": {},
   "outputs": [],
   "source": []
  }
 ],
 "metadata": {
  "kernelspec": {
   "display_name": "jaspy3.10",
   "language": "python",
   "name": "jaspy3.10"
  },
  "language_info": {
   "codemirror_mode": {
    "name": "ipython",
    "version": 3
   },
   "file_extension": ".py",
   "mimetype": "text/x-python",
   "name": "python",
   "nbconvert_exporter": "python",
   "pygments_lexer": "ipython3",
   "version": "3.10.5"
  }
 },
 "nbformat": 4,
 "nbformat_minor": 5
}
