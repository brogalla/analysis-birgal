{
 "cells": [
  {
   "cell_type": "markdown",
   "id": "93365387-b36c-4978-8a1c-56de747f21c7",
   "metadata": {},
   "source": [
    "### Remake coordinates_bdy.nc file"
   ]
  },
  {
   "cell_type": "code",
   "execution_count": 1,
   "id": "e9d7af48-7013-426f-a074-be5852aba500",
   "metadata": {},
   "outputs": [],
   "source": [
    "import numpy as np\n",
    "import matplotlib.pyplot as plt\n",
    "import xarray as xr"
   ]
  },
  {
   "cell_type": "markdown",
   "id": "e821f62b-237e-41bd-abaa-e7d32f8c4607",
   "metadata": {},
   "source": [
    "#### Functions"
   ]
  },
  {
   "cell_type": "markdown",
   "id": "7820e7da-1a1a-4c55-93b3-8f5435bf37e6",
   "metadata": {},
   "source": [
    "#### To recreate boundary condition shape\n",
    "- Use coordinates from the domain_cfg.nc file"
   ]
  },
  {
   "cell_type": "code",
   "execution_count": 4,
   "id": "9552fc10-19f9-471c-a66a-ddf4e31e1d6e",
   "metadata": {},
   "outputs": [],
   "source": [
    "coord_bdy_old = xr.open_dataset('/home/users/birgal/data/NEMO/coordinates_bdy.nc')\n",
    "domain_cfg    = xr.open_dataset('/home/users/birgal/data/NEMO/domain_cfg.nc')"
   ]
  },
  {
   "cell_type": "code",
   "execution_count": 5,
   "id": "acc049ac-2cc3-4ed9-8c5e-51e13733fef1",
   "metadata": {},
   "outputs": [],
   "source": [
    "domain_edge   = domain_cfg.sel(y=-1)"
   ]
  },
  {
   "cell_type": "markdown",
   "id": "a3cfe18c-5ac0-42e8-9a04-edfc41c3ba21",
   "metadata": {},
   "source": [
    "### Create coordinates boundary file:"
   ]
  },
  {
   "cell_type": "code",
   "execution_count": 64,
   "id": "7985804b-1bc1-4a79-a495-4d400cf36d68",
   "metadata": {},
   "outputs": [],
   "source": [
    "# Coordinates of the boundary condition: in this case based on those from the old boundary\n",
    "# subtract 1, because of python based indexing\n",
    "it_coords = (coord_bdy_old['nbit'].sel(yb=0).values-1).astype(int)\n",
    "jt_coords = (coord_bdy_old['nbjt'].sel(yb=0).values-1).astype(int)\n",
    "iu_coords = (coord_bdy_old['nbiu'].sel(yb=0).values-1).astype(int)\n",
    "ju_coords = (coord_bdy_old['nbju'].sel(yb=0).values-1).astype(int)\n",
    "iv_coords = (coord_bdy_old['nbiv'].sel(yb=0).values-1).astype(int)\n",
    "jv_coords = (coord_bdy_old['nbjv'].sel(yb=0).values-1).astype(int)\n",
    "# coord_pairs = [(i,j) for i, j in zip(i_coords, j_coords)]"
   ]
  },
  {
   "cell_type": "code",
   "execution_count": 65,
   "id": "3dca3272-d2b1-4e2e-9be9-0dbad8dfdbb1",
   "metadata": {},
   "outputs": [],
   "source": [
    "# just recreate an exact copy of old boundary coordinates file, but using my read in coordinates:\n",
    "\n",
    "# Dimensions:\n",
    "bdy_length = 1424\n",
    "yb_dim     = 1\n",
    "xbv_dim    = bdy_length\n",
    "xbu_dim    = bdy_length-1\n",
    "xbt_dim    = bdy_length\n",
    "# for now, try xbu_dim is the same as the others; if that doesn't work, try bdy_length-1 (and subset by doing .values[:,:-1]\n",
    "\n",
    "# Create xarray dataset:\n",
    "ds = xr.Dataset(\n",
    "    data_vars=dict(\n",
    "                e1t=([\"yb\", \"xbt\"], domain_cfg['e1t'].sel(x=xr.DataArray(it_coords, dims='z'), \n",
    "                                                          y=xr.DataArray(jt_coords, dims='z')).values.astype(float)),\n",
    "                e1u=([\"yb\", \"xbu\"], domain_cfg['e1u'].sel(x=xr.DataArray(iu_coords, dims='z'), \n",
    "                                                          y=xr.DataArray(ju_coords, dims='z')).values.astype(float)), \n",
    "                e1v=([\"yb\", \"xbv\"], domain_cfg['e1v'].sel(x=xr.DataArray(iv_coords, dims='z'), \n",
    "                                                          y=xr.DataArray(jv_coords, dims='z')).values.astype(float)), \n",
    "                e2t=([\"yb\", \"xbt\"], domain_cfg['e2t'].sel(x=xr.DataArray(it_coords, dims='z'), \n",
    "                                                          y=xr.DataArray(jt_coords, dims='z')).values.astype(float)),\n",
    "                e2u=([\"yb\", \"xbu\"], domain_cfg['e2u'].sel(x=xr.DataArray(iu_coords, dims='z'), \n",
    "                                                          y=xr.DataArray(ju_coords, dims='z')).values.astype(float)),\n",
    "                e2v=([\"yb\", \"xbv\"], domain_cfg['e2v'].sel(x=xr.DataArray(iv_coords, dims='z'), \n",
    "                                                          y=xr.DataArray(jv_coords, dims='z')).values.astype(float)),\n",
    "                glamt=([\"yb\", \"xbt\"], domain_cfg['glamt'].sel(x=xr.DataArray(it_coords, dims='z'), \n",
    "                                                              y=xr.DataArray(jt_coords, dims='z')).values.astype(float)),\n",
    "                glamu=([\"yb\", \"xbu\"], domain_cfg['glamu'].sel(x=xr.DataArray(iu_coords, dims='z'), \n",
    "                                                              y=xr.DataArray(ju_coords, dims='z')).values.astype(float)),\n",
    "                glamv=([\"yb\", \"xbv\"], domain_cfg['glamv'].sel(x=xr.DataArray(iv_coords, dims='z'), \n",
    "                                                              y=xr.DataArray(jv_coords, dims='z')).values.astype(float)),\n",
    "                gphit=([\"yb\", \"xbt\"], domain_cfg['gphit'].sel(x=xr.DataArray(it_coords, dims='z'), \n",
    "                                                              y=xr.DataArray(jt_coords, dims='z')).values.astype(float)),\n",
    "                gphiu=([\"yb\", \"xbu\"], domain_cfg['gphiu'].sel(x=xr.DataArray(iu_coords, dims='z'), \n",
    "                                                              y=xr.DataArray(ju_coords, dims='z')).values.astype(float)),\n",
    "                gphiv=([\"yb\", \"xbv\"], domain_cfg['gphiv'].sel(x=xr.DataArray(iv_coords, dims='z'), \n",
    "                                                              y=xr.DataArray(jv_coords, dims='z')).values.astype(float)),\n",
    "                nbit=([\"yb\", \"xbt\"], np.reshape(it_coords+1, (yb_dim, xbt_dim)).astype(int)),\n",
    "                nbiu=([\"yb\", \"xbu\"], np.reshape(iu_coords+1, (yb_dim, xbu_dim)).astype(int)),\n",
    "                nbiv=([\"yb\", \"xbv\"], np.reshape(iv_coords+1, (yb_dim, xbv_dim)).astype(int)),\n",
    "                nbjt=([\"yb\", \"xbt\"], np.reshape(jt_coords+1, (yb_dim, xbt_dim)).astype(int)),\n",
    "                nbju=([\"yb\", \"xbu\"], np.reshape(ju_coords+1, (yb_dim, xbu_dim)).astype(int)),\n",
    "                nbjv=([\"yb\", \"xbv\"], np.reshape(jv_coords+1, (yb_dim, xbv_dim)).astype(int)),\n",
    "                nbrt=([\"yb\", \"xbt\"], np.ones((yb_dim, xbt_dim)).astype(int)),\n",
    "                nbru=([\"yb\", \"xbu\"], np.ones((yb_dim, xbu_dim)).astype(int)),\n",
    "                nbrv=([\"yb\", \"xbv\"], np.ones((yb_dim, xbv_dim)).astype(int)),\n",
    "    ),\n",
    "    attrs=dict(description=\"Test boundary condition coordinates file\"),\n",
    ")\n",
    "\n",
    "ds.to_netcdf(f'/home/users/birgal/data/NEMO/coordinates_bdy-old2-1rw.nc')"
   ]
  },
  {
   "cell_type": "markdown",
   "id": "3b82cef8-846c-4315-b519-95fd525d615b",
   "metadata": {},
   "source": [
    "## Try rimwidth=2"
   ]
  },
  {
   "cell_type": "code",
   "execution_count": 76,
   "id": "ad788426-003b-46f7-8e96-0c21a5bfa7ec",
   "metadata": {},
   "outputs": [],
   "source": [
    "# Coordinates of the boundary condition: in this case based on those from the old boundary\n",
    "# subtract 1, because of python based indexing\n",
    "it_coords_rw2 = np.append(coord_bdy_old['nbit'].sel(yb=0).values-1, coord_bdy_old['nbit'].sel(yb=0).values-1).astype(int)\n",
    "jt_coords_rw2 = np.append(coord_bdy_old['nbjt'].sel(yb=0).values-1, coord_bdy_old['nbjt'].sel(yb=0).values-1-1)\n",
    "iu_coords_rw2 = np.append(coord_bdy_old['nbiu'].sel(yb=0).values-1, coord_bdy_old['nbiu'].sel(yb=0).values-1).astype(int)\n",
    "ju_coords_rw2 = np.append(coord_bdy_old['nbju'].sel(yb=0).values-1, coord_bdy_old['nbju'].sel(yb=0).values-1-1).astype(int)\n",
    "iv_coords_rw2 = np.append(coord_bdy_old['nbiv'].sel(yb=0).values-1, coord_bdy_old['nbiv'].sel(yb=0).values-1).astype(int)\n",
    "jv_coords_rw2 = np.append(coord_bdy_old['nbjv'].sel(yb=0).values-1, coord_bdy_old['nbjv'].sel(yb=0).values-1-1)"
   ]
  },
  {
   "cell_type": "code",
   "execution_count": 93,
   "id": "81c49df5-4075-40b7-8135-d36c97986786",
   "metadata": {},
   "outputs": [
    {
     "data": {
      "text/plain": [
       "(2848,)"
      ]
     },
     "execution_count": 93,
     "metadata": {},
     "output_type": "execute_result"
    }
   ],
   "source": [
    "np.append(np.ones(bdy_length), np.ones(bdy_length)*2).astype(int).shape"
   ]
  },
  {
   "cell_type": "code",
   "execution_count": 94,
   "id": "c32896ad-c2f3-4d73-b96b-bc39b946fdc4",
   "metadata": {},
   "outputs": [],
   "source": [
    "# boundary with twice the thickness\n",
    "\n",
    "# Dimensions:\n",
    "bdy_length = 1424\n",
    "yb_dim     = 1 # always 1\n",
    "rimwidth   = 2\n",
    "xbv_dim    = (bdy_length)  *rimwidth\n",
    "xbu_dim    = (bdy_length-1)*rimwidth\n",
    "xbt_dim    = (bdy_length)  *rimwidth\n",
    "# for now, try xbu_dim is the same as the others; if that doesn't work, try bdy_length-1 (and subset by doing .values[:,:-1]\n",
    "\n",
    "# Create xarray dataset:\n",
    "ds = xr.Dataset(\n",
    "    data_vars=dict(\n",
    "                e1t=([\"yb\", \"xbt\"], domain_cfg['e1t'].sel(x=xr.DataArray(it_coords_rw2, dims='z'), \n",
    "                                                          y=xr.DataArray(jt_coords_rw2, dims='z')).values.astype(float)),\n",
    "                e1u=([\"yb\", \"xbu\"], domain_cfg['e1u'].sel(x=xr.DataArray(iu_coords_rw2, dims='z'), \n",
    "                                                          y=xr.DataArray(ju_coords_rw2, dims='z')).values.astype(float)), \n",
    "                e1v=([\"yb\", \"xbv\"], domain_cfg['e1v'].sel(x=xr.DataArray(iv_coords_rw2, dims='z'), \n",
    "                                                          y=xr.DataArray(jv_coords_rw2, dims='z')).values.astype(float)), \n",
    "                e2t=([\"yb\", \"xbt\"], domain_cfg['e2t'].sel(x=xr.DataArray(it_coords_rw2, dims='z'), \n",
    "                                                          y=xr.DataArray(jt_coords_rw2, dims='z')).values.astype(float)),\n",
    "                e2u=([\"yb\", \"xbu\"], domain_cfg['e2u'].sel(x=xr.DataArray(iu_coords_rw2, dims='z'), \n",
    "                                                          y=xr.DataArray(ju_coords_rw2, dims='z')).values.astype(float)),\n",
    "                e2v=([\"yb\", \"xbv\"], domain_cfg['e2v'].sel(x=xr.DataArray(iv_coords_rw2, dims='z'), \n",
    "                                                          y=xr.DataArray(jv_coords_rw2, dims='z')).values.astype(float)),\n",
    "                glamt=([\"yb\", \"xbt\"], domain_cfg['glamt'].sel(x=xr.DataArray(it_coords_rw2, dims='z'), \n",
    "                                                              y=xr.DataArray(jt_coords_rw2, dims='z')).values.astype(float)),\n",
    "                glamu=([\"yb\", \"xbu\"], domain_cfg['glamu'].sel(x=xr.DataArray(iu_coords_rw2, dims='z'), \n",
    "                                                              y=xr.DataArray(ju_coords_rw2, dims='z')).values.astype(float)),\n",
    "                glamv=([\"yb\", \"xbv\"], domain_cfg['glamv'].sel(x=xr.DataArray(iv_coords_rw2, dims='z'), \n",
    "                                                              y=xr.DataArray(jv_coords_rw2, dims='z')).values.astype(float)),\n",
    "                gphit=([\"yb\", \"xbt\"], domain_cfg['gphit'].sel(x=xr.DataArray(it_coords_rw2, dims='z'), \n",
    "                                                              y=xr.DataArray(jt_coords_rw2, dims='z')).values.astype(float)),\n",
    "                gphiu=([\"yb\", \"xbu\"], domain_cfg['gphiu'].sel(x=xr.DataArray(iu_coords_rw2, dims='z'), \n",
    "                                                              y=xr.DataArray(ju_coords_rw2, dims='z')).values.astype(float)),\n",
    "                gphiv=([\"yb\", \"xbv\"], domain_cfg['gphiv'].sel(x=xr.DataArray(iv_coords_rw2, dims='z'), \n",
    "                                                              y=xr.DataArray(jv_coords_rw2, dims='z')).values.astype(float)),                \n",
    "                nbit=([\"yb\", \"xbt\"], np.reshape(it_coords_rw2+1, (yb_dim, xbt_dim)).astype(int)),\n",
    "                nbiu=([\"yb\", \"xbu\"], np.reshape(iu_coords_rw2+1, (yb_dim, xbu_dim)).astype(int)),\n",
    "                nbiv=([\"yb\", \"xbv\"], np.reshape(iv_coords_rw2+1, (yb_dim, xbv_dim)).astype(int)),\n",
    "                nbjt=([\"yb\", \"xbt\"], np.reshape(jt_coords_rw2+1, (yb_dim, xbt_dim)).astype(int)),\n",
    "                nbju=([\"yb\", \"xbu\"], np.reshape(ju_coords_rw2+1, (yb_dim, xbu_dim)).astype(int)),\n",
    "                nbjv=([\"yb\", \"xbv\"], np.reshape(jv_coords_rw2+1, (yb_dim, xbv_dim)).astype(int)),\n",
    "                nbrt=([\"yb\", \"xbt\"], np.reshape(np.append(np.ones(bdy_length), \n",
    "                                                          np.ones((yb_dim, bdy_length))*2), (yb_dim, xbt_dim)).astype(int)),\n",
    "                nbru=([\"yb\", \"xbu\"], np.reshape(np.append(np.ones(bdy_length-1), \n",
    "                                                          np.ones((yb_dim, bdy_length-1))*2), (yb_dim, xbu_dim)).astype(int)),\n",
    "                nbrv=([\"yb\", \"xbv\"], np.reshape(np.append(np.ones(bdy_length), \n",
    "                                                          np.ones((yb_dim, bdy_length))*2), (yb_dim, xbv_dim)).astype(int)),\n",
    "    ),\n",
    "    attrs=dict(description=\"Test boundary condition coordinates file\"),\n",
    ")\n",
    "\n",
    "ds.to_netcdf(f'/home/users/birgal/data/NEMO/coordinates_bdy-2rw.nc')"
   ]
  },
  {
   "cell_type": "code",
   "execution_count": null,
   "id": "3f80b2f6-37e4-4aed-8386-7bff848753d5",
   "metadata": {},
   "outputs": [],
   "source": []
  },
  {
   "cell_type": "markdown",
   "id": "db0548ad-9aa3-4a7b-9480-b64e55d50db3",
   "metadata": {},
   "source": [
    "### Old stuff"
   ]
  },
  {
   "cell_type": "code",
   "execution_count": 94,
   "id": "6cd3fdda-0630-4bb7-a0f9-170bffb52659",
   "metadata": {},
   "outputs": [],
   "source": [
    "# Dimensions:\n",
    "bdy_length = 1442\n",
    "yb_dim     = 1\n",
    "xbv_dim    = bdy_length\n",
    "xbu_dim    = bdy_length\n",
    "xbt_dim    = bdy_length\n",
    "j_ind_Nbdy = 438 \n",
    "# for now, try xbu_dim is the same as the others; if that doesn't work, try bdy_length-1 (and subset by doing .values[:,:-1]\n",
    "\n",
    "# Create xarray dataset:\n",
    "ds = xr.Dataset(\n",
    "    data_vars=dict(\n",
    "                e1t=([\"yb\", \"xbt\"], domain_edge['e1t'].values.astype(float)),\n",
    "                e1u=([\"yb\", \"xbu\"], domain_edge['e1u'].values.astype(float)), \n",
    "                e1v=([\"yb\", \"xbv\"], domain_edge['e1v'].values.astype(float)), \n",
    "                e2t=([\"yb\", \"xbt\"], domain_edge['e2t'].values.astype(float)),\n",
    "                e2u=([\"yb\", \"xbu\"], domain_edge['e2u'].values.astype(float)),\n",
    "                e2v=([\"yb\", \"xbv\"], domain_edge['e2v'].values.astype(float)),\n",
    "                glamt=([\"yb\", \"xbt\"], domain_edge['glamt'].values.astype(float)),\n",
    "                glamu=([\"yb\", \"xbu\"], domain_edge['glamu'].values.astype(float)),\n",
    "                glamv=([\"yb\", \"xbv\"], domain_edge['glamv'].values.astype(float)),\n",
    "                gphit=([\"yb\", \"xbt\"], domain_edge['gphit'].values.astype(float)),\n",
    "                gphiu=([\"yb\", \"xbu\"], domain_edge['gphiu'].values.astype(float)),\n",
    "                gphiv=([\"yb\", \"xbv\"], domain_edge['gphiv'].values.astype(float)),\n",
    "                nbit=([\"yb\", \"xbt\"], np.reshape(np.arange(1,xbt_dim+1), (yb_dim, xbt_dim)).astype(int)),\n",
    "                nbiu=([\"yb\", \"xbu\"], np.reshape(np.arange(1,xbu_dim+1), (yb_dim, xbu_dim)).astype(int)),\n",
    "                nbiv=([\"yb\", \"xbv\"], np.reshape(np.arange(1,xbv_dim+1), (yb_dim, xbv_dim)).astype(int)),\n",
    "                nbjt=([\"yb\", \"xbt\"], np.reshape(np.repeat(j_ind_Nbdy  , xbt_dim), (yb_dim, xbt_dim)).astype(int)),\n",
    "                nbju=([\"yb\", \"xbu\"], np.reshape(np.repeat(j_ind_Nbdy  , xbu_dim), (yb_dim, xbu_dim)).astype(int)),\n",
    "                nbjv=([\"yb\", \"xbv\"], np.reshape(np.repeat(j_ind_Nbdy-1, xbv_dim), (yb_dim, xbv_dim)).astype(int)),\n",
    "                nbrt=([\"yb\", \"xbt\"], np.ones((yb_dim, xbt_dim)).astype(int)),\n",
    "                nbru=([\"yb\", \"xbu\"], np.ones((yb_dim, xbu_dim)).astype(int)),\n",
    "                nbrv=([\"yb\", \"xbv\"], np.ones((yb_dim, xbv_dim)).astype(int)),\n",
    "    ),\n",
    "    attrs=dict(description=\"Test boundary condition coordinates file\"),\n",
    ")\n",
    "\n",
    "ds.to_netcdf(f'/home/users/birgal/data/NEMO/coordinates_bdy-20231002-1rw.nc')"
   ]
  },
  {
   "cell_type": "code",
   "execution_count": 107,
   "id": "6807753d-fed0-4132-adac-150b1bea0e31",
   "metadata": {},
   "outputs": [],
   "source": [
    "# just recreate an exact copy of old boundary coordinates file:\n",
    "\n",
    "# Dimensions:\n",
    "bdy_length = 1424\n",
    "yb_dim     = 1\n",
    "xbv_dim    = bdy_length\n",
    "xbu_dim    = bdy_length-1\n",
    "xbt_dim    = bdy_length\n",
    "j_ind_Nbdy = 438 \n",
    "# for now, try xbu_dim is the same as the others; if that doesn't work, try bdy_length-1 (and subset by doing .values[:,:-1]\n",
    "\n",
    "# Create xarray dataset:\n",
    "ds = xr.Dataset(\n",
    "    data_vars=dict(\n",
    "                e1t=([\"yb\", \"xbt\"], coord_bdy_old['e1t'].values.astype(float)),\n",
    "                e1u=([\"yb\", \"xbu\"], coord_bdy_old['e1u'].values.astype(float)), \n",
    "                e1v=([\"yb\", \"xbv\"], coord_bdy_old['e1v'].values.astype(float)), \n",
    "                e2t=([\"yb\", \"xbt\"], coord_bdy_old['e2t'].values.astype(float)),\n",
    "                e2u=([\"yb\", \"xbu\"], coord_bdy_old['e2u'].values.astype(float)),\n",
    "                e2v=([\"yb\", \"xbv\"], coord_bdy_old['e2v'].values.astype(float)),\n",
    "                glamt=([\"yb\", \"xbt\"], coord_bdy_old['glamt'].values.astype(float)),\n",
    "                glamu=([\"yb\", \"xbu\"], coord_bdy_old['glamu'].values.astype(float)),\n",
    "                glamv=([\"yb\", \"xbv\"], coord_bdy_old['glamv'].values.astype(float)),\n",
    "                gphit=([\"yb\", \"xbt\"], coord_bdy_old['gphit'].values.astype(float)),\n",
    "                gphiu=([\"yb\", \"xbu\"], coord_bdy_old['gphiu'].values.astype(float)),\n",
    "                gphiv=([\"yb\", \"xbv\"], coord_bdy_old['gphiv'].values.astype(float)),\n",
    "                nbit=([\"yb\", \"xbt\"], coord_bdy_old['nbit'].values.astype(int)),\n",
    "                nbiu=([\"yb\", \"xbu\"], coord_bdy_old['nbiu'].values.astype(int)),\n",
    "                nbiv=([\"yb\", \"xbv\"], coord_bdy_old['nbiv'].values.astype(int)),\n",
    "                nbjt=([\"yb\", \"xbt\"], np.reshape(np.repeat(j_ind_Nbdy  , xbt_dim), (yb_dim, xbt_dim)).astype(int)),\n",
    "                nbju=([\"yb\", \"xbu\"], np.reshape(np.repeat(j_ind_Nbdy  , xbu_dim), (yb_dim, xbu_dim)).astype(int)),\n",
    "                nbjv=([\"yb\", \"xbv\"], np.reshape(np.repeat(j_ind_Nbdy-1, xbv_dim), (yb_dim, xbv_dim)).astype(int)),\n",
    "                nbrt=([\"yb\", \"xbt\"], np.ones((yb_dim, xbt_dim)).astype(int)),\n",
    "                nbru=([\"yb\", \"xbu\"], np.ones((yb_dim, xbu_dim)).astype(int)),\n",
    "                nbrv=([\"yb\", \"xbv\"], np.ones((yb_dim, xbv_dim)).astype(int)),\n",
    "    ),\n",
    "    attrs=dict(description=\"Test boundary condition coordinates file\"),\n",
    ")\n",
    "\n",
    "ds.to_netcdf(f'/home/users/birgal/data/NEMO/coordinates_bdy-old-1rw.nc')"
   ]
  },
  {
   "cell_type": "code",
   "execution_count": null,
   "id": "fc9cb3de-9d1a-4c88-89a1-f70db74fe37c",
   "metadata": {},
   "outputs": [],
   "source": [
    "# just recreate an exact copy of old boundary coordinates file:\n",
    "\n",
    "# Dimensions:\n",
    "bdy_length = 1424\n",
    "rimwdith   = 10\n",
    "yb_dim     = 1\n",
    "xbv_dim    = bdy_length*rimwdith\n",
    "xbu_dim    = (bdy_length-1)*rimwidth\n",
    "xbt_dim    = bdy_length*rimwidth\n",
    "j_ind_Nbdy = 438 \n",
    "# for now, try xbu_dim is the same as the others; if that doesn't work, try bdy_length-1 (and subset by doing .values[:,:-1]\n",
    "\n",
    "# Create xarray dataset:\n",
    "ds = xr.Dataset(\n",
    "    data_vars=dict(\n",
    "                e1t=([\"yb\", \"xbt\"], coord_bdy_old['e1t'].values.astype(float)),\n",
    "                e1u=([\"yb\", \"xbu\"], coord_bdy_old['e1u'].values.astype(float)), \n",
    "                e1v=([\"yb\", \"xbv\"], coord_bdy_old['e1v'].values.astype(float)), \n",
    "                e2t=([\"yb\", \"xbt\"], coord_bdy_old['e2t'].values.astype(float)),\n",
    "                e2u=([\"yb\", \"xbu\"], coord_bdy_old['e2u'].values.astype(float)),\n",
    "                e2v=([\"yb\", \"xbv\"], coord_bdy_old['e2v'].values.astype(float)),\n",
    "                glamt=([\"yb\", \"xbt\"], coord_bdy_old['glamt'].values.astype(float)),\n",
    "                glamu=([\"yb\", \"xbu\"], coord_bdy_old['glamu'].values.astype(float)),\n",
    "                glamv=([\"yb\", \"xbv\"], coord_bdy_old['glamv'].values.astype(float)),\n",
    "                gphit=([\"yb\", \"xbt\"], coord_bdy_old['gphit'].values.astype(float)),\n",
    "                gphiu=([\"yb\", \"xbu\"], coord_bdy_old['gphiu'].values.astype(float)),\n",
    "                gphiv=([\"yb\", \"xbv\"], coord_bdy_old['gphiv'].values.astype(float)),\n",
    "                nbit=([\"yb\", \"xbt\"], coord_bdy_old['nbit'].values.astype(int)),\n",
    "                nbiu=([\"yb\", \"xbu\"], coord_bdy_old['nbiu'].values.astype(int)),\n",
    "                nbiv=([\"yb\", \"xbv\"], coord_bdy_old['nbiv'].values.astype(int)),\n",
    "                nbjt=([\"yb\", \"xbt\"], np.reshape(np.repeat(j_ind_Nbdy  , xbt_dim), (yb_dim, xbt_dim)).astype(int)),\n",
    "                nbju=([\"yb\", \"xbu\"], np.reshape(np.repeat(j_ind_Nbdy  , xbu_dim), (yb_dim, xbu_dim)).astype(int)),\n",
    "                nbjv=([\"yb\", \"xbv\"], np.reshape(np.repeat(j_ind_Nbdy-1, xbv_dim), (yb_dim, xbv_dim)).astype(int)),\n",
    "                nbrt=([\"yb\", \"xbt\"], np.ones((yb_dim, xbt_dim)).astype(int)),\n",
    "                nbru=([\"yb\", \"xbu\"], np.ones((yb_dim, xbu_dim)).astype(int)),\n",
    "                nbrv=([\"yb\", \"xbv\"], np.ones((yb_dim, xbv_dim)).astype(int)),\n",
    "    ),\n",
    "    attrs=dict(description=\"Test boundary condition coordinates file\"),\n",
    ")\n",
    "\n",
    "ds.to_netcdf(f'/home/users/birgal/data/NEMO/coordinates_bdy-old-10rw.nc')"
   ]
  }
 ],
 "metadata": {
  "kernelspec": {
   "display_name": "Python 3 + Jaspy",
   "language": "python",
   "name": "jaspy"
  },
  "language_info": {
   "codemirror_mode": {
    "name": "ipython",
    "version": 3
   },
   "file_extension": ".py",
   "mimetype": "text/x-python",
   "name": "python",
   "nbconvert_exporter": "python",
   "pygments_lexer": "ipython3",
   "version": "3.10.5"
  }
 },
 "nbformat": 4,
 "nbformat_minor": 5
}
