{
 "cells": [
  {
   "cell_type": "markdown",
   "id": "93365387-b36c-4978-8a1c-56de747f21c7",
   "metadata": {},
   "source": [
    "### Create a temporary \"runoff.nc\" file that contains the missing required socoefr0 variable\n",
    "\n",
    "namelist_cfg is currently set to read in annual (monthly) runoff forcing and a climatology runoff file for the variable socoefr, but this file is missing, so I'm creating a temporary substitute."
   ]
  },
  {
   "cell_type": "code",
   "execution_count": 1,
   "id": "e9d7af48-7013-426f-a074-be5852aba500",
   "metadata": {},
   "outputs": [],
   "source": [
    "import numpy as np\n",
    "import matplotlib.pyplot as plt\n",
    "import xarray as xr"
   ]
  },
  {
   "cell_type": "markdown",
   "id": "9b8f2722-1aff-46e6-9a5f-2eeed97620fd",
   "metadata": {},
   "source": [
    "#### Read in current runoff file"
   ]
  },
  {
   "cell_type": "code",
   "execution_count": null,
   "id": "532aab72-b51a-473a-b62c-50dae4a6b38e",
   "metadata": {},
   "outputs": [],
   "source": []
  },
  {
   "cell_type": "markdown",
   "id": "bde755b5-7b9c-4bb1-8588-860eafada521",
   "metadata": {},
   "source": [
    "#### Write new file:"
   ]
  },
  {
   "cell_type": "code",
   "execution_count": null,
   "id": "17c741c0-e08a-42ac-aba7-42cf10f51e68",
   "metadata": {},
   "outputs": [],
   "source": [
    "c = xr.open_dataset('/ocean/brogalla/GEOTRACES/data/runoff/ANHA12_runoff_monthly_combined_Dai_Trenberth_Bamber_y2002.nc')\n",
    "lon_rf = c['nav_lon'].values\n",
    "lat_rf = c['nav_lat'].values"
   ]
  },
  {
   "cell_type": "code",
   "execution_count": null,
   "id": "4134866a-9705-428a-b6b4-347dc5e2bbfe",
   "metadata": {},
   "outputs": [],
   "source": [
    "file_write = xr.Dataset(\n",
    "    {'nav_lon': ((\"y\",\"x\"), lon_rf), \n",
    "     'nav_lat': ((\"y\",\"x\"), lat_rf),\n",
    "     'spm_rivers': ((\"y\",\"x\"), SPM_rivers),\n",
    "     'dpb_rivers': ((\"y\",\"x\"), dPb_rivers)}, \n",
    "     coords = {\n",
    "         \"y\": np.zeros(2400),\n",
    "         \"x\": np.zeros(1632),\n",
    "    })\n",
    "    \n",
    "file_write.to_netcdf('/users/birgal/forcing_NEMO/runoff.nc')"
   ]
  }
 ],
 "metadata": {
  "kernelspec": {
   "display_name": "Python 3 + Jaspy",
   "language": "python",
   "name": "jaspy"
  },
  "language_info": {
   "codemirror_mode": {
    "name": "ipython",
    "version": 3
   },
   "file_extension": ".py",
   "mimetype": "text/x-python",
   "name": "python",
   "nbconvert_exporter": "python",
   "pygments_lexer": "ipython3",
   "version": "3.10.5"
  }
 },
 "nbformat": 4,
 "nbformat_minor": 5
}
