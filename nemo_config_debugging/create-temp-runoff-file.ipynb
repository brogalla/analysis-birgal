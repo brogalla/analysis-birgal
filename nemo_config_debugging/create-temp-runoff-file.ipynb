{
 "cells": [
  {
   "cell_type": "markdown",
   "id": "93365387-b36c-4978-8a1c-56de747f21c7",
   "metadata": {},
   "source": [
    "### Create a temporary \"runoff.nc\" file that contains the missing required socoefr0 variable\n",
    "\n",
    "namelist_cfg is currently set to read in annual (monthly) runoff forcing and a climatology runoff file for the variable socoefr, but this file is missing, so I'm creating a temporary substitute."
   ]
  },
  {
   "cell_type": "code",
   "execution_count": 1,
   "id": "e9d7af48-7013-426f-a074-be5852aba500",
   "metadata": {},
   "outputs": [],
   "source": [
    "import numpy as np\n",
    "import matplotlib.pyplot as plt\n",
    "import xarray as xr"
   ]
  },
  {
   "cell_type": "markdown",
   "id": "9b8f2722-1aff-46e6-9a5f-2eeed97620fd",
   "metadata": {},
   "source": [
    "#### Read in current runoff file"
   ]
  },
  {
   "cell_type": "code",
   "execution_count": 2,
   "id": "aab0fba4-5df4-4350-ad37-44a498e04674",
   "metadata": {},
   "outputs": [
    {
     "name": "stdout",
     "output_type": "stream",
     "text": [
      "26644\n",
      "23437\n"
     ]
    }
   ],
   "source": [
    "# example from ANHA12 file:\n",
    "ANHA12 = xr.open_dataset('/home/users/birgal/data/runoff_monthly_ANHA12.nc')\n",
    "print(np.count_nonzero(ANHA12['socoefr'].values))\n",
    "print(np.count_nonzero(ANHA12['runoff'].values[5,:,:]))"
   ]
  },
  {
   "cell_type": "code",
   "execution_count": 3,
   "id": "17c741c0-e08a-42ac-aba7-42cf10f51e68",
   "metadata": {},
   "outputs": [],
   "source": [
    "# Annual runoff forcing file:\n",
    "rf_file = xr.open_dataset('/home/users/birgal/data/NEMO-test2-20230913/runoff_y1979.nc')"
   ]
  },
  {
   "cell_type": "code",
   "execution_count": 4,
   "id": "2272a53a-1231-4fe4-b7df-ce9cc566a464",
   "metadata": {},
   "outputs": [],
   "source": [
    "# New variable is zero everywhere except where a runoff source is, it is 0.5 (note that I'm sure I don't have all the runoff sources!)\n",
    "var_socoefr = np.zeros(rf_file['LON'].values.shape)\n",
    "var_socoefr[rf_file['marrunof'].values[0,:,:]!=0] = 0.5 "
   ]
  },
  {
   "cell_type": "code",
   "execution_count": 9,
   "id": "532aab72-b51a-473a-b62c-50dae4a6b38e",
   "metadata": {},
   "outputs": [],
   "source": [
    "rf_file = rf_file.drop(front=None, front2=None, obv=None, e1=None, e2=None, marrunof=None)\n",
    "rf_file = rf_file.assign(socoefr=(['y','x'], var_socoefr))"
   ]
  },
  {
   "cell_type": "markdown",
   "id": "bde755b5-7b9c-4bb1-8588-860eafada521",
   "metadata": {},
   "source": [
    "#### Write new file:"
   ]
  },
  {
   "cell_type": "code",
   "execution_count": 11,
   "id": "4134866a-9705-428a-b6b4-347dc5e2bbfe",
   "metadata": {},
   "outputs": [],
   "source": [
    "rf_file.to_netcdf(\"/home/users/birgal/forcing_NEMO/runoff.nc\")"
   ]
  },
  {
   "cell_type": "code",
   "execution_count": null,
   "id": "5b365ad2-22bd-4b5a-adc7-32dbab7a49c1",
   "metadata": {},
   "outputs": [],
   "source": []
  }
 ],
 "metadata": {
  "kernelspec": {
   "display_name": "Python 3 + Jaspy",
   "language": "python",
   "name": "jaspy"
  },
  "language_info": {
   "codemirror_mode": {
    "name": "ipython",
    "version": 3
   },
   "file_extension": ".py",
   "mimetype": "text/x-python",
   "name": "python",
   "nbconvert_exporter": "python",
   "pygments_lexer": "ipython3",
   "version": "3.10.5"
  }
 },
 "nbformat": 4,
 "nbformat_minor": 5
}
