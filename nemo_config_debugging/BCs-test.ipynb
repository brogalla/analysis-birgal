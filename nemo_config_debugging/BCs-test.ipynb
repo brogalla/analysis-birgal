{
 "cells": [
  {
   "cell_type": "markdown",
   "id": "93365387-b36c-4978-8a1c-56de747f21c7",
   "metadata": {},
   "source": [
    "### Setup test for boundary conditions with multiple rimwidths"
   ]
  },
  {
   "cell_type": "markdown",
   "id": "af64b16d-f732-4462-89f2-7ebe33afc786",
   "metadata": {},
   "source": [
    "Add to namelist:\n",
    "- change: ln_coors_file = .true. --> ln_coords_file = .false.\n",
    "- nn_rimwdith = 1 --> nn_rimwidth = 10\n",
    "- try adding either of the following to namelist_cfg, nambdy:\n",
    "\n",
    "```\n",
    "&nambdy_index\n",
    "ctypebdy = 'N'\n",
    "nbdyind = 438   ! Index along the constant dimension\n",
    "nbdybeg = 1     ! Start point along the varying dimension\n",
    "nbdyend = 1424  ! Final point along the varying dimension\n",
    "/\n",
    "```\n",
    "\n",
    "or\n",
    "\n",
    "```\n",
    "&nambdy_index \n",
    "ctypebdy = 'N'\n",
    "nbdyind = -1 ! Automatic boundary definition: if -1 set boundary to whole side of model domain.\n",
    "/\n",
    "```"
   ]
  },
  {
   "cell_type": "code",
   "execution_count": 1,
   "id": "e9d7af48-7013-426f-a074-be5852aba500",
   "metadata": {},
   "outputs": [],
   "source": [
    "import numpy as np\n",
    "import matplotlib.pyplot as plt\n",
    "import xarray as xr\n",
    "import matplotlib.dates as mdates\n",
    "import sys  \n",
    "sys.path.insert(0, '/home/users/birgal/')\n",
    "from nemo_python import plots\n",
    "import cartopy.crs as ccrs\n",
    "import matplotlib.path as mpath"
   ]
  },
  {
   "cell_type": "markdown",
   "id": "e821f62b-237e-41bd-abaa-e7d32f8c4607",
   "metadata": {},
   "source": [
    "#### Functions"
   ]
  },
  {
   "cell_type": "markdown",
   "id": "7820e7da-1a1a-4c55-93b3-8f5435bf37e6",
   "metadata": {},
   "source": [
    "#### Create forcing files\n",
    "- for now, just copy the same information from the single rimwidth boundaries for each of the rows\n",
    "- Make for bdyT_tra, bdyT_ice, bdyU_u3d, and bdyV_u3d."
   ]
  },
  {
   "cell_type": "code",
   "execution_count": null,
   "id": "db35157f-1939-4aed-96e7-eceff7a02710",
   "metadata": {},
   "outputs": [],
   "source": []
  },
  {
   "cell_type": "code",
   "execution_count": null,
   "id": "8cc025c0-8395-4b0f-b7ef-d8fe820dc7e2",
   "metadata": {},
   "outputs": [],
   "source": []
  },
  {
   "cell_type": "code",
   "execution_count": null,
   "id": "540c4a4a-531f-4cf7-8234-6614a8f7122f",
   "metadata": {},
   "outputs": [],
   "source": []
  },
  {
   "cell_type": "code",
   "execution_count": 5,
   "id": "1fb96fdd-9535-400c-a89b-552edb4bfcb6",
   "metadata": {},
   "outputs": [],
   "source": [
    "# Boundary forcing files\n",
    "bdy_ice = xr.Dataset(); bdy_tra = xr.Dataset(); bdy_U = xr.Dataset(); bdy_V = xr.Dataset();\n",
    "for year in [1979, 1980, 1981]:\n",
    "    bdy_ice_add = xr.open_dataset(f'/home/users/birgal/data/NEMO/bdyT_ice_y{year}.nc')\n",
    "    bdy_tra_add = xr.open_dataset(f'/home/users/birgal/data/NEMO/bdyT_tra_y{year}.nc')\n",
    "    bdy_U_add   = xr.open_dataset(f'/home/users/birgal/data/NEMO/bdyU_u3d_y{year}.nc')\n",
    "    bdy_V_add   = xr.open_dataset(f'/home/users/birgal/data/NEMO/bdyV_u3d_y{year}.nc')\n",
    "    \n",
    "    bdy_ice = bdy_ice.merge(bdy_ice_add)\n",
    "    bdy_tra = bdy_tra.merge(bdy_tra_add)\n",
    "    bdy_U   = bdy_U.merge(bdy_U_add)\n",
    "    bdy_V   = bdy_V.merge(bdy_V_add)"
   ]
  },
  {
   "cell_type": "code",
   "execution_count": 6,
   "id": "2a3b5dcb-dea6-4e9c-a284-52fe051c4fe9",
   "metadata": {},
   "outputs": [],
   "source": [
    "# Model grid for mask\n",
    "mesh1 = xr.open_dataset('/home/users/birgal/data/NEMO-test3-20230914/domain_cfg.nc')\n",
    "mesh_bdy = xr.open_dataset('/home/users/birgal/data/NEMO-test3-20230914/coordinates_bdy.nc')"
   ]
  }
 ],
 "metadata": {
  "kernelspec": {
   "display_name": "Python 3 + Jaspy",
   "language": "python",
   "name": "jaspy"
  },
  "language_info": {
   "codemirror_mode": {
    "name": "ipython",
    "version": 3
   },
   "file_extension": ".py",
   "mimetype": "text/x-python",
   "name": "python",
   "nbconvert_exporter": "python",
   "pygments_lexer": "ipython3",
   "version": "3.10.5"
  }
 },
 "nbformat": 4,
 "nbformat_minor": 5
}
